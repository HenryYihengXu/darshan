{
 "cells": [
  {
   "cell_type": "markdown",
   "metadata": {},
   "source": [
    "## Darshan Utils for Python\n",
    "\n",
    "This notebook inlcudes a few examples how to use the darshan-utils bindings for python."
   ]
  },
  {
   "cell_type": "code",
   "execution_count": 1,
   "metadata": {},
   "outputs": [],
   "source": [
    "import darshan\n",
    "log = darshan.log_open(\"example.darshan\")"
   ]
  },
  {
   "cell_type": "code",
   "execution_count": 2,
   "metadata": {},
   "outputs": [
    {
     "data": {
      "text/plain": [
       "{'jobid': 4478544,\n",
       " 'uid': 69615,\n",
       " 'start_time': 1490000867,\n",
       " 'end_time': 1490000983,\n",
       " 'metadata': {'lib_ver': '3.1.3', 'h': 'romio_no_indep_rw=true;cb_nodes=4'}}"
      ]
     },
     "execution_count": 2,
     "metadata": {},
     "output_type": "execute_result"
    }
   ],
   "source": [
    "darshan.log_get_job(log)"
   ]
  },
  {
   "cell_type": "code",
   "execution_count": 3,
   "metadata": {},
   "outputs": [
    {
     "data": {
      "text/plain": [
       "'/global/project/projectdirs/m888/glock/tokio-abc-results/bin.edison/vpicio_uni /scratch2/scratchdirs/glock/tokioabc-s.4478544/vpicio/vpicio.hdf5 32'"
      ]
     },
     "execution_count": 3,
     "metadata": {},
     "output_type": "execute_result"
    }
   ],
   "source": [
    "darshan.log_get_exe(log)"
   ]
  },
  {
   "cell_type": "code",
   "execution_count": 4,
   "metadata": {
    "scrolled": true
   },
   "outputs": [
    {
     "data": {
      "text/plain": [
       "[('/.shared/base/default/etc/dat.conf', 'dvs'),\n",
       " ('/usr/lib64/libibverbs.so.1.0.0', 'dvs'),\n",
       " ('/usr/lib64/libibumad.so.3.0.2', 'dvs'),\n",
       " ('/usr/lib64/librdmacm.so.1.0.0', 'dvs'),\n",
       " ('/usr/lib64/libibgni.so.1.0.0', 'dvs'),\n",
       " ('/global/cscratch1', 'lustre'),\n",
       " ('/global/projectb', 'dvs'),\n",
       " ('/global/projecta', 'dvs'),\n",
       " ('/usr/sbin/ibstat', 'dvs'),\n",
       " ('/global/project', 'dvs'),\n",
       " ('/global/common', 'dvs'),\n",
       " ('/global/syscom', 'dvs'),\n",
       " ('/global/dna', 'dvs'),\n",
       " ('/opt/slurm', 'dvs'),\n",
       " ('/global/u1', 'dvs'),\n",
       " ('/global/u2', 'dvs'),\n",
       " ('/scratch1', 'lustre'),\n",
       " ('/scratch2', 'lustre'),\n",
       " ('/scratch3', 'lustre'),\n",
       " ('/etc', 'dvs'),\n",
       " ('/', 'rootfs'),\n",
       " ('/', 'dvs')]"
      ]
     },
     "execution_count": 4,
     "metadata": {},
     "output_type": "execute_result"
    }
   ],
   "source": [
    "darshan.log_get_mounts(log)"
   ]
  },
  {
   "cell_type": "code",
   "execution_count": 5,
   "metadata": {
    "scrolled": true
   },
   "outputs": [
    {
     "data": {
      "text/plain": [
       "{'POSIX': {'len': 186, 'ver': 3, 'idx': 1},\n",
       " 'MPI-IO': {'len': 154, 'ver': 2, 'idx': 2},\n",
       " 'LUSTRE': {'len': 87, 'ver': 1, 'idx': 6},\n",
       " 'STDIO': {'len': 3234, 'ver': 1, 'idx': 7}}"
      ]
     },
     "execution_count": 5,
     "metadata": {},
     "output_type": "execute_result"
    }
   ],
   "source": [
    "darshan.log_get_modules(log)"
   ]
  },
  {
   "cell_type": "code",
   "execution_count": null,
   "metadata": {},
   "outputs": [],
   "source": []
  },
  {
   "cell_type": "markdown",
   "metadata": {},
   "source": [
    "### Exploring Available Counters\n",
    "\n",
    "Each Darshan module comes with it's own counters which can be easily listed using the `counter_names()` and `counterf_names()` functions."
   ]
  },
  {
   "cell_type": "code",
   "execution_count": 6,
   "metadata": {
    "scrolled": true
   },
   "outputs": [
    {
     "data": {
      "text/plain": [
       "['POSIX_OPENS',\n",
       " 'POSIX_FILENOS',\n",
       " 'POSIX_DUPS',\n",
       " 'POSIX_READS',\n",
       " 'POSIX_WRITES',\n",
       " 'POSIX_SEEKS',\n",
       " 'POSIX_STATS',\n",
       " 'POSIX_MMAPS',\n",
       " 'POSIX_FSYNCS',\n",
       " 'POSIX_FDSYNCS',\n",
       " 'POSIX_RENAME_SOURCES',\n",
       " 'POSIX_RENAME_TARGETS',\n",
       " 'POSIX_RENAMED_FROM',\n",
       " 'POSIX_MODE',\n",
       " 'POSIX_BYTES_READ',\n",
       " 'POSIX_BYTES_WRITTEN',\n",
       " 'POSIX_MAX_BYTE_READ',\n",
       " 'POSIX_MAX_BYTE_WRITTEN',\n",
       " 'POSIX_CONSEC_READS',\n",
       " 'POSIX_CONSEC_WRITES',\n",
       " 'POSIX_SEQ_READS',\n",
       " 'POSIX_SEQ_WRITES',\n",
       " 'POSIX_RW_SWITCHES',\n",
       " 'POSIX_MEM_NOT_ALIGNED',\n",
       " 'POSIX_MEM_ALIGNMENT',\n",
       " 'POSIX_FILE_NOT_ALIGNED',\n",
       " 'POSIX_FILE_ALIGNMENT',\n",
       " 'POSIX_MAX_READ_TIME_SIZE',\n",
       " 'POSIX_MAX_WRITE_TIME_SIZE',\n",
       " 'POSIX_SIZE_READ_0_100',\n",
       " 'POSIX_SIZE_READ_100_1K',\n",
       " 'POSIX_SIZE_READ_1K_10K',\n",
       " 'POSIX_SIZE_READ_10K_100K',\n",
       " 'POSIX_SIZE_READ_100K_1M',\n",
       " 'POSIX_SIZE_READ_1M_4M',\n",
       " 'POSIX_SIZE_READ_4M_10M',\n",
       " 'POSIX_SIZE_READ_10M_100M',\n",
       " 'POSIX_SIZE_READ_100M_1G',\n",
       " 'POSIX_SIZE_READ_1G_PLUS',\n",
       " 'POSIX_SIZE_WRITE_0_100',\n",
       " 'POSIX_SIZE_WRITE_100_1K',\n",
       " 'POSIX_SIZE_WRITE_1K_10K',\n",
       " 'POSIX_SIZE_WRITE_10K_100K',\n",
       " 'POSIX_SIZE_WRITE_100K_1M',\n",
       " 'POSIX_SIZE_WRITE_1M_4M',\n",
       " 'POSIX_SIZE_WRITE_4M_10M',\n",
       " 'POSIX_SIZE_WRITE_10M_100M',\n",
       " 'POSIX_SIZE_WRITE_100M_1G',\n",
       " 'POSIX_SIZE_WRITE_1G_PLUS',\n",
       " 'POSIX_STRIDE1_STRIDE',\n",
       " 'POSIX_STRIDE2_STRIDE',\n",
       " 'POSIX_STRIDE3_STRIDE',\n",
       " 'POSIX_STRIDE4_STRIDE',\n",
       " 'POSIX_STRIDE1_COUNT',\n",
       " 'POSIX_STRIDE2_COUNT',\n",
       " 'POSIX_STRIDE3_COUNT',\n",
       " 'POSIX_STRIDE4_COUNT',\n",
       " 'POSIX_ACCESS1_ACCESS',\n",
       " 'POSIX_ACCESS2_ACCESS',\n",
       " 'POSIX_ACCESS3_ACCESS',\n",
       " 'POSIX_ACCESS4_ACCESS',\n",
       " 'POSIX_ACCESS1_COUNT',\n",
       " 'POSIX_ACCESS2_COUNT',\n",
       " 'POSIX_ACCESS3_COUNT',\n",
       " 'POSIX_ACCESS4_COUNT',\n",
       " 'POSIX_FASTEST_RANK',\n",
       " 'POSIX_FASTEST_RANK_BYTES',\n",
       " 'POSIX_SLOWEST_RANK',\n",
       " 'POSIX_SLOWEST_RANK_BYTES']"
      ]
     },
     "execution_count": 6,
     "metadata": {},
     "output_type": "execute_result"
    }
   ],
   "source": [
    "darshan.counter_names(\"posix\")\n",
    "# also note f counters: darshan.fcounter_names(\"posix\")"
   ]
  },
  {
   "cell_type": "code",
   "execution_count": 7,
   "metadata": {
    "scrolled": true
   },
   "outputs": [
    {
     "data": {
      "text/plain": [
       "['MPIIO_INDEP_OPENS',\n",
       " 'MPIIO_COLL_OPENS',\n",
       " 'MPIIO_INDEP_READS',\n",
       " 'MPIIO_INDEP_WRITES',\n",
       " 'MPIIO_COLL_READS',\n",
       " 'MPIIO_COLL_WRITES',\n",
       " 'MPIIO_SPLIT_READS',\n",
       " 'MPIIO_SPLIT_WRITES',\n",
       " 'MPIIO_NB_READS',\n",
       " 'MPIIO_NB_WRITES',\n",
       " 'MPIIO_SYNCS',\n",
       " 'MPIIO_HINTS',\n",
       " 'MPIIO_VIEWS',\n",
       " 'MPIIO_MODE',\n",
       " 'MPIIO_BYTES_READ',\n",
       " 'MPIIO_BYTES_WRITTEN',\n",
       " 'MPIIO_RW_SWITCHES',\n",
       " 'MPIIO_MAX_READ_TIME_SIZE',\n",
       " 'MPIIO_MAX_WRITE_TIME_SIZE',\n",
       " 'MPIIO_SIZE_READ_AGG_0_100',\n",
       " 'MPIIO_SIZE_READ_AGG_100_1K',\n",
       " 'MPIIO_SIZE_READ_AGG_1K_10K',\n",
       " 'MPIIO_SIZE_READ_AGG_10K_100K',\n",
       " 'MPIIO_SIZE_READ_AGG_100K_1M',\n",
       " 'MPIIO_SIZE_READ_AGG_1M_4M',\n",
       " 'MPIIO_SIZE_READ_AGG_4M_10M',\n",
       " 'MPIIO_SIZE_READ_AGG_10M_100M',\n",
       " 'MPIIO_SIZE_READ_AGG_100M_1G',\n",
       " 'MPIIO_SIZE_READ_AGG_1G_PLUS',\n",
       " 'MPIIO_SIZE_WRITE_AGG_0_100',\n",
       " 'MPIIO_SIZE_WRITE_AGG_100_1K',\n",
       " 'MPIIO_SIZE_WRITE_AGG_1K_10K',\n",
       " 'MPIIO_SIZE_WRITE_AGG_10K_100K',\n",
       " 'MPIIO_SIZE_WRITE_AGG_100K_1M',\n",
       " 'MPIIO_SIZE_WRITE_AGG_1M_4M',\n",
       " 'MPIIO_SIZE_WRITE_AGG_4M_10M',\n",
       " 'MPIIO_SIZE_WRITE_AGG_10M_100M',\n",
       " 'MPIIO_SIZE_WRITE_AGG_100M_1G',\n",
       " 'MPIIO_SIZE_WRITE_AGG_1G_PLUS',\n",
       " 'MPIIO_ACCESS1_ACCESS',\n",
       " 'MPIIO_ACCESS2_ACCESS',\n",
       " 'MPIIO_ACCESS3_ACCESS',\n",
       " 'MPIIO_ACCESS4_ACCESS',\n",
       " 'MPIIO_ACCESS1_COUNT',\n",
       " 'MPIIO_ACCESS2_COUNT',\n",
       " 'MPIIO_ACCESS3_COUNT',\n",
       " 'MPIIO_ACCESS4_COUNT',\n",
       " 'MPIIO_FASTEST_RANK',\n",
       " 'MPIIO_FASTEST_RANK_BYTES',\n",
       " 'MPIIO_SLOWEST_RANK',\n",
       " 'MPIIO_SLOWEST_RANK_BYTES']"
      ]
     },
     "execution_count": 7,
     "metadata": {},
     "output_type": "execute_result"
    }
   ],
   "source": [
    "darshan.counter_names(\"mpiio\")\n",
    "# also note f counters: darshan.fcounter_names(\"mpiio\")"
   ]
  },
  {
   "cell_type": "code",
   "execution_count": 8,
   "metadata": {
    "scrolled": true
   },
   "outputs": [
    {
     "data": {
      "text/plain": [
       "['STDIO_OPENS',\n",
       " 'STDIO_FDOPENS',\n",
       " 'STDIO_READS',\n",
       " 'STDIO_WRITES',\n",
       " 'STDIO_SEEKS',\n",
       " 'STDIO_FLUSHES',\n",
       " 'STDIO_BYTES_WRITTEN',\n",
       " 'STDIO_BYTES_READ',\n",
       " 'STDIO_MAX_BYTE_READ',\n",
       " 'STDIO_MAX_BYTE_WRITTEN',\n",
       " 'STDIO_FASTEST_RANK',\n",
       " 'STDIO_FASTEST_RANK_BYTES',\n",
       " 'STDIO_SLOWEST_RANK',\n",
       " 'STDIO_SLOWEST_RANK_BYTES']"
      ]
     },
     "execution_count": 8,
     "metadata": {},
     "output_type": "execute_result"
    }
   ],
   "source": [
    "darshan.counter_names(\"stdio\")\n",
    "# also note f counters: darshan.fcounter_names(\"stdio\")"
   ]
  },
  {
   "cell_type": "code",
   "execution_count": 9,
   "metadata": {
    "scrolled": true
   },
   "outputs": [
    {
     "ename": "KeyError",
     "evalue": "'DXT'",
     "output_type": "error",
     "traceback": [
      "\u001b[0;31m---------------------------------------------------------------------------\u001b[0m",
      "\u001b[0;31mKeyError\u001b[0m                                  Traceback (most recent call last)",
      "\u001b[0;32m<ipython-input-9-825c8a08b51d>\u001b[0m in \u001b[0;36m<module>\u001b[0;34m\u001b[0m\n\u001b[0;32m----> 1\u001b[0;31m \u001b[0mposix_record\u001b[0m \u001b[0;34m=\u001b[0m \u001b[0mdarshan\u001b[0m\u001b[0;34m.\u001b[0m\u001b[0mlog_get_posix_record\u001b[0m\u001b[0;34m(\u001b[0m\u001b[0mlog\u001b[0m\u001b[0;34m)\u001b[0m\u001b[0;34m\u001b[0m\u001b[0;34m\u001b[0m\u001b[0m\n\u001b[0m\u001b[1;32m      2\u001b[0m \u001b[0mposix_record\u001b[0m\u001b[0;34m\u001b[0m\u001b[0;34m\u001b[0m\u001b[0m\n",
      "\u001b[0;32m~/ANL/darshan-decaf/darshan-workflow/python-packages/darshan/backend/cffi_backend.py\u001b[0m in \u001b[0;36mlog_get_posix_record\u001b[0;34m(log)\u001b[0m\n\u001b[1;32m    382\u001b[0m         \u001b[0mdict\u001b[0m\u001b[0;34m:\u001b[0m \u001b[0mlog\u001b[0m \u001b[0mrecord\u001b[0m\u001b[0;34m\u001b[0m\u001b[0;34m\u001b[0m\u001b[0m\n\u001b[1;32m    383\u001b[0m     \"\"\"\n\u001b[0;32m--> 384\u001b[0;31m     \u001b[0;32mreturn\u001b[0m \u001b[0mlog_get_generic_record\u001b[0m\u001b[0;34m(\u001b[0m\u001b[0mlog\u001b[0m\u001b[0;34m,\u001b[0m \u001b[0;34m\"DXT\"\u001b[0m\u001b[0;34m,\u001b[0m \u001b[0;34m\"struct dxt_file_record **\"\u001b[0m\u001b[0;34m)\u001b[0m\u001b[0;34m\u001b[0m\u001b[0;34m\u001b[0m\u001b[0m\n\u001b[0m\u001b[1;32m    385\u001b[0m \u001b[0;34m\u001b[0m\u001b[0m\n\u001b[1;32m    386\u001b[0m \u001b[0;34m\u001b[0m\u001b[0m\n",
      "\u001b[0;32m~/ANL/darshan-decaf/darshan-workflow/python-packages/darshan/backend/cffi_backend.py\u001b[0m in \u001b[0;36mlog_get_generic_record\u001b[0;34m(log, mod_name, mod_type, mode)\u001b[0m\n\u001b[1;32m    237\u001b[0m     \u001b[0mrec\u001b[0m \u001b[0;34m=\u001b[0m \u001b[0;34m{\u001b[0m\u001b[0;34m}\u001b[0m\u001b[0;34m\u001b[0m\u001b[0;34m\u001b[0m\u001b[0m\n\u001b[1;32m    238\u001b[0m     \u001b[0mbuf\u001b[0m \u001b[0;34m=\u001b[0m \u001b[0mffi\u001b[0m\u001b[0;34m.\u001b[0m\u001b[0mnew\u001b[0m\u001b[0;34m(\u001b[0m\u001b[0;34m\"void **\"\u001b[0m\u001b[0;34m)\u001b[0m\u001b[0;34m\u001b[0m\u001b[0;34m\u001b[0m\u001b[0m\n\u001b[0;32m--> 239\u001b[0;31m     \u001b[0mr\u001b[0m \u001b[0;34m=\u001b[0m \u001b[0mlibdutil\u001b[0m\u001b[0;34m.\u001b[0m\u001b[0mdarshan_log_get_record\u001b[0m\u001b[0;34m(\u001b[0m\u001b[0mlog\u001b[0m\u001b[0;34m,\u001b[0m \u001b[0mmodules\u001b[0m\u001b[0;34m[\u001b[0m\u001b[0mmod_name\u001b[0m\u001b[0;34m]\u001b[0m\u001b[0;34m[\u001b[0m\u001b[0;34m'idx'\u001b[0m\u001b[0;34m]\u001b[0m\u001b[0;34m,\u001b[0m \u001b[0mbuf\u001b[0m\u001b[0;34m)\u001b[0m\u001b[0;34m\u001b[0m\u001b[0;34m\u001b[0m\u001b[0m\n\u001b[0m\u001b[1;32m    240\u001b[0m     \u001b[0;32mif\u001b[0m \u001b[0mr\u001b[0m \u001b[0;34m<\u001b[0m \u001b[0;36m1\u001b[0m\u001b[0;34m:\u001b[0m\u001b[0;34m\u001b[0m\u001b[0;34m\u001b[0m\u001b[0m\n\u001b[1;32m    241\u001b[0m         \u001b[0;32mreturn\u001b[0m \u001b[0;32mNone\u001b[0m\u001b[0;34m\u001b[0m\u001b[0;34m\u001b[0m\u001b[0m\n",
      "\u001b[0;31mKeyError\u001b[0m: 'DXT'"
     ]
    }
   ],
   "source": [
    "posix_record = darshan.log_get_posix_record(log)\n",
    "posix_record"
   ]
  },
  {
   "cell_type": "code",
   "execution_count": 10,
   "metadata": {},
   "outputs": [
    {
     "ename": "NameError",
     "evalue": "name 'posix_record' is not defined",
     "output_type": "error",
     "traceback": [
      "\u001b[0;31m---------------------------------------------------------------------------\u001b[0m",
      "\u001b[0;31mNameError\u001b[0m                                 Traceback (most recent call last)",
      "\u001b[0;32m<ipython-input-10-37e015d4b6d8>\u001b[0m in \u001b[0;36m<module>\u001b[0;34m\u001b[0m\n\u001b[1;32m      1\u001b[0m \u001b[0;31m# access a single field\u001b[0m\u001b[0;34m\u001b[0m\u001b[0;34m\u001b[0m\u001b[0;34m\u001b[0m\u001b[0m\n\u001b[0;32m----> 2\u001b[0;31m \u001b[0mposix_record\u001b[0m\u001b[0;34m[\u001b[0m\u001b[0;34m'counters'\u001b[0m\u001b[0;34m]\u001b[0m\u001b[0;34m[\u001b[0m\u001b[0mdarshan\u001b[0m\u001b[0;34m.\u001b[0m\u001b[0mcounter_names\u001b[0m\u001b[0;34m(\u001b[0m\u001b[0;34m\"POSIX\"\u001b[0m\u001b[0;34m)\u001b[0m\u001b[0;34m.\u001b[0m\u001b[0mindex\u001b[0m\u001b[0;34m(\u001b[0m\u001b[0;34m'POSIX_WRITES'\u001b[0m\u001b[0;34m)\u001b[0m\u001b[0;34m]\u001b[0m\u001b[0;34m\u001b[0m\u001b[0;34m\u001b[0m\u001b[0m\n\u001b[0m",
      "\u001b[0;31mNameError\u001b[0m: name 'posix_record' is not defined"
     ]
    }
   ],
   "source": [
    "# access a single field\n",
    "posix_record['counters'][darshan.counter_names(\"POSIX\").index('POSIX_WRITES')]"
   ]
  },
  {
   "cell_type": "code",
   "execution_count": 11,
   "metadata": {
    "scrolled": true
   },
   "outputs": [
    {
     "ename": "NameError",
     "evalue": "name 'posix_record' is not defined",
     "output_type": "error",
     "traceback": [
      "\u001b[0;31m---------------------------------------------------------------------------\u001b[0m",
      "\u001b[0;31mNameError\u001b[0m                                 Traceback (most recent call last)",
      "\u001b[0;32m<ipython-input-11-aa5a0ea6f15f>\u001b[0m in \u001b[0;36m<module>\u001b[0;34m\u001b[0m\n\u001b[0;32m----> 1\u001b[0;31m \u001b[0mdict\u001b[0m\u001b[0;34m(\u001b[0m\u001b[0mzip\u001b[0m\u001b[0;34m(\u001b[0m\u001b[0mdarshan\u001b[0m\u001b[0;34m.\u001b[0m\u001b[0mcounter_names\u001b[0m\u001b[0;34m(\u001b[0m\u001b[0;34m\"POSIX\"\u001b[0m\u001b[0;34m)\u001b[0m\u001b[0;34m,\u001b[0m \u001b[0mposix_record\u001b[0m\u001b[0;34m[\u001b[0m\u001b[0;34m'counters'\u001b[0m\u001b[0;34m]\u001b[0m\u001b[0;34m)\u001b[0m\u001b[0;34m)\u001b[0m\u001b[0;34m\u001b[0m\u001b[0;34m\u001b[0m\u001b[0m\n\u001b[0m",
      "\u001b[0;31mNameError\u001b[0m: name 'posix_record' is not defined"
     ]
    }
   ],
   "source": [
    "dict(zip(darshan.counter_names(\"POSIX\"), posix_record['counters']))"
   ]
  },
  {
   "cell_type": "raw",
   "metadata": {},
   "source": [
    "record = darshan.log_get_stdio_record(log)\n",
    "record['counters']\n",
    "\n",
    "dict(zip(darshan.counter_names(\"STDIO\"), record['counters']))"
   ]
  },
  {
   "cell_type": "markdown",
   "metadata": {},
   "source": [
    "## Plotting\n",
    "\n",
    "In addition to darshan log access, a number of functions to generate plots commonly found in darshan reports are provided in the plots submodule. To render a plot import from `darshan.plots` and generate the desired chart as follows:"
   ]
  },
  {
   "cell_type": "code",
   "execution_count": 12,
   "metadata": {},
   "outputs": [],
   "source": [
    "%matplotlib inline"
   ]
  },
  {
   "cell_type": "code",
   "execution_count": 14,
   "metadata": {},
   "outputs": [
    {
     "ename": "KeyError",
     "evalue": "'DXT'",
     "output_type": "error",
     "traceback": [
      "\u001b[0;31m---------------------------------------------------------------------------\u001b[0m",
      "\u001b[0;31mKeyError\u001b[0m                                  Traceback (most recent call last)",
      "\u001b[0;32m<ipython-input-14-bb7626664937>\u001b[0m in \u001b[0;36m<module>\u001b[0;34m\u001b[0m\n\u001b[1;32m      4\u001b[0m \u001b[0;34m\u001b[0m\u001b[0m\n\u001b[1;32m      5\u001b[0m \u001b[0;32mfrom\u001b[0m \u001b[0mdarshan\u001b[0m\u001b[0;34m.\u001b[0m\u001b[0mplots\u001b[0m\u001b[0;34m.\u001b[0m\u001b[0mmatplotlib\u001b[0m \u001b[0;32mimport\u001b[0m \u001b[0mplot_opcounts\u001b[0m\u001b[0;34m\u001b[0m\u001b[0;34m\u001b[0m\u001b[0m\n\u001b[0;32m----> 6\u001b[0;31m \u001b[0mplot_opcounts\u001b[0m\u001b[0;34m(\u001b[0m\u001b[0mlog\u001b[0m\u001b[0;34m)\u001b[0m\u001b[0;34m\u001b[0m\u001b[0;34m\u001b[0m\u001b[0m\n\u001b[0m",
      "\u001b[0;32m~/ANL/darshan-decaf/darshan-workflow/python-packages/darshan/plots/matplotlib.py\u001b[0m in \u001b[0;36mplot_opcounts\u001b[0;34m(log, filter, data)\u001b[0m\n\u001b[1;32m    163\u001b[0m     \u001b[0;31m# Gather POSIX\u001b[0m\u001b[0;34m\u001b[0m\u001b[0;34m\u001b[0m\u001b[0;34m\u001b[0m\u001b[0m\n\u001b[1;32m    164\u001b[0m     \u001b[0;32mif\u001b[0m \u001b[0;34m'POSIX'\u001b[0m \u001b[0;32min\u001b[0m \u001b[0mmods\u001b[0m\u001b[0;34m:\u001b[0m\u001b[0;34m\u001b[0m\u001b[0;34m\u001b[0m\u001b[0m\n\u001b[0;32m--> 165\u001b[0;31m         \u001b[0mposix_record\u001b[0m \u001b[0;34m=\u001b[0m \u001b[0mdarshan\u001b[0m\u001b[0;34m.\u001b[0m\u001b[0mlog_get_posix_record\u001b[0m\u001b[0;34m(\u001b[0m\u001b[0mlog\u001b[0m\u001b[0;34m)\u001b[0m\u001b[0;34m\u001b[0m\u001b[0;34m\u001b[0m\u001b[0m\n\u001b[0m\u001b[1;32m    166\u001b[0m         \u001b[0mposix\u001b[0m \u001b[0;34m=\u001b[0m \u001b[0mdict\u001b[0m\u001b[0;34m(\u001b[0m\u001b[0mzip\u001b[0m\u001b[0;34m(\u001b[0m\u001b[0mdarshan\u001b[0m\u001b[0;34m.\u001b[0m\u001b[0mcounter_names\u001b[0m\u001b[0;34m(\u001b[0m\u001b[0;34m\"POSIX\"\u001b[0m\u001b[0;34m)\u001b[0m\u001b[0;34m,\u001b[0m \u001b[0mposix_record\u001b[0m\u001b[0;34m[\u001b[0m\u001b[0;34m'counters'\u001b[0m\u001b[0;34m]\u001b[0m\u001b[0;34m)\u001b[0m\u001b[0;34m)\u001b[0m\u001b[0;34m\u001b[0m\u001b[0;34m\u001b[0m\u001b[0m\n\u001b[1;32m    167\u001b[0m \u001b[0;34m\u001b[0m\u001b[0m\n",
      "\u001b[0;32m~/ANL/darshan-decaf/darshan-workflow/python-packages/darshan/backend/cffi_backend.py\u001b[0m in \u001b[0;36mlog_get_posix_record\u001b[0;34m(log)\u001b[0m\n\u001b[1;32m    382\u001b[0m         \u001b[0mdict\u001b[0m\u001b[0;34m:\u001b[0m \u001b[0mlog\u001b[0m \u001b[0mrecord\u001b[0m\u001b[0;34m\u001b[0m\u001b[0;34m\u001b[0m\u001b[0m\n\u001b[1;32m    383\u001b[0m     \"\"\"\n\u001b[0;32m--> 384\u001b[0;31m     \u001b[0;32mreturn\u001b[0m \u001b[0mlog_get_generic_record\u001b[0m\u001b[0;34m(\u001b[0m\u001b[0mlog\u001b[0m\u001b[0;34m,\u001b[0m \u001b[0;34m\"DXT\"\u001b[0m\u001b[0;34m,\u001b[0m \u001b[0;34m\"struct dxt_file_record **\"\u001b[0m\u001b[0;34m)\u001b[0m\u001b[0;34m\u001b[0m\u001b[0;34m\u001b[0m\u001b[0m\n\u001b[0m\u001b[1;32m    385\u001b[0m \u001b[0;34m\u001b[0m\u001b[0m\n\u001b[1;32m    386\u001b[0m \u001b[0;34m\u001b[0m\u001b[0m\n",
      "\u001b[0;32m~/ANL/darshan-decaf/darshan-workflow/python-packages/darshan/backend/cffi_backend.py\u001b[0m in \u001b[0;36mlog_get_generic_record\u001b[0;34m(log, mod_name, mod_type, mode)\u001b[0m\n\u001b[1;32m    237\u001b[0m     \u001b[0mrec\u001b[0m \u001b[0;34m=\u001b[0m \u001b[0;34m{\u001b[0m\u001b[0;34m}\u001b[0m\u001b[0;34m\u001b[0m\u001b[0;34m\u001b[0m\u001b[0m\n\u001b[1;32m    238\u001b[0m     \u001b[0mbuf\u001b[0m \u001b[0;34m=\u001b[0m \u001b[0mffi\u001b[0m\u001b[0;34m.\u001b[0m\u001b[0mnew\u001b[0m\u001b[0;34m(\u001b[0m\u001b[0;34m\"void **\"\u001b[0m\u001b[0;34m)\u001b[0m\u001b[0;34m\u001b[0m\u001b[0;34m\u001b[0m\u001b[0m\n\u001b[0;32m--> 239\u001b[0;31m     \u001b[0mr\u001b[0m \u001b[0;34m=\u001b[0m \u001b[0mlibdutil\u001b[0m\u001b[0;34m.\u001b[0m\u001b[0mdarshan_log_get_record\u001b[0m\u001b[0;34m(\u001b[0m\u001b[0mlog\u001b[0m\u001b[0;34m,\u001b[0m \u001b[0mmodules\u001b[0m\u001b[0;34m[\u001b[0m\u001b[0mmod_name\u001b[0m\u001b[0;34m]\u001b[0m\u001b[0;34m[\u001b[0m\u001b[0;34m'idx'\u001b[0m\u001b[0;34m]\u001b[0m\u001b[0;34m,\u001b[0m \u001b[0mbuf\u001b[0m\u001b[0;34m)\u001b[0m\u001b[0;34m\u001b[0m\u001b[0;34m\u001b[0m\u001b[0m\n\u001b[0m\u001b[1;32m    240\u001b[0m     \u001b[0;32mif\u001b[0m \u001b[0mr\u001b[0m \u001b[0;34m<\u001b[0m \u001b[0;36m1\u001b[0m\u001b[0;34m:\u001b[0m\u001b[0;34m\u001b[0m\u001b[0;34m\u001b[0m\u001b[0m\n\u001b[1;32m    241\u001b[0m         \u001b[0;32mreturn\u001b[0m \u001b[0;32mNone\u001b[0m\u001b[0;34m\u001b[0m\u001b[0;34m\u001b[0m\u001b[0m\n",
      "\u001b[0;31mKeyError\u001b[0m: 'DXT'"
     ]
    }
   ],
   "source": [
    "# OP COUNTS\n",
    "import darshan\n",
    "log = darshan.log_open(\"example.darshan\")\n",
    "\n",
    "from darshan.plots.matplotlib import plot_opcounts\n",
    "plot_opcounts(log)"
   ]
  },
  {
   "cell_type": "code",
   "execution_count": 14,
   "metadata": {},
   "outputs": [
    {
     "name": "stdout",
     "output_type": "stream",
     "text": [
      "log: <cdata 'void *' 0x55fb1eea8040>\n",
      "filter: posix\n",
      "data: None\n"
     ]
    },
    {
     "data": {
      "image/png": "[encoded data removed]",
      "text/plain": [
       "<Figure size 432x288 with 1 Axes>"
      ]
     },
     "metadata": {
      "needs_background": "light"
     },
     "output_type": "display_data"
    }
   ],
   "source": [
    "# HIST POSIX\n",
    "import darshan\n",
    "log = darshan.log_open(\"example.darshan\")\n",
    "\n",
    "from darshan.plots.matplotlib import plot_access_histogram\n",
    "plot_access_histogram(log, filter=\"posix\")"
   ]
  },
  {
   "cell_type": "code",
   "execution_count": 15,
   "metadata": {},
   "outputs": [
    {
     "name": "stdout",
     "output_type": "stream",
     "text": [
      "log: <cdata 'void *' 0x55fb1e770e20>\n",
      "filter: mpiio\n",
      "data: None\n"
     ]
    },
    {
     "data": {
      "image/png": "[encoded data removed]",
      "text/plain": [
       "<Figure size 432x288 with 1 Axes>"
      ]
     },
     "metadata": {
      "needs_background": "light"
     },
     "output_type": "display_data"
    }
   ],
   "source": [
    "# HIST MPIIO\n",
    "import darshan\n",
    "log = darshan.log_open(\"example.darshan\")\n",
    "\n",
    "from darshan.plots.matplotlib import plot_access_histogram\n",
    "plot_access_histogram(log, filter=\"mpiio\")"
   ]
  },
  {
   "cell_type": "markdown",
   "metadata": {},
   "source": [
    "### Close logs to release resources\n",
    "Closing log files helps the system to free memory especially when many log files are analysed and memory can become a constraint."
   ]
  },
  {
   "cell_type": "code",
   "execution_count": null,
   "metadata": {},
   "outputs": [],
   "source": [
    "darshan.log_close(log)"
   ]
  },
  {
   "cell_type": "code",
   "execution_count": null,
   "metadata": {},
   "outputs": [],
   "source": []
  }
 ],
 "metadata": {
  "kernelspec": {
   "display_name": "Python 3",
   "language": "python",
   "name": "python3"
  },
  "language_info": {
   "codemirror_mode": {
    "name": "ipython",
    "version": 3
   },
   "file_extension": ".py",
   "mimetype": "text/x-python",
   "name": "python",
   "nbconvert_exporter": "python",
   "pygments_lexer": "ipython3",
   "version": "3.7.5"
  }
 },
 "nbformat": 4,
 "nbformat_minor": 2
}
