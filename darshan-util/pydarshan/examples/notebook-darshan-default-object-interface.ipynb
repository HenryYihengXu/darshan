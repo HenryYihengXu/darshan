{
 "cells": [
  {
   "cell_type": "code",
   "execution_count": 1,
   "metadata": {},
   "outputs": [],
   "source": [
    "import darshan\n",
    "import pprint"
   ]
  },
  {
   "cell_type": "code",
   "execution_count": null,
   "metadata": {},
   "outputs": [],
   "source": [
    "report = darshan.DarshanReport(\"example.darshan\")"
   ]
  },
  {
   "cell_type": "markdown",
   "metadata": {},
   "source": [
    "By default only metadata, available modules and the name records are loaded:"
   ]
  },
  {
   "cell_type": "code",
   "execution_count": null,
   "metadata": {},
   "outputs": [],
   "source": [
    "report.report"
   ]
  },
  {
   "cell_type": "markdown",
   "metadata": {},
   "source": [
    "### Loading Additional Records\n",
    "\n",
    "Additional records can be loaded for example on a per module basis:"
   ]
  },
  {
   "cell_type": "code",
   "execution_count": null,
   "metadata": {},
   "outputs": [],
   "source": [
    "report.report['records']['POSIX']"
   ]
  },
  {
   "cell_type": "code",
   "execution_count": null,
   "metadata": {},
   "outputs": [],
   "source": [
    "report.mod_read_all_records(\"MPI-IO\") "
   ]
  },
  {
   "cell_type": "code",
   "execution_count": null,
   "metadata": {
    "scrolled": false
   },
   "outputs": [],
   "source": [
    "report.report"
   ]
  },
  {
   "cell_type": "markdown",
   "metadata": {},
   "source": [
    "### Aggregation (Experimental)\n",
    "\n",
    "Darshan log data is routinely aggregated for quick overview. The report object offers a few methods to perform common aggregations:"
   ]
  },
  {
   "cell_type": "code",
   "execution_count": 13,
   "metadata": {},
   "outputs": [],
   "source": [
    "report = darshan.DarshanReport(\"example.darshan\")"
   ]
  },
  {
   "cell_type": "markdown",
   "metadata": {},
   "source": [
    "Report aggregations and summarization remains experimental for now, mostly to allow interfaces to stabilize. Experimental features can be switched on easily by invoking:"
   ]
  },
  {
   "cell_type": "code",
   "execution_count": 8,
   "metadata": {},
   "outputs": [
    {
     "name": "stdout",
     "output_type": "stream",
     "text": [
      "Added method create_time_summary to DarshanReport.\n",
      "Added method summarize to DarshanReport.\n",
      "Added method create_sankey to DarshanReport.\n"
     ]
    }
   ],
   "source": [
    "darshan.enable_experimental()"
   ]
  },
  {
   "cell_type": "code",
   "execution_count": 9,
   "metadata": {
    "scrolled": true
   },
   "outputs": [
    {
     "ename": "KeyError",
     "evalue": "'agg_ioops'",
     "output_type": "error",
     "traceback": [
      "\u001b[0;31m---------------------------------------------------------------------------\u001b[0m",
      "\u001b[0;31mKeyError\u001b[0m                                  Traceback (most recent call last)",
      "\u001b[0;32m<ipython-input-9-20253727a280>\u001b[0m in \u001b[0;36m<module>\u001b[0;34m\u001b[0m\n\u001b[1;32m      1\u001b[0m \u001b[0;31m# expected to fail\u001b[0m\u001b[0;34m\u001b[0m\u001b[0;34m\u001b[0m\u001b[0;34m\u001b[0m\u001b[0m\n\u001b[0;32m----> 2\u001b[0;31m \u001b[0mreport\u001b[0m\u001b[0;34m.\u001b[0m\u001b[0mreport\u001b[0m\u001b[0;34m[\u001b[0m\u001b[0;34m'agg_ioops'\u001b[0m\u001b[0;34m]\u001b[0m\u001b[0;34m\u001b[0m\u001b[0;34m\u001b[0m\u001b[0m\n\u001b[0m",
      "\u001b[0;31mKeyError\u001b[0m: 'agg_ioops'"
     ]
    }
   ],
   "source": [
    "# expected to fail\n",
    "report.report['agg_ioops']"
   ]
  },
  {
   "cell_type": "code",
   "execution_count": 10,
   "metadata": {},
   "outputs": [],
   "source": [
    "report.mod_read_all_records(\"POSIX\") \n",
    "report.summarize()"
   ]
  },
  {
   "cell_type": "code",
   "execution_count": 12,
   "metadata": {
    "scrolled": false
   },
   "outputs": [
    {
     "data": {
      "text/plain": [
       "{'POSIX': {'POSIX_OPENS': 2049,\n",
       "  'POSIX_FILENOS': 18446744073709551615,\n",
       "  'POSIX_DUPS': 18446744073709551615,\n",
       "  'POSIX_READS': 0,\n",
       "  'POSIX_WRITES': 16402,\n",
       "  'POSIX_SEEKS': 16404,\n",
       "  'POSIX_STATS': 0,\n",
       "  'POSIX_MMAPS': 0,\n",
       "  'POSIX_FSYNCS': 0,\n",
       "  'POSIX_FDSYNCS': 0,\n",
       "  'POSIX_RENAME_SOURCES': 18446744073709551615,\n",
       "  'POSIX_RENAME_TARGETS': 18446744073709551615,\n",
       "  'POSIX_RENAMED_FROM': 0,\n",
       "  'POSIX_MODE': 0,\n",
       "  'POSIX_BYTES_READ': 0,\n",
       "  'POSIX_BYTES_WRITTEN': 2199023259968,\n",
       "  'POSIX_MAX_BYTE_READ': 0,\n",
       "  'POSIX_MAX_BYTE_WRITTEN': 2199023261831,\n",
       "  'POSIX_CONSEC_READS': 0,\n",
       "  'POSIX_CONSEC_WRITES': 0,\n",
       "  'POSIX_SEQ_READS': 0,\n",
       "  'POSIX_SEQ_WRITES': 16384,\n",
       "  'POSIX_RW_SWITCHES': 0,\n",
       "  'POSIX_MEM_NOT_ALIGNED': 0,\n",
       "  'POSIX_MEM_ALIGNMENT': 8,\n",
       "  'POSIX_FILE_NOT_ALIGNED': 16401,\n",
       "  'POSIX_FILE_ALIGNMENT': 1048576,\n",
       "  'POSIX_MAX_READ_TIME_SIZE': 0,\n",
       "  'POSIX_MAX_WRITE_TIME_SIZE': 134217728,\n",
       "  'POSIX_SIZE_READ_0_100': 0,\n",
       "  'POSIX_SIZE_READ_100_1K': 0,\n",
       "  'POSIX_SIZE_READ_1K_10K': 0,\n",
       "  'POSIX_SIZE_READ_10K_100K': 0,\n",
       "  'POSIX_SIZE_READ_100K_1M': 0,\n",
       "  'POSIX_SIZE_READ_1M_4M': 0,\n",
       "  'POSIX_SIZE_READ_4M_10M': 0,\n",
       "  'POSIX_SIZE_READ_10M_100M': 0,\n",
       "  'POSIX_SIZE_READ_100M_1G': 0,\n",
       "  'POSIX_SIZE_READ_1G_PLUS': 0,\n",
       "  'POSIX_SIZE_WRITE_0_100': 4,\n",
       "  'POSIX_SIZE_WRITE_100_1K': 14,\n",
       "  'POSIX_SIZE_WRITE_1K_10K': 0,\n",
       "  'POSIX_SIZE_WRITE_10K_100K': 0,\n",
       "  'POSIX_SIZE_WRITE_100K_1M': 0,\n",
       "  'POSIX_SIZE_WRITE_1M_4M': 0,\n",
       "  'POSIX_SIZE_WRITE_4M_10M': 0,\n",
       "  'POSIX_SIZE_WRITE_10M_100M': 0,\n",
       "  'POSIX_SIZE_WRITE_100M_1G': 16384,\n",
       "  'POSIX_SIZE_WRITE_1G_PLUS': 0,\n",
       "  'POSIX_STRIDE1_STRIDE': 274743689216,\n",
       "  'POSIX_STRIDE2_STRIDE': 274743691264,\n",
       "  'POSIX_STRIDE3_STRIDE': 0,\n",
       "  'POSIX_STRIDE4_STRIDE': 0,\n",
       "  'POSIX_STRIDE1_COUNT': 10240,\n",
       "  'POSIX_STRIDE2_COUNT': 4096,\n",
       "  'POSIX_STRIDE3_COUNT': 0,\n",
       "  'POSIX_STRIDE4_COUNT': 0,\n",
       "  'POSIX_ACCESS1_ACCESS': 134217728,\n",
       "  'POSIX_ACCESS2_ACCESS': 272,\n",
       "  'POSIX_ACCESS3_ACCESS': 544,\n",
       "  'POSIX_ACCESS4_ACCESS': 328,\n",
       "  'POSIX_ACCESS1_COUNT': 16384,\n",
       "  'POSIX_ACCESS2_COUNT': 8,\n",
       "  'POSIX_ACCESS3_COUNT': 2},\n",
       " 'POSIX_simple': {'Read': 0,\n",
       "  'Write': 16402,\n",
       "  'Open': 2049,\n",
       "  'Stat': 0,\n",
       "  'Seek': 16404,\n",
       "  'Mmap': 0,\n",
       "  'Fsync': 0}}"
      ]
     },
     "execution_count": 12,
     "metadata": {},
     "output_type": "execute_result"
    }
   ],
   "source": [
    "# attaches among other summarizes the aggregatedioo\n",
    "report.report['agg_ioops']"
   ]
  },
  {
   "cell_type": "markdown",
   "metadata": {},
   "source": [
    "Or fine grained:"
   ]
  },
  {
   "cell_type": "code",
   "execution_count": null,
   "metadata": {},
   "outputs": [],
   "source": [
    "report.mod_agg_iohist(\"MPI-IO\")  # to create the histograms"
   ]
  },
  {
   "cell_type": "code",
   "execution_count": null,
   "metadata": {},
   "outputs": [],
   "source": [
    "report.agg_ioops()               # to create the combined operation type summary"
   ]
  },
  {
   "cell_type": "markdown",
   "metadata": {},
   "source": [
    "### DXT Records\n",
    "\n",
    "DXT records are also supported, and can be loaded individually on a per module basis as follows:\n"
   ]
  },
  {
   "cell_type": "code",
   "execution_count": null,
   "metadata": {},
   "outputs": [],
   "source": [
    "report2 = darshan.DarshanReport(\"example.darshan\")\n",
    "report2.mod_read_all_dxt_records(\"ABC\") "
   ]
  },
  {
   "cell_type": "code",
   "execution_count": null,
   "metadata": {},
   "outputs": [],
   "source": [
    "report2.report"
   ]
  },
  {
   "cell_type": "markdown",
   "metadata": {},
   "source": [
    "### Report Algebra\n",
    "\n",
    "By overloading the addition operator, reports can be easily merge for a variety of counters.\n",
    "\n",
    "Some choices to make though"
   ]
  },
  {
   "cell_type": "code",
   "execution_count": null,
   "metadata": {
    "scrolled": true
   },
   "outputs": [],
   "source": [
    "report1 = darshan.DarshanReport(\"example.darshan\")\n",
    "report2 = darshan.DarshanReport(\"example.darshan\")\n",
    "combined = report1 + report2"
   ]
  },
  {
   "cell_type": "markdown",
   "metadata": {},
   "source": [
    "### Error Handling?\n",
    "\n",
    "Currently, playing with two modes, both have their pros and cons.\n",
    "\n",
    "Generally, should expose errors and let users handle them. At the same time, just skipping invalid load requests does little harm but greatly improves convienince.\n",
    "\n",
    "Could add a switch to enable disable these guard :/"
   ]
  },
  {
   "cell_type": "code",
   "execution_count": null,
   "metadata": {
    "scrolled": true
   },
   "outputs": [],
   "source": [
    "report.mod_read_all_records(\"ABC\") "
   ]
  },
  {
   "cell_type": "code",
   "execution_count": null,
   "metadata": {},
   "outputs": [],
   "source": [
    "report.mod_read_all_dxt_records(\"ABC\") "
   ]
  }
 ],
 "metadata": {
  "kernelspec": {
   "display_name": "Python 3",
   "language": "python",
   "name": "python3"
  },
  "language_info": {
   "codemirror_mode": {
    "name": "ipython",
    "version": 3
   },
   "file_extension": ".py",
   "mimetype": "text/x-python",
   "name": "python",
   "nbconvert_exporter": "python",
   "pygments_lexer": "ipython3",
   "version": "3.6.9"
  }
 },
 "nbformat": 4,
 "nbformat_minor": 2
}
