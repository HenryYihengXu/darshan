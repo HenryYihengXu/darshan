{
 "cells": [
  {
   "cell_type": "code",
   "execution_count": 1,
   "metadata": {},
   "outputs": [],
   "source": [
    "import darshan\n",
    "import pprint"
   ]
  },
  {
   "cell_type": "markdown",
   "metadata": {},
   "source": [
    "### Report Algebra\n",
    "\n",
    "By overloading the addition operator, reports can be easily merge for a variety of counters.\n",
    "\n",
    "Some choices to make though"
   ]
  },
  {
   "cell_type": "code",
   "execution_count": 2,
   "metadata": {
    "scrolled": true
   },
   "outputs": [],
   "source": [
    "r1 = darshan.DarshanReport(\"example.darshan\")\n",
    "r2 = darshan.DarshanReport(\"example2.darshan\")"
   ]
  },
  {
   "cell_type": "code",
   "execution_count": 3,
   "metadata": {},
   "outputs": [
    {
     "data": {
      "text/plain": [
       "{'version': 1,\n",
       " 'records': {},\n",
       " 'metadata': {'job': {'jobid': 4478544,\n",
       "   'uid': 69615,\n",
       "   'start_time': 1490000867,\n",
       "   'end_time': 1490000983,\n",
       "   'metadata': {'lib_ver': '3.1.3', 'h': 'romio_no_indep_rw=true;cb_nodes=4'}},\n",
       "  'exe': '/global/project/projectdirs/m888/glock/tokio-abc-results/bin.edison/vpicio_uni /scratch2/scratchdirs/glock/tokioabc-s.4478544/vpicio/vpicio.hdf5 32',\n",
       "  'mounts': [('/.shared/base/default/etc/dat.conf', 'dvs'),\n",
       "   ('/usr/lib64/libibverbs.so.1.0.0', 'dvs'),\n",
       "   ('/usr/lib64/libibumad.so.3.0.2', 'dvs'),\n",
       "   ('/usr/lib64/librdmacm.so.1.0.0', 'dvs'),\n",
       "   ('/usr/lib64/libibgni.so.1.0.0', 'dvs'),\n",
       "   ('/global/cscratch1', 'lustre'),\n",
       "   ('/global/projectb', 'dvs'),\n",
       "   ('/global/projecta', 'dvs'),\n",
       "   ('/usr/sbin/ibstat', 'dvs'),\n",
       "   ('/global/project', 'dvs'),\n",
       "   ('/global/common', 'dvs'),\n",
       "   ('/global/syscom', 'dvs'),\n",
       "   ('/global/dna', 'dvs'),\n",
       "   ('/opt/slurm', 'dvs'),\n",
       "   ('/global/u1', 'dvs'),\n",
       "   ('/global/u2', 'dvs'),\n",
       "   ('/scratch1', 'lustre'),\n",
       "   ('/scratch2', 'lustre'),\n",
       "   ('/scratch3', 'lustre'),\n",
       "   ('/etc', 'dvs'),\n",
       "   ('/', 'rootfs'),\n",
       "   ('/', 'dvs')]},\n",
       " 'modules': {'POSIX': {'len': 186, 'ver': 3, 'idx': 1},\n",
       "  'MPI-IO': {'len': 154, 'ver': 2, 'idx': 2},\n",
       "  'LUSTRE': {'len': 87, 'ver': 1, 'idx': 6},\n",
       "  'STDIO': {'len': 3234, 'ver': 1, 'idx': 7}},\n",
       " 'name_records': {14734109647742566553: '<STDIN>',\n",
       "  15920181672442173319: '<STDOUT>',\n",
       "  7238257241479193519: '<STDERR>',\n",
       "  6301063301082038805: '/scratch2/scratchdirs/glock/tokioabc-s.4478544/vpicio/vpicio.hdf5'}}"
      ]
     },
     "execution_count": 3,
     "metadata": {},
     "output_type": "execute_result"
    }
   ],
   "source": [
    "r1.data"
   ]
  },
  {
   "cell_type": "code",
   "execution_count": 4,
   "metadata": {},
   "outputs": [
    {
     "data": {
      "text/plain": [
       "{'version': 1,\n",
       " 'records': {},\n",
       " 'metadata': {'job': {'jobid': 4478544,\n",
       "   'uid': 69615,\n",
       "   'start_time': 1490000867,\n",
       "   'end_time': 1490000983,\n",
       "   'metadata': {'lib_ver': '3.1.3', 'h': 'romio_no_indep_rw=true;cb_nodes=4'}},\n",
       "  'exe': '/global/project/projectdirs/m888/glock/tokio-abc-results/bin.edison/vpicio_uni /scratch2/scratchdirs/glock/tokioabc-s.4478544/vpicio/vpicio.hdf5 32',\n",
       "  'mounts': [('/.shared/base/default/etc/dat.conf', 'dvs'),\n",
       "   ('/usr/lib64/libibverbs.so.1.0.0', 'dvs'),\n",
       "   ('/usr/lib64/libibumad.so.3.0.2', 'dvs'),\n",
       "   ('/usr/lib64/librdmacm.so.1.0.0', 'dvs'),\n",
       "   ('/usr/lib64/libibgni.so.1.0.0', 'dvs'),\n",
       "   ('/global/cscratch1', 'lustre'),\n",
       "   ('/global/projectb', 'dvs'),\n",
       "   ('/global/projecta', 'dvs'),\n",
       "   ('/usr/sbin/ibstat', 'dvs'),\n",
       "   ('/global/project', 'dvs'),\n",
       "   ('/global/common', 'dvs'),\n",
       "   ('/global/syscom', 'dvs'),\n",
       "   ('/global/dna', 'dvs'),\n",
       "   ('/opt/slurm', 'dvs'),\n",
       "   ('/global/u1', 'dvs'),\n",
       "   ('/global/u2', 'dvs'),\n",
       "   ('/scratch1', 'lustre'),\n",
       "   ('/scratch2', 'lustre'),\n",
       "   ('/scratch3', 'lustre'),\n",
       "   ('/etc', 'dvs'),\n",
       "   ('/', 'rootfs'),\n",
       "   ('/', 'dvs')]},\n",
       " 'modules': {'POSIX': {'len': 186, 'ver': 3, 'idx': 1},\n",
       "  'MPI-IO': {'len': 154, 'ver': 2, 'idx': 2},\n",
       "  'LUSTRE': {'len': 87, 'ver': 1, 'idx': 6},\n",
       "  'STDIO': {'len': 3234, 'ver': 1, 'idx': 7}},\n",
       " 'name_records': {14734109647742566553: '<STDIN>',\n",
       "  15920181672442173319: '<STDOUT>',\n",
       "  7238257241479193519: '<STDERR>',\n",
       "  6301063301082038805: '/scratch2/scratchdirs/glock/tokioabc-s.4478544/vpicio/vpicio.hdf5'}}"
      ]
     },
     "execution_count": 4,
     "metadata": {},
     "output_type": "execute_result"
    }
   ],
   "source": [
    "r1.data"
   ]
  },
  {
   "cell_type": "code",
   "execution_count": 5,
   "metadata": {},
   "outputs": [
    {
     "data": {
      "text/plain": [
       "1"
      ]
     },
     "execution_count": 5,
     "metadata": {},
     "output_type": "execute_result"
    }
   ],
   "source": [
    "r1.mod_read_all_records(\"POSIX\")\n",
    "len(r1.data['records']['POSIX'])"
   ]
  },
  {
   "cell_type": "code",
   "execution_count": 6,
   "metadata": {},
   "outputs": [
    {
     "data": {
      "text/plain": [
       "1"
      ]
     },
     "execution_count": 6,
     "metadata": {},
     "output_type": "execute_result"
    }
   ],
   "source": [
    "r2.mod_read_all_records(\"MPI-IO\")\n",
    "len(r2.data['records']['MPI-IO'])"
   ]
  },
  {
   "cell_type": "code",
   "execution_count": 7,
   "metadata": {},
   "outputs": [
    {
     "data": {
      "text/plain": [
       "[{'id': 6301063301082038805,\n",
       "  'rank': -1,\n",
       "  'counters': array([                2049, 18446744073709551615, 18446744073709551615,\n",
       "                            0,                16402,                16404,\n",
       "                            0,                    0,                    0,\n",
       "                            0, 18446744073709551615, 18446744073709551615,\n",
       "                            0,                    0,                    0,\n",
       "                2199023259968,                    0,        2199023261831,\n",
       "                            0,                    0,                    0,\n",
       "                        16384,                    0,                    0,\n",
       "                            8,                16401,              1048576,\n",
       "                            0,            134217728,                    0,\n",
       "                            0,                    0,                    0,\n",
       "                            0,                    0,                    0,\n",
       "                            0,                    0,                    0,\n",
       "                            4,                   14,                    0,\n",
       "                            0,                    0,                    0,\n",
       "                            0,                    0,                16384,\n",
       "                            0,         274743689216,         274743691264,\n",
       "                            0,                    0,                10240,\n",
       "                         4096,                    0,                    0,\n",
       "                    134217728,                  272,                  544,\n",
       "                          328,                16384,                    8,\n",
       "                            2], dtype=uint64),\n",
       "  'fcounters': array([ 2.04900000e+03, -1.00000000e+00, -1.00000000e+00,  0.00000000e+00,\n",
       "          1.64020000e+04,  1.64040000e+04,  0.00000000e+00,  0.00000000e+00,\n",
       "          0.00000000e+00,  0.00000000e+00, -1.00000000e+00, -1.00000000e+00,\n",
       "          0.00000000e+00,  0.00000000e+00,  0.00000000e+00,  2.19902326e+12,\n",
       "          0.00000000e+00,  2.19902326e+12,  0.00000000e+00,  0.00000000e+00,\n",
       "          0.00000000e+00,  1.63840000e+04,  0.00000000e+00,  0.00000000e+00,\n",
       "          8.00000000e+00,  1.64010000e+04,  1.04857600e+06,  0.00000000e+00,\n",
       "          1.34217728e+08,  0.00000000e+00,  0.00000000e+00,  0.00000000e+00,\n",
       "          0.00000000e+00,  0.00000000e+00,  0.00000000e+00,  0.00000000e+00,\n",
       "          0.00000000e+00,  0.00000000e+00,  0.00000000e+00,  4.00000000e+00,\n",
       "          1.40000000e+01,  0.00000000e+00,  0.00000000e+00,  0.00000000e+00,\n",
       "          0.00000000e+00,  0.00000000e+00,  0.00000000e+00,  1.63840000e+04,\n",
       "          0.00000000e+00,  2.74743689e+11,  2.74743691e+11,  0.00000000e+00,\n",
       "          0.00000000e+00,  1.02400000e+04,  4.09600000e+03,  0.00000000e+00,\n",
       "          0.00000000e+00,  1.34217728e+08,  2.72000000e+02,  5.44000000e+02,\n",
       "          3.28000000e+02,  1.63840000e+04,  8.00000000e+00,  2.00000000e+00])}]"
      ]
     },
     "execution_count": 7,
     "metadata": {},
     "output_type": "execute_result"
    }
   ],
   "source": [
    "r1.data['records']['POSIX']"
   ]
  },
  {
   "cell_type": "code",
   "execution_count": 8,
   "metadata": {},
   "outputs": [
    {
     "data": {
      "text/plain": [
       "[{'id': 6301063301082038805,\n",
       "  'rank': -1,\n",
       "  'counters': array([            0,          2048,             0,            18,\n",
       "                     0,         16384,             0,             0,\n",
       "                     0,             0,             0,             0,\n",
       "                 32768,             9,             0, 2199023259968,\n",
       "                     0,             0,     134217728,             0,\n",
       "                     0,             0,             0,             0,\n",
       "                     0,             0,             0,             0,\n",
       "                     0,             4,            14,             0,\n",
       "                     0,             0,             0,             0,\n",
       "                     0,         16384,             0,     134217728,\n",
       "                   272,           544,           328,         16384,\n",
       "                     8,             2,             2,           597,\n",
       "            1073741824,          1312,    1073741824], dtype=uint64),\n",
       "  'fcounters': array([0.00000000e+00, 2.04800000e+03, 0.00000000e+00, 1.80000000e+01,\n",
       "         0.00000000e+00, 1.63840000e+04, 0.00000000e+00, 0.00000000e+00,\n",
       "         0.00000000e+00, 0.00000000e+00, 0.00000000e+00, 0.00000000e+00,\n",
       "         3.27680000e+04, 9.00000000e+00, 0.00000000e+00, 2.19902326e+12,\n",
       "         0.00000000e+00, 0.00000000e+00, 1.34217728e+08, 0.00000000e+00,\n",
       "         0.00000000e+00, 0.00000000e+00, 0.00000000e+00, 0.00000000e+00,\n",
       "         0.00000000e+00, 0.00000000e+00, 0.00000000e+00, 0.00000000e+00,\n",
       "         0.00000000e+00, 4.00000000e+00, 1.40000000e+01, 0.00000000e+00,\n",
       "         0.00000000e+00, 0.00000000e+00, 0.00000000e+00, 0.00000000e+00,\n",
       "         0.00000000e+00, 1.63840000e+04, 0.00000000e+00, 1.34217728e+08,\n",
       "         2.72000000e+02, 5.44000000e+02, 3.28000000e+02, 1.63840000e+04,\n",
       "         8.00000000e+00, 2.00000000e+00, 2.00000000e+00, 5.97000000e+02,\n",
       "         1.07374182e+09, 1.31200000e+03, 1.07374182e+09])}]"
      ]
     },
     "execution_count": 8,
     "metadata": {},
     "output_type": "execute_result"
    }
   ],
   "source": [
    "r2.data['records']['MPI-IO']"
   ]
  },
  {
   "cell_type": "code",
   "execution_count": null,
   "metadata": {},
   "outputs": [],
   "source": []
  },
  {
   "cell_type": "code",
   "execution_count": 14,
   "metadata": {},
   "outputs": [
    {
     "data": {
      "text/plain": [
       "{'version': 1, 'records': {}, 'metadata': {}}"
      ]
     },
     "execution_count": 14,
     "metadata": {},
     "output_type": "execute_result"
    }
   ],
   "source": [
    "combined = r1 + r2\n",
    "combined.data"
   ]
  },
  {
   "cell_type": "code",
   "execution_count": 16,
   "metadata": {},
   "outputs": [
    {
     "data": {
      "text/plain": [
       "{'example.darshan': <darshan.report.DarshanReport at 0x7fcbb8492208>,\n",
       " 'example2.darshan': <darshan.report.DarshanReport at 0x7fcbb8492400>}"
      ]
     },
     "execution_count": 16,
     "metadata": {},
     "output_type": "execute_result"
    }
   ],
   "source": [
    "combined.provenance_reports"
   ]
  },
  {
   "cell_type": "code",
   "execution_count": null,
   "metadata": {},
   "outputs": [],
   "source": []
  },
  {
   "cell_type": "code",
   "execution_count": 12,
   "metadata": {},
   "outputs": [
    {
     "data": {
      "text/plain": [
       "2"
      ]
     },
     "execution_count": 12,
     "metadata": {},
     "output_type": "execute_result"
    }
   ],
   "source": [
    "len(combined.provenance_reports)"
   ]
  },
  {
   "cell_type": "code",
   "execution_count": 13,
   "metadata": {},
   "outputs": [
    {
     "data": {
      "text/plain": [
       "[('add',\n",
       "  <darshan.report.DarshanReport at 0x7fcbb848e5c0>,\n",
       "  <darshan.report.DarshanReport at 0x7fcbb848ab70>,\n",
       "  datetime.datetime(2020, 4, 11, 0, 37, 25, 934039))]"
      ]
     },
     "execution_count": 13,
     "metadata": {},
     "output_type": "execute_result"
    }
   ],
   "source": [
    "combined.provenance_log"
   ]
  },
  {
   "cell_type": "code",
   "execution_count": null,
   "metadata": {},
   "outputs": [],
   "source": []
  },
  {
   "cell_type": "code",
   "execution_count": null,
   "metadata": {},
   "outputs": [],
   "source": []
  },
  {
   "cell_type": "code",
   "execution_count": null,
   "metadata": {},
   "outputs": [],
   "source": []
  },
  {
   "cell_type": "code",
   "execution_count": null,
   "metadata": {},
   "outputs": [],
   "source": []
  }
 ],
 "metadata": {
  "kernelspec": {
   "display_name": "Python 3",
   "language": "python",
   "name": "python3"
  },
  "language_info": {
   "codemirror_mode": {
    "name": "ipython",
    "version": 3
   },
   "file_extension": ".py",
   "mimetype": "text/x-python",
   "name": "python",
   "nbconvert_exporter": "python",
   "pygments_lexer": "ipython3",
   "version": "3.6.9"
  }
 },
 "nbformat": 4,
 "nbformat_minor": 2
}
