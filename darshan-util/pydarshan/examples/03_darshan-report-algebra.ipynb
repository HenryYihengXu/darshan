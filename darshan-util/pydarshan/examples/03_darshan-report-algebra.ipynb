{
 "cells": [
  {
   "cell_type": "code",
   "execution_count": 1,
   "metadata": {},
   "outputs": [],
   "source": [
    "import darshan\n",
    "import pprint"
   ]
  },
  {
   "cell_type": "markdown",
   "metadata": {},
   "source": [
    "### Report Algebra\n",
    "\n",
    "By overloading the addition operator, reports can be easily merge for a variety of counters.\n",
    "\n",
    "Some choices to make though"
   ]
  },
  {
   "cell_type": "code",
   "execution_count": 2,
   "metadata": {
    "scrolled": true
   },
   "outputs": [],
   "source": [
    "r1 = darshan.DarshanReport(\"example.darshan\")\n",
    "r2 = darshan.DarshanReport(\"example2.darshan\")"
   ]
  },
  {
   "cell_type": "code",
   "execution_count": 3,
   "metadata": {},
   "outputs": [
    {
     "data": {
      "text/plain": [
       "True"
      ]
     },
     "execution_count": 3,
     "metadata": {},
     "output_type": "execute_result"
    }
   ],
   "source": [
    "# check the convienience refs are working fine\n",
    "id(r1.records) == id(r1.data['records'])"
   ]
  },
  {
   "cell_type": "code",
   "execution_count": 4,
   "metadata": {},
   "outputs": [
    {
     "name": "stdout",
     "output_type": "stream",
     "text": [
      "Skipping. Currently unsupported: LUSTRE in mod_read_all_records().\n",
      "Skipping. Currently unsupported: STDIO in mod_read_all_records().\n",
      "Skipping. Currently unsupported: POSIX\n",
      "Skipping. Currently unsupported: MPI-IO\n",
      "Skipping. Currently unsupported: LUSTRE\n",
      "Skipping. Currently unsupported: STDIO\n"
     ]
    },
    {
     "data": {
      "text/plain": [
       "[('POSIX', 1), ('MPI-IO', 1)]"
      ]
     },
     "execution_count": 4,
     "metadata": {},
     "output_type": "execute_result"
    }
   ],
   "source": [
    "r1.read_all()\n",
    "[(key, len(val)) for key, val in r1.records.items()]"
   ]
  },
  {
   "cell_type": "code",
   "execution_count": 6,
   "metadata": {},
   "outputs": [
    {
     "data": {
      "text/plain": [
       "[('MPI-IO', 1)]"
      ]
     },
     "execution_count": 6,
     "metadata": {},
     "output_type": "execute_result"
    }
   ],
   "source": [
    "r2.mod_read_all_records(\"MPI-IO\")\n",
    "[(key, len(val)) for key, val in r2.records.items()]"
   ]
  },
  {
   "cell_type": "code",
   "execution_count": null,
   "metadata": {},
   "outputs": [],
   "source": []
  },
  {
   "cell_type": "code",
   "execution_count": null,
   "metadata": {},
   "outputs": [],
   "source": []
  },
  {
   "cell_type": "code",
   "execution_count": 17,
   "metadata": {},
   "outputs": [
    {
     "name": "stdout",
     "output_type": "stream",
     "text": [
      "<darshan.report.DarshanReport object at 0x7ff3d45df6d8> POSIX\n",
      "<darshan.report.DarshanReport object at 0x7ff3d45df6d8> MPI-IO\n",
      "<darshan.report.DarshanReport object at 0x7ff3d45c0160> MPI-IO\n"
     ]
    },
    {
     "data": {
      "text/plain": [
       "[('POSIX', 1), ('MPI-IO', 2)]"
      ]
     },
     "execution_count": 17,
     "metadata": {},
     "output_type": "execute_result"
    }
   ],
   "source": [
    "combined = r1 + r2\n",
    "[(key, len(val)) for key, val in combined.records.items()]"
   ]
  },
  {
   "cell_type": "code",
   "execution_count": null,
   "metadata": {},
   "outputs": [],
   "source": []
  },
  {
   "cell_type": "code",
   "execution_count": 19,
   "metadata": {},
   "outputs": [
    {
     "name": "stdout",
     "output_type": "stream",
     "text": [
      "Added method create_time_summary to DarshanReport.\n",
      "Added method summarize to DarshanReport.\n",
      "Added method create_timeline to DarshanReport.\n",
      "Added method agg_ioops to DarshanReport.\n",
      "Added method create_sankey to DarshanReport.\n",
      "Added method mod_agg_iohist to DarshanReport.\n"
     ]
    }
   ],
   "source": [
    "darshan.enable_experimental()"
   ]
  },
  {
   "cell_type": "code",
   "execution_count": null,
   "metadata": {},
   "outputs": [],
   "source": []
  },
  {
   "cell_type": "code",
   "execution_count": 16,
   "metadata": {
    "scrolled": true
   },
   "outputs": [
    {
     "data": {
      "text/plain": [
       "{'example.darshan': <darshan.report.DarshanReport at 0x7ff3d45df940>,\n",
       " 'example2.darshan': <darshan.report.DarshanReport at 0x7ff3d45ef0b8>}"
      ]
     },
     "execution_count": 16,
     "metadata": {},
     "output_type": "execute_result"
    }
   ],
   "source": []
  },
  {
   "cell_type": "code",
   "execution_count": null,
   "metadata": {},
   "outputs": [],
   "source": []
  },
  {
   "cell_type": "code",
   "execution_count": null,
   "metadata": {},
   "outputs": [],
   "source": []
  },
  {
   "cell_type": "markdown",
   "metadata": {},
   "source": []
  },
  {
   "cell_type": "code",
   "execution_count": 33,
   "metadata": {},
   "outputs": [
    {
     "data": {
      "text/plain": [
       "False"
      ]
     },
     "execution_count": 33,
     "metadata": {},
     "output_type": "execute_result"
    }
   ],
   "source": [
    "# check if copy.copy is sufficient (ok on this level.. but!)\n",
    "id(r1.records['POSIX']) == id(combined.records['POSIX'])"
   ]
  },
  {
   "cell_type": "code",
   "execution_count": 34,
   "metadata": {},
   "outputs": [
    {
     "data": {
      "text/plain": [
       "True"
      ]
     },
     "execution_count": 34,
     "metadata": {},
     "output_type": "execute_result"
    }
   ],
   "source": [
    "# check if copy.copy is sufficient (potential conflict for this level?)\n",
    "# The question has to be, if we assume people to modify a log record\n",
    "# I'd tend to say no, and document that with a warning somewhere\n",
    "id(r1.records['POSIX'][0]) == id(combined.records['POSIX'][0])"
   ]
  },
  {
   "cell_type": "code",
   "execution_count": null,
   "metadata": {},
   "outputs": [],
   "source": []
  },
  {
   "cell_type": "code",
   "execution_count": null,
   "metadata": {},
   "outputs": [],
   "source": []
  },
  {
   "cell_type": "markdown",
   "metadata": {},
   "source": [
    "## Data Inspection"
   ]
  },
  {
   "cell_type": "code",
   "execution_count": 12,
   "metadata": {},
   "outputs": [
    {
     "data": {
      "text/plain": [
       "{'version': 1,\n",
       " 'metadata': {'job': {'jobid': 4478544,\n",
       "   'uid': 69615,\n",
       "   'start_time': 1490000867,\n",
       "   'end_time': 1490000983,\n",
       "   'metadata': {'lib_ver': '3.1.3', 'h': 'romio_no_indep_rw=true;cb_nodes=4'}},\n",
       "  'exe': '/global/project/projectdirs/m888/glock/tokio-abc-results/bin.edison/vpicio_uni /scratch2/scratchdirs/glock/tokioabc-s.4478544/vpicio/vpicio.hdf5 32',\n",
       "  'mounts': [('/.shared/base/default/etc/dat.conf', 'dvs'),\n",
       "   ('/usr/lib64/libibverbs.so.1.0.0', 'dvs'),\n",
       "   ('/usr/lib64/libibumad.so.3.0.2', 'dvs'),\n",
       "   ('/usr/lib64/librdmacm.so.1.0.0', 'dvs'),\n",
       "   ('/usr/lib64/libibgni.so.1.0.0', 'dvs'),\n",
       "   ('/global/cscratch1', 'lustre'),\n",
       "   ('/global/projectb', 'dvs'),\n",
       "   ('/global/projecta', 'dvs'),\n",
       "   ('/usr/sbin/ibstat', 'dvs'),\n",
       "   ('/global/project', 'dvs'),\n",
       "   ('/global/common', 'dvs'),\n",
       "   ('/global/syscom', 'dvs'),\n",
       "   ('/global/dna', 'dvs'),\n",
       "   ('/opt/slurm', 'dvs'),\n",
       "   ('/global/u1', 'dvs'),\n",
       "   ('/global/u2', 'dvs'),\n",
       "   ('/scratch1', 'lustre'),\n",
       "   ('/scratch2', 'lustre'),\n",
       "   ('/scratch3', 'lustre'),\n",
       "   ('/etc', 'dvs'),\n",
       "   ('/', 'rootfs'),\n",
       "   ('/', 'dvs')]},\n",
       " 'records': {'POSIX': [{'id': 6301063301082038805,\n",
       "    'rank': -1,\n",
       "    'counters': array([                2049, 18446744073709551615, 18446744073709551615,\n",
       "                              0,                16402,                16404,\n",
       "                              0,                    0,                    0,\n",
       "                              0, 18446744073709551615, 18446744073709551615,\n",
       "                              0,                    0,                    0,\n",
       "                  2199023259968,                    0,        2199023261831,\n",
       "                              0,                    0,                    0,\n",
       "                          16384,                    0,                    0,\n",
       "                              8,                16401,              1048576,\n",
       "                              0,            134217728,                    0,\n",
       "                              0,                    0,                    0,\n",
       "                              0,                    0,                    0,\n",
       "                              0,                    0,                    0,\n",
       "                              4,                   14,                    0,\n",
       "                              0,                    0,                    0,\n",
       "                              0,                    0,                16384,\n",
       "                              0,         274743689216,         274743691264,\n",
       "                              0,                    0,                10240,\n",
       "                           4096,                    0,                    0,\n",
       "                      134217728,                  272,                  544,\n",
       "                            328,                16384,                    8,\n",
       "                              2], dtype=uint64),\n",
       "    'fcounters': array([ 2.04900000e+03, -1.00000000e+00, -1.00000000e+00,  0.00000000e+00,\n",
       "            1.64020000e+04,  1.64040000e+04,  0.00000000e+00,  0.00000000e+00,\n",
       "            0.00000000e+00,  0.00000000e+00, -1.00000000e+00, -1.00000000e+00,\n",
       "            0.00000000e+00,  0.00000000e+00,  0.00000000e+00,  2.19902326e+12,\n",
       "            0.00000000e+00,  2.19902326e+12,  0.00000000e+00,  0.00000000e+00,\n",
       "            0.00000000e+00,  1.63840000e+04,  0.00000000e+00,  0.00000000e+00,\n",
       "            8.00000000e+00,  1.64010000e+04,  1.04857600e+06,  0.00000000e+00,\n",
       "            1.34217728e+08,  0.00000000e+00,  0.00000000e+00,  0.00000000e+00,\n",
       "            0.00000000e+00,  0.00000000e+00,  0.00000000e+00,  0.00000000e+00,\n",
       "            0.00000000e+00,  0.00000000e+00,  0.00000000e+00,  4.00000000e+00,\n",
       "            1.40000000e+01,  0.00000000e+00,  0.00000000e+00,  0.00000000e+00,\n",
       "            0.00000000e+00,  0.00000000e+00,  0.00000000e+00,  1.63840000e+04,\n",
       "            0.00000000e+00,  2.74743689e+11,  2.74743691e+11,  0.00000000e+00,\n",
       "            0.00000000e+00,  1.02400000e+04,  4.09600000e+03,  0.00000000e+00,\n",
       "            0.00000000e+00,  1.34217728e+08,  2.72000000e+02,  5.44000000e+02,\n",
       "            3.28000000e+02,  1.63840000e+04,  8.00000000e+00,  2.00000000e+00])}],\n",
       "  'MPI-IO': [{'id': 6301063301082038805,\n",
       "    'rank': -1,\n",
       "    'counters': array([            0,          2048,             0,            18,\n",
       "                       0,         16384,             0,             0,\n",
       "                       0,             0,             0,             0,\n",
       "                   32768,             9,             0, 2199023259968,\n",
       "                       0,             0,     134217728,             0,\n",
       "                       0,             0,             0,             0,\n",
       "                       0,             0,             0,             0,\n",
       "                       0,             4,            14,             0,\n",
       "                       0,             0,             0,             0,\n",
       "                       0,         16384,             0,     134217728,\n",
       "                     272,           544,           328,         16384,\n",
       "                       8,             2,             2,           597,\n",
       "              1073741824,          1312,    1073741824], dtype=uint64),\n",
       "    'fcounters': array([0.00000000e+00, 2.04800000e+03, 0.00000000e+00, 1.80000000e+01,\n",
       "           0.00000000e+00, 1.63840000e+04, 0.00000000e+00, 0.00000000e+00,\n",
       "           0.00000000e+00, 0.00000000e+00, 0.00000000e+00, 0.00000000e+00,\n",
       "           3.27680000e+04, 9.00000000e+00, 0.00000000e+00, 2.19902326e+12,\n",
       "           0.00000000e+00, 0.00000000e+00, 1.34217728e+08, 0.00000000e+00,\n",
       "           0.00000000e+00, 0.00000000e+00, 0.00000000e+00, 0.00000000e+00,\n",
       "           0.00000000e+00, 0.00000000e+00, 0.00000000e+00, 0.00000000e+00,\n",
       "           0.00000000e+00, 4.00000000e+00, 1.40000000e+01, 0.00000000e+00,\n",
       "           0.00000000e+00, 0.00000000e+00, 0.00000000e+00, 0.00000000e+00,\n",
       "           0.00000000e+00, 1.63840000e+04, 0.00000000e+00, 1.34217728e+08,\n",
       "           2.72000000e+02, 5.44000000e+02, 3.28000000e+02, 1.63840000e+04,\n",
       "           8.00000000e+00, 2.00000000e+00, 2.00000000e+00, 5.97000000e+02,\n",
       "           1.07374182e+09, 1.31200000e+03, 1.07374182e+09])}]},\n",
       " 'summary': {},\n",
       " 'modules': {'POSIX': {'len': 186,\n",
       "   'ver': 3,\n",
       "   'idx': 1,\n",
       "   'counters': ['POSIX_OPENS',\n",
       "    'POSIX_FILENOS',\n",
       "    'POSIX_DUPS',\n",
       "    'POSIX_READS',\n",
       "    'POSIX_WRITES',\n",
       "    'POSIX_SEEKS',\n",
       "    'POSIX_STATS',\n",
       "    'POSIX_MMAPS',\n",
       "    'POSIX_FSYNCS',\n",
       "    'POSIX_FDSYNCS',\n",
       "    'POSIX_RENAME_SOURCES',\n",
       "    'POSIX_RENAME_TARGETS',\n",
       "    'POSIX_RENAMED_FROM',\n",
       "    'POSIX_MODE',\n",
       "    'POSIX_BYTES_READ',\n",
       "    'POSIX_BYTES_WRITTEN',\n",
       "    'POSIX_MAX_BYTE_READ',\n",
       "    'POSIX_MAX_BYTE_WRITTEN',\n",
       "    'POSIX_CONSEC_READS',\n",
       "    'POSIX_CONSEC_WRITES',\n",
       "    'POSIX_SEQ_READS',\n",
       "    'POSIX_SEQ_WRITES',\n",
       "    'POSIX_RW_SWITCHES',\n",
       "    'POSIX_MEM_NOT_ALIGNED',\n",
       "    'POSIX_MEM_ALIGNMENT',\n",
       "    'POSIX_FILE_NOT_ALIGNED',\n",
       "    'POSIX_FILE_ALIGNMENT',\n",
       "    'POSIX_MAX_READ_TIME_SIZE',\n",
       "    'POSIX_MAX_WRITE_TIME_SIZE',\n",
       "    'POSIX_SIZE_READ_0_100',\n",
       "    'POSIX_SIZE_READ_100_1K',\n",
       "    'POSIX_SIZE_READ_1K_10K',\n",
       "    'POSIX_SIZE_READ_10K_100K',\n",
       "    'POSIX_SIZE_READ_100K_1M',\n",
       "    'POSIX_SIZE_READ_1M_4M',\n",
       "    'POSIX_SIZE_READ_4M_10M',\n",
       "    'POSIX_SIZE_READ_10M_100M',\n",
       "    'POSIX_SIZE_READ_100M_1G',\n",
       "    'POSIX_SIZE_READ_1G_PLUS',\n",
       "    'POSIX_SIZE_WRITE_0_100',\n",
       "    'POSIX_SIZE_WRITE_100_1K',\n",
       "    'POSIX_SIZE_WRITE_1K_10K',\n",
       "    'POSIX_SIZE_WRITE_10K_100K',\n",
       "    'POSIX_SIZE_WRITE_100K_1M',\n",
       "    'POSIX_SIZE_WRITE_1M_4M',\n",
       "    'POSIX_SIZE_WRITE_4M_10M',\n",
       "    'POSIX_SIZE_WRITE_10M_100M',\n",
       "    'POSIX_SIZE_WRITE_100M_1G',\n",
       "    'POSIX_SIZE_WRITE_1G_PLUS',\n",
       "    'POSIX_STRIDE1_STRIDE',\n",
       "    'POSIX_STRIDE2_STRIDE',\n",
       "    'POSIX_STRIDE3_STRIDE',\n",
       "    'POSIX_STRIDE4_STRIDE',\n",
       "    'POSIX_STRIDE1_COUNT',\n",
       "    'POSIX_STRIDE2_COUNT',\n",
       "    'POSIX_STRIDE3_COUNT',\n",
       "    'POSIX_STRIDE4_COUNT',\n",
       "    'POSIX_ACCESS1_ACCESS',\n",
       "    'POSIX_ACCESS2_ACCESS',\n",
       "    'POSIX_ACCESS3_ACCESS',\n",
       "    'POSIX_ACCESS4_ACCESS',\n",
       "    'POSIX_ACCESS1_COUNT',\n",
       "    'POSIX_ACCESS2_COUNT',\n",
       "    'POSIX_ACCESS3_COUNT',\n",
       "    'POSIX_ACCESS4_COUNT',\n",
       "    'POSIX_FASTEST_RANK',\n",
       "    'POSIX_FASTEST_RANK_BYTES',\n",
       "    'POSIX_SLOWEST_RANK',\n",
       "    'POSIX_SLOWEST_RANK_BYTES'],\n",
       "   'fcounters': ['POSIX_F_OPEN_START_TIMESTAMP',\n",
       "    'POSIX_F_READ_START_TIMESTAMP',\n",
       "    'POSIX_F_WRITE_START_TIMESTAMP',\n",
       "    'POSIX_F_CLOSE_START_TIMESTAMP',\n",
       "    'POSIX_F_OPEN_END_TIMESTAMP',\n",
       "    'POSIX_F_READ_END_TIMESTAMP',\n",
       "    'POSIX_F_WRITE_END_TIMESTAMP',\n",
       "    'POSIX_F_CLOSE_END_TIMESTAMP',\n",
       "    'POSIX_F_READ_TIME',\n",
       "    'POSIX_F_WRITE_TIME',\n",
       "    'POSIX_F_META_TIME',\n",
       "    'POSIX_F_MAX_READ_TIME',\n",
       "    'POSIX_F_MAX_WRITE_TIME',\n",
       "    'POSIX_F_FASTEST_RANK_TIME',\n",
       "    'POSIX_F_SLOWEST_RANK_TIME',\n",
       "    'POSIX_F_VARIANCE_RANK_TIME',\n",
       "    'POSIX_F_VARIANCE_RANK_BYTES'],\n",
       "   'num_records': 1},\n",
       "  'MPI-IO': {'len': 154,\n",
       "   'ver': 2,\n",
       "   'idx': 2,\n",
       "   'counters': ['MPIIO_INDEP_OPENS',\n",
       "    'MPIIO_COLL_OPENS',\n",
       "    'MPIIO_INDEP_READS',\n",
       "    'MPIIO_INDEP_WRITES',\n",
       "    'MPIIO_COLL_READS',\n",
       "    'MPIIO_COLL_WRITES',\n",
       "    'MPIIO_SPLIT_READS',\n",
       "    'MPIIO_SPLIT_WRITES',\n",
       "    'MPIIO_NB_READS',\n",
       "    'MPIIO_NB_WRITES',\n",
       "    'MPIIO_SYNCS',\n",
       "    'MPIIO_HINTS',\n",
       "    'MPIIO_VIEWS',\n",
       "    'MPIIO_MODE',\n",
       "    'MPIIO_BYTES_READ',\n",
       "    'MPIIO_BYTES_WRITTEN',\n",
       "    'MPIIO_RW_SWITCHES',\n",
       "    'MPIIO_MAX_READ_TIME_SIZE',\n",
       "    'MPIIO_MAX_WRITE_TIME_SIZE',\n",
       "    'MPIIO_SIZE_READ_AGG_0_100',\n",
       "    'MPIIO_SIZE_READ_AGG_100_1K',\n",
       "    'MPIIO_SIZE_READ_AGG_1K_10K',\n",
       "    'MPIIO_SIZE_READ_AGG_10K_100K',\n",
       "    'MPIIO_SIZE_READ_AGG_100K_1M',\n",
       "    'MPIIO_SIZE_READ_AGG_1M_4M',\n",
       "    'MPIIO_SIZE_READ_AGG_4M_10M',\n",
       "    'MPIIO_SIZE_READ_AGG_10M_100M',\n",
       "    'MPIIO_SIZE_READ_AGG_100M_1G',\n",
       "    'MPIIO_SIZE_READ_AGG_1G_PLUS',\n",
       "    'MPIIO_SIZE_WRITE_AGG_0_100',\n",
       "    'MPIIO_SIZE_WRITE_AGG_100_1K',\n",
       "    'MPIIO_SIZE_WRITE_AGG_1K_10K',\n",
       "    'MPIIO_SIZE_WRITE_AGG_10K_100K',\n",
       "    'MPIIO_SIZE_WRITE_AGG_100K_1M',\n",
       "    'MPIIO_SIZE_WRITE_AGG_1M_4M',\n",
       "    'MPIIO_SIZE_WRITE_AGG_4M_10M',\n",
       "    'MPIIO_SIZE_WRITE_AGG_10M_100M',\n",
       "    'MPIIO_SIZE_WRITE_AGG_100M_1G',\n",
       "    'MPIIO_SIZE_WRITE_AGG_1G_PLUS',\n",
       "    'MPIIO_ACCESS1_ACCESS',\n",
       "    'MPIIO_ACCESS2_ACCESS',\n",
       "    'MPIIO_ACCESS3_ACCESS',\n",
       "    'MPIIO_ACCESS4_ACCESS',\n",
       "    'MPIIO_ACCESS1_COUNT',\n",
       "    'MPIIO_ACCESS2_COUNT',\n",
       "    'MPIIO_ACCESS3_COUNT',\n",
       "    'MPIIO_ACCESS4_COUNT',\n",
       "    'MPIIO_FASTEST_RANK',\n",
       "    'MPIIO_FASTEST_RANK_BYTES',\n",
       "    'MPIIO_SLOWEST_RANK',\n",
       "    'MPIIO_SLOWEST_RANK_BYTES'],\n",
       "   'fcounters': ['MPIIO_F_OPEN_START_TIMESTAMP',\n",
       "    'MPIIO_F_READ_START_TIMESTAMP',\n",
       "    'MPIIO_F_WRITE_START_TIMESTAMP',\n",
       "    'MPIIO_F_CLOSE_START_TIMESTAMP',\n",
       "    'MPIIO_F_OPEN_END_TIMESTAMP',\n",
       "    'MPIIO_F_READ_END_TIMESTAMP',\n",
       "    'MPIIO_F_WRITE_END_TIMESTAMP',\n",
       "    'MPIIO_F_CLOSE_END_TIMESTAMP',\n",
       "    'MPIIO_F_READ_TIME',\n",
       "    'MPIIO_F_WRITE_TIME',\n",
       "    'MPIIO_F_META_TIME',\n",
       "    'MPIIO_F_MAX_READ_TIME',\n",
       "    'MPIIO_F_MAX_WRITE_TIME',\n",
       "    'MPIIO_F_FASTEST_RANK_TIME',\n",
       "    'MPIIO_F_SLOWEST_RANK_TIME',\n",
       "    'MPIIO_F_VARIANCE_RANK_TIME',\n",
       "    'MPIIO_F_VARIANCE_RANK_BYTES'],\n",
       "   'num_records': 1},\n",
       "  'LUSTRE': {'len': 87, 'ver': 1, 'idx': 6},\n",
       "  'STDIO': {'len': 3234, 'ver': 1, 'idx': 7}},\n",
       " 'name_records': {14734109647742566553: '<STDIN>',\n",
       "  15920181672442173319: '<STDOUT>',\n",
       "  7238257241479193519: '<STDERR>',\n",
       "  6301063301082038805: '/scratch2/scratchdirs/glock/tokioabc-s.4478544/vpicio/vpicio.hdf5'}}"
      ]
     },
     "execution_count": 12,
     "metadata": {},
     "output_type": "execute_result"
    }
   ],
   "source": [
    "r1.data"
   ]
  },
  {
   "cell_type": "code",
   "execution_count": 13,
   "metadata": {},
   "outputs": [
    {
     "data": {
      "text/plain": [
       "{'version': 1,\n",
       " 'metadata': {'job': {'jobid': 4478544,\n",
       "   'uid': 69615,\n",
       "   'start_time': 1490000867,\n",
       "   'end_time': 1490000983,\n",
       "   'metadata': {'lib_ver': '3.1.3', 'h': 'romio_no_indep_rw=true;cb_nodes=4'}},\n",
       "  'exe': '/global/project/projectdirs/m888/glock/tokio-abc-results/bin.edison/vpicio_uni /scratch2/scratchdirs/glock/tokioabc-s.4478544/vpicio/vpicio.hdf5 32',\n",
       "  'mounts': [('/.shared/base/default/etc/dat.conf', 'dvs'),\n",
       "   ('/usr/lib64/libibverbs.so.1.0.0', 'dvs'),\n",
       "   ('/usr/lib64/libibumad.so.3.0.2', 'dvs'),\n",
       "   ('/usr/lib64/librdmacm.so.1.0.0', 'dvs'),\n",
       "   ('/usr/lib64/libibgni.so.1.0.0', 'dvs'),\n",
       "   ('/global/cscratch1', 'lustre'),\n",
       "   ('/global/projectb', 'dvs'),\n",
       "   ('/global/projecta', 'dvs'),\n",
       "   ('/usr/sbin/ibstat', 'dvs'),\n",
       "   ('/global/project', 'dvs'),\n",
       "   ('/global/common', 'dvs'),\n",
       "   ('/global/syscom', 'dvs'),\n",
       "   ('/global/dna', 'dvs'),\n",
       "   ('/opt/slurm', 'dvs'),\n",
       "   ('/global/u1', 'dvs'),\n",
       "   ('/global/u2', 'dvs'),\n",
       "   ('/scratch1', 'lustre'),\n",
       "   ('/scratch2', 'lustre'),\n",
       "   ('/scratch3', 'lustre'),\n",
       "   ('/etc', 'dvs'),\n",
       "   ('/', 'rootfs'),\n",
       "   ('/', 'dvs')]},\n",
       " 'records': {'POSIX': [{'id': 6301063301082038805,\n",
       "    'rank': -1,\n",
       "    'counters': array([                2049, 18446744073709551615, 18446744073709551615,\n",
       "                              0,                16402,                16404,\n",
       "                              0,                    0,                    0,\n",
       "                              0, 18446744073709551615, 18446744073709551615,\n",
       "                              0,                    0,                    0,\n",
       "                  2199023259968,                    0,        2199023261831,\n",
       "                              0,                    0,                    0,\n",
       "                          16384,                    0,                    0,\n",
       "                              8,                16401,              1048576,\n",
       "                              0,            134217728,                    0,\n",
       "                              0,                    0,                    0,\n",
       "                              0,                    0,                    0,\n",
       "                              0,                    0,                    0,\n",
       "                              4,                   14,                    0,\n",
       "                              0,                    0,                    0,\n",
       "                              0,                    0,                16384,\n",
       "                              0,         274743689216,         274743691264,\n",
       "                              0,                    0,                10240,\n",
       "                           4096,                    0,                    0,\n",
       "                      134217728,                  272,                  544,\n",
       "                            328,                16384,                    8,\n",
       "                              2], dtype=uint64),\n",
       "    'fcounters': array([ 2.04900000e+03, -1.00000000e+00, -1.00000000e+00,  0.00000000e+00,\n",
       "            1.64020000e+04,  1.64040000e+04,  0.00000000e+00,  0.00000000e+00,\n",
       "            0.00000000e+00,  0.00000000e+00, -1.00000000e+00, -1.00000000e+00,\n",
       "            0.00000000e+00,  0.00000000e+00,  0.00000000e+00,  2.19902326e+12,\n",
       "            0.00000000e+00,  2.19902326e+12,  0.00000000e+00,  0.00000000e+00,\n",
       "            0.00000000e+00,  1.63840000e+04,  0.00000000e+00,  0.00000000e+00,\n",
       "            8.00000000e+00,  1.64010000e+04,  1.04857600e+06,  0.00000000e+00,\n",
       "            1.34217728e+08,  0.00000000e+00,  0.00000000e+00,  0.00000000e+00,\n",
       "            0.00000000e+00,  0.00000000e+00,  0.00000000e+00,  0.00000000e+00,\n",
       "            0.00000000e+00,  0.00000000e+00,  0.00000000e+00,  4.00000000e+00,\n",
       "            1.40000000e+01,  0.00000000e+00,  0.00000000e+00,  0.00000000e+00,\n",
       "            0.00000000e+00,  0.00000000e+00,  0.00000000e+00,  1.63840000e+04,\n",
       "            0.00000000e+00,  2.74743689e+11,  2.74743691e+11,  0.00000000e+00,\n",
       "            0.00000000e+00,  1.02400000e+04,  4.09600000e+03,  0.00000000e+00,\n",
       "            0.00000000e+00,  1.34217728e+08,  2.72000000e+02,  5.44000000e+02,\n",
       "            3.28000000e+02,  1.63840000e+04,  8.00000000e+00,  2.00000000e+00])}],\n",
       "  'MPI-IO': [{'id': 6301063301082038805,\n",
       "    'rank': -1,\n",
       "    'counters': array([            0,          2048,             0,            18,\n",
       "                       0,         16384,             0,             0,\n",
       "                       0,             0,             0,             0,\n",
       "                   32768,             9,             0, 2199023259968,\n",
       "                       0,             0,     134217728,             0,\n",
       "                       0,             0,             0,             0,\n",
       "                       0,             0,             0,             0,\n",
       "                       0,             4,            14,             0,\n",
       "                       0,             0,             0,             0,\n",
       "                       0,         16384,             0,     134217728,\n",
       "                     272,           544,           328,         16384,\n",
       "                       8,             2,             2,           597,\n",
       "              1073741824,          1312,    1073741824], dtype=uint64),\n",
       "    'fcounters': array([0.00000000e+00, 2.04800000e+03, 0.00000000e+00, 1.80000000e+01,\n",
       "           0.00000000e+00, 1.63840000e+04, 0.00000000e+00, 0.00000000e+00,\n",
       "           0.00000000e+00, 0.00000000e+00, 0.00000000e+00, 0.00000000e+00,\n",
       "           3.27680000e+04, 9.00000000e+00, 0.00000000e+00, 2.19902326e+12,\n",
       "           0.00000000e+00, 0.00000000e+00, 1.34217728e+08, 0.00000000e+00,\n",
       "           0.00000000e+00, 0.00000000e+00, 0.00000000e+00, 0.00000000e+00,\n",
       "           0.00000000e+00, 0.00000000e+00, 0.00000000e+00, 0.00000000e+00,\n",
       "           0.00000000e+00, 4.00000000e+00, 1.40000000e+01, 0.00000000e+00,\n",
       "           0.00000000e+00, 0.00000000e+00, 0.00000000e+00, 0.00000000e+00,\n",
       "           0.00000000e+00, 1.63840000e+04, 0.00000000e+00, 1.34217728e+08,\n",
       "           2.72000000e+02, 5.44000000e+02, 3.28000000e+02, 1.63840000e+04,\n",
       "           8.00000000e+00, 2.00000000e+00, 2.00000000e+00, 5.97000000e+02,\n",
       "           1.07374182e+09, 1.31200000e+03, 1.07374182e+09])}]},\n",
       " 'summary': {},\n",
       " 'modules': {'POSIX': {'len': 186,\n",
       "   'ver': 3,\n",
       "   'idx': 1,\n",
       "   'counters': ['POSIX_OPENS',\n",
       "    'POSIX_FILENOS',\n",
       "    'POSIX_DUPS',\n",
       "    'POSIX_READS',\n",
       "    'POSIX_WRITES',\n",
       "    'POSIX_SEEKS',\n",
       "    'POSIX_STATS',\n",
       "    'POSIX_MMAPS',\n",
       "    'POSIX_FSYNCS',\n",
       "    'POSIX_FDSYNCS',\n",
       "    'POSIX_RENAME_SOURCES',\n",
       "    'POSIX_RENAME_TARGETS',\n",
       "    'POSIX_RENAMED_FROM',\n",
       "    'POSIX_MODE',\n",
       "    'POSIX_BYTES_READ',\n",
       "    'POSIX_BYTES_WRITTEN',\n",
       "    'POSIX_MAX_BYTE_READ',\n",
       "    'POSIX_MAX_BYTE_WRITTEN',\n",
       "    'POSIX_CONSEC_READS',\n",
       "    'POSIX_CONSEC_WRITES',\n",
       "    'POSIX_SEQ_READS',\n",
       "    'POSIX_SEQ_WRITES',\n",
       "    'POSIX_RW_SWITCHES',\n",
       "    'POSIX_MEM_NOT_ALIGNED',\n",
       "    'POSIX_MEM_ALIGNMENT',\n",
       "    'POSIX_FILE_NOT_ALIGNED',\n",
       "    'POSIX_FILE_ALIGNMENT',\n",
       "    'POSIX_MAX_READ_TIME_SIZE',\n",
       "    'POSIX_MAX_WRITE_TIME_SIZE',\n",
       "    'POSIX_SIZE_READ_0_100',\n",
       "    'POSIX_SIZE_READ_100_1K',\n",
       "    'POSIX_SIZE_READ_1K_10K',\n",
       "    'POSIX_SIZE_READ_10K_100K',\n",
       "    'POSIX_SIZE_READ_100K_1M',\n",
       "    'POSIX_SIZE_READ_1M_4M',\n",
       "    'POSIX_SIZE_READ_4M_10M',\n",
       "    'POSIX_SIZE_READ_10M_100M',\n",
       "    'POSIX_SIZE_READ_100M_1G',\n",
       "    'POSIX_SIZE_READ_1G_PLUS',\n",
       "    'POSIX_SIZE_WRITE_0_100',\n",
       "    'POSIX_SIZE_WRITE_100_1K',\n",
       "    'POSIX_SIZE_WRITE_1K_10K',\n",
       "    'POSIX_SIZE_WRITE_10K_100K',\n",
       "    'POSIX_SIZE_WRITE_100K_1M',\n",
       "    'POSIX_SIZE_WRITE_1M_4M',\n",
       "    'POSIX_SIZE_WRITE_4M_10M',\n",
       "    'POSIX_SIZE_WRITE_10M_100M',\n",
       "    'POSIX_SIZE_WRITE_100M_1G',\n",
       "    'POSIX_SIZE_WRITE_1G_PLUS',\n",
       "    'POSIX_STRIDE1_STRIDE',\n",
       "    'POSIX_STRIDE2_STRIDE',\n",
       "    'POSIX_STRIDE3_STRIDE',\n",
       "    'POSIX_STRIDE4_STRIDE',\n",
       "    'POSIX_STRIDE1_COUNT',\n",
       "    'POSIX_STRIDE2_COUNT',\n",
       "    'POSIX_STRIDE3_COUNT',\n",
       "    'POSIX_STRIDE4_COUNT',\n",
       "    'POSIX_ACCESS1_ACCESS',\n",
       "    'POSIX_ACCESS2_ACCESS',\n",
       "    'POSIX_ACCESS3_ACCESS',\n",
       "    'POSIX_ACCESS4_ACCESS',\n",
       "    'POSIX_ACCESS1_COUNT',\n",
       "    'POSIX_ACCESS2_COUNT',\n",
       "    'POSIX_ACCESS3_COUNT',\n",
       "    'POSIX_ACCESS4_COUNT',\n",
       "    'POSIX_FASTEST_RANK',\n",
       "    'POSIX_FASTEST_RANK_BYTES',\n",
       "    'POSIX_SLOWEST_RANK',\n",
       "    'POSIX_SLOWEST_RANK_BYTES'],\n",
       "   'fcounters': ['POSIX_F_OPEN_START_TIMESTAMP',\n",
       "    'POSIX_F_READ_START_TIMESTAMP',\n",
       "    'POSIX_F_WRITE_START_TIMESTAMP',\n",
       "    'POSIX_F_CLOSE_START_TIMESTAMP',\n",
       "    'POSIX_F_OPEN_END_TIMESTAMP',\n",
       "    'POSIX_F_READ_END_TIMESTAMP',\n",
       "    'POSIX_F_WRITE_END_TIMESTAMP',\n",
       "    'POSIX_F_CLOSE_END_TIMESTAMP',\n",
       "    'POSIX_F_READ_TIME',\n",
       "    'POSIX_F_WRITE_TIME',\n",
       "    'POSIX_F_META_TIME',\n",
       "    'POSIX_F_MAX_READ_TIME',\n",
       "    'POSIX_F_MAX_WRITE_TIME',\n",
       "    'POSIX_F_FASTEST_RANK_TIME',\n",
       "    'POSIX_F_SLOWEST_RANK_TIME',\n",
       "    'POSIX_F_VARIANCE_RANK_TIME',\n",
       "    'POSIX_F_VARIANCE_RANK_BYTES'],\n",
       "   'num_records': 1},\n",
       "  'MPI-IO': {'len': 154,\n",
       "   'ver': 2,\n",
       "   'idx': 2,\n",
       "   'counters': ['MPIIO_INDEP_OPENS',\n",
       "    'MPIIO_COLL_OPENS',\n",
       "    'MPIIO_INDEP_READS',\n",
       "    'MPIIO_INDEP_WRITES',\n",
       "    'MPIIO_COLL_READS',\n",
       "    'MPIIO_COLL_WRITES',\n",
       "    'MPIIO_SPLIT_READS',\n",
       "    'MPIIO_SPLIT_WRITES',\n",
       "    'MPIIO_NB_READS',\n",
       "    'MPIIO_NB_WRITES',\n",
       "    'MPIIO_SYNCS',\n",
       "    'MPIIO_HINTS',\n",
       "    'MPIIO_VIEWS',\n",
       "    'MPIIO_MODE',\n",
       "    'MPIIO_BYTES_READ',\n",
       "    'MPIIO_BYTES_WRITTEN',\n",
       "    'MPIIO_RW_SWITCHES',\n",
       "    'MPIIO_MAX_READ_TIME_SIZE',\n",
       "    'MPIIO_MAX_WRITE_TIME_SIZE',\n",
       "    'MPIIO_SIZE_READ_AGG_0_100',\n",
       "    'MPIIO_SIZE_READ_AGG_100_1K',\n",
       "    'MPIIO_SIZE_READ_AGG_1K_10K',\n",
       "    'MPIIO_SIZE_READ_AGG_10K_100K',\n",
       "    'MPIIO_SIZE_READ_AGG_100K_1M',\n",
       "    'MPIIO_SIZE_READ_AGG_1M_4M',\n",
       "    'MPIIO_SIZE_READ_AGG_4M_10M',\n",
       "    'MPIIO_SIZE_READ_AGG_10M_100M',\n",
       "    'MPIIO_SIZE_READ_AGG_100M_1G',\n",
       "    'MPIIO_SIZE_READ_AGG_1G_PLUS',\n",
       "    'MPIIO_SIZE_WRITE_AGG_0_100',\n",
       "    'MPIIO_SIZE_WRITE_AGG_100_1K',\n",
       "    'MPIIO_SIZE_WRITE_AGG_1K_10K',\n",
       "    'MPIIO_SIZE_WRITE_AGG_10K_100K',\n",
       "    'MPIIO_SIZE_WRITE_AGG_100K_1M',\n",
       "    'MPIIO_SIZE_WRITE_AGG_1M_4M',\n",
       "    'MPIIO_SIZE_WRITE_AGG_4M_10M',\n",
       "    'MPIIO_SIZE_WRITE_AGG_10M_100M',\n",
       "    'MPIIO_SIZE_WRITE_AGG_100M_1G',\n",
       "    'MPIIO_SIZE_WRITE_AGG_1G_PLUS',\n",
       "    'MPIIO_ACCESS1_ACCESS',\n",
       "    'MPIIO_ACCESS2_ACCESS',\n",
       "    'MPIIO_ACCESS3_ACCESS',\n",
       "    'MPIIO_ACCESS4_ACCESS',\n",
       "    'MPIIO_ACCESS1_COUNT',\n",
       "    'MPIIO_ACCESS2_COUNT',\n",
       "    'MPIIO_ACCESS3_COUNT',\n",
       "    'MPIIO_ACCESS4_COUNT',\n",
       "    'MPIIO_FASTEST_RANK',\n",
       "    'MPIIO_FASTEST_RANK_BYTES',\n",
       "    'MPIIO_SLOWEST_RANK',\n",
       "    'MPIIO_SLOWEST_RANK_BYTES'],\n",
       "   'fcounters': ['MPIIO_F_OPEN_START_TIMESTAMP',\n",
       "    'MPIIO_F_READ_START_TIMESTAMP',\n",
       "    'MPIIO_F_WRITE_START_TIMESTAMP',\n",
       "    'MPIIO_F_CLOSE_START_TIMESTAMP',\n",
       "    'MPIIO_F_OPEN_END_TIMESTAMP',\n",
       "    'MPIIO_F_READ_END_TIMESTAMP',\n",
       "    'MPIIO_F_WRITE_END_TIMESTAMP',\n",
       "    'MPIIO_F_CLOSE_END_TIMESTAMP',\n",
       "    'MPIIO_F_READ_TIME',\n",
       "    'MPIIO_F_WRITE_TIME',\n",
       "    'MPIIO_F_META_TIME',\n",
       "    'MPIIO_F_MAX_READ_TIME',\n",
       "    'MPIIO_F_MAX_WRITE_TIME',\n",
       "    'MPIIO_F_FASTEST_RANK_TIME',\n",
       "    'MPIIO_F_SLOWEST_RANK_TIME',\n",
       "    'MPIIO_F_VARIANCE_RANK_TIME',\n",
       "    'MPIIO_F_VARIANCE_RANK_BYTES'],\n",
       "   'num_records': 1},\n",
       "  'LUSTRE': {'len': 87, 'ver': 1, 'idx': 6},\n",
       "  'STDIO': {'len': 3234, 'ver': 1, 'idx': 7}},\n",
       " 'name_records': {14734109647742566553: '<STDIN>',\n",
       "  15920181672442173319: '<STDOUT>',\n",
       "  7238257241479193519: '<STDERR>',\n",
       "  6301063301082038805: '/scratch2/scratchdirs/glock/tokioabc-s.4478544/vpicio/vpicio.hdf5'}}"
      ]
     },
     "execution_count": 13,
     "metadata": {},
     "output_type": "execute_result"
    }
   ],
   "source": [
    "r1.data"
   ]
  },
  {
   "cell_type": "code",
   "execution_count": 14,
   "metadata": {},
   "outputs": [
    {
     "data": {
      "text/plain": [
       "[{'id': 6301063301082038805,\n",
       "  'rank': -1,\n",
       "  'counters': array([                2049, 18446744073709551615, 18446744073709551615,\n",
       "                            0,                16402,                16404,\n",
       "                            0,                    0,                    0,\n",
       "                            0, 18446744073709551615, 18446744073709551615,\n",
       "                            0,                    0,                    0,\n",
       "                2199023259968,                    0,        2199023261831,\n",
       "                            0,                    0,                    0,\n",
       "                        16384,                    0,                    0,\n",
       "                            8,                16401,              1048576,\n",
       "                            0,            134217728,                    0,\n",
       "                            0,                    0,                    0,\n",
       "                            0,                    0,                    0,\n",
       "                            0,                    0,                    0,\n",
       "                            4,                   14,                    0,\n",
       "                            0,                    0,                    0,\n",
       "                            0,                    0,                16384,\n",
       "                            0,         274743689216,         274743691264,\n",
       "                            0,                    0,                10240,\n",
       "                         4096,                    0,                    0,\n",
       "                    134217728,                  272,                  544,\n",
       "                          328,                16384,                    8,\n",
       "                            2], dtype=uint64),\n",
       "  'fcounters': array([ 2.04900000e+03, -1.00000000e+00, -1.00000000e+00,  0.00000000e+00,\n",
       "          1.64020000e+04,  1.64040000e+04,  0.00000000e+00,  0.00000000e+00,\n",
       "          0.00000000e+00,  0.00000000e+00, -1.00000000e+00, -1.00000000e+00,\n",
       "          0.00000000e+00,  0.00000000e+00,  0.00000000e+00,  2.19902326e+12,\n",
       "          0.00000000e+00,  2.19902326e+12,  0.00000000e+00,  0.00000000e+00,\n",
       "          0.00000000e+00,  1.63840000e+04,  0.00000000e+00,  0.00000000e+00,\n",
       "          8.00000000e+00,  1.64010000e+04,  1.04857600e+06,  0.00000000e+00,\n",
       "          1.34217728e+08,  0.00000000e+00,  0.00000000e+00,  0.00000000e+00,\n",
       "          0.00000000e+00,  0.00000000e+00,  0.00000000e+00,  0.00000000e+00,\n",
       "          0.00000000e+00,  0.00000000e+00,  0.00000000e+00,  4.00000000e+00,\n",
       "          1.40000000e+01,  0.00000000e+00,  0.00000000e+00,  0.00000000e+00,\n",
       "          0.00000000e+00,  0.00000000e+00,  0.00000000e+00,  1.63840000e+04,\n",
       "          0.00000000e+00,  2.74743689e+11,  2.74743691e+11,  0.00000000e+00,\n",
       "          0.00000000e+00,  1.02400000e+04,  4.09600000e+03,  0.00000000e+00,\n",
       "          0.00000000e+00,  1.34217728e+08,  2.72000000e+02,  5.44000000e+02,\n",
       "          3.28000000e+02,  1.63840000e+04,  8.00000000e+00,  2.00000000e+00])}]"
      ]
     },
     "execution_count": 14,
     "metadata": {},
     "output_type": "execute_result"
    }
   ],
   "source": [
    "r1.data['records']['POSIX']"
   ]
  },
  {
   "cell_type": "code",
   "execution_count": 15,
   "metadata": {},
   "outputs": [
    {
     "data": {
      "text/plain": [
       "[{'id': 6301063301082038805,\n",
       "  'rank': -1,\n",
       "  'counters': array([            0,          2048,             0,            18,\n",
       "                     0,         16384,             0,             0,\n",
       "                     0,             0,             0,             0,\n",
       "                 32768,             9,             0, 2199023259968,\n",
       "                     0,             0,     134217728,             0,\n",
       "                     0,             0,             0,             0,\n",
       "                     0,             0,             0,             0,\n",
       "                     0,             4,            14,             0,\n",
       "                     0,             0,             0,             0,\n",
       "                     0,         16384,             0,     134217728,\n",
       "                   272,           544,           328,         16384,\n",
       "                     8,             2,             2,           597,\n",
       "            1073741824,          1312,    1073741824], dtype=uint64),\n",
       "  'fcounters': array([0.00000000e+00, 2.04800000e+03, 0.00000000e+00, 1.80000000e+01,\n",
       "         0.00000000e+00, 1.63840000e+04, 0.00000000e+00, 0.00000000e+00,\n",
       "         0.00000000e+00, 0.00000000e+00, 0.00000000e+00, 0.00000000e+00,\n",
       "         3.27680000e+04, 9.00000000e+00, 0.00000000e+00, 2.19902326e+12,\n",
       "         0.00000000e+00, 0.00000000e+00, 1.34217728e+08, 0.00000000e+00,\n",
       "         0.00000000e+00, 0.00000000e+00, 0.00000000e+00, 0.00000000e+00,\n",
       "         0.00000000e+00, 0.00000000e+00, 0.00000000e+00, 0.00000000e+00,\n",
       "         0.00000000e+00, 4.00000000e+00, 1.40000000e+01, 0.00000000e+00,\n",
       "         0.00000000e+00, 0.00000000e+00, 0.00000000e+00, 0.00000000e+00,\n",
       "         0.00000000e+00, 1.63840000e+04, 0.00000000e+00, 1.34217728e+08,\n",
       "         2.72000000e+02, 5.44000000e+02, 3.28000000e+02, 1.63840000e+04,\n",
       "         8.00000000e+00, 2.00000000e+00, 2.00000000e+00, 5.97000000e+02,\n",
       "         1.07374182e+09, 1.31200000e+03, 1.07374182e+09])}]"
      ]
     },
     "execution_count": 15,
     "metadata": {},
     "output_type": "execute_result"
    }
   ],
   "source": [
    "r2.data['records']['MPI-IO']"
   ]
  },
  {
   "cell_type": "code",
   "execution_count": null,
   "metadata": {},
   "outputs": [],
   "source": []
  },
  {
   "cell_type": "code",
   "execution_count": null,
   "metadata": {},
   "outputs": [],
   "source": []
  },
  {
   "cell_type": "code",
   "execution_count": null,
   "metadata": {},
   "outputs": [],
   "source": []
  },
  {
   "cell_type": "code",
   "execution_count": null,
   "metadata": {},
   "outputs": [],
   "source": []
  },
  {
   "cell_type": "markdown",
   "metadata": {},
   "source": [
    "## Provenance\n",
    "\n",
    "The report object maintains a provenance log to investigate and trace aggregations (recording can be disabled by changing `record_provenance` to `False`). Two indexes art maintained:\n",
    "\n",
    "* A list of all included sub-reports which hold records in the current report\n",
    "* A list of all alterings/filterings performed on the current report with timestamps/revision"
   ]
  },
  {
   "cell_type": "code",
   "execution_count": null,
   "metadata": {},
   "outputs": [],
   "source": []
  },
  {
   "cell_type": "code",
   "execution_count": 20,
   "metadata": {
    "scrolled": true
   },
   "outputs": [
    {
     "data": {
      "text/plain": [
       "{'example.darshan': <darshan.report.DarshanReport at 0x7ff3d45ef198>,\n",
       " 'example2.darshan': <darshan.report.DarshanReport at 0x7ff3d45ef9b0>}"
      ]
     },
     "execution_count": 20,
     "metadata": {},
     "output_type": "execute_result"
    }
   ],
   "source": [
    "combined.provenance_reports"
   ]
  },
  {
   "cell_type": "code",
   "execution_count": null,
   "metadata": {},
   "outputs": [],
   "source": []
  },
  {
   "cell_type": "code",
   "execution_count": 10,
   "metadata": {},
   "outputs": [
    {
     "data": {
      "text/plain": [
       "2"
      ]
     },
     "execution_count": 10,
     "metadata": {},
     "output_type": "execute_result"
    }
   ],
   "source": [
    "len(combined.provenance_reports)"
   ]
  },
  {
   "cell_type": "code",
   "execution_count": 11,
   "metadata": {},
   "outputs": [
    {
     "data": {
      "text/plain": [
       "[('add',\n",
       "  <darshan.report.DarshanReport at 0x7ff3d45df6d8>,\n",
       "  <darshan.report.DarshanReport at 0x7ff3d45c0160>,\n",
       "  datetime.datetime(2020, 4, 11, 13, 59, 0, 79168))]"
      ]
     },
     "execution_count": 11,
     "metadata": {},
     "output_type": "execute_result"
    }
   ],
   "source": [
    "combined.provenance_log"
   ]
  },
  {
   "cell_type": "code",
   "execution_count": null,
   "metadata": {},
   "outputs": [],
   "source": []
  }
 ],
 "metadata": {
  "kernelspec": {
   "display_name": "Python 3",
   "language": "python",
   "name": "python3"
  },
  "language_info": {
   "codemirror_mode": {
    "name": "ipython",
    "version": 3
   },
   "file_extension": ".py",
   "mimetype": "text/x-python",
   "name": "python",
   "nbconvert_exporter": "python",
   "pygments_lexer": "ipython3",
   "version": "3.6.9"
  }
 },
 "nbformat": 4,
 "nbformat_minor": 2
}
