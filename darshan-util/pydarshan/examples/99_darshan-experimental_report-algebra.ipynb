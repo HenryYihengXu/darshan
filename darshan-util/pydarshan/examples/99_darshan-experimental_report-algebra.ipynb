{
 "cells": [
  {
   "cell_type": "code",
   "execution_count": 6,
   "metadata": {},
   "outputs": [],
   "source": [
    "import darshan\n",
    "darshan.enable_experimental(verbose=False)\n",
    "\n",
    "import pprint\n",
    "\n",
    "from darshan.experimental.plots.matplotlib import plot_access_histogram\n",
    "from darshan.experimental.plots.matplotlib import plot_opcounts"
   ]
  },
  {
   "cell_type": "markdown",
   "metadata": {},
   "source": [
    "### Report Algebra\n",
    "\n",
    "Reports come with a number of operations which can be applied to them. For a number of common combinations a shorthand notations can be used, which exploits operator overloading. This can be useful in a variety of contexts such as analysis, as well as performance projection and extrapolation."
   ]
  },
  {
   "cell_type": "markdown",
   "metadata": {},
   "source": [
    "    Operation                        Returns Interpreation\n",
    "    ---------                        ------- -------------\n",
    "    report + report              =>  report: merge reports - equivalant to .merge()\n",
    "    report + datetime.timedelta  =>  report: all report records are moved in time\n",
    "\n",
    "    report * scalar              =>  report: all report records are dublicated 'scalar' times\n",
    "                                             integer multiplication is well defined\n",
    "                                             float multiplication is only defined after reduction"
   ]
  },
  {
   "cell_type": "markdown",
   "metadata": {},
   "source": [
    "More operations are discussed at the end of the notebook."
   ]
  },
  {
   "cell_type": "markdown",
   "metadata": {},
   "source": [
    "#### Example:"
   ]
  },
  {
   "cell_type": "code",
   "execution_count": 7,
   "metadata": {
    "scrolled": true
   },
   "outputs": [],
   "source": [
    "import darshan\n",
    "import copy\n",
    "\n",
    "darshan.enable_experimental(verbose=False)"
   ]
  },
  {
   "cell_type": "code",
   "execution_count": 8,
   "metadata": {},
   "outputs": [],
   "source": [
    "r1 = darshan.DarshanReport(\"sample.darshan\", read_all=True)\n",
    "r2 = darshan.DarshanReport(\"noposix.darshan\", read_all=True)\n",
    "r3 = darshan.DarshanReport(\"sample-badost.darshan\", read_all=True)"
   ]
  },
  {
   "cell_type": "code",
   "execution_count": 9,
   "metadata": {},
   "outputs": [
    {
     "name": "stdout",
     "output_type": "stream",
     "text": [
      "Filename:       sample.darshan\n",
      "Times:          2017-03-20 10:07:47 to 2017-03-20 10:09:43 (Duration 0:01:56)\n",
      "Executeable:    /global/project/projectdirs/m888/glock/tokio-abc-results/bin.edison/vpicio_uni /scratch2/scratchdirs/glock/tokioabc-s.4478544/vpicio/vpicio.hdf5 32\n",
      "Processes:      2048\n",
      "JobID:          4478544\n",
      "UID:            69615\n",
      "Modules in Log: ['POSIX', 'MPI-IO', 'LUSTRE', 'STDIO']\n",
      "Loaded Records: {'POSIX': 1, 'MPI-IO': 1, 'STDIO': 129}\n",
      "Name Records:   4\n",
      "Darshan/Hints:  {'lib_ver': '3.1.3', 'h': 'romio_no_indep_rw=true;cb_nodes=4'}\n",
      "DarshanReport:  id(140706993325840) (tmp)\n",
      "\n",
      "Filename:       noposix.darshan\n",
      "Times:          2018-01-02 20:57:35 to 2018-01-03 07:51:07 (Duration 10:53:32)\n",
      "Executeable:    160345792\n",
      "Processes:      512\n",
      "JobID:          83017637\n",
      "UID:            996599276\n",
      "Modules in Log: ['LUSTRE', 'STDIO']\n",
      "Loaded Records: {'STDIO': 2}\n",
      "Name Records:   522\n",
      "Darshan/Hints:  {'lib_ver': '3.1.4', 'h': 'romio_no_indep_rw=true;cb_nodes=4'}\n",
      "DarshanReport:  id(140706993325784) (tmp)\n",
      "\n",
      "Filename:       sample-badost.darshan\n",
      "Times:          2017-06-20 19:49:39 to 2017-06-20 20:02:38 (Duration 0:12:59)\n",
      "Executeable:    /global/project/projectdirs/m888/glock/tokio-abc-results/bin.edison/ior -H -k -w -o ior-posix.out -s 64 -f /global/project/projectdirs/m888/glock/tokio-abc-results/inputs/posix1m2.in\n",
      "Processes:      2048\n",
      "JobID:          6265799\n",
      "UID:            69615\n",
      "Modules in Log: ['POSIX', 'LUSTRE', 'STDIO']\n",
      "Loaded Records: {'POSIX': 2048, 'STDIO': 3}\n",
      "Name Records:   2052\n",
      "Darshan/Hints:  {'lib_ver': '3.1.3', 'h': 'romio_no_indep_rw=true;cb_nodes=4'}\n",
      "DarshanReport:  id(140706993327632) (tmp)\n",
      "\n"
     ]
    }
   ],
   "source": [
    "# display some infor about each report for comparison\n",
    "for r in [r1, r2, r3]:\n",
    "    r.info(metadata=False)\n",
    "    print()"
   ]
  },
  {
   "cell_type": "code",
   "execution_count": null,
   "metadata": {},
   "outputs": [],
   "source": []
  },
  {
   "cell_type": "code",
   "execution_count": 10,
   "metadata": {},
   "outputs": [
    {
     "name": "stdout",
     "output_type": "stream",
     "text": [
      "Filename:       None\n",
      "Times:          2017-03-20 10:07:47 to 2018-01-03 07:51:07 (Duration 288 days, 21:43:20)\n",
      "Loaded Records: {'POSIX': 1, 'MPI-IO': 1, 'STDIO': 131}\n",
      "Name Records:   523\n",
      "DarshanReport:  id(140707858703864) (tmp)\n"
     ]
    }
   ],
   "source": [
    "# merge to reports\n",
    "c = r1 + r2          # alternatives:  r1.merge(r2)  or  darshan.merge(r1, r2)   ?\n",
    "c.info()"
   ]
  },
  {
   "cell_type": "code",
   "execution_count": null,
   "metadata": {},
   "outputs": [],
   "source": []
  },
  {
   "cell_type": "code",
   "execution_count": null,
   "metadata": {},
   "outputs": [],
   "source": [
    "# A closer look at the name records \n",
    "for r in [r1, r2, r3]:\n",
    "    r.read_all()\n",
    "    for key, val in r.name_records_summary().items():\n",
    "        print(val)\n",
    "    print()"
   ]
  },
  {
   "cell_type": "code",
   "execution_count": null,
   "metadata": {},
   "outputs": [],
   "source": []
  },
  {
   "cell_type": "code",
   "execution_count": null,
   "metadata": {},
   "outputs": [],
   "source": []
  },
  {
   "cell_type": "code",
   "execution_count": null,
   "metadata": {},
   "outputs": [],
   "source": []
  },
  {
   "cell_type": "code",
   "execution_count": null,
   "metadata": {
    "scrolled": true
   },
   "outputs": [],
   "source": [
    "r3.data['name_records']"
   ]
  },
  {
   "cell_type": "code",
   "execution_count": null,
   "metadata": {},
   "outputs": [],
   "source": [
    "counts = {}\n",
    "\n",
    "for mod, records in r1.records.items():\n",
    "    for rec in records:\n",
    "        if rec['id'] not in counts:\n",
    "            counts[rec['id']] = {}\n",
    "            \n",
    "        ctx = counts[rec['id']]\n",
    "        if mod not in ctx:\n",
    "            ctx[mod] = 1\n",
    "        else:\n",
    "            ctx[mod] += 1\n",
    "            \n",
    "counts"
   ]
  },
  {
   "cell_type": "code",
   "execution_count": null,
   "metadata": {},
   "outputs": [],
   "source": []
  },
  {
   "cell_type": "code",
   "execution_count": 22,
   "metadata": {},
   "outputs": [
    {
     "name": "stdout",
     "output_type": "stream",
     "text": [
      "Summarizing... agg_ioops\n",
      "Read,Write,Open,Stat,Seek,Mmap,Fsync,Layer\n",
      "0,16402,2049,0,16404,0,0,POSIX\n",
      "0,18,0,0,0,0,0,MPIIND\n",
      "0,16384,2048,0,0,0,0,MPICOL\n",
      "0,74,129,0,0,0,0,STDIO\n",
      "\n"
     ]
    },
    {
     "data": {
      "text/plain": [
       "<module 'matplotlib.pyplot' from '/home/pq/ANL/darshan-decaf/testbed/conda/lib/python3.6/site-packages/matplotlib/pyplot.py'>"
      ]
     },
     "execution_count": 22,
     "metadata": {},
     "output_type": "execute_result"
    },
    {
     "data": {
      "image/png": "[encoded data removed]",
      "text/plain": [
       "<Figure size 432x288 with 1 Axes>"
      ]
     },
     "metadata": {
      "needs_background": "light"
     },
     "output_type": "display_data"
    }
   ],
   "source": [
    "plot_opcounts(r1)"
   ]
  },
  {
   "cell_type": "code",
   "execution_count": 23,
   "metadata": {},
   "outputs": [
    {
     "name": "stdout",
     "output_type": "stream",
     "text": [
      "[('POSIX', 2048), ('STDIO', 3)]\n",
      "Summarizing... iohist POSIX\n"
     ]
    },
    {
     "data": {
      "text/plain": [
       "<module 'matplotlib.pyplot' from '/home/pq/ANL/darshan-decaf/testbed/conda/lib/python3.6/site-packages/matplotlib/pyplot.py'>"
      ]
     },
     "execution_count": 23,
     "metadata": {},
     "output_type": "execute_result"
    },
    {
     "data": {
      "image/png": "[encoded data removed]",
      "text/plain": [
       "<Figure size 432x288 with 1 Axes>"
      ]
     },
     "metadata": {
      "needs_background": "light"
     },
     "output_type": "display_data"
    }
   ],
   "source": [
    "r3.mod_read_all_records(\"POSIX\")\n",
    "print([(key, len(val)) for key, val in r3.records.items()])\n",
    "plot_access_histogram(c, 'POSIX')"
   ]
  },
  {
   "cell_type": "code",
   "execution_count": 24,
   "metadata": {},
   "outputs": [
    {
     "name": "stdout",
     "output_type": "stream",
     "text": [
      "[('STDIO', 2)]\n",
      "Summarizing... agg_ioops\n",
      "Read,Write,Open,Stat,Seek,Mmap,Fsync,Layer\n",
      "0,0,0,0,0,0,0,POSIX\n",
      "0,0,0,0,0,0,0,MPIIND\n",
      "0,0,0,0,0,0,0,MPICOL\n",
      "199687,2190437,1024,0,203265,0,217126,STDIO\n",
      "\n"
     ]
    },
    {
     "data": {
      "text/plain": [
       "<module 'matplotlib.pyplot' from '/home/pq/ANL/darshan-decaf/testbed/conda/lib/python3.6/site-packages/matplotlib/pyplot.py'>"
      ]
     },
     "execution_count": 24,
     "metadata": {},
     "output_type": "execute_result"
    },
    {
     "data": {
      "image/png": "[encoded data removed]",
      "text/plain": [
       "<Figure size 432x288 with 1 Axes>"
      ]
     },
     "metadata": {
      "needs_background": "light"
     },
     "output_type": "display_data"
    }
   ],
   "source": [
    "r2.mod_read_all_records(\"STDIO\")\n",
    "print([(key, len(val)) for key, val in r2.records.items()])\n",
    "#plot_access_histogram(c, 'POSIX')\n",
    "plot_opcounts(r2)"
   ]
  },
  {
   "cell_type": "code",
   "execution_count": 25,
   "metadata": {},
   "outputs": [
    {
     "name": "stdout",
     "output_type": "stream",
     "text": [
      "[('POSIX', 2048), ('STDIO', 3)]\n",
      "Summarizing... iohist MPI-IO\n"
     ]
    },
    {
     "data": {
      "text/plain": [
       "<module 'matplotlib.pyplot' from '/home/pq/ANL/darshan-decaf/testbed/conda/lib/python3.6/site-packages/matplotlib/pyplot.py'>"
      ]
     },
     "execution_count": 25,
     "metadata": {},
     "output_type": "execute_result"
    },
    {
     "data": {
      "image/png": "[encoded data removed]",
      "text/plain": [
       "<Figure size 432x288 with 1 Axes>"
      ]
     },
     "metadata": {
      "needs_background": "light"
     },
     "output_type": "display_data"
    }
   ],
   "source": [
    "r1.mod_read_all_records(\"MPI-IO\")\n",
    "print([(key, len(val)) for key, val in r3.records.items()])\n",
    "plot_access_histogram(c, 'MPI-IO')"
   ]
  },
  {
   "cell_type": "code",
   "execution_count": 40,
   "metadata": {},
   "outputs": [
    {
     "name": "stdout",
     "output_type": "stream",
     "text": [
      "[('POSIX', 4097), ('MPI-IO', 1), ('STDIO', 135)]\n",
      "Summarizing... agg_ioops\n",
      "Read,Write,Open,Stat,Seek,Mmap,Fsync,Layer\n",
      "0,278546,6145,4096,278548,0,4096,POSIX\n",
      "0,18,0,0,0,0,0,MPIIND\n",
      "0,16384,2048,0,0,0,0,MPICOL\n",
      "69632,268,12417,0,0,0,4112,STDIO\n",
      "\n"
     ]
    },
    {
     "data": {
      "text/plain": [
       "<module 'matplotlib.pyplot' from '/home/pq/ANL/darshan-decaf/testbed/conda/lib/python3.6/site-packages/matplotlib/pyplot.py'>"
      ]
     },
     "execution_count": 40,
     "metadata": {},
     "output_type": "execute_result"
    },
    {
     "data": {
      "image/png": "[encoded data removed]",
      "text/plain": [
       "<Figure size 432x288 with 1 Axes>"
      ]
     },
     "metadata": {
      "needs_background": "light"
     },
     "output_type": "display_data"
    }
   ],
   "source": [
    "c = r2 + r2  # inflate stdio\n",
    "c = r1 + r3 + r3\n",
    "\n",
    "print([(key, len(val)) for key, val in c.records.items()])\n",
    "#plot_access_histogram(c, 'POSIX')\n",
    "plot_opcounts(c)"
   ]
  },
  {
   "cell_type": "code",
   "execution_count": null,
   "metadata": {},
   "outputs": [],
   "source": []
  },
  {
   "cell_type": "code",
   "execution_count": null,
   "metadata": {},
   "outputs": [],
   "source": [
    "combined = r1 + r2\n",
    "[(key, len(val)) for key, val in combined.records.items()]"
   ]
  },
  {
   "cell_type": "markdown",
   "metadata": {},
   "source": [
    "## Aggregations and Summaries"
   ]
  },
  {
   "cell_type": "code",
   "execution_count": null,
   "metadata": {},
   "outputs": [],
   "source": [
    "import darshan\n",
    "darshan.enable_experimental()\n",
    "\n",
    "r3 = darshan.DarshanReport(\"example.darshan\")\n",
    "r3.mod_read_all_records('POSIX')\n",
    "r3.mod_read_all_records('MPI-IO')\n",
    "\n",
    "\n",
    "from darshan.experimental.plots.matplotlib import plot_access_histogram\n",
    "plot_access_histogram(r3, mod='POSIX')"
   ]
  },
  {
   "cell_type": "code",
   "execution_count": null,
   "metadata": {},
   "outputs": [],
   "source": [
    "r3.mod_agg_iohist('POSIX')"
   ]
  },
  {
   "cell_type": "code",
   "execution_count": null,
   "metadata": {},
   "outputs": [],
   "source": [
    "r3.data"
   ]
  },
  {
   "cell_type": "code",
   "execution_count": null,
   "metadata": {},
   "outputs": [],
   "source": []
  },
  {
   "cell_type": "code",
   "execution_count": null,
   "metadata": {},
   "outputs": [],
   "source": [
    "darshan.enable_experimental()\n",
    "dir(r3)"
   ]
  },
  {
   "cell_type": "code",
   "execution_count": null,
   "metadata": {},
   "outputs": [],
   "source": []
  },
  {
   "cell_type": "code",
   "execution_count": null,
   "metadata": {},
   "outputs": [],
   "source": []
  },
  {
   "cell_type": "markdown",
   "metadata": {},
   "source": [
    "## Internal Identity Checks"
   ]
  },
  {
   "cell_type": "code",
   "execution_count": null,
   "metadata": {},
   "outputs": [],
   "source": [
    "# check if copy.copy is sufficient (ok on this level.. but!)\n",
    "id(r1.records['POSIX']) == id(combined.records['POSIX'])"
   ]
  },
  {
   "cell_type": "code",
   "execution_count": null,
   "metadata": {},
   "outputs": [],
   "source": [
    "# check if copy.copy is sufficient (potential conflict for this level?)\n",
    "# The question has to be, if we assume people to modify a log record\n",
    "# I'd tend to say no, and document that with a warning somewhere\n",
    "id(r1.records['POSIX'][0]) == id(combined.records['POSIX'][0])"
   ]
  },
  {
   "cell_type": "code",
   "execution_count": null,
   "metadata": {},
   "outputs": [],
   "source": []
  },
  {
   "cell_type": "code",
   "execution_count": null,
   "metadata": {},
   "outputs": [],
   "source": []
  },
  {
   "cell_type": "markdown",
   "metadata": {},
   "source": [
    "## Provenance\n",
    "\n",
    "The report object maintains a provenance log to investigate and trace aggregations (recording can be disabled by changing `record_provenance` to `False`). Two indexes are maintained:\n",
    "\n",
    "* A list of all included sub-reports which hold records in the current report\n",
    "* A list of all alterings/filterings performed on the current report with timestamps/revision"
   ]
  },
  {
   "cell_type": "code",
   "execution_count": null,
   "metadata": {},
   "outputs": [],
   "source": []
  },
  {
   "cell_type": "code",
   "execution_count": null,
   "metadata": {
    "scrolled": true
   },
   "outputs": [],
   "source": [
    "c.provenance_log"
   ]
  },
  {
   "cell_type": "code",
   "execution_count": null,
   "metadata": {},
   "outputs": [],
   "source": []
  },
  {
   "cell_type": "markdown",
   "metadata": {},
   "source": [
    "## Notes on Additional Operations\n",
    "\n",
    "This section collections other possible intepretations to common operations / input pairs."
   ]
  },
  {
   "cell_type": "markdown",
   "metadata": {},
   "source": [
    "    Operation                        Returns Interpreation\n",
    "    ---------                        ------- -------------\n",
    "    report + report              =>  report: merge reports - equivalant to .merge()\n",
    "    report + datetime.timedelta  =>  report: all report records are moved in time\n",
    "\n",
    "    report * scalar              =>  report: all report records are dublicated 'scalar' times\n",
    "                                             integer multiplication is well defined\n",
    "                                             float multiplication is only defined after reduction    \n",
    "    report - report              =>  report: remove matching records from left report\n",
    "\n",
    "    # Considered, but likely only implemented as a special function\n",
    "    report / report              =>  dict?:  various factors of whether the right reports can be part of left\n",
    "                                             for example, how often into duration, how often per layer\n",
    "                                             right report likely, has to use patterns to be useful\n",
    "    report * datetime.timedelta  =>  report: skew I/O activity timeline (start/end, dxt traces)\n",
    "    \n",
    "    # Undefined (most typical operators just don't offer a meaningful interpretation)\n",
    "    report * report\n",
    "    \n",
    "    arithmetic:\n",
    "    + addition\n",
    "    - substraction\n",
    "    * multiplication\n",
    "    / devision\n",
    "    % modulus\n",
    "    ** exponent\n",
    "    // floor devision\n",
    "    \n",
    "    comparison:\n",
    "    == equals\n",
    "    != not equal\n",
    "    >\n",
    "    <\n",
    "    >=\n",
    "    <=\n",
    "    \n",
    "    bitwise:\n",
    "    & and\n",
    "    | or\n",
    "    ^ xor\n",
    "    ~ flip bits (operator is unary)\n",
    "    << left shift\n",
    "    >> right shift\n",
    "    \n",
    "    logical:\n",
    "    and\n",
    "    or\n",
    "    not\n",
    "    \n",
    "    membership:\n",
    "    in\n",
    "    not in\n",
    "    \n",
    "    identity:\n",
    "    is\n",
    "    is not\n",
    "    \n",
    "    "
   ]
  }
 ],
 "metadata": {
  "kernelspec": {
   "display_name": "Python 3",
   "language": "python",
   "name": "python3"
  },
  "language_info": {
   "codemirror_mode": {
    "name": "ipython",
    "version": 3
   },
   "file_extension": ".py",
   "mimetype": "text/x-python",
   "name": "python",
   "nbconvert_exporter": "python",
   "pygments_lexer": "ipython3",
   "version": "3.6.10"
  }
 },
 "nbformat": 4,
 "nbformat_minor": 4
}
