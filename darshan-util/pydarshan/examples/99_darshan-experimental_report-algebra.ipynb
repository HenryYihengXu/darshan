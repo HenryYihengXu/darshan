{
 "cells": [
  {
   "cell_type": "code",
   "execution_count": 30,
   "metadata": {},
   "outputs": [],
   "source": [
    "import darshan\n",
    "darshan.enable_experimental(verbose=False)\n",
    "\n",
    "import pprint\n",
    "\n",
    "from darshan.experimental.plots.matplotlib import plot_access_histogram\n",
    "from darshan.experimental.plots.matplotlib import plot_opcounts"
   ]
  },
  {
   "cell_type": "markdown",
   "metadata": {},
   "source": [
    "### Report Algebra\n",
    "\n",
    "Reports come with a number of operations which can be applied to them. For a number of common combinations a shorthand notations can be used, which exploits operator overloading. This can be useful in a variety of contexts such as analysis, as well as performance projection and extrapolation."
   ]
  },
  {
   "cell_type": "markdown",
   "metadata": {},
   "source": [
    "    Operation                        Returns Interpreation\n",
    "    ---------                        ------- -------------\n",
    "    report + report              =>  report: merge reports - equivalant to .merge()\n",
    "    report + datetime.timedelta  =>  report: all report records are moved in time\n",
    "\n",
    "    report * scalar              =>  report: all report records are dublicated 'scalar' times\n",
    "                                             integer multiplication is well defined\n",
    "                                             float multiplication is only defined after reduction"
   ]
  },
  {
   "cell_type": "markdown",
   "metadata": {},
   "source": [
    "More operations are discussed at the end of the notebook."
   ]
  },
  {
   "cell_type": "markdown",
   "metadata": {},
   "source": [
    "#### Example:"
   ]
  },
  {
   "cell_type": "code",
   "execution_count": 31,
   "metadata": {
    "scrolled": true
   },
   "outputs": [],
   "source": [
    "import darshan\n",
    "import copy\n",
    "\n",
    "darshan.enable_experimental(verbose=False)"
   ]
  },
  {
   "cell_type": "code",
   "execution_count": 32,
   "metadata": {},
   "outputs": [
    {
     "name": "stdout",
     "output_type": "stream",
     "text": [
      "CPU times: user 30.3 ms, sys: 2.89 ms, total: 33.2 ms\n",
      "Wall time: 33.5 ms\n"
     ]
    }
   ],
   "source": [
    "%%time\n",
    "r1 = darshan.DarshanReport(\"example-logs/sample.darshan\", dtype=\"numpy\", read_all=True)\n",
    "r2 = darshan.DarshanReport(\"example-logs/noposix.darshan\", dtype=\"numpy\", read_all=True)"
   ]
  },
  {
   "cell_type": "code",
   "execution_count": 33,
   "metadata": {},
   "outputs": [
    {
     "name": "stdout",
     "output_type": "stream",
     "text": [
      "CPU times: user 633 ms, sys: 6.6 ms, total: 640 ms\n",
      "Wall time: 648 ms\n"
     ]
    }
   ],
   "source": [
    "%%time\n",
    "r3 = darshan.DarshanReport(\"example-logs/sample-badost.darshan\", dtype=\"numpy\", read_all=True)"
   ]
  },
  {
   "cell_type": "code",
   "execution_count": 34,
   "metadata": {},
   "outputs": [
    {
     "name": "stdout",
     "output_type": "stream",
     "text": [
      "Filename:       example-logs/sample-badost.darshan\n",
      "Times:          2017-06-20 19:49:39 to 2017-06-20 20:02:38 (Duration 0:12:59)\n",
      "Executeable:    /global/project/projectdirs/m888/glock/tokio-abc-results/bin.edison/ior -H -k -w -o ior-posix.out -s 64 -f /global/project/projectdirs/m888/glock/tokio-abc-results/inputs/posix1m2.in\n",
      "Processes:      2048\n",
      "JobID:          6265799\n",
      "UID:            69615\n",
      "Modules in Log: ['POSIX', 'LUSTRE', 'STDIO']\n",
      "Loaded Records: {'POSIX': 2048, 'STDIO': 3, 'LUSTRE': 2048}\n",
      "Name Records:   2052\n",
      "Darshan/Hints:  {'lib_ver': '3.1.3', 'h': 'romio_no_indep_rw=true;cb_nodes=4'}\n",
      "DarshanReport:  id(139637523000672) (tmp)\n"
     ]
    }
   ],
   "source": [
    "r3.info()"
   ]
  },
  {
   "cell_type": "code",
   "execution_count": null,
   "metadata": {},
   "outputs": [],
   "source": []
  },
  {
   "cell_type": "code",
   "execution_count": null,
   "metadata": {},
   "outputs": [],
   "source": []
  },
  {
   "cell_type": "code",
   "execution_count": 35,
   "metadata": {},
   "outputs": [
    {
     "name": "stdout",
     "output_type": "stream",
     "text": [
      "Filename:       example-logs/sample.darshan\n",
      "Times:          2017-03-20 10:07:47 to 2017-03-20 10:09:43 (Duration 0:01:56)\n",
      "Executeable:    /global/project/projectdirs/m888/glock/tokio-abc-results/bin.edison/vpicio_uni /scratch2/scratchdirs/glock/tokioabc-s.4478544/vpicio/vpicio.hdf5 32\n",
      "Processes:      2048\n",
      "JobID:          4478544\n",
      "UID:            69615\n",
      "Modules in Log: ['POSIX', 'MPI-IO', 'LUSTRE', 'STDIO']\n",
      "Loaded Records: {'POSIX': 1, 'MPI-IO': 1, 'STDIO': 129, 'LUSTRE': 1}\n",
      "Name Records:   4\n",
      "Darshan/Hints:  {'lib_ver': '3.1.3', 'h': 'romio_no_indep_rw=true;cb_nodes=4'}\n",
      "DarshanReport:  id(139637527914672) (tmp)\n",
      "\n",
      "Filename:       example-logs/noposix.darshan\n",
      "Times:          2018-01-02 20:57:35 to 2018-01-03 07:51:07 (Duration 10:53:32)\n",
      "Executeable:    160345792\n",
      "Processes:      512\n",
      "JobID:          83017637\n",
      "UID:            996599276\n",
      "Modules in Log: ['LUSTRE', 'STDIO']\n",
      "Loaded Records: {'STDIO': 2, 'LUSTRE': 519}\n",
      "Name Records:   522\n",
      "Darshan/Hints:  {'lib_ver': '3.1.4', 'h': 'romio_no_indep_rw=true;cb_nodes=4'}\n",
      "DarshanReport:  id(139637522632768) (tmp)\n",
      "\n",
      "Filename:       example-logs/sample-badost.darshan\n",
      "Times:          2017-06-20 19:49:39 to 2017-06-20 20:02:38 (Duration 0:12:59)\n",
      "Executeable:    /global/project/projectdirs/m888/glock/tokio-abc-results/bin.edison/ior -H -k -w -o ior-posix.out -s 64 -f /global/project/projectdirs/m888/glock/tokio-abc-results/inputs/posix1m2.in\n",
      "Processes:      2048\n",
      "JobID:          6265799\n",
      "UID:            69615\n",
      "Modules in Log: ['POSIX', 'LUSTRE', 'STDIO']\n",
      "Loaded Records: {'POSIX': 2048, 'STDIO': 3, 'LUSTRE': 2048}\n",
      "Name Records:   2052\n",
      "Darshan/Hints:  {'lib_ver': '3.1.3', 'h': 'romio_no_indep_rw=true;cb_nodes=4'}\n",
      "DarshanReport:  id(139637523000672) (tmp)\n",
      "\n"
     ]
    }
   ],
   "source": [
    "# display some infor about each report for comparison\n",
    "for r in [r1, r2, r3]:\n",
    "    r.info(metadata=False)\n",
    "    print()"
   ]
  },
  {
   "cell_type": "code",
   "execution_count": null,
   "metadata": {},
   "outputs": [],
   "source": []
  },
  {
   "cell_type": "code",
   "execution_count": 36,
   "metadata": {},
   "outputs": [
    {
     "name": "stdout",
     "output_type": "stream",
     "text": [
      "Filename:       None\n",
      "Times:          2017-03-20 10:07:47 to 2018-01-03 07:51:07 (Duration 288 days, 21:43:20)\n",
      "Loaded Records: {'POSIX': 1, 'MPI-IO': 1, 'STDIO': 131, 'LUSTRE': 520}\n",
      "Name Records:   523\n",
      "DarshanReport:  id(139637502651984) (tmp)\n"
     ]
    }
   ],
   "source": [
    "# merge to reports\n",
    "c = r1 + r2          # alternatives:  r1.merge(r2)  or  darshan.merge(r1, r2)   ?\n",
    "c.info()"
   ]
  },
  {
   "cell_type": "code",
   "execution_count": null,
   "metadata": {},
   "outputs": [],
   "source": []
  },
  {
   "cell_type": "code",
   "execution_count": 51,
   "metadata": {},
   "outputs": [
    {
     "name": "stdout",
     "output_type": "stream",
     "text": [
      "{'name': '/scratch2/scratchdirs/glock/tokioabc-s.4478544/vpicio/vpicio.hdf5', 'counts': {'POSIX': 1, 'MPI-IO': 1, 'LUSTRE': 1}}\n",
      "{'name': '<STDOUT>', 'counts': {'STDIO': 1}}\n",
      "{'name': '<STDERR>', 'counts': {'STDIO': 128}}\n",
      "\n",
      "{'name': '/global/cscratch1/4028781608', 'counts': {'STDIO': 1, 'LUSTRE': 1}}\n",
      "{'name': '3710437467', 'counts': {'STDIO': 1}}\n",
      "{'name': '/global/cscratch1/2892568225', 'counts': {'LUSTRE': 1}}\n",
      "{'name': '/global/cscratch1/3723672903', 'counts': {'LUSTRE': 1}}\n",
      "{'name': '/global/cscratch1/1694511839', 'counts': {'LUSTRE': 1}}\n",
      "{'name': '/global/cscratch1/3859175926', 'counts': {'LUSTRE': 1}}\n",
      "{'name': '/global/cscratch1/1090603186', 'counts': {'LUSTRE': 1}}\n",
      "{'name': '/global/cscratch1/303990646', 'counts': {'LUSTRE': 1}}\n",
      "{'name': '/global/cscratch1/3420208897', 'counts': {'LUSTRE': 1}}\n",
      "{'name': '/global/cscratch1/2972867636', 'counts': {'LUSTRE': 1}}\n",
      "{'name': '/global/cscratch1/3993080721', 'counts': {'LUSTRE': 1}}\n",
      "{'name': '/global/cscratch1/1041430232', 'counts': {'LUSTRE': 1}}\n",
      "{'name': '/global/cscratch1/4277948164', 'counts': {'LUSTRE': 1}}\n",
      "{'name': '/global/cscratch1/3129747870', 'counts': {'LUSTRE': 1}}\n",
      "{'name': '/global/cscratch1/761418606', 'counts': {'LUSTRE': 1}}\n",
      "{'name': '/global/cscratch1/3040654902', 'counts': {'LUSTRE': 1}}\n",
      "{'name': '/global/cscratch1/3815744576', 'counts': {'LUSTRE': 1}}\n",
      "{'name': '/global/cscratch1/1532815101', 'counts': {'LUSTRE': 1}}\n",
      "{'name': '/global/cscratch1/3727849322', 'counts': {'LUSTRE': 1}}\n",
      "{'name': '/global/cscratch1/2668282429', 'counts': {'LUSTRE': 1}}\n",
      "{'name': '/global/cscratch1/1140536000', 'counts': {'LUSTRE': 1}}\n",
      "{'name': '/global/cscratch1/4224943246', 'counts': {'LUSTRE': 1}}\n",
      "{'name': '/global/cscratch1/3614832633', 'counts': {'LUSTRE': 1}}\n",
      "{'name': '/global/cscratch1/3736302725', 'counts': {'LUSTRE': 1}}\n",
      "{'name': '/global/cscratch1/759700671', 'counts': {'LUSTRE': 1}}\n",
      "{'name': '/global/cscratch1/3500968335', 'counts': {'LUSTRE': 1}}\n",
      "{'name': '/global/cscratch1/3393000435', 'counts': {'LUSTRE': 1}}\n",
      "{'name': '/global/cscratch1/3878047250', 'counts': {'LUSTRE': 1}}\n",
      "{'name': '/global/cscratch1/3266345432', 'counts': {'LUSTRE': 1}}\n",
      "{'name': '/global/cscratch1/3628177022', 'counts': {'LUSTRE': 1}}\n",
      "{'name': '/global/cscratch1/3466899609', 'counts': {'LUSTRE': 1}}\n",
      "{'name': '/global/cscratch1/2085422287', 'counts': {'LUSTRE': 1}}\n",
      "{'name': '/global/cscratch1/3485555486', 'counts': {'LUSTRE': 1}}\n",
      "{'name': '/global/cscratch1/571248585', 'counts': {'LUSTRE': 1}}\n",
      "{'name': '/global/cscratch1/1102614796', 'counts': {'LUSTRE': 1}}\n",
      "{'name': '/global/cscratch1/4231319703', 'counts': {'LUSTRE': 1}}\n",
      "{'name': '/global/cscratch1/1112033561', 'counts': {'LUSTRE': 1}}\n",
      "{'name': '/global/cscratch1/49271530', 'counts': {'LUSTRE': 1}}\n",
      "{'name': '/global/cscratch1/2442611266', 'counts': {'LUSTRE': 1}}\n",
      "{'name': '/global/cscratch1/3228508168', 'counts': {'LUSTRE': 1}}\n",
      "{'name': '/global/cscratch1/2547436756', 'counts': {'LUSTRE': 1}}\n",
      "{'name': '/global/cscratch1/561293293', 'counts': {'LUSTRE': 1}}\n",
      "{'name': '/global/cscratch1/311261431', 'counts': {'LUSTRE': 1}}\n",
      "{'name': '/global/cscratch1/843969030', 'counts': {'LUSTRE': 1}}\n",
      "{'name': '/global/cscratch1/2031606890', 'counts': {'LUSTRE': 1}}\n",
      "{'name': '/global/cscratch1/3225344605', 'counts': {'LUSTRE': 1}}\n",
      "{'name': '/global/cscratch1/2245290447', 'counts': {'LUSTRE': 1}}\n",
      "{'name': '/global/cscratch1/480792627', 'counts': {'LUSTRE': 1}}\n",
      "{'name': '/global/cscratch1/2578015593', 'counts': {'LUSTRE': 1}}\n",
      "{'name': '/global/cscratch1/4291875891', 'counts': {'LUSTRE': 1}}\n",
      "{'name': '/global/cscratch1/1277750138', 'counts': {'LUSTRE': 1}}\n",
      "{'name': '/global/cscratch1/2374949672', 'counts': {'LUSTRE': 1}}\n",
      "{'name': '/global/cscratch1/745190811', 'counts': {'LUSTRE': 1}}\n",
      "{'name': '/global/cscratch1/2685115389', 'counts': {'LUSTRE': 1}}\n",
      "{'name': '/global/cscratch1/3141725117', 'counts': {'LUSTRE': 1}}\n",
      "{'name': '/global/cscratch1/4249911283', 'counts': {'LUSTRE': 1}}\n",
      "{'name': '/global/cscratch1/3182207894', 'counts': {'LUSTRE': 1}}\n",
      "{'name': '/global/cscratch1/835061064', 'counts': {'LUSTRE': 1}}\n",
      "{'name': '/global/cscratch1/3660740610', 'counts': {'LUSTRE': 1}}\n",
      "{'name': '/global/cscratch1/1812925899', 'counts': {'LUSTRE': 1}}\n",
      "{'name': '/global/cscratch1/407558184', 'counts': {'LUSTRE': 1}}\n",
      "{'name': '/global/cscratch1/3155645942', 'counts': {'LUSTRE': 1}}\n",
      "{'name': '/global/cscratch1/3173510916', 'counts': {'LUSTRE': 1}}\n",
      "{'name': '/global/cscratch1/4161470536', 'counts': {'LUSTRE': 1}}\n",
      "{'name': '/global/cscratch1/659134890', 'counts': {'LUSTRE': 1}}\n",
      "{'name': '/global/cscratch1/779068700', 'counts': {'LUSTRE': 1}}\n",
      "{'name': '/global/cscratch1/2445867866', 'counts': {'LUSTRE': 1}}\n",
      "{'name': '/global/cscratch1/1910946992', 'counts': {'LUSTRE': 1}}\n",
      "{'name': '/global/cscratch1/64297112', 'counts': {'LUSTRE': 1}}\n",
      "{'name': '/global/cscratch1/1061341543', 'counts': {'LUSTRE': 1}}\n",
      "{'name': '/global/cscratch1/2708046980', 'counts': {'LUSTRE': 1}}\n",
      "{'name': '/global/cscratch1/3793655169', 'counts': {'LUSTRE': 1}}\n",
      "{'name': '/global/cscratch1/1737823951', 'counts': {'LUSTRE': 1}}\n",
      "{'name': '/global/cscratch1/3545165085', 'counts': {'LUSTRE': 1}}\n",
      "{'name': '/global/cscratch1/3717228117', 'counts': {'LUSTRE': 1}}\n",
      "{'name': '/global/cscratch1/2855825570', 'counts': {'LUSTRE': 1}}\n",
      "{'name': '/global/cscratch1/1318597500', 'counts': {'LUSTRE': 1}}\n",
      "{'name': '/global/cscratch1/2999902404', 'counts': {'LUSTRE': 1}}\n",
      "{'name': '/global/cscratch1/1161558494', 'counts': {'LUSTRE': 1}}\n",
      "{'name': '/global/cscratch1/3634818419', 'counts': {'LUSTRE': 1}}\n",
      "{'name': '/global/cscratch1/3951892590', 'counts': {'LUSTRE': 1}}\n",
      "{'name': '/global/cscratch1/3461465892', 'counts': {'LUSTRE': 1}}\n",
      "{'name': '/global/cscratch1/3220042136', 'counts': {'LUSTRE': 1}}\n",
      "{'name': '/global/cscratch1/2334229227', 'counts': {'LUSTRE': 1}}\n",
      "{'name': '/global/cscratch1/2332497036', 'counts': {'LUSTRE': 1}}\n",
      "{'name': '/global/cscratch1/154649401', 'counts': {'LUSTRE': 1}}\n",
      "{'name': '/global/cscratch1/2109942293', 'counts': {'LUSTRE': 1}}\n",
      "{'name': '/global/cscratch1/2764665457', 'counts': {'LUSTRE': 1}}\n",
      "{'name': '/global/cscratch1/1151738157', 'counts': {'LUSTRE': 1}}\n",
      "{'name': '/global/cscratch1/3433214533', 'counts': {'LUSTRE': 1}}\n",
      "{'name': '/global/cscratch1/4285406818', 'counts': {'LUSTRE': 1}}\n",
      "{'name': '/global/cscratch1/509914929', 'counts': {'LUSTRE': 1}}\n",
      "{'name': '/global/cscratch1/2534703130', 'counts': {'LUSTRE': 1}}\n",
      "{'name': '/global/cscratch1/3805919094', 'counts': {'LUSTRE': 1}}\n",
      "{'name': '/global/cscratch1/3876501339', 'counts': {'LUSTRE': 1}}\n",
      "{'name': '/global/cscratch1/3840976495', 'counts': {'LUSTRE': 1}}\n",
      "{'name': '/global/cscratch1/3967393683', 'counts': {'LUSTRE': 1}}\n",
      "{'name': '/global/cscratch1/341352650', 'counts': {'LUSTRE': 1}}\n",
      "{'name': '/global/cscratch1/3826263096', 'counts': {'LUSTRE': 1}}\n",
      "{'name': '/global/cscratch1/3018359115', 'counts': {'LUSTRE': 1}}\n",
      "{'name': '/global/cscratch1/409058665', 'counts': {'LUSTRE': 1}}\n",
      "{'name': '/global/cscratch1/2378387903', 'counts': {'LUSTRE': 1}}\n",
      "{'name': '/global/cscratch1/4011839576', 'counts': {'LUSTRE': 1}}\n",
      "{'name': '/global/cscratch1/4240792082', 'counts': {'LUSTRE': 1}}\n",
      "{'name': '/global/cscratch1/1245503353', 'counts': {'LUSTRE': 1}}\n",
      "{'name': '/global/cscratch1/1357531203', 'counts': {'LUSTRE': 1}}\n",
      "{'name': '/global/cscratch1/1503551308', 'counts': {'LUSTRE': 1}}\n",
      "{'name': '/global/cscratch1/1340602882', 'counts': {'LUSTRE': 1}}\n",
      "{'name': '/global/cscratch1/2707504117', 'counts': {'LUSTRE': 1}}\n",
      "{'name': '/global/cscratch1/2117986651', 'counts': {'LUSTRE': 1}}\n",
      "{'name': '/global/cscratch1/3284566878', 'counts': {'LUSTRE': 1}}\n",
      "{'name': '/global/cscratch1/2117502079', 'counts': {'LUSTRE': 1}}\n",
      "{'name': '/global/cscratch1/188145485', 'counts': {'LUSTRE': 1}}\n",
      "{'name': '/global/cscratch1/570429313', 'counts': {'LUSTRE': 1}}\n",
      "{'name': '/global/cscratch1/1448599934', 'counts': {'LUSTRE': 1}}\n",
      "{'name': '/global/cscratch1/2460343576', 'counts': {'LUSTRE': 1}}\n",
      "{'name': '/global/cscratch1/4074931576', 'counts': {'LUSTRE': 1}}\n",
      "{'name': '/global/cscratch1/4035974141', 'counts': {'LUSTRE': 1}}\n",
      "{'name': '/global/cscratch1/432574436', 'counts': {'LUSTRE': 1}}\n",
      "{'name': '/global/cscratch1/2119640333', 'counts': {'LUSTRE': 1}}\n",
      "{'name': '/global/cscratch1/2123831991', 'counts': {'LUSTRE': 1}}\n",
      "{'name': '/global/cscratch1/2584664625', 'counts': {'LUSTRE': 1}}\n",
      "{'name': '/global/cscratch1/2135667833', 'counts': {'LUSTRE': 1}}\n",
      "{'name': '/global/cscratch1/3892483408', 'counts': {'LUSTRE': 1}}\n",
      "{'name': '/global/cscratch1/1451654649', 'counts': {'LUSTRE': 1}}\n",
      "{'name': '/global/cscratch1/2497002635', 'counts': {'LUSTRE': 1}}\n",
      "{'name': '/global/cscratch1/3449165332', 'counts': {'LUSTRE': 1}}\n",
      "{'name': '/global/cscratch1/2568747181', 'counts': {'LUSTRE': 1}}\n",
      "{'name': '/global/cscratch1/1172054738', 'counts': {'LUSTRE': 1}}\n",
      "{'name': '/global/cscratch1/1467430615', 'counts': {'LUSTRE': 1}}\n",
      "{'name': '/global/cscratch1/2843766258', 'counts': {'LUSTRE': 1}}\n",
      "{'name': '/global/cscratch1/1540740088', 'counts': {'LUSTRE': 1}}\n",
      "{'name': '/global/cscratch1/810087525', 'counts': {'LUSTRE': 1}}\n",
      "{'name': '/global/cscratch1/3617895810', 'counts': {'LUSTRE': 1}}\n",
      "{'name': '/global/cscratch1/109034937', 'counts': {'LUSTRE': 1}}\n",
      "{'name': '/global/cscratch1/349672394', 'counts': {'LUSTRE': 1}}\n",
      "{'name': '/global/cscratch1/3284432074', 'counts': {'LUSTRE': 1}}\n",
      "{'name': '/global/cscratch1/218890121', 'counts': {'LUSTRE': 1}}\n",
      "{'name': '/global/cscratch1/2808869938', 'counts': {'LUSTRE': 1}}\n",
      "{'name': '/global/cscratch1/1737830477', 'counts': {'LUSTRE': 1}}\n",
      "{'name': '/global/cscratch1/4025735245', 'counts': {'LUSTRE': 1}}\n",
      "{'name': '/global/cscratch1/2414076965', 'counts': {'LUSTRE': 1}}\n",
      "{'name': '/global/cscratch1/3279137344', 'counts': {'LUSTRE': 1}}\n",
      "{'name': '/global/cscratch1/334385860', 'counts': {'LUSTRE': 1}}\n",
      "{'name': '/global/cscratch1/230058848', 'counts': {'LUSTRE': 1}}\n",
      "{'name': '/global/cscratch1/2381215694', 'counts': {'LUSTRE': 1}}\n",
      "{'name': '/global/cscratch1/3353484392', 'counts': {'LUSTRE': 1}}\n",
      "{'name': '/global/cscratch1/2083944950', 'counts': {'LUSTRE': 1}}\n",
      "{'name': '/global/cscratch1/2745247089', 'counts': {'LUSTRE': 1}}\n",
      "{'name': '/global/cscratch1/3591166535', 'counts': {'LUSTRE': 1}}\n",
      "{'name': '/global/cscratch1/3547974011', 'counts': {'LUSTRE': 1}}\n",
      "{'name': '/global/cscratch1/3876354827', 'counts': {'LUSTRE': 1}}\n",
      "{'name': '/global/cscratch1/3822220497', 'counts': {'LUSTRE': 1}}\n",
      "{'name': '/global/cscratch1/919709246', 'counts': {'LUSTRE': 1}}\n",
      "{'name': '/global/cscratch1/2148827715', 'counts': {'LUSTRE': 1}}\n",
      "{'name': '/global/cscratch1/3832871792', 'counts': {'LUSTRE': 1}}\n",
      "{'name': '/global/cscratch1/3368962284', 'counts': {'LUSTRE': 1}}\n",
      "{'name': '/global/cscratch1/1119545814', 'counts': {'LUSTRE': 1}}\n",
      "{'name': '/global/cscratch1/1234644641', 'counts': {'LUSTRE': 1}}\n",
      "{'name': '/global/cscratch1/501836057', 'counts': {'LUSTRE': 1}}\n",
      "{'name': '/global/cscratch1/2361041726', 'counts': {'LUSTRE': 1}}\n",
      "{'name': '/global/cscratch1/1422008514', 'counts': {'LUSTRE': 1}}\n",
      "{'name': '/global/cscratch1/2309907381', 'counts': {'LUSTRE': 1}}\n",
      "{'name': '/global/cscratch1/1480517085', 'counts': {'LUSTRE': 1}}\n",
      "{'name': '/global/cscratch1/1091133674', 'counts': {'LUSTRE': 1}}\n",
      "{'name': '/global/cscratch1/1049549337', 'counts': {'LUSTRE': 1}}\n",
      "{'name': '/global/cscratch1/1818706479', 'counts': {'LUSTRE': 1}}\n",
      "{'name': '/global/cscratch1/1416738078', 'counts': {'LUSTRE': 1}}\n",
      "{'name': '/global/cscratch1/3547164521', 'counts': {'LUSTRE': 1}}\n",
      "{'name': '/global/cscratch1/467306149', 'counts': {'LUSTRE': 1}}\n",
      "{'name': '/global/cscratch1/3479527913', 'counts': {'LUSTRE': 1}}\n",
      "{'name': '/global/cscratch1/1405926929', 'counts': {'LUSTRE': 1}}\n",
      "{'name': '/global/cscratch1/2738780344', 'counts': {'LUSTRE': 1}}\n",
      "{'name': '/global/cscratch1/316521332', 'counts': {'LUSTRE': 1}}\n",
      "{'name': '/global/cscratch1/1153590479', 'counts': {'LUSTRE': 1}}\n",
      "{'name': '/global/cscratch1/3236704942', 'counts': {'LUSTRE': 1}}\n",
      "{'name': '/global/cscratch1/3338280403', 'counts': {'LUSTRE': 1}}\n",
      "{'name': '/global/cscratch1/3647229119', 'counts': {'LUSTRE': 1}}\n",
      "{'name': '/global/cscratch1/2085316128', 'counts': {'LUSTRE': 1}}\n",
      "{'name': '/global/cscratch1/1700491473', 'counts': {'LUSTRE': 1}}\n",
      "{'name': '/global/cscratch1/3529015417', 'counts': {'LUSTRE': 1}}\n",
      "{'name': '/global/cscratch1/77782647', 'counts': {'LUSTRE': 1}}\n",
      "{'name': '/global/cscratch1/1705190546', 'counts': {'LUSTRE': 1}}\n",
      "{'name': '/global/cscratch1/3634751995', 'counts': {'LUSTRE': 1}}\n",
      "{'name': '/global/cscratch1/4277881787', 'counts': {'LUSTRE': 1}}\n",
      "{'name': '/global/cscratch1/2175656931', 'counts': {'LUSTRE': 1}}\n",
      "{'name': '/global/cscratch1/3076205359', 'counts': {'LUSTRE': 1}}\n",
      "{'name': '/global/cscratch1/703258593', 'counts': {'LUSTRE': 1}}\n",
      "{'name': '/global/cscratch1/1722821601', 'counts': {'LUSTRE': 1}}\n",
      "{'name': '/global/cscratch1/60483027', 'counts': {'LUSTRE': 1}}\n",
      "{'name': '/global/cscratch1/2899695933', 'counts': {'LUSTRE': 1}}\n",
      "{'name': '/global/cscratch1/3946681558', 'counts': {'LUSTRE': 1}}\n",
      "{'name': '/global/cscratch1/1310576823', 'counts': {'LUSTRE': 1}}\n",
      "{'name': '/global/cscratch1/1739701169', 'counts': {'LUSTRE': 1}}\n",
      "{'name': '/global/cscratch1/1533006694', 'counts': {'LUSTRE': 1}}\n",
      "{'name': '/global/cscratch1/610305499', 'counts': {'LUSTRE': 1}}\n",
      "{'name': '/global/cscratch1/3741399242', 'counts': {'LUSTRE': 1}}\n",
      "{'name': '/global/cscratch1/1281412688', 'counts': {'LUSTRE': 1}}\n",
      "{'name': '/global/cscratch1/758008689', 'counts': {'LUSTRE': 1}}\n",
      "{'name': '/global/cscratch1/2846254900', 'counts': {'LUSTRE': 1}}\n",
      "{'name': '/global/cscratch1/3412662460', 'counts': {'LUSTRE': 1}}\n",
      "{'name': '/global/cscratch1/3726110028', 'counts': {'LUSTRE': 1}}\n",
      "{'name': '/global/cscratch1/1920937546', 'counts': {'LUSTRE': 1}}\n",
      "{'name': '/global/cscratch1/1460377108', 'counts': {'LUSTRE': 1}}\n",
      "{'name': '/global/cscratch1/4265283287', 'counts': {'LUSTRE': 1}}\n",
      "{'name': '/global/cscratch1/4029095933', 'counts': {'LUSTRE': 1}}\n",
      "{'name': '/global/cscratch1/3704418885', 'counts': {'LUSTRE': 1}}\n",
      "{'name': '/global/cscratch1/2735043751', 'counts': {'LUSTRE': 1}}\n",
      "{'name': '/global/cscratch1/3772796112', 'counts': {'LUSTRE': 1}}\n",
      "{'name': '/global/cscratch1/1293376931', 'counts': {'LUSTRE': 1}}\n",
      "{'name': '/global/cscratch1/599566842', 'counts': {'LUSTRE': 1}}\n",
      "{'name': '/global/cscratch1/4169962101', 'counts': {'LUSTRE': 1}}\n",
      "{'name': '/global/cscratch1/3456281673', 'counts': {'LUSTRE': 1}}\n",
      "{'name': '/global/cscratch1/3494253877', 'counts': {'LUSTRE': 1}}\n",
      "{'name': '/global/cscratch1/1755714428', 'counts': {'LUSTRE': 1}}\n",
      "{'name': '/global/cscratch1/2871851488', 'counts': {'LUSTRE': 1}}\n",
      "{'name': '/global/cscratch1/1866720816', 'counts': {'LUSTRE': 1}}\n",
      "{'name': '/global/cscratch1/634470917', 'counts': {'LUSTRE': 1}}\n",
      "{'name': '/global/cscratch1/3694596972', 'counts': {'LUSTRE': 1}}\n",
      "{'name': '/global/cscratch1/1274143822', 'counts': {'LUSTRE': 1}}\n",
      "{'name': '/global/cscratch1/890150163', 'counts': {'LUSTRE': 1}}\n",
      "{'name': '/global/cscratch1/3634382780', 'counts': {'LUSTRE': 1}}\n",
      "{'name': '/global/cscratch1/1227286210', 'counts': {'LUSTRE': 1}}\n",
      "{'name': '/global/cscratch1/3417642539', 'counts': {'LUSTRE': 1}}\n",
      "{'name': '/global/cscratch1/3768668917', 'counts': {'LUSTRE': 1}}\n",
      "{'name': '/global/cscratch1/803394756', 'counts': {'LUSTRE': 1}}\n",
      "{'name': '/global/cscratch1/110991162', 'counts': {'LUSTRE': 1}}\n",
      "{'name': '/global/cscratch1/1894070113', 'counts': {'LUSTRE': 1}}\n",
      "{'name': '/global/cscratch1/1963317746', 'counts': {'LUSTRE': 1}}\n",
      "{'name': '/global/cscratch1/3603239581', 'counts': {'LUSTRE': 1}}\n",
      "{'name': '/global/cscratch1/527001086', 'counts': {'LUSTRE': 1}}\n",
      "{'name': '/global/cscratch1/4198316203', 'counts': {'LUSTRE': 1}}\n",
      "{'name': '/global/cscratch1/909449614', 'counts': {'LUSTRE': 1}}\n",
      "{'name': '/global/cscratch1/1079243871', 'counts': {'LUSTRE': 1}}\n",
      "{'name': '/global/cscratch1/1458409136', 'counts': {'LUSTRE': 1}}\n",
      "{'name': '/global/cscratch1/2060342937', 'counts': {'LUSTRE': 1}}\n",
      "{'name': '/global/cscratch1/2508040505', 'counts': {'LUSTRE': 1}}\n",
      "{'name': '/global/cscratch1/522396126', 'counts': {'LUSTRE': 1}}\n",
      "{'name': '/global/cscratch1/926815830', 'counts': {'LUSTRE': 1}}\n",
      "{'name': '/global/cscratch1/3202800016', 'counts': {'LUSTRE': 1}}\n",
      "{'name': '/global/cscratch1/3330148753', 'counts': {'LUSTRE': 1}}\n",
      "{'name': '/global/cscratch1/1365279267', 'counts': {'LUSTRE': 1}}\n",
      "{'name': '/global/cscratch1/159618240', 'counts': {'LUSTRE': 1}}\n",
      "{'name': '/global/cscratch1/3841965661', 'counts': {'LUSTRE': 1}}\n",
      "{'name': '/global/cscratch1/2168712344', 'counts': {'LUSTRE': 1}}\n",
      "{'name': '/global/cscratch1/671351662', 'counts': {'LUSTRE': 1}}\n",
      "{'name': '/global/cscratch1/3696606264', 'counts': {'LUSTRE': 1}}\n",
      "{'name': '/global/cscratch1/984505216', 'counts': {'LUSTRE': 1}}\n",
      "{'name': '/global/cscratch1/1130822229', 'counts': {'LUSTRE': 1}}\n",
      "{'name': '/global/cscratch1/4204275862', 'counts': {'LUSTRE': 1}}\n",
      "{'name': '/global/cscratch1/604141567', 'counts': {'LUSTRE': 1}}\n",
      "{'name': '/global/cscratch1/3471155879', 'counts': {'LUSTRE': 1}}\n",
      "{'name': '/global/cscratch1/3989536570', 'counts': {'LUSTRE': 1}}\n",
      "{'name': '/global/cscratch1/1153907595', 'counts': {'LUSTRE': 1}}\n",
      "{'name': '/global/cscratch1/503400921', 'counts': {'LUSTRE': 1}}\n",
      "{'name': '/global/cscratch1/490997062', 'counts': {'LUSTRE': 1}}\n",
      "{'name': '/global/cscratch1/442410217', 'counts': {'LUSTRE': 1}}\n",
      "{'name': '/global/cscratch1/503864389', 'counts': {'LUSTRE': 1}}\n",
      "{'name': '/global/cscratch1/2886948172', 'counts': {'LUSTRE': 1}}\n",
      "{'name': '/global/cscratch1/3981714253', 'counts': {'LUSTRE': 1}}\n",
      "{'name': '/global/cscratch1/3900859764', 'counts': {'LUSTRE': 1}}\n",
      "{'name': '/global/cscratch1/3556376059', 'counts': {'LUSTRE': 1}}\n",
      "{'name': '/global/cscratch1/1013306880', 'counts': {'LUSTRE': 1}}\n",
      "{'name': '/global/cscratch1/1767833541', 'counts': {'LUSTRE': 1}}\n",
      "{'name': '/global/cscratch1/2135771089', 'counts': {'LUSTRE': 1}}\n",
      "{'name': '/global/cscratch1/600717411', 'counts': {'LUSTRE': 1}}\n",
      "{'name': '/global/cscratch1/257882207', 'counts': {'LUSTRE': 1}}\n",
      "{'name': '/global/cscratch1/3632227020', 'counts': {'LUSTRE': 1}}\n",
      "{'name': '/global/cscratch1/3659324274', 'counts': {'LUSTRE': 1}}\n",
      "{'name': '/global/cscratch1/1738389673', 'counts': {'LUSTRE': 1}}\n",
      "{'name': '/global/cscratch1/6485433', 'counts': {'LUSTRE': 1}}\n",
      "{'name': '/global/cscratch1/1968395977', 'counts': {'LUSTRE': 1}}\n",
      "{'name': '/global/cscratch1/3398109227', 'counts': {'LUSTRE': 1}}\n",
      "{'name': '/global/cscratch1/334309539', 'counts': {'LUSTRE': 1}}\n",
      "{'name': '/global/cscratch1/4125023448', 'counts': {'LUSTRE': 1}}\n",
      "{'name': '/global/cscratch1/2365060109', 'counts': {'LUSTRE': 1}}\n",
      "{'name': '/global/cscratch1/259895381', 'counts': {'LUSTRE': 1}}\n",
      "{'name': '/global/cscratch1/3045447123', 'counts': {'LUSTRE': 1}}\n",
      "{'name': '/global/cscratch1/3944356133', 'counts': {'LUSTRE': 1}}\n",
      "{'name': '/global/cscratch1/3574668829', 'counts': {'LUSTRE': 1}}\n",
      "{'name': '/global/cscratch1/33775479', 'counts': {'LUSTRE': 1}}\n",
      "{'name': '/global/cscratch1/908744424', 'counts': {'LUSTRE': 1}}\n",
      "{'name': '/global/cscratch1/2943215729', 'counts': {'LUSTRE': 1}}\n",
      "{'name': '/global/cscratch1/4055887946', 'counts': {'LUSTRE': 1}}\n",
      "{'name': '/global/cscratch1/2539905787', 'counts': {'LUSTRE': 1}}\n",
      "{'name': '/global/cscratch1/3314238138', 'counts': {'LUSTRE': 1}}\n",
      "{'name': '/global/cscratch1/1126173773', 'counts': {'LUSTRE': 1}}\n",
      "{'name': '/global/cscratch1/1202353581', 'counts': {'LUSTRE': 1}}\n",
      "{'name': '/global/cscratch1/1539654261', 'counts': {'LUSTRE': 1}}\n",
      "{'name': '/global/cscratch1/1650629441', 'counts': {'LUSTRE': 1}}\n",
      "{'name': '/global/cscratch1/546970484', 'counts': {'LUSTRE': 1}}\n",
      "{'name': '/global/cscratch1/1789089285', 'counts': {'LUSTRE': 1}}\n",
      "{'name': '/global/cscratch1/3020006366', 'counts': {'LUSTRE': 1}}\n",
      "{'name': '/global/cscratch1/3978672193', 'counts': {'LUSTRE': 1}}\n",
      "{'name': '/global/cscratch1/3029524909', 'counts': {'LUSTRE': 1}}\n",
      "{'name': '/global/cscratch1/1953513653', 'counts': {'LUSTRE': 1}}\n",
      "{'name': '/global/cscratch1/2193693517', 'counts': {'LUSTRE': 1}}\n",
      "{'name': '/global/cscratch1/3901243818', 'counts': {'LUSTRE': 1}}\n",
      "{'name': '/global/cscratch1/4292708562', 'counts': {'LUSTRE': 1}}\n",
      "{'name': '/global/cscratch1/4177116965', 'counts': {'LUSTRE': 1}}\n",
      "{'name': '/global/cscratch1/3960788099', 'counts': {'LUSTRE': 1}}\n",
      "{'name': '/global/cscratch1/973919151', 'counts': {'LUSTRE': 1}}\n",
      "{'name': '/global/cscratch1/4032823114', 'counts': {'LUSTRE': 1}}\n",
      "{'name': '/global/cscratch1/2747560238', 'counts': {'LUSTRE': 1}}\n",
      "{'name': '/global/cscratch1/3233938453', 'counts': {'LUSTRE': 1}}\n",
      "{'name': '/global/cscratch1/1343300771', 'counts': {'LUSTRE': 1}}\n",
      "{'name': '/global/cscratch1/104297648', 'counts': {'LUSTRE': 1}}\n",
      "{'name': '/global/cscratch1/1027772845', 'counts': {'LUSTRE': 1}}\n",
      "{'name': '/global/cscratch1/1720009415', 'counts': {'LUSTRE': 1}}\n",
      "{'name': '/global/cscratch1/2231507405', 'counts': {'LUSTRE': 1}}\n",
      "{'name': '/global/cscratch1/184869396', 'counts': {'LUSTRE': 1}}\n",
      "{'name': '/global/cscratch1/1842150015', 'counts': {'LUSTRE': 1}}\n",
      "{'name': '/global/cscratch1/647398519', 'counts': {'LUSTRE': 1}}\n",
      "{'name': '/global/cscratch1/740310379', 'counts': {'LUSTRE': 1}}\n",
      "{'name': '/global/cscratch1/3607036205', 'counts': {'LUSTRE': 1}}\n",
      "{'name': '/global/cscratch1/745490475', 'counts': {'LUSTRE': 1}}\n",
      "{'name': '/global/cscratch1/2523516547', 'counts': {'LUSTRE': 1}}\n",
      "{'name': '/global/cscratch1/1565660120', 'counts': {'LUSTRE': 1}}\n",
      "{'name': '/global/cscratch1/4011761866', 'counts': {'LUSTRE': 1}}\n",
      "{'name': '/global/cscratch1/2083012504', 'counts': {'LUSTRE': 1}}\n",
      "{'name': '/global/cscratch1/3583776362', 'counts': {'LUSTRE': 1}}\n",
      "{'name': '/global/cscratch1/3508239620', 'counts': {'LUSTRE': 1}}\n",
      "{'name': '/global/cscratch1/1608088697', 'counts': {'LUSTRE': 1}}\n",
      "{'name': '/global/cscratch1/3277056373', 'counts': {'LUSTRE': 1}}\n",
      "{'name': '/global/cscratch1/3958291674', 'counts': {'LUSTRE': 1}}\n",
      "{'name': '/global/cscratch1/3991561523', 'counts': {'LUSTRE': 1}}\n",
      "{'name': '/global/cscratch1/2770016986', 'counts': {'LUSTRE': 1}}\n",
      "{'name': '/global/cscratch1/1135113634', 'counts': {'LUSTRE': 1}}\n",
      "{'name': '/global/cscratch1/488132068', 'counts': {'LUSTRE': 1}}\n",
      "{'name': '/global/cscratch1/889325415', 'counts': {'LUSTRE': 1}}\n",
      "{'name': '/global/cscratch1/3328802346', 'counts': {'LUSTRE': 1}}\n",
      "{'name': '/global/cscratch1/299357904', 'counts': {'LUSTRE': 1}}\n",
      "{'name': '/global/cscratch1/1875025947', 'counts': {'LUSTRE': 1}}\n",
      "{'name': '/global/cscratch1/4083125578', 'counts': {'LUSTRE': 1}}\n",
      "{'name': '/global/cscratch1/1991392421', 'counts': {'LUSTRE': 1}}\n",
      "{'name': '/global/cscratch1/682920293', 'counts': {'LUSTRE': 1}}\n",
      "{'name': '/global/cscratch1/2543070637', 'counts': {'LUSTRE': 1}}\n",
      "{'name': '/global/cscratch1/1706499841', 'counts': {'LUSTRE': 1}}\n",
      "{'name': '/global/cscratch1/3007084564', 'counts': {'LUSTRE': 1}}\n",
      "{'name': '/global/cscratch1/2635840128', 'counts': {'LUSTRE': 1}}\n",
      "{'name': '/global/cscratch1/3591728123', 'counts': {'LUSTRE': 1}}\n",
      "{'name': '/global/cscratch1/1332871318', 'counts': {'LUSTRE': 1}}\n",
      "{'name': '/global/cscratch1/3065933101', 'counts': {'LUSTRE': 1}}\n",
      "{'name': '/global/cscratch1/3835205598', 'counts': {'LUSTRE': 1}}\n",
      "{'name': '/global/cscratch1/2406112159', 'counts': {'LUSTRE': 1}}\n",
      "{'name': '/global/cscratch1/2592345122', 'counts': {'LUSTRE': 1}}\n",
      "{'name': '/global/cscratch1/2191833726', 'counts': {'LUSTRE': 1}}\n",
      "{'name': '/global/cscratch1/191989918', 'counts': {'LUSTRE': 1}}\n",
      "{'name': '/global/cscratch1/2462318798', 'counts': {'LUSTRE': 1}}\n",
      "{'name': '/global/cscratch1/2418046737', 'counts': {'LUSTRE': 1}}\n",
      "{'name': '/global/cscratch1/1939618225', 'counts': {'LUSTRE': 1}}\n",
      "{'name': '/global/cscratch1/3557062407', 'counts': {'LUSTRE': 1}}\n",
      "{'name': '/global/cscratch1/627878748', 'counts': {'LUSTRE': 1}}\n",
      "{'name': '/global/cscratch1/2445456175', 'counts': {'LUSTRE': 1}}\n",
      "{'name': '/global/cscratch1/3684713644', 'counts': {'LUSTRE': 1}}\n",
      "{'name': '/global/cscratch1/757005530', 'counts': {'LUSTRE': 1}}\n",
      "{'name': '/global/cscratch1/115050192', 'counts': {'LUSTRE': 1}}\n",
      "{'name': '/global/cscratch1/1430296702', 'counts': {'LUSTRE': 1}}\n",
      "{'name': '/global/cscratch1/2833122855', 'counts': {'LUSTRE': 1}}\n",
      "{'name': '/global/cscratch1/3388475872', 'counts': {'LUSTRE': 1}}\n",
      "{'name': '/global/cscratch1/1590894398', 'counts': {'LUSTRE': 1}}\n",
      "{'name': '/global/cscratch1/904049735', 'counts': {'LUSTRE': 1}}\n",
      "{'name': '/global/cscratch1/3075856182', 'counts': {'LUSTRE': 1}}\n",
      "{'name': '/global/cscratch1/2548941984', 'counts': {'LUSTRE': 1}}\n",
      "{'name': '/global/cscratch1/1942980905', 'counts': {'LUSTRE': 1}}\n",
      "{'name': '/global/cscratch1/3566482992', 'counts': {'LUSTRE': 1}}\n",
      "{'name': '/global/cscratch1/594483429', 'counts': {'LUSTRE': 1}}\n",
      "{'name': '/global/cscratch1/2008562513', 'counts': {'LUSTRE': 1}}\n",
      "{'name': '/global/cscratch1/3426462624', 'counts': {'LUSTRE': 1}}\n",
      "{'name': '/global/cscratch1/1365430677', 'counts': {'LUSTRE': 1}}\n",
      "{'name': '/global/cscratch1/1306313897', 'counts': {'LUSTRE': 1}}\n",
      "{'name': '/global/cscratch1/125542508', 'counts': {'LUSTRE': 1}}\n",
      "{'name': '/global/cscratch1/2583930629', 'counts': {'LUSTRE': 1}}\n",
      "{'name': '/global/cscratch1/1968157312', 'counts': {'LUSTRE': 1}}\n",
      "{'name': '/global/cscratch1/2109062063', 'counts': {'LUSTRE': 1}}\n",
      "{'name': '/global/cscratch1/3513801144', 'counts': {'LUSTRE': 1}}\n",
      "{'name': '/global/cscratch1/1335625538', 'counts': {'LUSTRE': 1}}\n",
      "{'name': '/global/cscratch1/3393382965', 'counts': {'LUSTRE': 1}}\n",
      "{'name': '/global/cscratch1/1083887312', 'counts': {'LUSTRE': 1}}\n",
      "{'name': '/global/cscratch1/3522503184', 'counts': {'LUSTRE': 1}}\n",
      "{'name': '/global/cscratch1/1818405907', 'counts': {'LUSTRE': 1}}\n",
      "{'name': '/global/cscratch1/1996895350', 'counts': {'LUSTRE': 1}}\n",
      "{'name': '/global/cscratch1/2025216698', 'counts': {'LUSTRE': 1}}\n",
      "{'name': '/global/cscratch1/1406848039', 'counts': {'LUSTRE': 1}}\n",
      "{'name': '/global/cscratch1/1279121003', 'counts': {'LUSTRE': 1}}\n",
      "{'name': '/global/cscratch1/151779989', 'counts': {'LUSTRE': 1}}\n",
      "{'name': '/global/cscratch1/885337072', 'counts': {'LUSTRE': 1}}\n",
      "{'name': '/global/cscratch1/2314642229', 'counts': {'LUSTRE': 1}}\n",
      "{'name': '/global/cscratch1/728905807', 'counts': {'LUSTRE': 1}}\n",
      "{'name': '/global/cscratch1/602559738', 'counts': {'LUSTRE': 1}}\n",
      "{'name': '/global/cscratch1/3379190785', 'counts': {'LUSTRE': 1}}\n",
      "{'name': '/global/cscratch1/2914887270', 'counts': {'LUSTRE': 1}}\n",
      "{'name': '/global/cscratch1/2499472350', 'counts': {'LUSTRE': 1}}\n",
      "{'name': '/global/cscratch1/3792359949', 'counts': {'LUSTRE': 1}}\n",
      "{'name': '/global/cscratch1/1426706755', 'counts': {'LUSTRE': 1}}\n",
      "{'name': '/global/cscratch1/392052640', 'counts': {'LUSTRE': 1}}\n",
      "{'name': '/global/cscratch1/700719862', 'counts': {'LUSTRE': 1}}\n",
      "{'name': '/global/cscratch1/317461492', 'counts': {'LUSTRE': 1}}\n",
      "{'name': '/global/cscratch1/3825632493', 'counts': {'LUSTRE': 1}}\n",
      "{'name': '/global/cscratch1/3872972411', 'counts': {'LUSTRE': 1}}\n",
      "{'name': '/global/cscratch1/3453322355', 'counts': {'LUSTRE': 1}}\n",
      "{'name': '/global/cscratch1/1246921615', 'counts': {'LUSTRE': 1}}\n",
      "{'name': '/global/cscratch1/3485765649', 'counts': {'LUSTRE': 1}}\n",
      "{'name': '/global/cscratch1/3290071640', 'counts': {'LUSTRE': 1}}\n",
      "{'name': '/global/cscratch1/2202718599', 'counts': {'LUSTRE': 1}}\n",
      "{'name': '/global/cscratch1/3844756707', 'counts': {'LUSTRE': 1}}\n",
      "{'name': '/global/cscratch1/995952020', 'counts': {'LUSTRE': 1}}\n",
      "{'name': '/global/cscratch1/1173126461', 'counts': {'LUSTRE': 1}}\n",
      "{'name': '/global/cscratch1/224246931', 'counts': {'LUSTRE': 1}}\n",
      "{'name': '/global/cscratch1/2509840589', 'counts': {'LUSTRE': 1}}\n",
      "{'name': '/global/cscratch1/919361905', 'counts': {'LUSTRE': 1}}\n",
      "{'name': '/global/cscratch1/981624182', 'counts': {'LUSTRE': 1}}\n",
      "{'name': '/global/cscratch1/2793573164', 'counts': {'LUSTRE': 1}}\n",
      "{'name': '/global/cscratch1/2858215432', 'counts': {'LUSTRE': 1}}\n",
      "{'name': '/global/cscratch1/2862463817', 'counts': {'LUSTRE': 1}}\n",
      "{'name': '/global/cscratch1/644137758', 'counts': {'LUSTRE': 1}}\n",
      "{'name': '/global/cscratch1/2763365225', 'counts': {'LUSTRE': 1}}\n",
      "{'name': '/global/cscratch1/2989676036', 'counts': {'LUSTRE': 1}}\n",
      "{'name': '/global/cscratch1/3879687740', 'counts': {'LUSTRE': 1}}\n",
      "{'name': '/global/cscratch1/2740885541', 'counts': {'LUSTRE': 1}}\n",
      "{'name': '/global/cscratch1/3308854443', 'counts': {'LUSTRE': 1}}\n",
      "{'name': '/global/cscratch1/1847810090', 'counts': {'LUSTRE': 1}}\n",
      "{'name': '/global/cscratch1/1299341289', 'counts': {'LUSTRE': 1}}\n",
      "{'name': '/global/cscratch1/2071580262', 'counts': {'LUSTRE': 1}}\n",
      "{'name': '/global/cscratch1/3041214553', 'counts': {'LUSTRE': 1}}\n",
      "{'name': '/global/cscratch1/3689562385', 'counts': {'LUSTRE': 1}}\n",
      "{'name': '/global/cscratch1/780536401', 'counts': {'LUSTRE': 1}}\n",
      "{'name': '/global/cscratch1/2994414772', 'counts': {'LUSTRE': 1}}\n",
      "{'name': '/global/cscratch1/485536176', 'counts': {'LUSTRE': 1}}\n",
      "{'name': '/global/cscratch1/2868906358', 'counts': {'LUSTRE': 1}}\n",
      "{'name': '/global/cscratch1/453794251', 'counts': {'LUSTRE': 1}}\n",
      "{'name': '/global/cscratch1/2816771079', 'counts': {'LUSTRE': 1}}\n",
      "{'name': '/global/cscratch1/1891198949', 'counts': {'LUSTRE': 1}}\n",
      "{'name': '/global/cscratch1/4199217672', 'counts': {'LUSTRE': 1}}\n",
      "{'name': '/global/cscratch1/504203265', 'counts': {'LUSTRE': 1}}\n",
      "{'name': '/global/cscratch1/724169710', 'counts': {'LUSTRE': 1}}\n",
      "{'name': '/global/cscratch1/3478579128', 'counts': {'LUSTRE': 1}}\n",
      "{'name': '/global/cscratch1/2749838700', 'counts': {'LUSTRE': 1}}\n",
      "{'name': '/global/cscratch1/4053251055', 'counts': {'LUSTRE': 1}}\n",
      "{'name': '/global/cscratch1/1679832358', 'counts': {'LUSTRE': 1}}\n",
      "{'name': '/global/cscratch1/2114030141', 'counts': {'LUSTRE': 1}}\n",
      "{'name': '/global/cscratch1/3429411201', 'counts': {'LUSTRE': 1}}\n",
      "{'name': '/global/cscratch1/3524476707', 'counts': {'LUSTRE': 1}}\n",
      "{'name': '/global/cscratch1/544101162', 'counts': {'LUSTRE': 1}}\n",
      "{'name': '/global/cscratch1/3670021863', 'counts': {'LUSTRE': 1}}\n",
      "{'name': '/global/cscratch1/3333761024', 'counts': {'LUSTRE': 1}}\n",
      "{'name': '/global/cscratch1/2914702794', 'counts': {'LUSTRE': 1}}\n",
      "{'name': '/global/cscratch1/1770639367', 'counts': {'LUSTRE': 1}}\n",
      "{'name': '/global/cscratch1/614645056', 'counts': {'LUSTRE': 1}}\n",
      "{'name': '/global/cscratch1/324516909', 'counts': {'LUSTRE': 1}}\n",
      "{'name': '/global/cscratch1/2149194902', 'counts': {'LUSTRE': 1}}\n",
      "{'name': '/global/cscratch1/1063842359', 'counts': {'LUSTRE': 1}}\n",
      "{'name': '/global/cscratch1/2409235450', 'counts': {'LUSTRE': 1}}\n",
      "{'name': '/global/cscratch1/2063487749', 'counts': {'LUSTRE': 1}}\n",
      "{'name': '/global/cscratch1/442909883', 'counts': {'LUSTRE': 1}}\n",
      "{'name': '/global/cscratch1/3012486002', 'counts': {'LUSTRE': 1}}\n",
      "{'name': '/global/cscratch1/2079923584', 'counts': {'LUSTRE': 1}}\n",
      "{'name': '/global/cscratch1/2607828545', 'counts': {'LUSTRE': 1}}\n",
      "{'name': '/global/cscratch1/3521398760', 'counts': {'LUSTRE': 1}}\n",
      "{'name': '/global/cscratch1/1823436559', 'counts': {'LUSTRE': 1}}\n",
      "{'name': '/global/cscratch1/1010187419', 'counts': {'LUSTRE': 1}}\n",
      "{'name': '/global/cscratch1/3415880514', 'counts': {'LUSTRE': 1}}\n",
      "{'name': '/global/cscratch1/1917532957', 'counts': {'LUSTRE': 1}}\n",
      "{'name': '/global/cscratch1/1452734650', 'counts': {'LUSTRE': 1}}\n",
      "{'name': '/global/cscratch1/3316711241', 'counts': {'LUSTRE': 1}}\n",
      "{'name': '/global/cscratch1/3873475172', 'counts': {'LUSTRE': 1}}\n",
      "{'name': '/global/cscratch1/4040616282', 'counts': {'LUSTRE': 1}}\n",
      "{'name': '/global/cscratch1/142942492', 'counts': {'LUSTRE': 1}}\n",
      "{'name': '/global/cscratch1/2639566651', 'counts': {'LUSTRE': 1}}\n",
      "{'name': '/global/cscratch1/3109287621', 'counts': {'LUSTRE': 1}}\n",
      "{'name': '/global/cscratch1/3616941192', 'counts': {'LUSTRE': 1}}\n",
      "{'name': '/global/cscratch1/4279312140', 'counts': {'LUSTRE': 1}}\n",
      "{'name': '/global/cscratch1/824007424', 'counts': {'LUSTRE': 1}}\n",
      "{'name': '/global/cscratch1/1601577466', 'counts': {'LUSTRE': 1}}\n",
      "{'name': '/global/cscratch1/2375560963', 'counts': {'LUSTRE': 1}}\n",
      "{'name': '/global/cscratch1/3591387417', 'counts': {'LUSTRE': 1}}\n",
      "{'name': '/global/cscratch1/326373842', 'counts': {'LUSTRE': 1}}\n",
      "{'name': '/global/cscratch1/1132021674', 'counts': {'LUSTRE': 1}}\n",
      "{'name': '/global/cscratch1/948231218', 'counts': {'LUSTRE': 1}}\n",
      "{'name': '/global/cscratch1/2177646975', 'counts': {'LUSTRE': 1}}\n",
      "{'name': '/global/cscratch1/762811654', 'counts': {'LUSTRE': 1}}\n",
      "{'name': '/global/cscratch1/2059857987', 'counts': {'LUSTRE': 1}}\n",
      "{'name': '/global/cscratch1/1452833584', 'counts': {'LUSTRE': 1}}\n",
      "{'name': '/global/cscratch1/4214198774', 'counts': {'LUSTRE': 1}}\n",
      "{'name': '/global/cscratch1/212354917', 'counts': {'LUSTRE': 1}}\n",
      "{'name': '/global/cscratch1/202348494', 'counts': {'LUSTRE': 1}}\n",
      "{'name': '/global/cscratch1/1865697917', 'counts': {'LUSTRE': 1}}\n",
      "{'name': '/global/cscratch1/1170368312', 'counts': {'LUSTRE': 1}}\n",
      "{'name': '/global/cscratch1/1885567184', 'counts': {'LUSTRE': 1}}\n",
      "{'name': '/global/cscratch1/3965314534', 'counts': {'LUSTRE': 1}}\n",
      "{'name': '/global/cscratch1/1380550481', 'counts': {'LUSTRE': 1}}\n",
      "{'name': '/global/cscratch1/1811496698', 'counts': {'LUSTRE': 1}}\n",
      "{'name': '/global/cscratch1/1999230737', 'counts': {'LUSTRE': 1}}\n",
      "{'name': '/global/cscratch1/158112485', 'counts': {'LUSTRE': 1}}\n",
      "{'name': '/global/cscratch1/2611815547', 'counts': {'LUSTRE': 1}}\n",
      "{'name': '/global/cscratch1/3693822371', 'counts': {'LUSTRE': 1}}\n",
      "{'name': '/global/cscratch1/302747574', 'counts': {'LUSTRE': 1}}\n",
      "{'name': '/global/cscratch1/727420846', 'counts': {'LUSTRE': 1}}\n",
      "{'name': '/global/cscratch1/3842241572', 'counts': {'LUSTRE': 1}}\n",
      "{'name': '/global/cscratch1/585282623', 'counts': {'LUSTRE': 1}}\n",
      "{'name': '/global/cscratch1/3866722146', 'counts': {'LUSTRE': 1}}\n",
      "{'name': '/global/cscratch1/3154061524', 'counts': {'LUSTRE': 1}}\n",
      "{'name': '/global/cscratch1/305282015', 'counts': {'LUSTRE': 1}}\n",
      "{'name': '/global/cscratch1/3584098883', 'counts': {'LUSTRE': 1}}\n",
      "{'name': '/global/cscratch1/413258619', 'counts': {'LUSTRE': 1}}\n",
      "{'name': '/global/cscratch1/2424508367', 'counts': {'LUSTRE': 1}}\n",
      "{'name': '/global/cscratch1/1008225841', 'counts': {'LUSTRE': 1}}\n",
      "{'name': '/global/cscratch1/3408389634', 'counts': {'LUSTRE': 1}}\n",
      "{'name': '/global/cscratch1/3713018577', 'counts': {'LUSTRE': 1}}\n",
      "{'name': '/global/cscratch1/884525074', 'counts': {'LUSTRE': 1}}\n",
      "{'name': '/global/cscratch1/376407389', 'counts': {'LUSTRE': 1}}\n",
      "{'name': '/global/cscratch1/565530518', 'counts': {'LUSTRE': 1}}\n",
      "{'name': '/global/cscratch1/358618594', 'counts': {'LUSTRE': 1}}\n",
      "{'name': '/global/cscratch1/1447571345', 'counts': {'LUSTRE': 1}}\n",
      "{'name': '/global/cscratch1/2974996160', 'counts': {'LUSTRE': 1}}\n",
      "{'name': '/global/cscratch1/1772802487', 'counts': {'LUSTRE': 1}}\n",
      "{'name': '/global/cscratch1/1963189092', 'counts': {'LUSTRE': 1}}\n",
      "{'name': '/global/cscratch1/451205777', 'counts': {'LUSTRE': 1}}\n",
      "{'name': '/global/cscratch1/1772838623', 'counts': {'LUSTRE': 1}}\n",
      "{'name': '/global/cscratch1/1323941173', 'counts': {'LUSTRE': 1}}\n",
      "\n",
      "{'name': '/scratch2/scratchdirs/glock/tokioabc-s.4478544/vpicio/vpicio.hdf5', 'counts': {'POSIX': 1, 'MPI-IO': 1, 'LUSTRE': 1}}\n",
      "{'name': '<STDOUT>', 'counts': {'STDIO': 1}}\n",
      "{'name': '<STDERR>', 'counts': {'STDIO': 128}}\n",
      "\n"
     ]
    }
   ],
   "source": [
    "# A closer look at the name records \n",
    "for r in [r1, r2, r3]:\n",
    "    r.read_all()\n",
    "    for key, val in r.name_records_summary().items():\n",
    "        print(val)\n",
    "    print()"
   ]
  },
  {
   "cell_type": "code",
   "execution_count": null,
   "metadata": {},
   "outputs": [],
   "source": []
  },
  {
   "cell_type": "code",
   "execution_count": null,
   "metadata": {},
   "outputs": [],
   "source": []
  },
  {
   "cell_type": "code",
   "execution_count": null,
   "metadata": {},
   "outputs": [],
   "source": []
  },
  {
   "cell_type": "code",
   "execution_count": null,
   "metadata": {
    "scrolled": true
   },
   "outputs": [],
   "source": [
    "r3.data['name_records']"
   ]
  },
  {
   "cell_type": "code",
   "execution_count": 39,
   "metadata": {},
   "outputs": [
    {
     "data": {
      "text/plain": [
       "{6301063301082038805: {'POSIX': 1, 'MPI-IO': 1, 'LUSTRE': 1},\n",
       " 15920181672442173319: {'STDIO': 1},\n",
       " 7238257241479193519: {'STDIO': 128}}"
      ]
     },
     "execution_count": 39,
     "metadata": {},
     "output_type": "execute_result"
    }
   ],
   "source": [
    "counts = {}\n",
    "\n",
    "for mod, records in r1.records.items():\n",
    "    for rec in records:\n",
    "        if rec['id'] not in counts:\n",
    "            counts[rec['id']] = {}\n",
    "            \n",
    "        ctx = counts[rec['id']]\n",
    "        if mod not in ctx:\n",
    "            ctx[mod] = 1\n",
    "        else:\n",
    "            ctx[mod] += 1\n",
    "            \n",
    "counts"
   ]
  },
  {
   "cell_type": "code",
   "execution_count": null,
   "metadata": {},
   "outputs": [],
   "source": []
  },
  {
   "cell_type": "code",
   "execution_count": 40,
   "metadata": {},
   "outputs": [
    {
     "name": "stdout",
     "output_type": "stream",
     "text": [
      "Summarizing... agg_ioops\n",
      "Read,Write,Open,Stat,Seek,Mmap,Fsync,Layer\n",
      "0,16402,2049,0,16404,0,0,POSIX\n",
      "0,18,0,0,0,0,0,MPIIND\n",
      "0,16384,2048,0,0,0,0,MPICOL\n",
      "0,74,129,0,0,0,0,STDIO\n",
      "\n"
     ]
    },
    {
     "data": {
      "text/plain": [
       "<module 'matplotlib.pyplot' from '/home/pq/p/software/darshan-pydarshan/darshan-util/pydarshan/devenv/venv/lib64/python3.8/site-packages/matplotlib/pyplot.py'>"
      ]
     },
     "execution_count": 40,
     "metadata": {},
     "output_type": "execute_result"
    },
    {
     "data": {
      "image/png": "[encoded data removed]",
      "text/plain": [
       "<Figure size 432x288 with 1 Axes>"
      ]
     },
     "metadata": {
      "needs_background": "light"
     },
     "output_type": "display_data"
    }
   ],
   "source": [
    "plot_opcounts(r1)"
   ]
  },
  {
   "cell_type": "code",
   "execution_count": 41,
   "metadata": {},
   "outputs": [
    {
     "name": "stdout",
     "output_type": "stream",
     "text": [
      "[('POSIX', 2048), ('STDIO', 3), ('LUSTRE', 2048)]\n",
      "Summarizing... iohist POSIX\n"
     ]
    },
    {
     "data": {
      "text/plain": [
       "<module 'matplotlib.pyplot' from '/home/pq/p/software/darshan-pydarshan/darshan-util/pydarshan/devenv/venv/lib64/python3.8/site-packages/matplotlib/pyplot.py'>"
      ]
     },
     "execution_count": 41,
     "metadata": {},
     "output_type": "execute_result"
    },
    {
     "data": {
      "image/png": "[encoded data removed]",
      "text/plain": [
       "<Figure size 432x288 with 1 Axes>"
      ]
     },
     "metadata": {
      "needs_background": "light"
     },
     "output_type": "display_data"
    }
   ],
   "source": [
    "r3.mod_read_all_records(\"POSIX\")\n",
    "print([(key, len(val)) for key, val in r3.records.items()])\n",
    "plot_access_histogram(c, 'POSIX')"
   ]
  },
  {
   "cell_type": "code",
   "execution_count": 42,
   "metadata": {},
   "outputs": [
    {
     "name": "stdout",
     "output_type": "stream",
     "text": [
      "[('STDIO', 2), ('LUSTRE', 519)]\n",
      "Summarizing... agg_ioops\n",
      "Read,Write,Open,Stat,Seek,Mmap,Fsync,Layer\n",
      "0,0,0,0,0,0,0,POSIX\n",
      "0,0,0,0,0,0,0,MPIIND\n",
      "0,0,0,0,0,0,0,MPICOL\n",
      "199687,2190437,1024,0,203265,0,217126,STDIO\n",
      "\n"
     ]
    },
    {
     "data": {
      "text/plain": [
       "<module 'matplotlib.pyplot' from '/home/pq/p/software/darshan-pydarshan/darshan-util/pydarshan/devenv/venv/lib64/python3.8/site-packages/matplotlib/pyplot.py'>"
      ]
     },
     "execution_count": 42,
     "metadata": {},
     "output_type": "execute_result"
    },
    {
     "data": {
      "image/png": "[encoded data removed]",
      "text/plain": [
       "<Figure size 432x288 with 1 Axes>"
      ]
     },
     "metadata": {
      "needs_background": "light"
     },
     "output_type": "display_data"
    }
   ],
   "source": [
    "r2.mod_read_all_records(\"STDIO\")\n",
    "print([(key, len(val)) for key, val in r2.records.items()])\n",
    "#plot_access_histogram(c, 'POSIX')\n",
    "plot_opcounts(r2)"
   ]
  },
  {
   "cell_type": "code",
   "execution_count": 45,
   "metadata": {},
   "outputs": [
    {
     "name": "stdout",
     "output_type": "stream",
     "text": [
      "[('POSIX', 2048), ('STDIO', 3), ('LUSTRE', 2048)]\n",
      "Summarizing... iohist MPI-IO\n"
     ]
    },
    {
     "data": {
      "text/plain": [
       "<module 'matplotlib.pyplot' from '/home/pq/p/software/darshan-pydarshan/darshan-util/pydarshan/devenv/venv/lib64/python3.8/site-packages/matplotlib/pyplot.py'>"
      ]
     },
     "execution_count": 45,
     "metadata": {},
     "output_type": "execute_result"
    },
    {
     "data": {
      "image/png": "[encoded data removed]",
      "text/plain": [
       "<Figure size 432x288 with 1 Axes>"
      ]
     },
     "metadata": {
      "needs_background": "light"
     },
     "output_type": "display_data"
    }
   ],
   "source": [
    "r1.mod_read_all_records(\"MPI-IO\")\n",
    "print([(key, len(val)) for key, val in r3.records.items()])\n",
    "plot_access_histogram(c, 'MPI-IO')"
   ]
  },
  {
   "cell_type": "code",
   "execution_count": 44,
   "metadata": {},
   "outputs": [
    {
     "name": "stdout",
     "output_type": "stream",
     "text": [
      "[('POSIX', 4097), ('MPI-IO', 1), ('STDIO', 135), ('LUSTRE', 4097)]\n",
      "Summarizing... agg_ioops\n",
      "Read,Write,Open,Stat,Seek,Mmap,Fsync,Layer\n",
      "0,278546,6145,4096,278548,0,4096,POSIX\n",
      "0,18,0,0,0,0,0,MPIIND\n",
      "0,16384,2048,0,0,0,0,MPICOL\n",
      "69632,268,12417,0,0,0,4112,STDIO\n",
      "\n"
     ]
    },
    {
     "data": {
      "text/plain": [
       "<module 'matplotlib.pyplot' from '/home/pq/p/software/darshan-pydarshan/darshan-util/pydarshan/devenv/venv/lib64/python3.8/site-packages/matplotlib/pyplot.py'>"
      ]
     },
     "execution_count": 44,
     "metadata": {},
     "output_type": "execute_result"
    },
    {
     "data": {
      "image/png": "[encoded data removed]",
      "text/plain": [
       "<Figure size 432x288 with 1 Axes>"
      ]
     },
     "metadata": {
      "needs_background": "light"
     },
     "output_type": "display_data"
    }
   ],
   "source": [
    "c = r2 + r2  # inflate stdio\n",
    "c = r1 + r3 + r3\n",
    "\n",
    "print([(key, len(val)) for key, val in c.records.items()])\n",
    "#plot_access_histogram(c, 'POSIX')\n",
    "plot_opcounts(c)"
   ]
  },
  {
   "cell_type": "code",
   "execution_count": null,
   "metadata": {},
   "outputs": [],
   "source": []
  },
  {
   "cell_type": "code",
   "execution_count": 25,
   "metadata": {},
   "outputs": [
    {
     "data": {
      "text/plain": [
       "[('POSIX', 1), ('MPI-IO', 1), ('STDIO', 131), ('LUSTRE', 520)]"
      ]
     },
     "execution_count": 25,
     "metadata": {},
     "output_type": "execute_result"
    }
   ],
   "source": [
    "combined = r1 + r2\n",
    "[(key, len(val)) for key, val in combined.records.items()]"
   ]
  },
  {
   "cell_type": "markdown",
   "metadata": {},
   "source": [
    "## Aggregations and Summaries"
   ]
  },
  {
   "cell_type": "code",
   "execution_count": 47,
   "metadata": {},
   "outputs": [
    {
     "name": "stdout",
     "output_type": "stream",
     "text": [
      "Summarizing... iohist POSIX\n"
     ]
    },
    {
     "data": {
      "text/plain": [
       "<module 'matplotlib.pyplot' from '/home/pq/p/software/darshan-pydarshan/darshan-util/pydarshan/devenv/venv/lib64/python3.8/site-packages/matplotlib/pyplot.py'>"
      ]
     },
     "execution_count": 47,
     "metadata": {},
     "output_type": "execute_result"
    },
    {
     "data": {
      "image/png": "[encoded data removed]",
      "text/plain": [
       "<Figure size 432x288 with 1 Axes>"
      ]
     },
     "metadata": {
      "needs_background": "light"
     },
     "output_type": "display_data"
    }
   ],
   "source": [
    "import darshan\n",
    "darshan.enable_experimental()\n",
    "\n",
    "r3 = darshan.DarshanReport(\"example-logs/example.darshan\", dtype='numpy')\n",
    "r3.mod_read_all_records('POSIX')\n",
    "r3.mod_read_all_records('MPI-IO')\n",
    "\n",
    "\n",
    "from darshan.experimental.plots.matplotlib import plot_access_histogram\n",
    "plot_access_histogram(r3, mod='POSIX')"
   ]
  },
  {
   "cell_type": "code",
   "execution_count": 52,
   "metadata": {},
   "outputs": [
    {
     "data": {
      "text/plain": [
       "{'READ_0_100': 0,\n",
       " 'READ_100_1K': 0,\n",
       " 'READ_1K_10K': 0,\n",
       " 'READ_10K_100K': 0,\n",
       " 'READ_100K_1M': 0,\n",
       " 'READ_1M_4M': 0,\n",
       " 'READ_4M_10M': 0,\n",
       " 'READ_10M_100M': 0,\n",
       " 'READ_100M_1G': 0,\n",
       " 'READ_1G_PLUS': 0,\n",
       " 'WRITE_0_100': 4,\n",
       " 'WRITE_100_1K': 14,\n",
       " 'WRITE_1K_10K': 0,\n",
       " 'WRITE_10K_100K': 0,\n",
       " 'WRITE_100K_1M': 0,\n",
       " 'WRITE_1M_4M': 0,\n",
       " 'WRITE_4M_10M': 0,\n",
       " 'WRITE_10M_100M': 0,\n",
       " 'WRITE_100M_1G': 16384,\n",
       " 'WRITE_1G_PLUS': 0}"
      ]
     },
     "execution_count": 52,
     "metadata": {},
     "output_type": "execute_result"
    }
   ],
   "source": [
    "r3.mod_agg_iohist('POSIX')"
   ]
  },
  {
   "cell_type": "code",
   "execution_count": null,
   "metadata": {},
   "outputs": [],
   "source": []
  },
  {
   "cell_type": "markdown",
   "metadata": {},
   "source": [
    "## Provenance\n",
    "\n",
    "The report object maintains a provenance log to investigate and trace aggregations (recording can be disabled by changing `record_provenance` to `False`). Two indexes are maintained:\n",
    "\n",
    "* A list of all included sub-reports which hold records in the current report\n",
    "* A list of all alterings/filterings performed on the current report with timestamps/revision"
   ]
  },
  {
   "cell_type": "code",
   "execution_count": null,
   "metadata": {},
   "outputs": [],
   "source": []
  },
  {
   "cell_type": "code",
   "execution_count": 55,
   "metadata": {
    "scrolled": true
   },
   "outputs": [
    {
     "data": {
      "text/plain": [
       "[('add',\n",
       "  <darshan.report.DarshanReport at 0x7effe37f6d90>,\n",
       "  <darshan.report.DarshanReport at 0x7effe4f4ad60>,\n",
       "  datetime.datetime(2021, 1, 25, 18, 42, 53, 283423))]"
      ]
     },
     "execution_count": 55,
     "metadata": {},
     "output_type": "execute_result"
    }
   ],
   "source": [
    "c.provenance_graph"
   ]
  },
  {
   "cell_type": "code",
   "execution_count": null,
   "metadata": {},
   "outputs": [],
   "source": []
  },
  {
   "cell_type": "markdown",
   "metadata": {},
   "source": [
    "## Notes on Additional Operations\n",
    "\n",
    "This section collections other possible intepretations to common operations / input pairs."
   ]
  },
  {
   "cell_type": "markdown",
   "metadata": {},
   "source": [
    "    Operation                        Returns Interpreation\n",
    "    ---------                        ------- -------------\n",
    "    report + report              =>  report: merge reports - equivalant to .merge()\n",
    "    (report + record)            =>  report: existing report with the record added? (but might as well require also individual records to be wrapped in a report)\n",
    "    report + datetime.timedelta  =>  report: all report records are moved in time\n",
    "\n",
    "    report * scalar              =>  report: all report records are dublicated 'scalar' times\n",
    "                                             integer multiplication is well defined\n",
    "                                             float multiplication is only defined after reduction    \n",
    "                                             Maybe better implemeted through a method to allow masking (e.g., apply only to records matching criteria... apply only to (subset of?) float/int records)\n",
    "                                             \n",
    "    report - report              =>  report: remove matching records from left report\n",
    "\n",
    "    # Considered, but likely only implemented as a special function\n",
    "    report / report              =>  dict?:  various factors of whether the right reports can be part of left\n",
    "                                             for example, how often into duration, how often per layer\n",
    "                                             right report likely, has to use patterns to be useful\n",
    "    report * datetime.timedelta  =>  report: skew I/O activity timeline (start/end, dxt traces)\n",
    "    \n",
    "    # Undefined (most typical operators just don't offer a meaningful interpretation)\n",
    "    report * report\n",
    "    \n",
    "    arithmetic:\n",
    "    + addition\n",
    "    - substraction\n",
    "    * multiplication\n",
    "    / devision\n",
    "    % modulus\n",
    "    ** exponent\n",
    "    // floor devision\n",
    "    \n",
    "    comparison:\n",
    "    == equals\n",
    "    != not equal\n",
    "    >\n",
    "    <\n",
    "    >=\n",
    "    <=\n",
    "    \n",
    "    bitwise:\n",
    "    & and\n",
    "    | or\n",
    "    ^ xor\n",
    "    ~ flip bits (operator is unary)\n",
    "    << left shift\n",
    "    >> right shift\n",
    "    \n",
    "    logical:\n",
    "    and\n",
    "    or\n",
    "    not\n",
    "    \n",
    "    membership:\n",
    "    in\n",
    "    not in\n",
    "    \n",
    "    identity:\n",
    "    is\n",
    "    is not\n",
    "    \n",
    "    "
   ]
  }
 ],
 "metadata": {
  "kernelspec": {
   "display_name": "Python 3",
   "language": "python",
   "name": "python3"
  },
  "language_info": {
   "codemirror_mode": {
    "name": "ipython",
    "version": 3
   },
   "file_extension": ".py",
   "mimetype": "text/x-python",
   "name": "python",
   "nbconvert_exporter": "python",
   "pygments_lexer": "ipython3",
   "version": "3.8.6"
  }
 },
 "nbformat": 4,
 "nbformat_minor": 4
}
