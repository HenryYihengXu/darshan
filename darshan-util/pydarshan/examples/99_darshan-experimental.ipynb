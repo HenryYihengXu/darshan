{
 "cells": [
  {
   "cell_type": "code",
   "execution_count": 16,
   "metadata": {},
   "outputs": [],
   "source": [
    "import pprint\n",
    "import copy"
   ]
  },
  {
   "cell_type": "markdown",
   "metadata": {},
   "source": [
    "# PyDarshan Experimental\n",
    "\n",
    "This notebook collects and showcases experimental functionality which is not mature or stable enough to be considered for mainline support."
   ]
  },
  {
   "cell_type": "code",
   "execution_count": 17,
   "metadata": {},
   "outputs": [
    {
     "name": "stdout",
     "output_type": "stream",
     "text": [
      "Added method mod_agg_iohist to DarshanReport.\n",
      "Added method print_module_records to DarshanReport.\n",
      "Added method summarize to DarshanReport.\n",
      "Added method merge to DarshanReport.\n",
      "Added method filter to DarshanReport.\n",
      "Added method create_timeline to DarshanReport.\n",
      "Added method name_records_summary to DarshanReport.\n",
      "Added method create_time_summary to DarshanReport.\n",
      "Added method reduce to DarshanReport.\n",
      "Added method create_sankey to DarshanReport.\n",
      "Added method records_as_dict to DarshanReport.\n",
      "Added method agg_ioops to DarshanReport.\n"
     ]
    }
   ],
   "source": [
    "import darshan\n",
    "darshan.enable_experimental(verbose=True)"
   ]
  },
  {
   "cell_type": "code",
   "execution_count": 18,
   "metadata": {
    "scrolled": true
   },
   "outputs": [
    {
     "name": "stdout",
     "output_type": "stream",
     "text": [
      "Filename:       example-logs/example.darshan\n",
      "Times:          2017-03-20 09:07:47 to 2017-03-20 09:09:43 (Duration 0:01:56)\n",
      "Executeable:    /global/project/projectdirs/m888/glock/tokio-abc-results/bin.edison/vpicio_uni /scratch2/scratchdirs/glock/tokioabc-s.4478544/vpicio/vpicio.hdf5 32\n",
      "Processes:      2048\n",
      "JobID:          4478544\n",
      "UID:            69615\n",
      "Modules in Log: ['POSIX', 'MPI-IO', 'LUSTRE', 'STDIO']\n",
      "Loaded Records: {'POSIX': 1, 'MPI-IO': 1, 'STDIO': 129, 'LUSTRE': 1}\n",
      "Name Records:   4\n",
      "Darshan/Hints:  {'lib_ver': '3.1.3', 'h': 'romio_no_indep_rw=true;cb_nodes=4'}\n",
      "DarshanReport:  id(140626964480304) (tmp)\n"
     ]
    }
   ],
   "source": [
    "r1 = darshan.DarshanReport(\"example-logs/example.darshan\", read_all=True, dtype='numpy')  # Default behavior\n",
    "r1.info()"
   ]
  },
  {
   "cell_type": "code",
   "execution_count": 19,
   "metadata": {},
   "outputs": [
    {
     "data": {
      "text/plain": [
       "{'POSIX': [{'id': 6301063301082038805,\n",
       "   'rank': -1,\n",
       "   'counters': array([         2049,            -1,            -1,             0,\n",
       "                  16402,         16404,             0,             0,\n",
       "                      0,             0,            -1,            -1,\n",
       "                      0,             0,             0, 2199023259968,\n",
       "                      0, 2199023261831,             0,             0,\n",
       "                      0,         16384,             0,             0,\n",
       "                      8,         16401,       1048576,             0,\n",
       "              134217728,             0,             0,             0,\n",
       "                      0,             0,             0,             0,\n",
       "                      0,             0,             0,             4,\n",
       "                     14,             0,             0,             0,\n",
       "                      0,             0,             0,         16384,\n",
       "                      0,  274743689216,  274743691264,             0,\n",
       "                      0,         10240,          4096,             0,\n",
       "                      0,     134217728,           272,           544,\n",
       "                    328,         16384,             8,             2,\n",
       "                      2,           597,    1073741824,          1312,\n",
       "             1073741824]),\n",
       "   'fcounters': array([3.91914105e+00, 0.00000000e+00, 3.94006395e+00, 3.92709398e+00,\n",
       "          3.93657994e+00, 0.00000000e+00, 1.15078166e+02, 1.15770358e+02,\n",
       "          0.00000000e+00, 1.00397600e+05, 1.13008418e+01, 0.00000000e+00,\n",
       "          1.79409459e+01, 2.04360995e+01, 8.54749503e+01, 0.00000000e+00,\n",
       "          0.00000000e+00])}],\n",
       " 'MPI-IO': [{'id': 6301063301082038805,\n",
       "   'rank': -1,\n",
       "   'counters': array([            0,          2048,             0,            18,\n",
       "                      0,         16384,             0,             0,\n",
       "                      0,             0,             0,             0,\n",
       "                  32768,             9,             0, 2199023259968,\n",
       "                      0,             0,     134217728,             0,\n",
       "                      0,             0,             0,             0,\n",
       "                      0,             0,             0,             0,\n",
       "                      0,             4,            14,             0,\n",
       "                      0,             0,             0,             0,\n",
       "                      0,         16384,             0,     134217728,\n",
       "                    272,           544,           328,         16384,\n",
       "                      8,             2,             2,           597,\n",
       "             1073741824,          1312,    1073741824]),\n",
       "   'fcounters': array([ 3.91278315e+00,  0.00000000e+00,  3.94003701e+00, -1.00000000e+00,\n",
       "          -1.00000000e+00,  0.00000000e+00,  1.15078169e+02,  1.15773214e+02,\n",
       "           0.00000000e+00,  1.00397897e+05,  4.90211463e+01,  0.00000000e+00,\n",
       "           1.79409699e+01,  2.04544911e+01,  8.54922221e+01,  9.54322809e+01,\n",
       "           7.01663086e+02])}],\n",
       " 'STDIO': [{'id': 15920181672442173319,\n",
       "   'rank': 0,\n",
       "   'counters': array([  1,  -1,   0,   6,   0,   0, 280,   0,   0, 279,   0,   0,   0,\n",
       "            0]),\n",
       "   'fcounters': array([0.00000000e+00, 6.79492950e-05, 0.00000000e+00, 0.00000000e+00,\n",
       "          0.00000000e+00, 7.75279999e-02, 0.00000000e+00, 0.00000000e+00,\n",
       "          0.00000000e+00, 1.16283583e+02, 0.00000000e+00, 0.00000000e+00,\n",
       "          0.00000000e+00, 0.00000000e+00, 0.00000000e+00])}],\n",
       " 'LUSTRE': [{'id': 6301063301082038805,\n",
       "   'rank': -1,\n",
       "   'counters': array([     24,       1,       0, 1048576,      24]),\n",
       "   'ost_ids': array([ 7,  9, 23, 21,  1, 19, 20,  8, 18, 12,  6,  2, 10, 16,  4,  0, 22,\n",
       "          14, 13, 17,  5, 15, 11,  3])}]}"
      ]
     },
     "execution_count": 19,
     "metadata": {},
     "output_type": "execute_result"
    }
   ],
   "source": [
    "r1.filter(name_records=[6301063301082038805, 15920181672442173319]).records"
   ]
  },
  {
   "cell_type": "code",
   "execution_count": null,
   "metadata": {},
   "outputs": [],
   "source": []
  }
 ],
 "metadata": {
  "kernelspec": {
   "display_name": "Python 3",
   "language": "python",
   "name": "python3"
  },
  "language_info": {
   "codemirror_mode": {
    "name": "ipython",
    "version": 3
   },
   "file_extension": ".py",
   "mimetype": "text/x-python",
   "name": "python",
   "nbconvert_exporter": "python",
   "pygments_lexer": "ipython3",
   "version": "3.8.5"
  }
 },
 "nbformat": 4,
 "nbformat_minor": 4
}
