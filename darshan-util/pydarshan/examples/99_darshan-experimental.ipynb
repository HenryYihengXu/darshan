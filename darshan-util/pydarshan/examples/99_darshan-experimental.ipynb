{
 "cells": [
  {
   "cell_type": "code",
   "execution_count": 1,
   "metadata": {},
   "outputs": [],
   "source": [
    "import pprint\n",
    "import copy"
   ]
  },
  {
   "cell_type": "markdown",
   "metadata": {},
   "source": [
    "# PyDarshan Experimental\n",
    "\n",
    "This notebook collects and showcases experimental functionality which is not mature or stable enough to be considered for mainline support."
   ]
  },
  {
   "cell_type": "code",
   "execution_count": 2,
   "metadata": {},
   "outputs": [
    {
     "name": "stdout",
     "output_type": "stream",
     "text": [
      "Added method create_time_summary to DarshanReport.\n",
      "Added method print_module_records to DarshanReport.\n",
      "Added method summarize to DarshanReport.\n",
      "Added method merge to DarshanReport.\n",
      "Added method create_timeline to DarshanReport.\n",
      "Added method records_as_dict to DarshanReport.\n",
      "Added method reduce to DarshanReport.\n",
      "Added method agg_ioops to DarshanReport.\n",
      "Added method create_sankey to DarshanReport.\n",
      "Added method filter to DarshanReport.\n",
      "Added method mod_agg_iohist to DarshanReport.\n",
      "Added method name_records_summary to DarshanReport.\n"
     ]
    }
   ],
   "source": [
    "import darshan\n",
    "darshan.enable_experimental(verbose=True)"
   ]
  },
  {
   "cell_type": "code",
   "execution_count": 6,
   "metadata": {
    "scrolled": true
   },
   "outputs": [
    {
     "name": "stdout",
     "output_type": "stream",
     "text": [
      "Filename:       example.darshan\n",
      "Times:          2017-03-20 10:07:47 to 2017-03-20 10:09:43 (Duration 0:01:56)\n",
      "Executeable:    /global/project/projectdirs/m888/glock/tokio-abc-results/bin.edison/vpicio_uni /scratch2/scratchdirs/glock/tokioabc-s.4478544/vpicio/vpicio.hdf5 32\n",
      "Processes:      2048\n",
      "JobID:          4478544\n",
      "UID:            69615\n",
      "Modules in Log: ['POSIX', 'MPI-IO', 'LUSTRE', 'STDIO']\n",
      "Loaded Records: {'POSIX': 1, 'MPI-IO': 1, 'STDIO': 129}\n",
      "Name Records:   4\n",
      "Darshan/Hints:  {'lib_ver': '3.1.3', 'h': 'romio_no_indep_rw=true;cb_nodes=4'}\n",
      "DarshanReport:  id(140456393426032) (tmp)\n"
     ]
    }
   ],
   "source": [
    "r1 = darshan.DarshanReport(\"example.darshan\", read_all=True)  # Default behavior\n",
    "r1.info()"
   ]
  },
  {
   "cell_type": "code",
   "execution_count": 8,
   "metadata": {},
   "outputs": [
    {
     "data": {
      "text/plain": [
       "{'POSIX': [{'id': 6301063301082038805,\n",
       "   'rank': -1,\n",
       "   'counters': array([                2049, 18446744073709551615, 18446744073709551615,\n",
       "                             0,                16402,                16404,\n",
       "                             0,                    0,                    0,\n",
       "                             0, 18446744073709551615, 18446744073709551615,\n",
       "                             0,                    0,                    0,\n",
       "                 2199023259968,                    0,        2199023261831,\n",
       "                             0,                    0,                    0,\n",
       "                         16384,                    0,                    0,\n",
       "                             8,                16401,              1048576,\n",
       "                             0,            134217728,                    0,\n",
       "                             0,                    0,                    0,\n",
       "                             0,                    0,                    0,\n",
       "                             0,                    0,                    0,\n",
       "                             4,                   14,                    0,\n",
       "                             0,                    0,                    0,\n",
       "                             0,                    0,                16384,\n",
       "                             0,         274743689216,         274743691264,\n",
       "                             0,                    0,                10240,\n",
       "                          4096,                    0,                    0,\n",
       "                     134217728,                  272,                  544,\n",
       "                           328,                16384,                    8,\n",
       "                             2], dtype=uint64),\n",
       "   'fcounters': array([ 2.04900000e+03, -1.00000000e+00, -1.00000000e+00,  0.00000000e+00,\n",
       "           1.64020000e+04,  1.64040000e+04,  0.00000000e+00,  0.00000000e+00,\n",
       "           0.00000000e+00,  0.00000000e+00, -1.00000000e+00, -1.00000000e+00,\n",
       "           0.00000000e+00,  0.00000000e+00,  0.00000000e+00,  2.19902326e+12,\n",
       "           0.00000000e+00,  2.19902326e+12,  0.00000000e+00,  0.00000000e+00,\n",
       "           0.00000000e+00,  1.63840000e+04,  0.00000000e+00,  0.00000000e+00,\n",
       "           8.00000000e+00,  1.64010000e+04,  1.04857600e+06,  0.00000000e+00,\n",
       "           1.34217728e+08,  0.00000000e+00,  0.00000000e+00,  0.00000000e+00,\n",
       "           0.00000000e+00,  0.00000000e+00,  0.00000000e+00,  0.00000000e+00,\n",
       "           0.00000000e+00,  0.00000000e+00,  0.00000000e+00,  4.00000000e+00,\n",
       "           1.40000000e+01,  0.00000000e+00,  0.00000000e+00,  0.00000000e+00,\n",
       "           0.00000000e+00,  0.00000000e+00,  0.00000000e+00,  1.63840000e+04,\n",
       "           0.00000000e+00,  2.74743689e+11,  2.74743691e+11,  0.00000000e+00,\n",
       "           0.00000000e+00,  1.02400000e+04,  4.09600000e+03,  0.00000000e+00,\n",
       "           0.00000000e+00,  1.34217728e+08,  2.72000000e+02,  5.44000000e+02,\n",
       "           3.28000000e+02,  1.63840000e+04,  8.00000000e+00,  2.00000000e+00])}],\n",
       " 'MPI-IO': [{'id': 6301063301082038805,\n",
       "   'rank': -1,\n",
       "   'counters': array([            0,          2048,             0,            18,\n",
       "                      0,         16384,             0,             0,\n",
       "                      0,             0,             0,             0,\n",
       "                  32768,             9,             0, 2199023259968,\n",
       "                      0,             0,     134217728,             0,\n",
       "                      0,             0,             0,             0,\n",
       "                      0,             0,             0,             0,\n",
       "                      0,             4,            14,             0,\n",
       "                      0,             0,             0,             0,\n",
       "                      0,         16384,             0,     134217728,\n",
       "                    272,           544,           328,         16384,\n",
       "                      8,             2,             2,           597,\n",
       "             1073741824,          1312,    1073741824], dtype=uint64),\n",
       "   'fcounters': array([0.00000000e+00, 2.04800000e+03, 0.00000000e+00, 1.80000000e+01,\n",
       "          0.00000000e+00, 1.63840000e+04, 0.00000000e+00, 0.00000000e+00,\n",
       "          0.00000000e+00, 0.00000000e+00, 0.00000000e+00, 0.00000000e+00,\n",
       "          3.27680000e+04, 9.00000000e+00, 0.00000000e+00, 2.19902326e+12,\n",
       "          0.00000000e+00, 0.00000000e+00, 1.34217728e+08, 0.00000000e+00,\n",
       "          0.00000000e+00, 0.00000000e+00, 0.00000000e+00, 0.00000000e+00,\n",
       "          0.00000000e+00, 0.00000000e+00, 0.00000000e+00, 0.00000000e+00,\n",
       "          0.00000000e+00, 4.00000000e+00, 1.40000000e+01, 0.00000000e+00,\n",
       "          0.00000000e+00, 0.00000000e+00, 0.00000000e+00, 0.00000000e+00,\n",
       "          0.00000000e+00, 1.63840000e+04, 0.00000000e+00, 1.34217728e+08,\n",
       "          2.72000000e+02, 5.44000000e+02, 3.28000000e+02, 1.63840000e+04,\n",
       "          8.00000000e+00, 2.00000000e+00, 2.00000000e+00, 5.97000000e+02,\n",
       "          1.07374182e+09, 1.31200000e+03, 1.07374182e+09])}],\n",
       " 'STDIO': [{'id': 15920181672442173319,\n",
       "   'rank': 0,\n",
       "   'counters': array([                   1, 18446744073709551615,                    0,\n",
       "                             6,                    0,                    0,\n",
       "                           280,                    0,                    0,\n",
       "                           279,                    0,                    0,\n",
       "                             0], dtype=uint64),\n",
       "   'fcounters': array([  1.,  -1.,   0.,   6.,   0.,   0., 280.,   0.,   0., 279.,   0.,\n",
       "            0.,   0.])}]}"
      ]
     },
     "execution_count": 8,
     "metadata": {},
     "output_type": "execute_result"
    }
   ],
   "source": [
    "r1.filter(name_records=[6301063301082038805, 15920181672442173319]).records"
   ]
  }
 ],
 "metadata": {
  "kernelspec": {
   "display_name": "Python 3",
   "language": "python",
   "name": "python3"
  },
  "language_info": {
   "codemirror_mode": {
    "name": "ipython",
    "version": 3
   },
   "file_extension": ".py",
   "mimetype": "text/x-python",
   "name": "python",
   "nbconvert_exporter": "python",
   "pygments_lexer": "ipython3",
   "version": "3.6.10"
  }
 },
 "nbformat": 4,
 "nbformat_minor": 4
}
