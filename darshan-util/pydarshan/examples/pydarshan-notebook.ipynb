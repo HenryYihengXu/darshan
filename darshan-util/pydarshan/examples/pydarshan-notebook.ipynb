{
 "cells": [
  {
   "cell_type": "markdown",
   "metadata": {},
   "source": [
    "## Darshan Utils for Python\n",
    "\n",
    "This notebook inlcudes a few examples how to use the darshan-utils bindings for python."
   ]
  },
  {
   "cell_type": "code",
   "execution_count": 1,
   "metadata": {},
   "outputs": [],
   "source": [
    "import darshan\n",
    "log = darshan.log_open(\"example.darshan\")"
   ]
  },
  {
   "cell_type": "code",
   "execution_count": 2,
   "metadata": {},
   "outputs": [
    {
     "data": {
      "text/plain": [
       "{'jobid': 4478544,\n",
       " 'uid': 69615,\n",
       " 'start_time': 1490000867,\n",
       " 'end_time': 1490000983,\n",
       " 'metadata': {'lib_ver': '3.1.3', 'h': 'romio_no_indep_rw=true;cb_nodes=4'}}"
      ]
     },
     "execution_count": 2,
     "metadata": {},
     "output_type": "execute_result"
    }
   ],
   "source": [
    "darshan.log_get_job(log)"
   ]
  },
  {
   "cell_type": "code",
   "execution_count": 3,
   "metadata": {},
   "outputs": [
    {
     "data": {
      "text/plain": [
       "'/global/project/projectdirs/m888/glock/tokio-abc-results/bin.edison/vpicio_uni /scratch2/scratchdirs/glock/tokioabc-s.4478544/vpicio/vpicio.hdf5 32'"
      ]
     },
     "execution_count": 3,
     "metadata": {},
     "output_type": "execute_result"
    }
   ],
   "source": [
    "darshan.log_get_exe(log)"
   ]
  },
  {
   "cell_type": "code",
   "execution_count": 4,
   "metadata": {
    "scrolled": true
   },
   "outputs": [
    {
     "data": {
      "text/plain": [
       "[('/.shared/base/default/etc/dat.conf', 'dvs'),\n",
       " ('/usr/lib64/libibverbs.so.1.0.0', 'dvs'),\n",
       " ('/usr/lib64/libibumad.so.3.0.2', 'dvs'),\n",
       " ('/usr/lib64/librdmacm.so.1.0.0', 'dvs'),\n",
       " ('/usr/lib64/libibgni.so.1.0.0', 'dvs'),\n",
       " ('/global/cscratch1', 'lustre'),\n",
       " ('/global/projectb', 'dvs'),\n",
       " ('/global/projecta', 'dvs'),\n",
       " ('/usr/sbin/ibstat', 'dvs'),\n",
       " ('/global/project', 'dvs'),\n",
       " ('/global/common', 'dvs'),\n",
       " ('/global/syscom', 'dvs'),\n",
       " ('/global/dna', 'dvs'),\n",
       " ('/opt/slurm', 'dvs'),\n",
       " ('/global/u1', 'dvs'),\n",
       " ('/global/u2', 'dvs'),\n",
       " ('/scratch1', 'lustre'),\n",
       " ('/scratch2', 'lustre'),\n",
       " ('/scratch3', 'lustre'),\n",
       " ('/etc', 'dvs'),\n",
       " ('/', 'rootfs'),\n",
       " ('/', 'dvs')]"
      ]
     },
     "execution_count": 4,
     "metadata": {},
     "output_type": "execute_result"
    }
   ],
   "source": [
    "darshan.log_get_mounts(log)"
   ]
  },
  {
   "cell_type": "code",
   "execution_count": 5,
   "metadata": {
    "scrolled": true
   },
   "outputs": [
    {
     "data": {
      "text/plain": [
       "{'POSIX': {'len': 186, 'ver': 3, 'idx': 1},\n",
       " 'MPI-IO': {'len': 154, 'ver': 2, 'idx': 2},\n",
       " 'LUSTRE': {'len': 87, 'ver': 1, 'idx': 6},\n",
       " 'STDIO': {'len': 3234, 'ver': 1, 'idx': 7}}"
      ]
     },
     "execution_count": 5,
     "metadata": {},
     "output_type": "execute_result"
    }
   ],
   "source": [
    "darshan.log_get_modules(log)"
   ]
  },
  {
   "cell_type": "code",
   "execution_count": null,
   "metadata": {},
   "outputs": [],
   "source": []
  },
  {
   "cell_type": "markdown",
   "metadata": {},
   "source": [
    "### Exploring Available Counters\n",
    "\n",
    "Each Darshan module comes with it's own counters which can be easily listed using the `counter_names()` and `counterf_names()` functions."
   ]
  },
  {
   "cell_type": "code",
   "execution_count": 6,
   "metadata": {
    "scrolled": true
   },
   "outputs": [
    {
     "data": {
      "text/plain": [
       "['POSIX_OPENS',\n",
       " 'POSIX_FILENOS',\n",
       " 'POSIX_DUPS',\n",
       " 'POSIX_READS',\n",
       " 'POSIX_WRITES',\n",
       " 'POSIX_SEEKS',\n",
       " 'POSIX_STATS',\n",
       " 'POSIX_MMAPS',\n",
       " 'POSIX_FSYNCS',\n",
       " 'POSIX_FDSYNCS',\n",
       " 'POSIX_RENAME_SOURCES',\n",
       " 'POSIX_RENAME_TARGETS',\n",
       " 'POSIX_RENAMED_FROM',\n",
       " 'POSIX_MODE',\n",
       " 'POSIX_BYTES_READ',\n",
       " 'POSIX_BYTES_WRITTEN',\n",
       " 'POSIX_MAX_BYTE_READ',\n",
       " 'POSIX_MAX_BYTE_WRITTEN',\n",
       " 'POSIX_CONSEC_READS',\n",
       " 'POSIX_CONSEC_WRITES',\n",
       " 'POSIX_SEQ_READS',\n",
       " 'POSIX_SEQ_WRITES',\n",
       " 'POSIX_RW_SWITCHES',\n",
       " 'POSIX_MEM_NOT_ALIGNED',\n",
       " 'POSIX_MEM_ALIGNMENT',\n",
       " 'POSIX_FILE_NOT_ALIGNED',\n",
       " 'POSIX_FILE_ALIGNMENT',\n",
       " 'POSIX_MAX_READ_TIME_SIZE',\n",
       " 'POSIX_MAX_WRITE_TIME_SIZE',\n",
       " 'POSIX_SIZE_READ_0_100',\n",
       " 'POSIX_SIZE_READ_100_1K',\n",
       " 'POSIX_SIZE_READ_1K_10K',\n",
       " 'POSIX_SIZE_READ_10K_100K',\n",
       " 'POSIX_SIZE_READ_100K_1M',\n",
       " 'POSIX_SIZE_READ_1M_4M',\n",
       " 'POSIX_SIZE_READ_4M_10M',\n",
       " 'POSIX_SIZE_READ_10M_100M',\n",
       " 'POSIX_SIZE_READ_100M_1G',\n",
       " 'POSIX_SIZE_READ_1G_PLUS',\n",
       " 'POSIX_SIZE_WRITE_0_100',\n",
       " 'POSIX_SIZE_WRITE_100_1K',\n",
       " 'POSIX_SIZE_WRITE_1K_10K',\n",
       " 'POSIX_SIZE_WRITE_10K_100K',\n",
       " 'POSIX_SIZE_WRITE_100K_1M',\n",
       " 'POSIX_SIZE_WRITE_1M_4M',\n",
       " 'POSIX_SIZE_WRITE_4M_10M',\n",
       " 'POSIX_SIZE_WRITE_10M_100M',\n",
       " 'POSIX_SIZE_WRITE_100M_1G',\n",
       " 'POSIX_SIZE_WRITE_1G_PLUS',\n",
       " 'POSIX_STRIDE1_STRIDE',\n",
       " 'POSIX_STRIDE2_STRIDE',\n",
       " 'POSIX_STRIDE3_STRIDE',\n",
       " 'POSIX_STRIDE4_STRIDE',\n",
       " 'POSIX_STRIDE1_COUNT',\n",
       " 'POSIX_STRIDE2_COUNT',\n",
       " 'POSIX_STRIDE3_COUNT',\n",
       " 'POSIX_STRIDE4_COUNT',\n",
       " 'POSIX_ACCESS1_ACCESS',\n",
       " 'POSIX_ACCESS2_ACCESS',\n",
       " 'POSIX_ACCESS3_ACCESS',\n",
       " 'POSIX_ACCESS4_ACCESS',\n",
       " 'POSIX_ACCESS1_COUNT',\n",
       " 'POSIX_ACCESS2_COUNT',\n",
       " 'POSIX_ACCESS3_COUNT',\n",
       " 'POSIX_ACCESS4_COUNT',\n",
       " 'POSIX_FASTEST_RANK',\n",
       " 'POSIX_FASTEST_RANK_BYTES',\n",
       " 'POSIX_SLOWEST_RANK',\n",
       " 'POSIX_SLOWEST_RANK_BYTES']"
      ]
     },
     "execution_count": 6,
     "metadata": {},
     "output_type": "execute_result"
    }
   ],
   "source": [
    "darshan.counter_names(\"posix\")\n",
    "# also note f counters: darshan.fcounter_names(\"posix\")"
   ]
  },
  {
   "cell_type": "code",
   "execution_count": 7,
   "metadata": {
    "scrolled": true
   },
   "outputs": [
    {
     "data": {
      "text/plain": [
       "['MPIIO_INDEP_OPENS',\n",
       " 'MPIIO_COLL_OPENS',\n",
       " 'MPIIO_INDEP_READS',\n",
       " 'MPIIO_INDEP_WRITES',\n",
       " 'MPIIO_COLL_READS',\n",
       " 'MPIIO_COLL_WRITES',\n",
       " 'MPIIO_SPLIT_READS',\n",
       " 'MPIIO_SPLIT_WRITES',\n",
       " 'MPIIO_NB_READS',\n",
       " 'MPIIO_NB_WRITES',\n",
       " 'MPIIO_SYNCS',\n",
       " 'MPIIO_HINTS',\n",
       " 'MPIIO_VIEWS',\n",
       " 'MPIIO_MODE',\n",
       " 'MPIIO_BYTES_READ',\n",
       " 'MPIIO_BYTES_WRITTEN',\n",
       " 'MPIIO_RW_SWITCHES',\n",
       " 'MPIIO_MAX_READ_TIME_SIZE',\n",
       " 'MPIIO_MAX_WRITE_TIME_SIZE',\n",
       " 'MPIIO_SIZE_READ_AGG_0_100',\n",
       " 'MPIIO_SIZE_READ_AGG_100_1K',\n",
       " 'MPIIO_SIZE_READ_AGG_1K_10K',\n",
       " 'MPIIO_SIZE_READ_AGG_10K_100K',\n",
       " 'MPIIO_SIZE_READ_AGG_100K_1M',\n",
       " 'MPIIO_SIZE_READ_AGG_1M_4M',\n",
       " 'MPIIO_SIZE_READ_AGG_4M_10M',\n",
       " 'MPIIO_SIZE_READ_AGG_10M_100M',\n",
       " 'MPIIO_SIZE_READ_AGG_100M_1G',\n",
       " 'MPIIO_SIZE_READ_AGG_1G_PLUS',\n",
       " 'MPIIO_SIZE_WRITE_AGG_0_100',\n",
       " 'MPIIO_SIZE_WRITE_AGG_100_1K',\n",
       " 'MPIIO_SIZE_WRITE_AGG_1K_10K',\n",
       " 'MPIIO_SIZE_WRITE_AGG_10K_100K',\n",
       " 'MPIIO_SIZE_WRITE_AGG_100K_1M',\n",
       " 'MPIIO_SIZE_WRITE_AGG_1M_4M',\n",
       " 'MPIIO_SIZE_WRITE_AGG_4M_10M',\n",
       " 'MPIIO_SIZE_WRITE_AGG_10M_100M',\n",
       " 'MPIIO_SIZE_WRITE_AGG_100M_1G',\n",
       " 'MPIIO_SIZE_WRITE_AGG_1G_PLUS',\n",
       " 'MPIIO_ACCESS1_ACCESS',\n",
       " 'MPIIO_ACCESS2_ACCESS',\n",
       " 'MPIIO_ACCESS3_ACCESS',\n",
       " 'MPIIO_ACCESS4_ACCESS',\n",
       " 'MPIIO_ACCESS1_COUNT',\n",
       " 'MPIIO_ACCESS2_COUNT',\n",
       " 'MPIIO_ACCESS3_COUNT',\n",
       " 'MPIIO_ACCESS4_COUNT',\n",
       " 'MPIIO_FASTEST_RANK',\n",
       " 'MPIIO_FASTEST_RANK_BYTES',\n",
       " 'MPIIO_SLOWEST_RANK',\n",
       " 'MPIIO_SLOWEST_RANK_BYTES']"
      ]
     },
     "execution_count": 7,
     "metadata": {},
     "output_type": "execute_result"
    }
   ],
   "source": [
    "darshan.counter_names(\"mpiio\")\n",
    "# also note f counters: darshan.fcounter_names(\"mpiio\")"
   ]
  },
  {
   "cell_type": "code",
   "execution_count": 8,
   "metadata": {
    "scrolled": true
   },
   "outputs": [
    {
     "data": {
      "text/plain": [
       "['STDIO_OPENS',\n",
       " 'STDIO_FDOPENS',\n",
       " 'STDIO_READS',\n",
       " 'STDIO_WRITES',\n",
       " 'STDIO_SEEKS',\n",
       " 'STDIO_FLUSHES',\n",
       " 'STDIO_BYTES_WRITTEN',\n",
       " 'STDIO_BYTES_READ',\n",
       " 'STDIO_MAX_BYTE_READ',\n",
       " 'STDIO_MAX_BYTE_WRITTEN',\n",
       " 'STDIO_FASTEST_RANK',\n",
       " 'STDIO_FASTEST_RANK_BYTES',\n",
       " 'STDIO_SLOWEST_RANK',\n",
       " 'STDIO_SLOWEST_RANK_BYTES']"
      ]
     },
     "execution_count": 8,
     "metadata": {},
     "output_type": "execute_result"
    }
   ],
   "source": [
    "darshan.counter_names(\"stdio\")\n",
    "# also note f counters: darshan.fcounter_names(\"stdio\")"
   ]
  },
  {
   "cell_type": "code",
   "execution_count": 9,
   "metadata": {
    "scrolled": true
   },
   "outputs": [
    {
     "data": {
      "text/plain": [
       "{'counters': array([                2049, 18446744073709551615, 18446744073709551615,\n",
       "                           0,                16402,                16404,\n",
       "                           0,                    0,                    0,\n",
       "                           0, 18446744073709551615, 18446744073709551615,\n",
       "                           0,                    0,                    0,\n",
       "               2199023259968,                    0,        2199023261831,\n",
       "                           0,                    0,                    0,\n",
       "                       16384,                    0,                    0,\n",
       "                           8,                16401,              1048576,\n",
       "                           0,            134217728,                    0,\n",
       "                           0,                    0,                    0,\n",
       "                           0,                    0,                    0,\n",
       "                           0,                    0,                    0,\n",
       "                           4,                   14,                    0,\n",
       "                           0,                    0,                    0,\n",
       "                           0,                    0,                16384,\n",
       "                           0,         274743689216,         274743691264,\n",
       "                           0,                    0,                10240,\n",
       "                        4096,                    0,                    0,\n",
       "                   134217728,                  272,                  544,\n",
       "                         328,                16384,                    8,\n",
       "                           2], dtype=uint64),\n",
       " 'fcounters': array([ 2.04900000e+03, -1.00000000e+00, -1.00000000e+00,  0.00000000e+00,\n",
       "         1.64020000e+04,  1.64040000e+04,  0.00000000e+00,  0.00000000e+00,\n",
       "         0.00000000e+00,  0.00000000e+00, -1.00000000e+00, -1.00000000e+00,\n",
       "         0.00000000e+00,  0.00000000e+00,  0.00000000e+00,  2.19902326e+12,\n",
       "         0.00000000e+00,  2.19902326e+12,  0.00000000e+00,  0.00000000e+00,\n",
       "         0.00000000e+00,  1.63840000e+04,  0.00000000e+00,  0.00000000e+00,\n",
       "         8.00000000e+00,  1.64010000e+04,  1.04857600e+06,  0.00000000e+00,\n",
       "         1.34217728e+08,  0.00000000e+00,  0.00000000e+00,  0.00000000e+00,\n",
       "         0.00000000e+00,  0.00000000e+00,  0.00000000e+00,  0.00000000e+00,\n",
       "         0.00000000e+00,  0.00000000e+00,  0.00000000e+00,  4.00000000e+00,\n",
       "         1.40000000e+01,  0.00000000e+00,  0.00000000e+00,  0.00000000e+00,\n",
       "         0.00000000e+00,  0.00000000e+00,  0.00000000e+00,  1.63840000e+04,\n",
       "         0.00000000e+00,  2.74743689e+11,  2.74743691e+11,  0.00000000e+00,\n",
       "         0.00000000e+00,  1.02400000e+04,  4.09600000e+03,  0.00000000e+00,\n",
       "         0.00000000e+00,  1.34217728e+08,  2.72000000e+02,  5.44000000e+02,\n",
       "         3.28000000e+02,  1.63840000e+04,  8.00000000e+00,  2.00000000e+00])}"
      ]
     },
     "execution_count": 9,
     "metadata": {},
     "output_type": "execute_result"
    }
   ],
   "source": [
    "posix_record = darshan.log_get_posix_record(log)\n",
    "posix_record"
   ]
  },
  {
   "cell_type": "code",
   "execution_count": 10,
   "metadata": {},
   "outputs": [
    {
     "data": {
      "text/plain": [
       "16402"
      ]
     },
     "execution_count": 10,
     "metadata": {},
     "output_type": "execute_result"
    }
   ],
   "source": [
    "# access a single field\n",
    "posix_record['counters'][darshan.counter_names(\"POSIX\").index('POSIX_WRITES')]"
   ]
  },
  {
   "cell_type": "code",
   "execution_count": 11,
   "metadata": {
    "scrolled": true
   },
   "outputs": [
    {
     "data": {
      "text/plain": [
       "{'POSIX_OPENS': 2049,\n",
       " 'POSIX_FILENOS': 18446744073709551615,\n",
       " 'POSIX_DUPS': 18446744073709551615,\n",
       " 'POSIX_READS': 0,\n",
       " 'POSIX_WRITES': 16402,\n",
       " 'POSIX_SEEKS': 16404,\n",
       " 'POSIX_STATS': 0,\n",
       " 'POSIX_MMAPS': 0,\n",
       " 'POSIX_FSYNCS': 0,\n",
       " 'POSIX_FDSYNCS': 0,\n",
       " 'POSIX_RENAME_SOURCES': 18446744073709551615,\n",
       " 'POSIX_RENAME_TARGETS': 18446744073709551615,\n",
       " 'POSIX_RENAMED_FROM': 0,\n",
       " 'POSIX_MODE': 0,\n",
       " 'POSIX_BYTES_READ': 0,\n",
       " 'POSIX_BYTES_WRITTEN': 2199023259968,\n",
       " 'POSIX_MAX_BYTE_READ': 0,\n",
       " 'POSIX_MAX_BYTE_WRITTEN': 2199023261831,\n",
       " 'POSIX_CONSEC_READS': 0,\n",
       " 'POSIX_CONSEC_WRITES': 0,\n",
       " 'POSIX_SEQ_READS': 0,\n",
       " 'POSIX_SEQ_WRITES': 16384,\n",
       " 'POSIX_RW_SWITCHES': 0,\n",
       " 'POSIX_MEM_NOT_ALIGNED': 0,\n",
       " 'POSIX_MEM_ALIGNMENT': 8,\n",
       " 'POSIX_FILE_NOT_ALIGNED': 16401,\n",
       " 'POSIX_FILE_ALIGNMENT': 1048576,\n",
       " 'POSIX_MAX_READ_TIME_SIZE': 0,\n",
       " 'POSIX_MAX_WRITE_TIME_SIZE': 134217728,\n",
       " 'POSIX_SIZE_READ_0_100': 0,\n",
       " 'POSIX_SIZE_READ_100_1K': 0,\n",
       " 'POSIX_SIZE_READ_1K_10K': 0,\n",
       " 'POSIX_SIZE_READ_10K_100K': 0,\n",
       " 'POSIX_SIZE_READ_100K_1M': 0,\n",
       " 'POSIX_SIZE_READ_1M_4M': 0,\n",
       " 'POSIX_SIZE_READ_4M_10M': 0,\n",
       " 'POSIX_SIZE_READ_10M_100M': 0,\n",
       " 'POSIX_SIZE_READ_100M_1G': 0,\n",
       " 'POSIX_SIZE_READ_1G_PLUS': 0,\n",
       " 'POSIX_SIZE_WRITE_0_100': 4,\n",
       " 'POSIX_SIZE_WRITE_100_1K': 14,\n",
       " 'POSIX_SIZE_WRITE_1K_10K': 0,\n",
       " 'POSIX_SIZE_WRITE_10K_100K': 0,\n",
       " 'POSIX_SIZE_WRITE_100K_1M': 0,\n",
       " 'POSIX_SIZE_WRITE_1M_4M': 0,\n",
       " 'POSIX_SIZE_WRITE_4M_10M': 0,\n",
       " 'POSIX_SIZE_WRITE_10M_100M': 0,\n",
       " 'POSIX_SIZE_WRITE_100M_1G': 16384,\n",
       " 'POSIX_SIZE_WRITE_1G_PLUS': 0,\n",
       " 'POSIX_STRIDE1_STRIDE': 274743689216,\n",
       " 'POSIX_STRIDE2_STRIDE': 274743691264,\n",
       " 'POSIX_STRIDE3_STRIDE': 0,\n",
       " 'POSIX_STRIDE4_STRIDE': 0,\n",
       " 'POSIX_STRIDE1_COUNT': 10240,\n",
       " 'POSIX_STRIDE2_COUNT': 4096,\n",
       " 'POSIX_STRIDE3_COUNT': 0,\n",
       " 'POSIX_STRIDE4_COUNT': 0,\n",
       " 'POSIX_ACCESS1_ACCESS': 134217728,\n",
       " 'POSIX_ACCESS2_ACCESS': 272,\n",
       " 'POSIX_ACCESS3_ACCESS': 544,\n",
       " 'POSIX_ACCESS4_ACCESS': 328,\n",
       " 'POSIX_ACCESS1_COUNT': 16384,\n",
       " 'POSIX_ACCESS2_COUNT': 8,\n",
       " 'POSIX_ACCESS3_COUNT': 2}"
      ]
     },
     "execution_count": 11,
     "metadata": {},
     "output_type": "execute_result"
    }
   ],
   "source": [
    "dict(zip(darshan.counter_names(\"POSIX\"), posix_record['counters']))"
   ]
  },
  {
   "cell_type": "raw",
   "metadata": {},
   "source": [
    "record = darshan.log_get_stdio_record(log)\n",
    "record['counters']\n",
    "\n",
    "dict(zip(darshan.counter_names(\"STDIO\"), record['counters']))"
   ]
  },
  {
   "cell_type": "markdown",
   "metadata": {},
   "source": [
    "## Plotting\n",
    "\n",
    "In addition to darshan log access, a number of functions to generate plots commonly found in darshan reports are provided in the plots submodule. To render a plot import from `darshan.plots` and generate the desired chart as follows:"
   ]
  },
  {
   "cell_type": "code",
   "execution_count": 12,
   "metadata": {},
   "outputs": [],
   "source": [
    "%matplotlib inline"
   ]
  },
  {
   "cell_type": "code",
   "execution_count": 13,
   "metadata": {},
   "outputs": [
    {
     "data": {
      "image/png": "[encoded data removed]",
      "text/plain": [
       "<Figure size 432x288 with 1 Axes>"
      ]
     },
     "metadata": {
      "needs_background": "light"
     },
     "output_type": "display_data"
    }
   ],
   "source": [
    "# OP COUNTS\n",
    "import darshan\n",
    "log = darshan.log_open(\"example.darshan\")\n",
    "\n",
    "from darshan.plots.matplotlib import plot_opcounts\n",
    "plot_opcounts(log)"
   ]
  },
  {
   "cell_type": "code",
   "execution_count": 14,
   "metadata": {},
   "outputs": [
    {
     "name": "stdout",
     "output_type": "stream",
     "text": [
      "log: <cdata 'void *' 0x55fb1eea8040>\n",
      "filter: posix\n",
      "data: None\n"
     ]
    },
    {
     "data": {
      "image/png": "[encoded data removed]",
      "text/plain": [
       "<Figure size 432x288 with 1 Axes>"
      ]
     },
     "metadata": {
      "needs_background": "light"
     },
     "output_type": "display_data"
    }
   ],
   "source": [
    "# HIST POSIX\n",
    "import darshan\n",
    "log = darshan.log_open(\"example.darshan\")\n",
    "\n",
    "from darshan.plots.matplotlib import plot_access_histogram\n",
    "plot_access_histogram(log, filter=\"posix\")"
   ]
  },
  {
   "cell_type": "code",
   "execution_count": 15,
   "metadata": {},
   "outputs": [
    {
     "name": "stdout",
     "output_type": "stream",
     "text": [
      "log: <cdata 'void *' 0x55fb1e770e20>\n",
      "filter: mpiio\n",
      "data: None\n"
     ]
    },
    {
     "data": {
      "image/png": "[encoded data removed]",
      "text/plain": [
       "<Figure size 432x288 with 1 Axes>"
      ]
     },
     "metadata": {
      "needs_background": "light"
     },
     "output_type": "display_data"
    }
   ],
   "source": [
    "# HIST MPIIO\n",
    "import darshan\n",
    "log = darshan.log_open(\"example.darshan\")\n",
    "\n",
    "from darshan.plots.matplotlib import plot_access_histogram\n",
    "plot_access_histogram(log, filter=\"mpiio\")"
   ]
  },
  {
   "cell_type": "markdown",
   "metadata": {},
   "source": [
    "### Close logs to release resources\n",
    "Closing log files helps the system to free memory especially when many log files are analysed and memory can become a constraint."
   ]
  },
  {
   "cell_type": "code",
   "execution_count": null,
   "metadata": {},
   "outputs": [],
   "source": [
    "darshan.log_close(log)"
   ]
  },
  {
   "cell_type": "code",
   "execution_count": null,
   "metadata": {},
   "outputs": [],
   "source": []
  }
 ],
 "metadata": {
  "kernelspec": {
   "display_name": "Python 3",
   "language": "python",
   "name": "python3"
  },
  "language_info": {
   "codemirror_mode": {
    "name": "ipython",
    "version": 3
   },
   "file_extension": ".py",
   "mimetype": "text/x-python",
   "name": "python",
   "nbconvert_exporter": "python",
   "pygments_lexer": "ipython3",
   "version": "3.7.4"
  }
 },
 "nbformat": 4,
 "nbformat_minor": 2
}
