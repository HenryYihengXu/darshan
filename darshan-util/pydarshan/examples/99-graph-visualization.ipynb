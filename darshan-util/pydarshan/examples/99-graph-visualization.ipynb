{
 "cells": [
  {
   "cell_type": "markdown",
   "metadata": {},
   "source": [
    "# Visualizing Multiprocess Dataflows\n",
    "\n",
    "Scientific applications can be the composition of many different services often spread across smaller processes and building blocks.\n",
    "While this streamlines software engineering and recomposition it can be much harder to analyse I/O behavior in a network of independent applications.\n",
    "This demonstration walks through the process of reconstructing data flows between different darshan instrumented applications using networkx and holoviews."
   ]
  },
  {
   "cell_type": "code",
   "execution_count": 25,
   "metadata": {},
   "outputs": [],
   "source": [
    "import darshan\n",
    "darshan.enable_experimental()"
   ]
  },
  {
   "cell_type": "code",
   "execution_count": 26,
   "metadata": {},
   "outputs": [
    {
     "data": {
      "text/plain": [
       "['darshan-graph/pq_app_read_id71317_7-31-5657-2037904274838284930_55623.darshan',\n",
       " 'darshan-graph/pq_app_read_id71344_7-31-5658-2037904274838284930_55623.darshan',\n",
       " 'darshan-graph/pq_app_write_id71303_7-31-5657-2037904274838284930_55623.darshan',\n",
       " 'darshan-graph/pq_app_write_id71310_7-31-5657-2037904274838284930_55623.darshan',\n",
       " 'darshan-graph/pq_app_write_id71296_7-31-5657-2037904274838284930_55623.darshan',\n",
       " 'darshan-graph/pq_app_readAB_writeC_id71326_7-31-5658-2037904274838284930_55623.darshan']"
      ]
     },
     "execution_count": 26,
     "metadata": {},
     "output_type": "execute_result"
    }
   ],
   "source": [
    "# find relevant darshan logs\n",
    "import glob\n",
    "darshan_logs = glob.glob(\"darshan-graph/*.darshan\")\n",
    "darshan_logs"
   ]
  },
  {
   "cell_type": "code",
   "execution_count": null,
   "metadata": {},
   "outputs": [],
   "source": []
  },
  {
   "cell_type": "code",
   "execution_count": 27,
   "metadata": {},
   "outputs": [],
   "source": [
    "# Optionally, get an overview of what is in the logs\n",
    "def print_infos(darshan_logs):\n",
    "    for log in darshan_logs:\n",
    "        report = darshan.DarshanReport(log, read_all=True)  # Default behavior\n",
    "        report.info()\n",
    "        print(report.name_records)\n",
    "        print()\n",
    "        \n",
    "#print_infos(darshan_logs) # uncomment, to show"
   ]
  },
  {
   "cell_type": "code",
   "execution_count": null,
   "metadata": {},
   "outputs": [],
   "source": []
  },
  {
   "cell_type": "markdown",
   "metadata": {},
   "source": [
    "### Aggregating and Populating a Graph Representation\n",
    "\n",
    "A suitable data structure to represent and analyse these relations are graphs. For this example we will use networkx, a powerfull python graph library to manage the data flow graph."
   ]
  },
  {
   "cell_type": "code",
   "execution_count": 28,
   "metadata": {},
   "outputs": [],
   "source": [
    "import networkx as nx\n",
    "\n",
    "# Empty graph to hold relationships\n",
    "G = nx.DiGraph()\n",
    "\n",
    "# Example Usage:\n",
    "# G.add_node(nodeid, attr1=\"\", attr2=42)\n",
    "# G.add_edge(src_nodeid, tgt_nodeid, attr5=82, attr32=\"\")"
   ]
  },
  {
   "cell_type": "code",
   "execution_count": 29,
   "metadata": {},
   "outputs": [
    {
     "name": "stdout",
     "output_type": "stream",
     "text": [
      "darshan-graph/pq_app_read_id71317_7-31-5657-2037904274838284930_55623.darshan\n",
      "/home/pq/p/software/darshan-pydarshan/darshan-util/pydarshan/examples/darshan-graph/A\n",
      "r 10000 w 0\n",
      "\n",
      "<STDOUT>\n",
      "r 0 w 696\n",
      "\n",
      "\n",
      "\n",
      "darshan-graph/pq_app_read_id71344_7-31-5658-2037904274838284930_55623.darshan\n",
      "/home/pq/p/software/darshan-pydarshan/darshan-util/pydarshan/examples/darshan-graph/C\n",
      "r 2300 w 0\n",
      "\n",
      "<STDOUT>\n",
      "r 0 w 696\n",
      "\n",
      "\n",
      "\n",
      "darshan-graph/pq_app_write_id71303_7-31-5657-2037904274838284930_55623.darshan\n",
      "/home/pq/p/software/darshan-pydarshan/darshan-util/pydarshan/examples/darshan-graph/B\n",
      "r 0 w 10000\n",
      "\n",
      "<STDOUT>\n",
      "r 0 w 756\n",
      "\n",
      "\n",
      "\n",
      "darshan-graph/pq_app_write_id71310_7-31-5657-2037904274838284930_55623.darshan\n",
      "/home/pq/p/software/darshan-pydarshan/darshan-util/pydarshan/examples/darshan-graph/Z\n",
      "r 0 w 10000\n",
      "\n",
      "<STDOUT>\n",
      "r 0 w 756\n",
      "\n",
      "\n",
      "\n",
      "darshan-graph/pq_app_write_id71296_7-31-5657-2037904274838284930_55623.darshan\n",
      "/home/pq/p/software/darshan-pydarshan/darshan-util/pydarshan/examples/darshan-graph/A\n",
      "r 0 w 10000\n",
      "\n",
      "<STDOUT>\n",
      "r 0 w 756\n",
      "\n",
      "\n",
      "\n",
      "darshan-graph/pq_app_readAB_writeC_id71326_7-31-5658-2037904274838284930_55623.darshan\n",
      "/home/pq/p/software/darshan-pydarshan/darshan-util/pydarshan/examples/darshan-graph/B\n",
      "r 10000 w 0\n",
      "\n",
      "/home/pq/p/software/darshan-pydarshan/darshan-util/pydarshan/examples/darshan-graph/C.locktest.0\n",
      "r 0 w 0\n",
      "\n",
      "/tmp/ompi.linux.1000/pid.71320/1/C_cid-0-71326.sm\n",
      "r 0 w 40\n",
      "\n",
      "/home/pq/p/software/darshan-pydarshan/darshan-util/pydarshan/examples/darshan-graph/C\n",
      "r 0 w 0\n",
      "\n",
      "/home/pq/p/software/darshan-pydarshan/darshan-util/pydarshan/examples/darshan-graph/A\n",
      "r 10000 w 0\n",
      "\n",
      "/home/pq/p/software/darshan-pydarshan/darshan-util/pydarshan/examples/darshan-graph/C.locktest.1\n",
      "r 0 w 0\n",
      "\n",
      "/home/pq/p/software/darshan-pydarshan/darshan-util/pydarshan/examples/darshan-graph/C.locktest.2\n",
      "r 0 w 0\n",
      "\n",
      "/home/pq/p/software/darshan-pydarshan/darshan-util/pydarshan/examples/darshan-graph/C.locktest.3\n",
      "r 0 w 0\n",
      "\n",
      "/home/pq/p/software/darshan-pydarshan/darshan-util/pydarshan/examples/darshan-graph/C\n",
      "r 0 w 8000\n",
      "\n",
      "<STDOUT>\n",
      "r 0 w 2128\n",
      "\n",
      "\n",
      "\n",
      "rwmax: 10000\n"
     ]
    }
   ],
   "source": [
    "# Determine largest dataflow, later used to normalize edge thickness\n",
    "rwmax = 0\n",
    "\n",
    "# A color map used to color by ntype\n",
    "node_color_map = {\n",
    "    \"app\": \"orange\",\n",
    "    \"file\": \"silver\"\n",
    "}\n",
    "\n",
    "\n",
    "\n",
    "# Loop through log files and populate graph with files and dataflows\n",
    "# Add a node for each log, and nodes for every file\n",
    "for i, log in enumerate(darshan_logs):  \n",
    "    \n",
    "    \n",
    "    print(log)\n",
    "    name = log\n",
    "    ntype = \"app\"\n",
    "\n",
    "    aidx = name\n",
    "    G.add_node(aidx, ntype=ntype, fill_color=node_color_map[ntype])\n",
    "        \n",
    "    r = darshan.DarshanReport(log, read_all=True)\n",
    "    #r.info()\n",
    "    \n",
    "    \n",
    "    # Aggregate records but preserve distinct name_records and modules\n",
    "    flows = r.reduce(mods=\"unique\", name_records=\"unique\").records\n",
    "    #print(flows)\n",
    "    \n",
    "    \n",
    "    # for each modules and filename add dataflows to graph as edges\n",
    "    for mod in flows:    \n",
    "        for rec in flows[mod]:\n",
    "            \n",
    "            name = r.name_records[rec['id']]\n",
    "            ntype = \"file\"\n",
    "\n",
    "            print(name)\n",
    "            bytesr = 0\n",
    "            bytesw = 0\n",
    "\n",
    "            # counters as dictionary:\n",
    "            cdic = dict(zip(r.counters[mod]['counters'], rec['counters']))\n",
    "            #print(cdic)\n",
    "            \n",
    "            \n",
    "            # Aggregate custom counters: Here total bytes read/written across levels\n",
    "            # Note: This may be inaccurate\n",
    "            if \"POSIX_BYTES_WRITTEN\" in cdic:\n",
    "                bytesw += cdic[\"POSIX_BYTES_WRITTEN\"]\n",
    "            if \"POSIX_BYTES_READ\" in cdic:\n",
    "                bytesr += cdic[\"POSIX_BYTES_READ\"]\n",
    "                \n",
    "            if \"STDIO_BYTES_WRITTEN\" in cdic:\n",
    "                bytesw += cdic[\"STDIO_BYTES_WRITTEN\"]\n",
    "            if \"STDIO_BYTES_WRITTEN\" in cdic:\n",
    "                bytesw += cdic[\"STDIO_BYTES_WRITTEN\"]\n",
    "                \n",
    "            if \"MPIIO_BYTES_WRITTEN\" in cdic:\n",
    "                bytesw += cdic[\"MPIIO_BYTES_WRITTEN\"]\n",
    "            if \"MPIIO_BYTES_READ\" in cdic:\n",
    "                bytesr += cdic[\"MPIIO_BYTES_READ\"]\n",
    "                \n",
    "                \n",
    "            print(\"r\", bytesr, \"w\", bytesw)\n",
    "\n",
    "            rwmax = max(rwmax, bytesr, bytesw)\n",
    "                \n",
    "            \n",
    "            \n",
    "            if name in ['<STDIN>', '<STDOUT>', '<STDERR>']:\n",
    "                # prefix stdX with logname, to prevent undesired relations\n",
    "                fidx = aidx + \"/\" + name\n",
    "            else:\n",
    "                fidx = name\n",
    "\n",
    "                \n",
    "            # add/update node which represents file\n",
    "            G.add_node(fidx, ntype=ntype, fill_color=node_color_map[ntype])\n",
    "\n",
    "            \n",
    "            # Add edges for read/write flows (also for zero-flows to associate lockfiles)\n",
    "            G.add_edge(aidx, fidx, op=\"w\", weight=bytesw+0.1)\n",
    "            G.add_edge(fidx, aidx, op=\"r\", weight=bytesr+0.1)\n",
    "            \n",
    "            # NOTE: Depending on the analysis: Do not add dataflows if 0 bytes read/written\n",
    "            #if bytesw > 0:\n",
    "            #    G.add_edge(aidx, fidx, op=\"w\", weight=bytesw+0.1)   \n",
    "            #if bytesr > 0:\n",
    "            #    G.add_edge(fidx, aidx, op=\"r\", weight=bytesr+0.1)\n",
    "\n",
    "            print()\n",
    "        \n",
    "    print()\n",
    "    print()\n",
    "\n",
    "        \n",
    "print(\"rwmax:\", rwmax)"
   ]
  },
  {
   "cell_type": "markdown",
   "metadata": {},
   "source": [
    "### Visualize and Explore\n",
    "\n",
    "Graph representations are especially useful for visualization. With holoviews fairly interactive graphs with tooltips on mouseover can be generated:"
   ]
  },
  {
   "cell_type": "code",
   "execution_count": 30,
   "metadata": {},
   "outputs": [
    {
     "data": {},
     "metadata": {},
     "output_type": "display_data"
    },
    {
     "data": {
      "application/vnd.holoviews_exec.v0+json": "",
      "text/html": [
       "<div id='2822'>\n",
       "\n",
       "\n",
       "\n",
       "\n",
       "\n",
       "  <div class=\"bk-root\" id=\"64270a89-1eda-43db-a483-f0370ef4b2ca\" data-root-id=\"2822\"></div>\n",
       "</div>\n",
       "<script type=\"application/javascript\">(function(root) {\n",
       "  function embed_document(root) {\n",
       "  var docs_json = {\"c4681c34-ad61-4f78-b622-dc51831beb7a\":{\"roots\":{\"references\":[{\"attributes\":{\"bottom_units\":\"screen\",\"fill_alpha\":0.5,\"fill_color\":\"lightgrey\",\"left_units\":\"screen\",\"level\":\"overlay\",\"line_alpha\":1.0,\"line_color\":\"black\",\"line_dash\":[4,4],\"line_width\":2,\"right_units\":\"screen\",\"top_units\":\"screen\"},\"id\":\"2850\",\"type\":\"BoxAnnotation\"},{\"attributes\":{},\"id\":\"2846\",\"type\":\"WheelZoomTool\"},{\"attributes\":{},\"id\":\"2845\",\"type\":\"PanTool\"},{\"attributes\":{},\"id\":\"2844\",\"type\":\"SaveTool\"},{\"attributes\":{\"margin\":[5,5,5,5],\"name\":\"HSpacer11841\",\"sizing_mode\":\"stretch_width\"},\"id\":\"2823\",\"type\":\"Spacer\"},{\"attributes\":{},\"id\":\"2886\",\"type\":\"BasicTickFormatter\"},{\"attributes\":{\"data\":{\"edge_line_width\":{\"__ndarray__\":\"Iv32deCcuT9cQj7o2azcP/Tb14FzZhRAIv32deCcuT/029eBc2YUQCL99nXgnLk/Iv32deCcuT9cQj7o2azcPznWxW00APQ/Iv32deCcuT8i/fZ14Jy5P/Tb14FzZhRARpT2Bl+Y3j8i/fZ14Jy5P/Tb14FzZhRAIv32deCcuT/029eBc2YUQEaU9gZfmN4/Iv32deCcuT8i/fZ14Jy5P/Tb14FzZhRARpT2Bl+Y3j8i/fZ14Jy5PyL99nXgnLk/Iv32deCcuT9BguLHmLu+P/Tb14FzZhBAIv32deCcuT8i/fZ14Jy5PyL99nXgnLk/Iv32deCcuT9yio7k8p/yPyL99nXgnLk/Iv32deCcuT8i/fZ14Jy5PyL99nXgnLk/Iv32deCcuT8i/fZ14Jy5Pw==\",\"dtype\":\"float64\",\"order\":\"little\",\"shape\":[38]},\"end\":{\"__ndarray__\":\"AQAAAAIAAAAAAAAADAAAAA4AAAAAAAAABAAAAAUAAAADAAAADgAAAAMAAAAHAAAACAAAAAYAAAAOAAAABgAAAAoAAAALAAAACQAAAAkAAAABAAAADQAAAAwAAAAHAAAADwAAABAAAAAEAAAAAQAAABEAAAASAAAAEwAAABQAAAAOAAAADgAAAA4AAAAOAAAADgAAAA4AAAA=\",\"dtype\":\"int32\",\"order\":\"little\",\"shape\":[38]},\"start\":{\"__ndarray__\":\"AAAAAAAAAAABAAAAAQAAAAEAAAACAAAAAwAAAAMAAAAEAAAABAAAAAUAAAAGAAAABgAAAAcAAAAHAAAACAAAAAkAAAAJAAAACgAAAAsAAAAMAAAADAAAAA0AAAAOAAAADgAAAA4AAAAOAAAADgAAAA4AAAAOAAAADgAAAA4AAAAPAAAAEAAAABEAAAASAAAAEwAAABQAAAA=\",\"dtype\":\"int32\",\"order\":\"little\",\"shape\":[38]},\"xs\":[{\"__ndarray__\":\"ZmZmZmanuEAAAAAAgLu0QAAAAAAAAPh/g335jcO3tUAAAAAAgLu0QO2SS+bGQ7VA\",\"dtype\":\"float64\",\"order\":\"little\",\"shape\":[6]},{\"__ndarray__\":\"ZmZmZmanuEBmZmZm5ta7QAAAAAAAAPh/yE+RyljZukBmZmZm5ta7QHWnmmqkSbtA\",\"dtype\":\"float64\",\"order\":\"little\",\"shape\":[6]},{\"__ndarray__\":\"AAAAAIC7tEBmZmZmZqe4QAAAAAAAAPh/4+hs2CKrt0BmZmZmZqe4QHnTGoAfH7hA\",\"dtype\":\"float64\",\"order\":\"little\",\"shape\":[6]},{\"__ndarray__\":\"AAAAAIC7tEBmZmZm5pO4QAAAAAAAAPh/ucekmlUQuEBmZmZm5pO4QNs9z/r0mLdA\",\"dtype\":\"float64\",\"order\":\"little\",\"shape\":[6]},{\"__ndarray__\":\"AAAAAIC7tEAzMzMzM8SrQAAAAAAAAPh/aHF+KXefrUAzMzMzM8SrQFs7Lyqjpq1A\",\"dtype\":\"float64\",\"order\":\"little\",\"shape\":[6]},{\"__ndarray__\":\"ZmZmZubWu0BmZmZmZqe4QAAAAAAAAPh/BH07AvSkuUBmZmZmZqe4QFYlMmKoNLlA\",\"dtype\":\"float64\",\"order\":\"little\",\"shape\":[6]},{\"__ndarray__\":\"zczMzMyuk0AzMzMzM2mhQAAAAAAAAPh/DKqit+laoEAzMzMzM2mhQPKyDYOU4p5A\",\"dtype\":\"float64\",\"order\":\"little\",\"shape\":[6]},{\"__ndarray__\":\"zczMzMyuk0CPwvUoXA9+QAAAAAAAAPh/0va2hsU3g0CPwvUoXA9+QOgcHmzO5IZA\",\"dtype\":\"float64\",\"order\":\"little\",\"shape\":[6]},{\"__ndarray__\":\"MzMzMzNpoUDNzMzMzK6TQAAAAAAAAPh/G9/tw1/LlUDNzMzMzK6TQEGAJbCenpdA\",\"dtype\":\"float64\",\"order\":\"little\",\"shape\":[6]},{\"__ndarray__\":\"MzMzMzNpoUAzMzMzM8SrQAAAAAAAAPh/gdD58ImbqkAzMzMzM8SrQOqnc1TUxalA\",\"dtype\":\"float64\",\"order\":\"little\",\"shape\":[6]},{\"__ndarray__\":\"j8L1KFwPfkDNzMzMzK6TQAAAAAAAAPh/B8KuE8GWkUDNzMzMzK6TQPld9kF5gI9A\",\"dtype\":\"float64\",\"order\":\"little\",\"shape\":[6]},{\"__ndarray__\":\"AAAAAACEnUDNzMzMzEakQAAAAAAAAPh/sHEZbyCMokDNzMzMzEakQHmu7mmHzKNA\",\"dtype\":\"float64\",\"order\":\"little\",\"shape\":[6]},{\"__ndarray__\":\"AAAAAACEnUBmZmZmZqaUQAAAAAAAAPh/oVoaIY0amEBmZmZmZqaUQK84yZm2mJVA\",\"dtype\":\"float64\",\"order\":\"little\",\"shape\":[6]},{\"__ndarray__\":\"zczMzMxGpEAAAAAAAISdQAAAAAAAAPh/HVuzXax8oEAAAAAAAISdQKg8vMWKeJ5A\",\"dtype\":\"float64\",\"order\":\"little\",\"shape\":[6]},{\"__ndarray__\":\"zczMzMxGpEAzMzMzM8SrQAAAAAAAAPh/cONXqfIAqkAzMzMzM8SrQFZWTjKIOatA\",\"dtype\":\"float64\",\"order\":\"little\",\"shape\":[6]},{\"__ndarray__\":\"ZmZmZmamlEAAAAAAAISdQAAAAAAAAPh/xQtMRdkPmkAAAAAAAISdQLctncyvkZxA\",\"dtype\":\"float64\",\"order\":\"little\",\"shape\":[6]},{\"__ndarray__\":\"ZmZmZuYDv0CamZmZmZHCQAAAAAAAAPh/JsHeGd4ZwkCamZmZmZHCQCbB3hneGcJA\",\"dtype\":\"float64\",\"order\":\"little\",\"shape\":[6]},{\"__ndarray__\":\"ZmZmZuYDv0AzMzMzM9y4QAAAAAAAAPh/HOSoMqrLuUAzMzMzM9y4QBzkqDKqy7lA\",\"dtype\":\"float64\",\"order\":\"little\",\"shape\":[6]},{\"__ndarray__\":\"mpmZmZmRwkBmZmZm5gO/QAAAAAAAAPh/TxfcZV3zv0BmZmZm5gO/QE8X3GVd879A\",\"dtype\":\"float64\",\"order\":\"little\",\"shape\":[6]},{\"__ndarray__\":\"MzMzMzPcuEBmZmZm5gO/QAAAAAAAAPh/fbXwZm8UvkBmZmZm5gO/QH218GZvFL5A\",\"dtype\":\"float64\",\"order\":\"little\",\"shape\":[6]},{\"__ndarray__\":\"ZmZmZuaTuEAAAAAAgLu0QAAAAAAAAPh/rZ7ByxA/tUAAAAAAgLu0QIsol2txtrVA\",\"dtype\":\"float64\",\"order\":\"little\",\"shape\":[6]},{\"__ndarray__\":\"ZmZmZuaTuECamZmZGb27QAAAAAAAAPh/VIBtEooyu0CamZmZGb27QBEQpSU7wLpA\",\"dtype\":\"float64\",\"order\":\"little\",\"shape\":[6]},{\"__ndarray__\":\"mpmZmRm9u0BmZmZm5pO4QAAAAAAAAPh/rH+S7XUeuUBmZmZm5pO4QO/vWtrEkLlA\",\"dtype\":\"float64\",\"order\":\"little\",\"shape\":[6]},{\"__ndarray__\":\"MzMzMzPEq0DNzMzMzEakQAAAAAAAAPh/kByoVg0KpkDNzMzMzEakQKqpsc130aRA\",\"dtype\":\"float64\",\"order\":\"little\",\"shape\":[6]},{\"__ndarray__\":\"MzMzMzPEq0DNzMzMzBOxQAAAAAAAAPh/TMXjTpUSsEDNzMzMzBOxQPCPpS6FdLBA\",\"dtype\":\"float64\",\"order\":\"little\",\"shape\":[6]},{\"__ndarray__\":\"MzMzMzPEq0AzMzMzMxukQAAAAAAAAPh/QqJk3WIWpkAzMzMzMxukQNaZ4oChzaVA\",\"dtype\":\"float64\",\"order\":\"little\",\"shape\":[6]},{\"__ndarray__\":\"MzMzMzPEq0AzMzMzM2mhQAAAAAAAAPh/5ZVsddyRokAzMzMzM2mhQHy+8hGSZ6NA\",\"dtype\":\"float64\",\"order\":\"little\",\"shape\":[6]},{\"__ndarray__\":\"MzMzMzPEq0AAAAAAgLu0QAAAAAAAAPh/5mDaBN7Ns0AAAAAAgLu0QOz7gQRIyrNA\",\"dtype\":\"float64\",\"order\":\"little\",\"shape\":[6]},{\"__ndarray__\":\"MzMzMzPEq0DNzMzMzICuQAAAAAAAAPh/SiM46hI7rUDNzMzMzICuQNRcapSit65A\",\"dtype\":\"float64\",\"order\":\"little\",\"shape\":[6]},{\"__ndarray__\":\"MzMzMzPEq0CamZmZmXaoQAAAAAAAAPh/ANxk3MuMqECamZmZmXaoQPtUcRKE9KlA\",\"dtype\":\"float64\",\"order\":\"little\",\"shape\":[6]},{\"__ndarray__\":\"MzMzMzPEq0AzMzMzM72rQAAAAAAAAPh/XyRLniaFrEAzMzMzM72rQGiljwhl+KpA\",\"dtype\":\"float64\",\"order\":\"little\",\"shape\":[6]},{\"__ndarray__\":\"MzMzMzPEq0AzMzMzM9mwQAAAAAAAAPh/H8LFRu9xsEAzMzMzM9mwQJB0Ttkm0K9A\",\"dtype\":\"float64\",\"order\":\"little\",\"shape\":[6]},{\"__ndarray__\":\"zczMzMwTsUAzMzMzM8SrQAAAAAAAAPh/NUIFL6LGrUAzMzMzM8SrQO2sgW/CAq1A\",\"dtype\":\"float64\",\"order\":\"little\",\"shape\":[6]},{\"__ndarray__\":\"MzMzMzMbpEAzMzMzM8SrQAAAAAAAAPh/JMQBiQPJqUAzMzMzM8SrQJDMg+XEEapA\",\"dtype\":\"float64\",\"order\":\"little\",\"shape\":[6]},{\"__ndarray__\":\"zczMzMyArkAzMzMzM8SrQAAAAAAAAPh/t9zHFe0JrUAzMzMzM8SrQCyjlWtdjatA\",\"dtype\":\"float64\",\"order\":\"little\",\"shape\":[6]},{\"__ndarray__\":\"mpmZmZl2qEAzMzMzM8SrQAAAAAAAAPh/zfBn8ACuq0AzMzMzM8SrQNJ3W7pIRqpA\",\"dtype\":\"float64\",\"order\":\"little\",\"shape\":[6]},{\"__ndarray__\":\"MzMzMzO9q0AzMzMzM8SrQAAAAAAAAPh/B0IbyD/8qkAzMzMzM8SrQP7A1l0BiaxA\",\"dtype\":\"float64\",\"order\":\"little\",\"shape\":[6]},{\"__ndarray__\":\"MzMzMzPZsEAzMzMzM8SrQAAAAAAAAPh/WxUODLuSrEAzMzMzM8SrQAklS8Bypq1A\",\"dtype\":\"float64\",\"order\":\"little\",\"shape\":[6]}],\"ys\":[{\"__ndarray__\":\"mpmZmZmzlkDNzMzMzAChQAAAAAAAAPh//NBxvriJoEDNzMzMzAChQKU8EBKwj55A\",\"dtype\":\"float64\",\"order\":\"little\",\"shape\":[6]},{\"__ndarray__\":\"mpmZmZmzlkCPwvUoXOeLQAAAAAAAAPh/G6SJ46KVjUCPwvUoXOeLQPvUc1f2WJFA\",\"dtype\":\"float64\",\"order\":\"little\",\"shape\":[6]},{\"__ndarray__\":\"zczMzMwAoUCamZmZmbOWQAAAAAAAAPh/PJFPtsGhl0CamZmZmbOWQI/2IiGDJZpA\",\"dtype\":\"float64\",\"order\":\"little\",\"shape\":[6]},{\"__ndarray__\":\"zczMzMwAoUAzMzMzM8ymQAAAAAAAAPh/0se/nY4NpUAzMzMzM8ymQKfRRQlwSqZA\",\"dtype\":\"float64\",\"order\":\"little\",\"shape\":[6]},{\"__ndarray__\":\"zczMzMwAoUBmZmZmZsGgQAAAAAAAAPh/3bh/a2eQoUBmZmZmZsGgQNNT+OG1A6BA\",\"dtype\":\"float64\",\"order\":\"little\",\"shape\":[6]},{\"__ndarray__\":\"j8L1KFzni0CamZmZmbOWQAAAAAAAAPh/1KhPPHbclUCamZmZmbOWQOaloFZRTpNA\",\"dtype\":\"float64\",\"order\":\"little\",\"shape\":[6]},{\"__ndarray__\":\"7FG4HoV7gkAzMzMzM0WUQAAAAAAAAPh/YQpoZYDQkEAzMzMzM0WUQKN/AQneUZNA\",\"dtype\":\"float64\",\"order\":\"little\",\"shape\":[6]},{\"__ndarray__\":\"7FG4HoV7gkAAAAAAAAAyQAAAAAAAAPh/2FPBjpj7bUAAAAAAAAAyQADS9tKtB1RA\",\"dtype\":\"float64\",\"order\":\"little\",\"shape\":[6]},{\"__ndarray__\":\"MzMzMzNFlEDsUbgehXuCQAAAAAAAAPh/kKNOuupkiUDsUbgehXuCQA25G3MvYoRA\",\"dtype\":\"float64\",\"order\":\"little\",\"shape\":[6]},{\"__ndarray__\":\"MzMzMzNFlEBmZmZmZsGgQAAAAAAAAPh/XT7tiZMwnkBmZmZmZsGgQL7cP1iSZqBA\",\"dtype\":\"float64\",\"order\":\"little\",\"shape\":[6]},{\"__ndarray__\":\"AAAAAAAAMkDsUbgehXuCQAAAAAAAAPh/7PkP9j0Zd0DsUbgehXuCQKx3WWSPioBA\",\"dtype\":\"float64\",\"order\":\"little\",\"shape\":[6]},{\"__ndarray__\":\"zczMzEzysEAzMzMzM1aqQAAAAAAAAPh/dgCcuPRjq0AzMzMzM1aqQAWcTqv2TaxA\",\"dtype\":\"float64\",\"order\":\"little\",\"shape\":[6]},{\"__ndarray__\":\"zczMzEzysEDNzMzMzP6zQAAAAAAAAPh/fU8E0G53s0DNzMzMzP6zQCxLXZzIArNA\",\"dtype\":\"float64\",\"order\":\"little\",\"shape\":[6]},{\"__ndarray__\":\"MzMzMzNWqkDNzMzMTPKwQAAAAAAAAPh/LGYYCmxrsEDNzMzMTPKwQMgwfiHW7K9A\",\"dtype\":\"float64\",\"order\":\"little\",\"shape\":[6]},{\"__ndarray__\":\"MzMzMzNWqkBmZmZmZsGgQAAAAAAAAPh/KxwtxIvAoUBmZmZmZsGgQH652RvmtKJA\",\"dtype\":\"float64\",\"order\":\"little\",\"shape\":[6]},{\"__ndarray__\":\"zczMzMz+s0DNzMzMTPKwQAAAAAAAAPh/HUqVyap5sUDNzMzMTPKwQG5OPP1Q7rFA\",\"dtype\":\"float64\",\"order\":\"little\",\"shape\":[6]},{\"__ndarray__\":\"AAAAAABMsUAAAAAAAEyxQAAAAAAAAPh/OSOEd8/osEAAAAAAAEyxQMfce4gwr7FA\",\"dtype\":\"float64\",\"order\":\"little\",\"shape\":[6]},{\"__ndarray__\":\"AAAAAABMsUAAAAAAAEyxQAAAAAAAAPh/x9x7iDCvsUAAAAAAAEyxQDkjhHfP6LBA\",\"dtype\":\"float64\",\"order\":\"little\",\"shape\":[6]},{\"__ndarray__\":\"AAAAAABMsUAAAAAAAEyxQAAAAAAAAPh/x9x7iDCvsUAAAAAAAEyxQDkjhHfP6LBA\",\"dtype\":\"float64\",\"order\":\"little\",\"shape\":[6]},{\"__ndarray__\":\"AAAAAABMsUAAAAAAAEyxQAAAAAAAAPh/OSOEd8/osEAAAAAAAEyxQMfce4gwr7FA\",\"dtype\":\"float64\",\"order\":\"little\",\"shape\":[6]},{\"__ndarray__\":\"MzMzMzPMpkDNzMzMzAChQAAAAAAAAPh/LjhAYnG/okDNzMzMzAChQFkuuvaPgqFA\",\"dtype\":\"float64\",\"order\":\"little\",\"shape\":[6]},{\"__ndarray__\":\"MzMzMzPMpkAzMzMzM0GrQAAAAAAAAPh/tJTKkhmLqUAzMzMzM0GrQO7GFO1ez6pA\",\"dtype\":\"float64\",\"order\":\"little\",\"shape\":[6]},{\"__ndarray__\":\"MzMzMzNBq0AzMzMzM8ymQAAAAAAAAPh/stGb00yCqEAzMzMzM8ymQHifUXkHPqdA\",\"dtype\":\"float64\",\"order\":\"little\",\"shape\":[6]},{\"__ndarray__\":\"ZmZmZmbBoEAzMzMzM1aqQAAAAAAAAPh/bn1s1Q1XqUAzMzMzM1aqQBvgv32zYqhA\",\"dtype\":\"float64\",\"order\":\"little\",\"shape\":[6]},{\"__ndarray__\":\"ZmZmZmbBoEAAAAAAAEKaQAAAAAAAAPh/BNqXPdjBmkAAAAAAAEKaQCQJYDHrc51A\",\"dtype\":\"float64\",\"order\":\"little\",\"shape\":[6]},{\"__ndarray__\":\"ZmZmZmbBoEAzMzMzMy+iQAAAAAAAAPh/Pgi8T2SaokAzMzMzMy+iQBTxEH1cFKFA\",\"dtype\":\"float64\",\"order\":\"little\",\"shape\":[6]},{\"__ndarray__\":\"ZmZmZmbBoEAzMzMzM0WUQAAAAAAAAPh/osESdmyXl0AzMzMzM0WUQIRGgE/b+pRA\",\"dtype\":\"float64\",\"order\":\"little\",\"shape\":[6]},{\"__ndarray__\":\"ZmZmZmbBoEDNzMzMzAChQAAAAAAAAPh/Vnqzx8sxoEDNzMzMzAChQGDfOlF9vqFA\",\"dtype\":\"float64\",\"order\":\"little\",\"shape\":[6]},{\"__ndarray__\":\"ZmZmZmbBoEApXI/C9eSNQAAAAAAAAPh/pVC3fAcZkkApXI/C9eSNQPa2s1Zx+ZJA\",\"dtype\":\"float64\",\"order\":\"little\",\"shape\":[6]},{\"__ndarray__\":\"ZmZmZmbBoEBmZmZmZlCTQAAAAAAAAPh/w/mFiDpcl0BmZmZmZlCTQFr8sXtzDZZA\",\"dtype\":\"float64\",\"order\":\"little\",\"shape\":[6]},{\"__ndarray__\":\"ZmZmZmbBoEAAAAAAABWpQAAAAAAAAPh/8CM8cLk2p0AAAAAAABWpQM7vZ+RrNadA\",\"dtype\":\"float64\",\"order\":\"little\",\"shape\":[6]},{\"__ndarray__\":\"ZmZmZmbBoECamZmZmXymQAAAAAAAAPh/d76r7iChpECamZmZmXymQGO1zyFuvqVA\",\"dtype\":\"float64\",\"order\":\"little\",\"shape\":[6]},{\"__ndarray__\":\"AAAAAABCmkBmZmZmZsGgQAAAAAAAAPh/ZHmaR3qBoEBmZmZmZsGgQKjDbJvhUJ5A\",\"dtype\":\"float64\",\"order\":\"little\",\"shape\":[6]},{\"__ndarray__\":\"MzMzMzMvokBmZmZmZsGgQAAAAAAAAPh/W5HdSTVWoEBmZmZmZsGgQIWoiBw93KFA\",\"dtype\":\"float64\",\"order\":\"little\",\"shape\":[6]},{\"__ndarray__\":\"KVyPwvXkjUBmZmZmZsGgQAAAAAAAAPh/OypdMUBcnkBmZmZmZsGgQOrDYFfWe51A\",\"dtype\":\"float64\",\"order\":\"little\",\"shape\":[6]},{\"__ndarray__\":\"ZmZmZmZQk0BmZmZmZsGgQAAAAAAAAPh/bzmtqvh2nUBmZmZmZsGgQNg2gbe/xZ5A\",\"dtype\":\"float64\",\"order\":\"little\",\"shape\":[6]},{\"__ndarray__\":\"AAAAAAAVqUBmZmZmZsGgQAAAAAAAAPh/dkIq9qyfokBmZmZmZsGgQJh2/oH6oKJA\",\"dtype\":\"float64\",\"order\":\"little\",\"shape\":[6]},{\"__ndarray__\":\"mpmZmZl8pkBmZmZmZsGgQAAAAAAAAPh/iUFUEd+cokBmZmZmZsGgQJ1KMN6Rf6FA\",\"dtype\":\"float64\",\"order\":\"little\",\"shape\":[6]}]},\"selected\":{\"id\":\"2898\"},\"selection_policy\":{\"id\":\"2897\"}},\"id\":\"2860\",\"type\":\"ColumnDataSource\"},{\"attributes\":{\"end\":10409.824,\"reset_end\":10409.824,\"reset_start\":-421.66400000000027,\"start\":-421.66400000000027,\"tags\":[[[\"x\",\"x\",null]]]},\"id\":\"2824\",\"type\":\"Range1d\"},{\"attributes\":{},\"id\":\"2888\",\"type\":\"BasicTickFormatter\"},{\"attributes\":{\"line_alpha\":{\"value\":0.2},\"line_width\":{\"field\":\"edge_line_width\"}},\"id\":\"2868\",\"type\":\"MultiLine\"},{\"attributes\":{\"end\":5501.360000000001,\"reset_end\":5501.360000000001,\"reset_start\":-364.56000000000006,\"start\":-364.56000000000006,\"tags\":[[[\"y\",\"y\",null]]]},\"id\":\"2825\",\"type\":\"Range1d\"},{\"attributes\":{\"margin\":[5,5,5,5],\"name\":\"HSpacer11842\",\"sizing_mode\":\"stretch_width\"},\"id\":\"2909\",\"type\":\"Spacer\"},{\"attributes\":{\"line_alpha\":{\"value\":0.66},\"line_width\":{\"field\":\"edge_line_width\"}},\"id\":\"2867\",\"type\":\"MultiLine\"},{\"attributes\":{\"axis_label\":\"y\",\"bounds\":\"auto\",\"formatter\":{\"id\":\"2888\"},\"major_label_orientation\":\"horizontal\",\"ticker\":{\"id\":\"2841\"},\"visible\":false},\"id\":\"2840\",\"type\":\"LinearAxis\"},{\"attributes\":{\"line_alpha\":{\"value\":0.66},\"line_color\":{\"value\":\"limegreen\"},\"line_width\":{\"field\":\"edge_line_width\"}},\"id\":\"2869\",\"type\":\"MultiLine\"},{\"attributes\":{\"callback\":null,\"renderers\":[{\"id\":\"2872\"}],\"tooltips\":[[\"index\",\"@{index_hover}\"],[\"fill_color\",\"@{fill_color}\"],[\"ntype\",\"@{ntype}\"]]},\"id\":\"2826\",\"type\":\"HoverTool\"},{\"attributes\":{},\"id\":\"2898\",\"type\":\"Selection\"},{\"attributes\":{\"axis\":{\"id\":\"2836\"},\"grid_line_color\":null,\"ticker\":null},\"id\":\"2839\",\"type\":\"Grid\"},{\"attributes\":{\"fill_alpha\":{\"value\":0.66},\"fill_color\":{\"value\":\"limegreen\"},\"line_alpha\":{\"value\":0.66},\"size\":{\"units\":\"screen\",\"value\":15.811388300841896}},\"id\":\"2864\",\"type\":\"Circle\"},{\"attributes\":{\"source\":{\"id\":\"2859\"}},\"id\":\"2866\",\"type\":\"CDSView\"},{\"attributes\":{\"data_source\":{\"id\":\"2859\"},\"glyph\":{\"id\":\"2862\"},\"hover_glyph\":{\"id\":\"2864\"},\"muted_glyph\":null,\"nonselection_glyph\":{\"id\":\"2863\"},\"selection_glyph\":null,\"view\":{\"id\":\"2866\"}},\"id\":\"2865\",\"type\":\"GlyphRenderer\"},{\"attributes\":{},\"id\":\"2883\",\"type\":\"NodesAndLinkedEdges\"},{\"attributes\":{},\"id\":\"2841\",\"type\":\"BasicTicker\"},{\"attributes\":{},\"id\":\"2896\",\"type\":\"Selection\"},{\"attributes\":{\"fill_alpha\":{\"value\":0.66},\"fill_color\":{\"field\":\"node_fill_color\"},\"line_alpha\":{\"value\":0.66},\"size\":{\"units\":\"screen\",\"value\":15.811388300841896}},\"id\":\"2862\",\"type\":\"Circle\"},{\"attributes\":{\"axis\":{\"id\":\"2840\"},\"dimension\":1,\"grid_line_color\":null,\"ticker\":null},\"id\":\"2843\",\"type\":\"Grid\"},{\"attributes\":{},\"id\":\"2897\",\"type\":\"UnionRenderers\"},{\"attributes\":{\"align\":null,\"below\":[{\"id\":\"2836\"}],\"center\":[{\"id\":\"2839\"},{\"id\":\"2843\"}],\"left\":[{\"id\":\"2840\"}],\"margin\":null,\"min_border_bottom\":10,\"min_border_left\":10,\"min_border_right\":10,\"min_border_top\":10,\"outline_line_alpha\":0,\"plot_height\":800,\"renderers\":[{\"id\":\"2872\"}],\"sizing_mode\":\"fixed\",\"title\":{\"id\":\"2828\"},\"toolbar\":{\"id\":\"2851\"},\"x_range\":{\"id\":\"2824\"},\"x_scale\":{\"id\":\"2832\"},\"y_range\":{\"id\":\"2825\"},\"y_scale\":{\"id\":\"2834\"}},\"id\":\"2827\",\"subtype\":\"Figure\",\"type\":\"Plot\"},{\"attributes\":{\"graph_layout\":{\"0\":[6311.4,1452.9],\"1\":[5307.5,2176.4],\"10\":[9507.2,4428.0],\"11\":[6364.2,4428.0],\"12\":[6291.9,2918.1],\"13\":[7101.1,3488.6],\"14\":[3554.1,2144.7],\"15\":[4371.8,1680.5],\"16\":[2573.6,2327.6],\"17\":[3904.4,956.62],\"18\":[3131.3,1236.1],\"19\":[3550.6,3210.5],\"2\":[7126.9,892.92],\"20\":[4313.2,2878.3],\"3\":[1259.7,591.44],\"4\":[2228.6,1297.3],\"5\":[480.96,18.0],\"6\":[1889.0,4338.3],\"7\":[2595.4,3371.1],\"8\":[1321.6,5118.8],\"9\":[7939.9,4428.0]}},\"id\":\"2861\",\"type\":\"StaticLayoutProvider\"},{\"attributes\":{},\"id\":\"2881\",\"type\":\"NodesAndLinkedEdges\"},{\"attributes\":{},\"id\":\"2895\",\"type\":\"UnionRenderers\"},{\"attributes\":{\"active_drag\":\"auto\",\"active_inspect\":\"auto\",\"active_multi\":null,\"active_scroll\":\"auto\",\"active_tap\":\"auto\",\"tools\":[{\"id\":\"2826\"},{\"id\":\"2844\"},{\"id\":\"2845\"},{\"id\":\"2846\"},{\"id\":\"2847\"},{\"id\":\"2848\"},{\"id\":\"2849\"}]},\"id\":\"2851\",\"type\":\"Toolbar\"},{\"attributes\":{\"text\":\"\",\"text_color\":{\"value\":\"black\"},\"text_font_size\":{\"value\":\"12pt\"}},\"id\":\"2828\",\"type\":\"Title\"},{\"attributes\":{\"data\":{\"fill_color\":[\"orange\",\"silver\",\"silver\",\"orange\",\"silver\",\"silver\",\"orange\",\"silver\",\"silver\",\"orange\",\"silver\",\"silver\",\"orange\",\"silver\",\"orange\",\"silver\",\"silver\",\"silver\",\"silver\",\"silver\",\"silver\"],\"index\":{\"__ndarray__\":\"AAAAAAEAAAACAAAAAwAAAAQAAAAFAAAABgAAAAcAAAAIAAAACQAAAAoAAAALAAAADAAAAA0AAAAOAAAADwAAABAAAAARAAAAEgAAABMAAAAUAAAA\",\"dtype\":\"int32\",\"order\":\"little\",\"shape\":[21]},\"index_hover\":[\"darshan-graph/pq_app_read_id71317_7-31-5657-2037904274838284930_55623.darshan\",\"/home/pq/p/software/darshan-pydarshan/darshan-util/pydarshan/examples/darshan-graph/A\",\"darshan-graph/pq_app_read_id71317_7-31-5657-2037904274838284930_55623.darshan/<STDOUT>\",\"darshan-graph/pq_app_read_id71344_7-31-5658-2037904274838284930_55623.darshan\",\"/home/pq/p/software/darshan-pydarshan/darshan-util/pydarshan/examples/darshan-graph/C\",\"darshan-graph/pq_app_read_id71344_7-31-5658-2037904274838284930_55623.darshan/<STDOUT>\",\"darshan-graph/pq_app_write_id71303_7-31-5657-2037904274838284930_55623.darshan\",\"/home/pq/p/software/darshan-pydarshan/darshan-util/pydarshan/examples/darshan-graph/B\",\"darshan-graph/pq_app_write_id71303_7-31-5657-2037904274838284930_55623.darshan/<STDOUT>\",\"darshan-graph/pq_app_write_id71310_7-31-5657-2037904274838284930_55623.darshan\",\"/home/pq/p/software/darshan-pydarshan/darshan-util/pydarshan/examples/darshan-graph/Z\",\"darshan-graph/pq_app_write_id71310_7-31-5657-2037904274838284930_55623.darshan/<STDOUT>\",\"darshan-graph/pq_app_write_id71296_7-31-5657-2037904274838284930_55623.darshan\",\"darshan-graph/pq_app_write_id71296_7-31-5657-2037904274838284930_55623.darshan/<STDOUT>\",\"darshan-graph/pq_app_readAB_writeC_id71326_7-31-5658-2037904274838284930_55623.darshan\",\"/home/pq/p/software/darshan-pydarshan/darshan-util/pydarshan/examples/darshan-graph/C.locktest.0\",\"/tmp/ompi.linux.1000/pid.71320/1/C_cid-0-71326.sm\",\"/home/pq/p/software/darshan-pydarshan/darshan-util/pydarshan/examples/darshan-graph/C.locktest.1\",\"/home/pq/p/software/darshan-pydarshan/darshan-util/pydarshan/examples/darshan-graph/C.locktest.2\",\"/home/pq/p/software/darshan-pydarshan/darshan-util/pydarshan/examples/darshan-graph/C.locktest.3\",\"darshan-graph/pq_app_readAB_writeC_id71326_7-31-5658-2037904274838284930_55623.darshan/<STDOUT>\"],\"node_fill_color\":[\"orange\",\"silver\",\"silver\",\"orange\",\"silver\",\"silver\",\"orange\",\"silver\",\"silver\",\"orange\",\"silver\",\"silver\",\"orange\",\"silver\",\"orange\",\"silver\",\"silver\",\"silver\",\"silver\",\"silver\",\"silver\"],\"ntype\":[\"app\",\"file\",\"file\",\"app\",\"file\",\"file\",\"app\",\"file\",\"file\",\"app\",\"file\",\"file\",\"app\",\"file\",\"app\",\"file\",\"file\",\"file\",\"file\",\"file\",\"file\"]},\"selected\":{\"id\":\"2896\"},\"selection_policy\":{\"id\":\"2895\"}},\"id\":\"2859\",\"type\":\"ColumnDataSource\"},{\"attributes\":{},\"id\":\"2834\",\"type\":\"LinearScale\"},{\"attributes\":{},\"id\":\"2832\",\"type\":\"LinearScale\"},{\"attributes\":{\"callback\":null},\"id\":\"2849\",\"type\":\"TapTool\"},{\"attributes\":{\"fill_alpha\":{\"value\":0.2},\"fill_color\":{\"value\":\"#30a2da\"},\"line_alpha\":{\"value\":0.2},\"size\":{\"units\":\"screen\",\"value\":15.811388300841896}},\"id\":\"2863\",\"type\":\"Circle\"},{\"attributes\":{\"axis_label\":\"x\",\"bounds\":\"auto\",\"formatter\":{\"id\":\"2886\"},\"major_label_orientation\":\"horizontal\",\"ticker\":{\"id\":\"2837\"},\"visible\":false},\"id\":\"2836\",\"type\":\"LinearAxis\"},{\"attributes\":{\"data_source\":{\"id\":\"2860\"},\"glyph\":{\"id\":\"2867\"},\"hover_glyph\":{\"id\":\"2869\"},\"muted_glyph\":null,\"nonselection_glyph\":{\"id\":\"2868\"},\"selection_glyph\":null,\"view\":{\"id\":\"2871\"}},\"id\":\"2870\",\"type\":\"GlyphRenderer\"},{\"attributes\":{\"source\":{\"id\":\"2860\"}},\"id\":\"2871\",\"type\":\"CDSView\"},{\"attributes\":{\"children\":[{\"id\":\"2823\"},{\"id\":\"2827\"},{\"id\":\"2909\"}],\"margin\":[0,0,0,0],\"name\":\"Row11837\",\"tags\":[\"embedded\"]},\"id\":\"2822\",\"type\":\"Row\"},{\"attributes\":{},\"id\":\"2848\",\"type\":\"ResetTool\"},{\"attributes\":{},\"id\":\"2837\",\"type\":\"BasicTicker\"},{\"attributes\":{\"overlay\":{\"id\":\"2850\"}},\"id\":\"2847\",\"type\":\"BoxZoomTool\"},{\"attributes\":{\"edge_renderer\":{\"id\":\"2870\"},\"inspection_policy\":{\"id\":\"2883\"},\"layout_provider\":{\"id\":\"2861\"},\"node_renderer\":{\"id\":\"2865\"},\"selection_policy\":{\"id\":\"2881\"}},\"id\":\"2872\",\"type\":\"GraphRenderer\"}],\"root_ids\":[\"2822\"]},\"title\":\"Bokeh Application\",\"version\":\"2.1.1\"}};\n",
       "  var render_items = [{\"docid\":\"c4681c34-ad61-4f78-b622-dc51831beb7a\",\"root_ids\":[\"2822\"],\"roots\":{\"2822\":\"64270a89-1eda-43db-a483-f0370ef4b2ca\"}}];\n",
       "  root.Bokeh.embed.embed_items_notebook(docs_json, render_items);\n",
       "  }\n",
       "if (root.Bokeh !== undefined) {\n",
       "    embed_document(root);\n",
       "  } else {\n",
       "    var attempts = 0;\n",
       "    var timer = setInterval(function(root) {\n",
       "      if (root.Bokeh !== undefined) {\n",
       "        clearInterval(timer);\n",
       "        embed_document(root);\n",
       "      } else if (document.readyState == \"complete\") {\n",
       "        attempts++;\n",
       "        if (attempts > 100) {\n",
       "          clearInterval(timer);\n",
       "          console.log(\"Bokeh: ERROR: Unable to run BokehJS code because BokehJS library is missing\");\n",
       "        }\n",
       "      }\n",
       "    }, 10, root)\n",
       "  }\n",
       "})(window);</script>"
      ],
      "text/plain": [
       ":Graph   [start,end]   (op,weight)"
      ]
     },
     "execution_count": 30,
     "metadata": {
      "application/vnd.holoviews_exec.v0+json": {
       "id": "2822"
      }
     },
     "output_type": "execute_result"
    }
   ],
   "source": [
    "import holoviews as hv\n",
    "import networkx as nx\n",
    "from holoviews import opts\n",
    "import hvplot.networkx as hvnx\n",
    "\n",
    "try:\n",
    "    import pygraphviz  # noqa\n",
    "    from networkx.drawing.nx_agraph import graphviz_layout\n",
    "except ImportError:\n",
    "    try:\n",
    "        import pydot  # noqa\n",
    "        from networkx.drawing.nx_pydot import graphviz_layout\n",
    "    except ImportError:\n",
    "        raise ImportError(\"This example needs Graphviz and either PyGraphviz or pydot.\")\n",
    "\n",
    "        \n",
    "# for a a more complex example for this layout to shine:       \n",
    "#G = nx.balanced_tree(3, 5)\n",
    "\n",
    "pos = graphviz_layout(G, prog='sfdp')\n",
    "hvnx.draw(G, \n",
    "          pos, \n",
    "          node_size=250, \n",
    "          node_color=hv.dim('fill_color'), \n",
    "          edge_width=hv.dim('weight')/rwmax * 5 + 0.1, \n",
    "          alpha=0.66, \n",
    "          with_labels=False, \n",
    "          width=600, height=800)\n",
    "\n",
    "# NOTE: Be sure to hover on nodes to display filename and other information ;)"
   ]
  },
  {
   "cell_type": "code",
   "execution_count": null,
   "metadata": {},
   "outputs": [],
   "source": []
  },
  {
   "cell_type": "code",
   "execution_count": null,
   "metadata": {},
   "outputs": [],
   "source": []
  },
  {
   "cell_type": "code",
   "execution_count": null,
   "metadata": {},
   "outputs": [],
   "source": []
  }
 ],
 "metadata": {
  "kernelspec": {
   "display_name": "Python 3",
   "language": "python",
   "name": "python3"
  },
  "language_info": {
   "codemirror_mode": {
    "name": "ipython",
    "version": 3
   },
   "file_extension": ".py",
   "mimetype": "text/x-python",
   "name": "python",
   "nbconvert_exporter": "python",
   "pygments_lexer": "ipython3",
   "version": "3.6.10"
  }
 },
 "nbformat": 4,
 "nbformat_minor": 4
}
