{
 "cells": [
  {
   "cell_type": "code",
   "execution_count": 1,
   "metadata": {},
   "outputs": [],
   "source": [
    "import pprint"
   ]
  },
  {
   "cell_type": "markdown",
   "metadata": {},
   "source": [
    "# DarshanUtils for Python\n",
    "\n",
    "This notebook gives an overwiew of features provided by the Python bindings for DarshanUtils."
   ]
  },
  {
   "cell_type": "markdown",
   "metadata": {},
   "source": [
    "By default only metadata, available modules and the name records are loaded:"
   ]
  },
  {
   "cell_type": "code",
   "execution_count": 2,
   "metadata": {
    "scrolled": false
   },
   "outputs": [
    {
     "name": "stdout",
     "output_type": "stream",
     "text": [
      "Filename:       example.darshan\n",
      "Times:          2017-03-20 10:07:47 to 2017-03-20 10:09:43 (Duration 0:01:56)\n",
      "Executeable:    /global/project/projectdirs/m888/glock/tokio-abc-results/bin.edison/vpicio_uni /scratch2/scratchdirs/glock/tokioabc-s.4478544/vpicio/vpicio.hdf5 32\n",
      "Processes:      2048\n",
      "JobID:          4478544\n",
      "UID:            69615\n",
      "Modules in Log: ['POSIX', 'MPI-IO', 'LUSTRE', 'STDIO']\n",
      "Loaded Records: {'POSIX': 1, 'MPI-IO': 1, 'STDIO': 129}\n",
      "Name Records:   4\n",
      "Darshan/Hints:  {'lib_ver': '3.1.3', 'h': 'romio_no_indep_rw=true;cb_nodes=4'}\n",
      "DarshanReport:  id(140181962385952) (tmp)\n"
     ]
    }
   ],
   "source": [
    "import darshan\n",
    "report = darshan.DarshanReport(\"example.darshan\", read_all=True)  # Default behavior\n",
    "report.info()"
   ]
  },
  {
   "cell_type": "code",
   "execution_count": 3,
   "metadata": {
    "scrolled": true
   },
   "outputs": [],
   "source": [
    "# report.metadata         # dictionary with raw metadata from darshan log\n",
    "# report.modules          # dictionary with raw module info from darshan log (need: technical, module idx)\n",
    "# report.name_records     # dictionary for resovling name records: id -> path/name\n",
    "# report.records          # per module \"dataframes\"/dictionaries"
   ]
  },
  {
   "cell_type": "markdown",
   "metadata": {},
   "source": [
    "The darshan report holds a variety of namespaces for report related data. All of them are also referenced in `report.data` at the moment, but reliance on this internal organization of the report object is discouraged once the API stabilized. Currently, `report.data` references the following information:"
   ]
  },
  {
   "cell_type": "code",
   "execution_count": 4,
   "metadata": {
    "scrolled": true
   },
   "outputs": [
    {
     "data": {
      "text/plain": [
       "dict_keys(['version', 'metadata', 'records', 'summary', 'modules', 'counters', 'name_records', 'mounts'])"
      ]
     },
     "execution_count": 4,
     "metadata": {},
     "output_type": "execute_result"
    }
   ],
   "source": [
    "report.data.keys()"
   ]
  },
  {
   "cell_type": "markdown",
   "metadata": {},
   "source": [
    "### Loading Additional Records\n",
    "\n",
    "For memory efficiant analysis, it is possible to supress records from being loaded automatically. This is useful, for example, when analysis only considers a particular layer."
   ]
  },
  {
   "cell_type": "code",
   "execution_count": 5,
   "metadata": {},
   "outputs": [],
   "source": [
    "report = darshan.DarshanReport(\"example.darshan\", read_all=False) # Loads no records!"
   ]
  },
  {
   "cell_type": "code",
   "execution_count": 6,
   "metadata": {},
   "outputs": [
    {
     "name": "stdout",
     "output_type": "stream",
     "text": [
      "No POSIX records loaded for this report yet.\n"
     ]
    }
   ],
   "source": [
    "# expected to fail, as no records were loaded\n",
    "try:\n",
    "    report.records['POSIX']\n",
    "except:\n",
    "    print(\"No POSIX records loaded for this report yet.\")"
   ]
  },
  {
   "cell_type": "markdown",
   "metadata": {},
   "source": [
    "Additional records then can be loaded selectively, for example, on a per module basis:"
   ]
  },
  {
   "cell_type": "code",
   "execution_count": 7,
   "metadata": {},
   "outputs": [],
   "source": [
    "report.mod_read_all_records(\"POSIX\") "
   ]
  },
  {
   "cell_type": "code",
   "execution_count": 8,
   "metadata": {
    "scrolled": false
   },
   "outputs": [
    {
     "data": {
      "text/plain": [
       "[{'id': 6301063301082038805,\n",
       "  'rank': -1,\n",
       "  'counters': array([                2049, 18446744073709551615, 18446744073709551615,\n",
       "                            0,                16402,                16404,\n",
       "                            0,                    0,                    0,\n",
       "                            0, 18446744073709551615, 18446744073709551615,\n",
       "                            0,                    0,                    0,\n",
       "                2199023259968,                    0,        2199023261831,\n",
       "                            0,                    0,                    0,\n",
       "                        16384,                    0,                    0,\n",
       "                            8,                16401,              1048576,\n",
       "                            0,            134217728,                    0,\n",
       "                            0,                    0,                    0,\n",
       "                            0,                    0,                    0,\n",
       "                            0,                    0,                    0,\n",
       "                            4,                   14,                    0,\n",
       "                            0,                    0,                    0,\n",
       "                            0,                    0,                16384,\n",
       "                            0,         274743689216,         274743691264,\n",
       "                            0,                    0,                10240,\n",
       "                         4096,                    0,                    0,\n",
       "                    134217728,                  272,                  544,\n",
       "                          328,                16384,                    8,\n",
       "                            2], dtype=uint64),\n",
       "  'fcounters': array([ 2.04900000e+03, -1.00000000e+00, -1.00000000e+00,  0.00000000e+00,\n",
       "          1.64020000e+04,  1.64040000e+04,  0.00000000e+00,  0.00000000e+00,\n",
       "          0.00000000e+00,  0.00000000e+00, -1.00000000e+00, -1.00000000e+00,\n",
       "          0.00000000e+00,  0.00000000e+00,  0.00000000e+00,  2.19902326e+12,\n",
       "          0.00000000e+00,  2.19902326e+12,  0.00000000e+00,  0.00000000e+00,\n",
       "          0.00000000e+00,  1.63840000e+04,  0.00000000e+00,  0.00000000e+00,\n",
       "          8.00000000e+00,  1.64010000e+04,  1.04857600e+06,  0.00000000e+00,\n",
       "          1.34217728e+08,  0.00000000e+00,  0.00000000e+00,  0.00000000e+00,\n",
       "          0.00000000e+00,  0.00000000e+00,  0.00000000e+00,  0.00000000e+00,\n",
       "          0.00000000e+00,  0.00000000e+00,  0.00000000e+00,  4.00000000e+00,\n",
       "          1.40000000e+01,  0.00000000e+00,  0.00000000e+00,  0.00000000e+00,\n",
       "          0.00000000e+00,  0.00000000e+00,  0.00000000e+00,  1.63840000e+04,\n",
       "          0.00000000e+00,  2.74743689e+11,  2.74743691e+11,  0.00000000e+00,\n",
       "          0.00000000e+00,  1.02400000e+04,  4.09600000e+03,  0.00000000e+00,\n",
       "          0.00000000e+00,  1.34217728e+08,  2.72000000e+02,  5.44000000e+02,\n",
       "          3.28000000e+02,  1.63840000e+04,  8.00000000e+00,  2.00000000e+00])}]"
      ]
     },
     "execution_count": 8,
     "metadata": {},
     "output_type": "execute_result"
    }
   ],
   "source": [
    "report.records['POSIX']"
   ]
  },
  {
   "cell_type": "markdown",
   "metadata": {},
   "source": [
    "### Aggregation and Filtering (Experimental)\n",
    "\n",
    "Darshan log data is routinely aggregated for quick overview. The report object offers a few methods to perform common aggregations:"
   ]
  },
  {
   "cell_type": "markdown",
   "metadata": {},
   "source": [
    "Report aggregations and summarization remains **experimental** for now, mostly to allow interfaces to stabilize. But experimental features can be switched on easily by invoking `darshan.enable_experimental()`:"
   ]
  },
  {
   "cell_type": "code",
   "execution_count": 9,
   "metadata": {},
   "outputs": [
    {
     "name": "stdout",
     "output_type": "stream",
     "text": [
      "Added method create_time_summary to DarshanReport.\n",
      "Added method print_module_records to DarshanReport.\n",
      "Added method summarize to DarshanReport.\n",
      "Added method merge to DarshanReport.\n",
      "Added method create_timeline to DarshanReport.\n",
      "Added method records_as_dict to DarshanReport.\n",
      "Added method reduce to DarshanReport.\n",
      "Added method agg_ioops to DarshanReport.\n",
      "Added method create_sankey to DarshanReport.\n",
      "Added method filter to DarshanReport.\n",
      "Added method mod_agg_iohist to DarshanReport.\n",
      "Added method name_records_summary to DarshanReport.\n"
     ]
    }
   ],
   "source": [
    "import darshan\n",
    "darshan.enable_experimental(verbose=True) # Enable verbosity, listing new functionality"
   ]
  },
  {
   "cell_type": "code",
   "execution_count": 10,
   "metadata": {},
   "outputs": [
    {
     "data": {
      "text/plain": [
       "{6301063301082038805: {'name': '/scratch2/scratchdirs/glock/tokioabc-s.4478544/vpicio/vpicio.hdf5',\n",
       "  'counts': {'POSIX': 1}}}"
      ]
     },
     "execution_count": 10,
     "metadata": {},
     "output_type": "execute_result"
    }
   ],
   "source": [
    "report.name_records_summary()"
   ]
  },
  {
   "cell_type": "markdown",
   "metadata": {},
   "source": [
    "#### Chain operations like filtering and reductions\n",
    "The filter and reduce operations return DarshanReports themsleves, thus allow to convieniently chain operations."
   ]
  },
  {
   "cell_type": "code",
   "execution_count": 12,
   "metadata": {
    "scrolled": true
   },
   "outputs": [
    {
     "data": {
      "text/plain": [
       "{14734109647742566553: '<STDIN>',\n",
       " 15920181672442173319: '<STDOUT>',\n",
       " 7238257241479193519: '<STDERR>',\n",
       " 6301063301082038805: '/scratch2/scratchdirs/glock/tokioabc-s.4478544/vpicio/vpicio.hdf5'}"
      ]
     },
     "execution_count": 12,
     "metadata": {},
     "output_type": "execute_result"
    }
   ],
   "source": [
    "import darshan\n",
    "darshan.enable_experimental()\n",
    "report = darshan.DarshanReport(\"example.darshan\", read_all=True)\n",
    "report.name_records"
   ]
  },
  {
   "cell_type": "code",
   "execution_count": 13,
   "metadata": {
    "scrolled": true
   },
   "outputs": [
    {
     "data": {
      "text/plain": [
       "{'POSIX': [{'id': 6301063301082038805,\n",
       "   'rank': -1,\n",
       "   'counters': array([                2049, 18446744073709551615, 18446744073709551615,\n",
       "                             0,                16402,                16404,\n",
       "                             0,                    0,                    0,\n",
       "                             0, 18446744073709551615, 18446744073709551615,\n",
       "                             0,                    0,                    0,\n",
       "                 2199023259968,                    0,        2199023261831,\n",
       "                             0,                    0,                    0,\n",
       "                         16384,                    0,                    0,\n",
       "                             8,                16401,              1048576,\n",
       "                             0,            134217728,                    0,\n",
       "                             0,                    0,                    0,\n",
       "                             0,                    0,                    0,\n",
       "                             0,                    0,                    0,\n",
       "                             4,                   14,                    0,\n",
       "                             0,                    0,                    0,\n",
       "                             0,                    0,                16384,\n",
       "                             0,         274743689216,         274743691264,\n",
       "                             0,                    0,                10240,\n",
       "                          4096,                    0,                    0,\n",
       "                     134217728,                  272,                  544,\n",
       "                           328,                16384,                    8,\n",
       "                             2], dtype=uint64),\n",
       "   'fcounters': array([ 2.04900000e+03, -1.00000000e+00, -1.00000000e+00,  0.00000000e+00,\n",
       "           1.64020000e+04,  1.64040000e+04,  0.00000000e+00,  0.00000000e+00,\n",
       "           0.00000000e+00,  0.00000000e+00, -1.00000000e+00, -1.00000000e+00,\n",
       "           0.00000000e+00,  0.00000000e+00,  0.00000000e+00,  2.19902326e+12,\n",
       "           0.00000000e+00,  2.19902326e+12,  0.00000000e+00,  0.00000000e+00,\n",
       "           0.00000000e+00,  1.63840000e+04,  0.00000000e+00,  0.00000000e+00,\n",
       "           8.00000000e+00,  1.64010000e+04,  1.04857600e+06,  0.00000000e+00,\n",
       "           1.34217728e+08,  0.00000000e+00,  0.00000000e+00,  0.00000000e+00,\n",
       "           0.00000000e+00,  0.00000000e+00,  0.00000000e+00,  0.00000000e+00,\n",
       "           0.00000000e+00,  0.00000000e+00,  0.00000000e+00,  4.00000000e+00,\n",
       "           1.40000000e+01,  0.00000000e+00,  0.00000000e+00,  0.00000000e+00,\n",
       "           0.00000000e+00,  0.00000000e+00,  0.00000000e+00,  1.63840000e+04,\n",
       "           0.00000000e+00,  2.74743689e+11,  2.74743691e+11,  0.00000000e+00,\n",
       "           0.00000000e+00,  1.02400000e+04,  4.09600000e+03,  0.00000000e+00,\n",
       "           0.00000000e+00,  1.34217728e+08,  2.72000000e+02,  5.44000000e+02,\n",
       "           3.28000000e+02,  1.63840000e+04,  8.00000000e+00,  2.00000000e+00])}],\n",
       " 'MPI-IO': [{'id': 6301063301082038805,\n",
       "   'rank': -1,\n",
       "   'counters': array([            0,          2048,             0,            18,\n",
       "                      0,         16384,             0,             0,\n",
       "                      0,             0,             0,             0,\n",
       "                  32768,             9,             0, 2199023259968,\n",
       "                      0,             0,     134217728,             0,\n",
       "                      0,             0,             0,             0,\n",
       "                      0,             0,             0,             0,\n",
       "                      0,             4,            14,             0,\n",
       "                      0,             0,             0,             0,\n",
       "                      0,         16384,             0,     134217728,\n",
       "                    272,           544,           328,         16384,\n",
       "                      8,             2,             2,           597,\n",
       "             1073741824,          1312,    1073741824], dtype=uint64),\n",
       "   'fcounters': array([0.00000000e+00, 2.04800000e+03, 0.00000000e+00, 1.80000000e+01,\n",
       "          0.00000000e+00, 1.63840000e+04, 0.00000000e+00, 0.00000000e+00,\n",
       "          0.00000000e+00, 0.00000000e+00, 0.00000000e+00, 0.00000000e+00,\n",
       "          3.27680000e+04, 9.00000000e+00, 0.00000000e+00, 2.19902326e+12,\n",
       "          0.00000000e+00, 0.00000000e+00, 1.34217728e+08, 0.00000000e+00,\n",
       "          0.00000000e+00, 0.00000000e+00, 0.00000000e+00, 0.00000000e+00,\n",
       "          0.00000000e+00, 0.00000000e+00, 0.00000000e+00, 0.00000000e+00,\n",
       "          0.00000000e+00, 4.00000000e+00, 1.40000000e+01, 0.00000000e+00,\n",
       "          0.00000000e+00, 0.00000000e+00, 0.00000000e+00, 0.00000000e+00,\n",
       "          0.00000000e+00, 1.63840000e+04, 0.00000000e+00, 1.34217728e+08,\n",
       "          2.72000000e+02, 5.44000000e+02, 3.28000000e+02, 1.63840000e+04,\n",
       "          8.00000000e+00, 2.00000000e+00, 2.00000000e+00, 5.97000000e+02,\n",
       "          1.07374182e+09, 1.31200000e+03, 1.07374182e+09])}],\n",
       " 'STDIO': [{'id': 15920181672442173319,\n",
       "   'rank': 0,\n",
       "   'counters': array([                   1, 18446744073709551615,                    0,\n",
       "                             6,                    0,                    0,\n",
       "                           280,                    0,                    0,\n",
       "                           279,                    0,                    0,\n",
       "                             0], dtype=uint64),\n",
       "   'fcounters': array([  1.,  -1.,   0.,   6.,   0.,   0., 280.,   0.,   0., 279.,   0.,\n",
       "            0.,   0.])}]}"
      ]
     },
     "execution_count": 13,
     "metadata": {},
     "output_type": "execute_result"
    }
   ],
   "source": [
    "report.filter(name_records=[6301063301082038805, 15920181672442173319]).records"
   ]
  },
  {
   "cell_type": "code",
   "execution_count": 15,
   "metadata": {
    "scrolled": true
   },
   "outputs": [
    {
     "name": "stdout",
     "output_type": "stream",
     "text": [
      "NO (.*?).hdf5 <STDIN>\n",
      "NO (.*?).hdf5 <STDOUT>\n",
      "NO (.*?).hdf5 <STDERR>\n",
      "YES (.*?).hdf5 /scratch2/scratchdirs/glock/tokioabc-s.4478544/vpicio/vpicio.hdf5\n"
     ]
    },
    {
     "data": {
      "text/plain": [
       "{'POSIX': [{'id': 6301063301082038805,\n",
       "   'rank': -1,\n",
       "   'counters': array([                2049, 18446744073709551615, 18446744073709551615,\n",
       "                             0,                16402,                16404,\n",
       "                             0,                    0,                    0,\n",
       "                             0, 18446744073709551615, 18446744073709551615,\n",
       "                             0,                    0,                    0,\n",
       "                 2199023259968,                    0,        2199023261831,\n",
       "                             0,                    0,                    0,\n",
       "                         16384,                    0,                    0,\n",
       "                             8,                16401,              1048576,\n",
       "                             0,            134217728,                    0,\n",
       "                             0,                    0,                    0,\n",
       "                             0,                    0,                    0,\n",
       "                             0,                    0,                    0,\n",
       "                             4,                   14,                    0,\n",
       "                             0,                    0,                    0,\n",
       "                             0,                    0,                16384,\n",
       "                             0,         274743689216,         274743691264,\n",
       "                             0,                    0,                10240,\n",
       "                          4096,                    0,                    0,\n",
       "                     134217728,                  272,                  544,\n",
       "                           328,                16384,                    8,\n",
       "                             2], dtype=uint64),\n",
       "   'fcounters': array([ 2.04900000e+03, -1.00000000e+00, -1.00000000e+00,  0.00000000e+00,\n",
       "           1.64020000e+04,  1.64040000e+04,  0.00000000e+00,  0.00000000e+00,\n",
       "           0.00000000e+00,  0.00000000e+00, -1.00000000e+00, -1.00000000e+00,\n",
       "           0.00000000e+00,  0.00000000e+00,  0.00000000e+00,  2.19902326e+12,\n",
       "           0.00000000e+00,  2.19902326e+12,  0.00000000e+00,  0.00000000e+00,\n",
       "           0.00000000e+00,  1.63840000e+04,  0.00000000e+00,  0.00000000e+00,\n",
       "           8.00000000e+00,  1.64010000e+04,  1.04857600e+06,  0.00000000e+00,\n",
       "           1.34217728e+08,  0.00000000e+00,  0.00000000e+00,  0.00000000e+00,\n",
       "           0.00000000e+00,  0.00000000e+00,  0.00000000e+00,  0.00000000e+00,\n",
       "           0.00000000e+00,  0.00000000e+00,  0.00000000e+00,  4.00000000e+00,\n",
       "           1.40000000e+01,  0.00000000e+00,  0.00000000e+00,  0.00000000e+00,\n",
       "           0.00000000e+00,  0.00000000e+00,  0.00000000e+00,  1.63840000e+04,\n",
       "           0.00000000e+00,  2.74743689e+11,  2.74743691e+11,  0.00000000e+00,\n",
       "           0.00000000e+00,  1.02400000e+04,  4.09600000e+03,  0.00000000e+00,\n",
       "           0.00000000e+00,  1.34217728e+08,  2.72000000e+02,  5.44000000e+02,\n",
       "           3.28000000e+02,  1.63840000e+04,  8.00000000e+00,  2.00000000e+00])}],\n",
       " 'MPI-IO': [{'id': 6301063301082038805,\n",
       "   'rank': -1,\n",
       "   'counters': array([            0,          2048,             0,            18,\n",
       "                      0,         16384,             0,             0,\n",
       "                      0,             0,             0,             0,\n",
       "                  32768,             9,             0, 2199023259968,\n",
       "                      0,             0,     134217728,             0,\n",
       "                      0,             0,             0,             0,\n",
       "                      0,             0,             0,             0,\n",
       "                      0,             4,            14,             0,\n",
       "                      0,             0,             0,             0,\n",
       "                      0,         16384,             0,     134217728,\n",
       "                    272,           544,           328,         16384,\n",
       "                      8,             2,             2,           597,\n",
       "             1073741824,          1312,    1073741824], dtype=uint64),\n",
       "   'fcounters': array([0.00000000e+00, 2.04800000e+03, 0.00000000e+00, 1.80000000e+01,\n",
       "          0.00000000e+00, 1.63840000e+04, 0.00000000e+00, 0.00000000e+00,\n",
       "          0.00000000e+00, 0.00000000e+00, 0.00000000e+00, 0.00000000e+00,\n",
       "          3.27680000e+04, 9.00000000e+00, 0.00000000e+00, 2.19902326e+12,\n",
       "          0.00000000e+00, 0.00000000e+00, 1.34217728e+08, 0.00000000e+00,\n",
       "          0.00000000e+00, 0.00000000e+00, 0.00000000e+00, 0.00000000e+00,\n",
       "          0.00000000e+00, 0.00000000e+00, 0.00000000e+00, 0.00000000e+00,\n",
       "          0.00000000e+00, 4.00000000e+00, 1.40000000e+01, 0.00000000e+00,\n",
       "          0.00000000e+00, 0.00000000e+00, 0.00000000e+00, 0.00000000e+00,\n",
       "          0.00000000e+00, 1.63840000e+04, 0.00000000e+00, 1.34217728e+08,\n",
       "          2.72000000e+02, 5.44000000e+02, 3.28000000e+02, 1.63840000e+04,\n",
       "          8.00000000e+00, 2.00000000e+00, 2.00000000e+00, 5.97000000e+02,\n",
       "          1.07374182e+09, 1.31200000e+03, 1.07374182e+09])}]}"
      ]
     },
     "execution_count": 15,
     "metadata": {},
     "output_type": "execute_result"
    }
   ],
   "source": [
    "# reduce all after filtering\n",
    "report.filter(pattern=\"*.hdf5\").records"
   ]
  },
  {
   "cell_type": "code",
   "execution_count": 11,
   "metadata": {
    "scrolled": true
   },
   "outputs": [
    {
     "data": {
      "text/plain": [
       "{'POSIX': [{'id': '*',\n",
       "   'rank': -1,\n",
       "   'counters': array([                2049, 18446744073709551615, 18446744073709551615,\n",
       "                             0,                16402,                16404,\n",
       "                             0,                    0,                    0,\n",
       "                             0, 18446744073709551615, 18446744073709551615,\n",
       "                             0,                    0,                    0,\n",
       "                 2199023259968,                    0,        2199023261831,\n",
       "                             0,                    0,                    0,\n",
       "                         16384,                    0,                    0,\n",
       "                             8,                16401,              1048576,\n",
       "                             0,            134217728,                    0,\n",
       "                             0,                    0,                    0,\n",
       "                             0,                    0,                    0,\n",
       "                             0,                    0,                    0,\n",
       "                             4,                   14,                    0,\n",
       "                             0,                    0,                    0,\n",
       "                             0,                    0,                16384,\n",
       "                             0,         274743689216,         274743691264,\n",
       "                             0,                    0,                10240,\n",
       "                          4096,                    0,                    0,\n",
       "                     134217728,                  272,                  544,\n",
       "                           328,                16384,                    8,\n",
       "                             2], dtype=uint64),\n",
       "   'fcounters': array([ 2.04900000e+03, -1.00000000e+00, -1.00000000e+00,  0.00000000e+00,\n",
       "           1.64020000e+04,  1.64040000e+04,  0.00000000e+00,  0.00000000e+00,\n",
       "           0.00000000e+00,  0.00000000e+00, -1.00000000e+00, -1.00000000e+00,\n",
       "           0.00000000e+00,  0.00000000e+00,  0.00000000e+00,  2.19902326e+12,\n",
       "           0.00000000e+00,  2.19902326e+12,  0.00000000e+00,  0.00000000e+00,\n",
       "           0.00000000e+00,  1.63840000e+04,  0.00000000e+00,  0.00000000e+00,\n",
       "           8.00000000e+00,  1.64010000e+04,  1.04857600e+06,  0.00000000e+00,\n",
       "           1.34217728e+08,  0.00000000e+00,  0.00000000e+00,  0.00000000e+00,\n",
       "           0.00000000e+00,  0.00000000e+00,  0.00000000e+00,  0.00000000e+00,\n",
       "           0.00000000e+00,  0.00000000e+00,  0.00000000e+00,  4.00000000e+00,\n",
       "           1.40000000e+01,  0.00000000e+00,  0.00000000e+00,  0.00000000e+00,\n",
       "           0.00000000e+00,  0.00000000e+00,  0.00000000e+00,  1.63840000e+04,\n",
       "           0.00000000e+00,  2.74743689e+11,  2.74743691e+11,  0.00000000e+00,\n",
       "           0.00000000e+00,  1.02400000e+04,  4.09600000e+03,  0.00000000e+00,\n",
       "           0.00000000e+00,  1.34217728e+08,  2.72000000e+02,  5.44000000e+02,\n",
       "           3.28000000e+02,  1.63840000e+04,  8.00000000e+00,  2.00000000e+00])}]}"
      ]
     },
     "execution_count": 11,
     "metadata": {},
     "output_type": "execute_result"
    }
   ],
   "source": [
    "# only preserve some\n",
    "report.filter(name_records=[6301063301082038805]).reduce(mods=['POSIX', 'STDIO']).records"
   ]
  },
  {
   "cell_type": "code",
   "execution_count": null,
   "metadata": {},
   "outputs": [],
   "source": []
  },
  {
   "cell_type": "code",
   "execution_count": 16,
   "metadata": {
    "scrolled": true
   },
   "outputs": [
    {
     "name": "stdout",
     "output_type": "stream",
     "text": [
      "IOOPS have not been aggregated for this report.\n"
     ]
    }
   ],
   "source": [
    "# expected to fail\n",
    "try:\n",
    "    pprint.pprint(report.summary['agg_ioops'])\n",
    "except:\n",
    "    print(\"IOOPS have not been aggregated for this report.\")"
   ]
  },
  {
   "cell_type": "code",
   "execution_count": 17,
   "metadata": {},
   "outputs": [],
   "source": [
    "report.read_all() \n",
    "report.summarize()"
   ]
  },
  {
   "cell_type": "code",
   "execution_count": 18,
   "metadata": {
    "scrolled": true
   },
   "outputs": [
    {
     "name": "stdout",
     "output_type": "stream",
     "text": [
      "{'MPI-IO': {'MPIIO_ACCESS1_ACCESS': 134217728,\n",
      "            'MPIIO_ACCESS1_COUNT': 16384,\n",
      "            'MPIIO_ACCESS2_ACCESS': 272,\n",
      "            'MPIIO_ACCESS2_COUNT': 8,\n",
      "            'MPIIO_ACCESS3_ACCESS': 544,\n",
      "            'MPIIO_ACCESS3_COUNT': 2,\n",
      "            'MPIIO_ACCESS4_ACCESS': 328,\n",
      "            'MPIIO_ACCESS4_COUNT': 2,\n",
      "            'MPIIO_BYTES_READ': 0,\n",
      "            'MPIIO_BYTES_WRITTEN': 2199023259968,\n",
      "            'MPIIO_COLL_OPENS': 2048,\n",
      "            'MPIIO_COLL_READS': 0,\n",
      "            'MPIIO_COLL_WRITES': 16384,\n",
      "            'MPIIO_FASTEST_RANK': 597,\n",
      "            'MPIIO_FASTEST_RANK_BYTES': 1073741824,\n",
      "            'MPIIO_HINTS': 0,\n",
      "            'MPIIO_INDEP_OPENS': 0,\n",
      "            'MPIIO_INDEP_READS': 0,\n",
      "            'MPIIO_INDEP_WRITES': 18,\n",
      "            'MPIIO_MAX_READ_TIME_SIZE': 0,\n",
      "            'MPIIO_MAX_WRITE_TIME_SIZE': 134217728,\n",
      "            'MPIIO_MODE': 9,\n",
      "            'MPIIO_NB_READS': 0,\n",
      "            'MPIIO_NB_WRITES': 0,\n",
      "            'MPIIO_RW_SWITCHES': 0,\n",
      "            'MPIIO_SIZE_READ_AGG_0_100': 0,\n",
      "            'MPIIO_SIZE_READ_AGG_100K_1M': 0,\n",
      "            'MPIIO_SIZE_READ_AGG_100M_1G': 0,\n",
      "            'MPIIO_SIZE_READ_AGG_100_1K': 0,\n",
      "            'MPIIO_SIZE_READ_AGG_10K_100K': 0,\n",
      "            'MPIIO_SIZE_READ_AGG_10M_100M': 0,\n",
      "            'MPIIO_SIZE_READ_AGG_1G_PLUS': 0,\n",
      "            'MPIIO_SIZE_READ_AGG_1K_10K': 0,\n",
      "            'MPIIO_SIZE_READ_AGG_1M_4M': 0,\n",
      "            'MPIIO_SIZE_READ_AGG_4M_10M': 0,\n",
      "            'MPIIO_SIZE_WRITE_AGG_0_100': 4,\n",
      "            'MPIIO_SIZE_WRITE_AGG_100K_1M': 0,\n",
      "            'MPIIO_SIZE_WRITE_AGG_100M_1G': 16384,\n",
      "            'MPIIO_SIZE_WRITE_AGG_100_1K': 14,\n",
      "            'MPIIO_SIZE_WRITE_AGG_10K_100K': 0,\n",
      "            'MPIIO_SIZE_WRITE_AGG_10M_100M': 0,\n",
      "            'MPIIO_SIZE_WRITE_AGG_1G_PLUS': 0,\n",
      "            'MPIIO_SIZE_WRITE_AGG_1K_10K': 0,\n",
      "            'MPIIO_SIZE_WRITE_AGG_1M_4M': 0,\n",
      "            'MPIIO_SIZE_WRITE_AGG_4M_10M': 0,\n",
      "            'MPIIO_SLOWEST_RANK': 1312,\n",
      "            'MPIIO_SLOWEST_RANK_BYTES': 1073741824,\n",
      "            'MPIIO_SPLIT_READS': 0,\n",
      "            'MPIIO_SPLIT_WRITES': 0,\n",
      "            'MPIIO_SYNCS': 0,\n",
      "            'MPIIO_VIEWS': 32768},\n",
      " 'MPI-IO_coll_simple': {'Fsync': 0,\n",
      "                        'Mmap': 0,\n",
      "                        'Open': 2048,\n",
      "                        'Read': 0,\n",
      "                        'Seek': 0,\n",
      "                        'Stat': 0,\n",
      "                        'Write': 16384},\n",
      " 'MPI-IO_indep_simple': {'Fsync': 0,\n",
      "                         'Mmap': 0,\n",
      "                         'Open': 0,\n",
      "                         'Read': 0,\n",
      "                         'Seek': 0,\n",
      "                         'Stat': 0,\n",
      "                         'Write': 18},\n",
      " 'POSIX': {'POSIX_ACCESS1_ACCESS': 134217728,\n",
      "           'POSIX_ACCESS1_COUNT': 16384,\n",
      "           'POSIX_ACCESS2_ACCESS': 272,\n",
      "           'POSIX_ACCESS2_COUNT': 8,\n",
      "           'POSIX_ACCESS3_ACCESS': 544,\n",
      "           'POSIX_ACCESS3_COUNT': 2,\n",
      "           'POSIX_ACCESS4_ACCESS': 328,\n",
      "           'POSIX_BYTES_READ': 0,\n",
      "           'POSIX_BYTES_WRITTEN': 2199023259968,\n",
      "           'POSIX_CONSEC_READS': 0,\n",
      "           'POSIX_CONSEC_WRITES': 0,\n",
      "           'POSIX_DUPS': 18446744073709551615,\n",
      "           'POSIX_FDSYNCS': 0,\n",
      "           'POSIX_FILENOS': 18446744073709551615,\n",
      "           'POSIX_FILE_ALIGNMENT': 1048576,\n",
      "           'POSIX_FILE_NOT_ALIGNED': 16401,\n",
      "           'POSIX_FSYNCS': 0,\n",
      "           'POSIX_MAX_BYTE_READ': 0,\n",
      "           'POSIX_MAX_BYTE_WRITTEN': 2199023261831,\n",
      "           'POSIX_MAX_READ_TIME_SIZE': 0,\n",
      "           'POSIX_MAX_WRITE_TIME_SIZE': 134217728,\n",
      "           'POSIX_MEM_ALIGNMENT': 8,\n",
      "           'POSIX_MEM_NOT_ALIGNED': 0,\n",
      "           'POSIX_MMAPS': 0,\n",
      "           'POSIX_MODE': 0,\n",
      "           'POSIX_OPENS': 2049,\n",
      "           'POSIX_READS': 0,\n",
      "           'POSIX_RENAMED_FROM': 0,\n",
      "           'POSIX_RENAME_SOURCES': 18446744073709551615,\n",
      "           'POSIX_RENAME_TARGETS': 18446744073709551615,\n",
      "           'POSIX_RW_SWITCHES': 0,\n",
      "           'POSIX_SEEKS': 16404,\n",
      "           'POSIX_SEQ_READS': 0,\n",
      "           'POSIX_SEQ_WRITES': 16384,\n",
      "           'POSIX_SIZE_READ_0_100': 0,\n",
      "           'POSIX_SIZE_READ_100K_1M': 0,\n",
      "           'POSIX_SIZE_READ_100M_1G': 0,\n",
      "           'POSIX_SIZE_READ_100_1K': 0,\n",
      "           'POSIX_SIZE_READ_10K_100K': 0,\n",
      "           'POSIX_SIZE_READ_10M_100M': 0,\n",
      "           'POSIX_SIZE_READ_1G_PLUS': 0,\n",
      "           'POSIX_SIZE_READ_1K_10K': 0,\n",
      "           'POSIX_SIZE_READ_1M_4M': 0,\n",
      "           'POSIX_SIZE_READ_4M_10M': 0,\n",
      "           'POSIX_SIZE_WRITE_0_100': 4,\n",
      "           'POSIX_SIZE_WRITE_100K_1M': 0,\n",
      "           'POSIX_SIZE_WRITE_100M_1G': 16384,\n",
      "           'POSIX_SIZE_WRITE_100_1K': 14,\n",
      "           'POSIX_SIZE_WRITE_10K_100K': 0,\n",
      "           'POSIX_SIZE_WRITE_10M_100M': 0,\n",
      "           'POSIX_SIZE_WRITE_1G_PLUS': 0,\n",
      "           'POSIX_SIZE_WRITE_1K_10K': 0,\n",
      "           'POSIX_SIZE_WRITE_1M_4M': 0,\n",
      "           'POSIX_SIZE_WRITE_4M_10M': 0,\n",
      "           'POSIX_STATS': 0,\n",
      "           'POSIX_STRIDE1_COUNT': 10240,\n",
      "           'POSIX_STRIDE1_STRIDE': 274743689216,\n",
      "           'POSIX_STRIDE2_COUNT': 4096,\n",
      "           'POSIX_STRIDE2_STRIDE': 274743691264,\n",
      "           'POSIX_STRIDE3_COUNT': 0,\n",
      "           'POSIX_STRIDE3_STRIDE': 0,\n",
      "           'POSIX_STRIDE4_COUNT': 0,\n",
      "           'POSIX_STRIDE4_STRIDE': 0,\n",
      "           'POSIX_WRITES': 16402},\n",
      " 'POSIX_simple': {'Fsync': 0,\n",
      "                  'Mmap': 0,\n",
      "                  'Open': 2049,\n",
      "                  'Read': 0,\n",
      "                  'Seek': 16404,\n",
      "                  'Stat': 0,\n",
      "                  'Write': 16402},\n",
      " 'STDIO': {'STDIO_BYTES_READ': 0,\n",
      "           'STDIO_BYTES_WRITTEN': 3309,\n",
      "           'STDIO_FASTEST_RANK': 0,\n",
      "           'STDIO_FASTEST_RANK_BYTES': 0,\n",
      "           'STDIO_FDOPENS': 18446744073709551487,\n",
      "           'STDIO_FLUSHES': 0,\n",
      "           'STDIO_MAX_BYTE_READ': 0,\n",
      "           'STDIO_MAX_BYTE_WRITTEN': 3307,\n",
      "           'STDIO_OPENS': 129,\n",
      "           'STDIO_READS': 0,\n",
      "           'STDIO_SEEKS': 0,\n",
      "           'STDIO_SLOWEST_RANK': 0,\n",
      "           'STDIO_WRITES': 74},\n",
      " 'STDIO_simple': {'Fsync': 0,\n",
      "                  'Mmap': 0,\n",
      "                  'Open': 129,\n",
      "                  'Read': 0,\n",
      "                  'Seek': 0,\n",
      "                  'Stat': 0,\n",
      "                  'Write': 74}}\n"
     ]
    }
   ],
   "source": [
    "# attaches among other summarizes the aggregated ioops\n",
    "try:\n",
    "    pprint.pprint(report.summary['agg_ioops'])\n",
    "except:\n",
    "    print(\"IOOPS have not been aggregated for this report.\")"
   ]
  },
  {
   "cell_type": "markdown",
   "metadata": {},
   "source": [
    "Or fine grained:"
   ]
  },
  {
   "cell_type": "code",
   "execution_count": 19,
   "metadata": {},
   "outputs": [
    {
     "data": {
      "text/plain": [
       "{'READ_0_100': 0,\n",
       " 'READ_100_1K': 0,\n",
       " 'READ_1K_10K': 0,\n",
       " 'READ_10K_100K': 0,\n",
       " 'READ_100K_1M': 0,\n",
       " 'READ_1M_4M': 0,\n",
       " 'READ_4M_10M': 0,\n",
       " 'READ_10M_100M': 0,\n",
       " 'READ_100M_1G': 0,\n",
       " 'READ_1G_PLUS': 0,\n",
       " 'WRITE_0_100': 4,\n",
       " 'WRITE_100_1K': 14,\n",
       " 'WRITE_1K_10K': 0,\n",
       " 'WRITE_10K_100K': 0,\n",
       " 'WRITE_100K_1M': 0,\n",
       " 'WRITE_1M_4M': 0,\n",
       " 'WRITE_4M_10M': 0,\n",
       " 'WRITE_10M_100M': 0,\n",
       " 'WRITE_100M_1G': 16384,\n",
       " 'WRITE_1G_PLUS': 0}"
      ]
     },
     "execution_count": 19,
     "metadata": {},
     "output_type": "execute_result"
    }
   ],
   "source": [
    "report.mod_agg_iohist(\"MPI-IO\")  # to create the histograms"
   ]
  },
  {
   "cell_type": "code",
   "execution_count": 20,
   "metadata": {},
   "outputs": [
    {
     "data": {
      "text/plain": [
       "{'MPI-IO': {'MPIIO_INDEP_OPENS': 0,\n",
       "  'MPIIO_COLL_OPENS': 2048,\n",
       "  'MPIIO_INDEP_READS': 0,\n",
       "  'MPIIO_INDEP_WRITES': 18,\n",
       "  'MPIIO_COLL_READS': 0,\n",
       "  'MPIIO_COLL_WRITES': 16384,\n",
       "  'MPIIO_SPLIT_READS': 0,\n",
       "  'MPIIO_SPLIT_WRITES': 0,\n",
       "  'MPIIO_NB_READS': 0,\n",
       "  'MPIIO_NB_WRITES': 0,\n",
       "  'MPIIO_SYNCS': 0,\n",
       "  'MPIIO_HINTS': 0,\n",
       "  'MPIIO_VIEWS': 32768,\n",
       "  'MPIIO_MODE': 9,\n",
       "  'MPIIO_BYTES_READ': 0,\n",
       "  'MPIIO_BYTES_WRITTEN': 2199023259968,\n",
       "  'MPIIO_RW_SWITCHES': 0,\n",
       "  'MPIIO_MAX_READ_TIME_SIZE': 0,\n",
       "  'MPIIO_MAX_WRITE_TIME_SIZE': 134217728,\n",
       "  'MPIIO_SIZE_READ_AGG_0_100': 0,\n",
       "  'MPIIO_SIZE_READ_AGG_100_1K': 0,\n",
       "  'MPIIO_SIZE_READ_AGG_1K_10K': 0,\n",
       "  'MPIIO_SIZE_READ_AGG_10K_100K': 0,\n",
       "  'MPIIO_SIZE_READ_AGG_100K_1M': 0,\n",
       "  'MPIIO_SIZE_READ_AGG_1M_4M': 0,\n",
       "  'MPIIO_SIZE_READ_AGG_4M_10M': 0,\n",
       "  'MPIIO_SIZE_READ_AGG_10M_100M': 0,\n",
       "  'MPIIO_SIZE_READ_AGG_100M_1G': 0,\n",
       "  'MPIIO_SIZE_READ_AGG_1G_PLUS': 0,\n",
       "  'MPIIO_SIZE_WRITE_AGG_0_100': 4,\n",
       "  'MPIIO_SIZE_WRITE_AGG_100_1K': 14,\n",
       "  'MPIIO_SIZE_WRITE_AGG_1K_10K': 0,\n",
       "  'MPIIO_SIZE_WRITE_AGG_10K_100K': 0,\n",
       "  'MPIIO_SIZE_WRITE_AGG_100K_1M': 0,\n",
       "  'MPIIO_SIZE_WRITE_AGG_1M_4M': 0,\n",
       "  'MPIIO_SIZE_WRITE_AGG_4M_10M': 0,\n",
       "  'MPIIO_SIZE_WRITE_AGG_10M_100M': 0,\n",
       "  'MPIIO_SIZE_WRITE_AGG_100M_1G': 16384,\n",
       "  'MPIIO_SIZE_WRITE_AGG_1G_PLUS': 0,\n",
       "  'MPIIO_ACCESS1_ACCESS': 134217728,\n",
       "  'MPIIO_ACCESS2_ACCESS': 272,\n",
       "  'MPIIO_ACCESS3_ACCESS': 544,\n",
       "  'MPIIO_ACCESS4_ACCESS': 328,\n",
       "  'MPIIO_ACCESS1_COUNT': 16384,\n",
       "  'MPIIO_ACCESS2_COUNT': 8,\n",
       "  'MPIIO_ACCESS3_COUNT': 2,\n",
       "  'MPIIO_ACCESS4_COUNT': 2,\n",
       "  'MPIIO_FASTEST_RANK': 597,\n",
       "  'MPIIO_FASTEST_RANK_BYTES': 1073741824,\n",
       "  'MPIIO_SLOWEST_RANK': 1312,\n",
       "  'MPIIO_SLOWEST_RANK_BYTES': 1073741824},\n",
       " 'MPI-IO_indep_simple': {'Read': 0,\n",
       "  'Write': 18,\n",
       "  'Open': 0,\n",
       "  'Stat': 0,\n",
       "  'Seek': 0,\n",
       "  'Mmap': 0,\n",
       "  'Fsync': 0},\n",
       " 'MPI-IO_coll_simple': {'Read': 0,\n",
       "  'Write': 16384,\n",
       "  'Open': 2048,\n",
       "  'Stat': 0,\n",
       "  'Seek': 0,\n",
       "  'Mmap': 0,\n",
       "  'Fsync': 0},\n",
       " 'POSIX': {'POSIX_OPENS': 2049,\n",
       "  'POSIX_FILENOS': 18446744073709551615,\n",
       "  'POSIX_DUPS': 18446744073709551615,\n",
       "  'POSIX_READS': 0,\n",
       "  'POSIX_WRITES': 16402,\n",
       "  'POSIX_SEEKS': 16404,\n",
       "  'POSIX_STATS': 0,\n",
       "  'POSIX_MMAPS': 0,\n",
       "  'POSIX_FSYNCS': 0,\n",
       "  'POSIX_FDSYNCS': 0,\n",
       "  'POSIX_RENAME_SOURCES': 18446744073709551615,\n",
       "  'POSIX_RENAME_TARGETS': 18446744073709551615,\n",
       "  'POSIX_RENAMED_FROM': 0,\n",
       "  'POSIX_MODE': 0,\n",
       "  'POSIX_BYTES_READ': 0,\n",
       "  'POSIX_BYTES_WRITTEN': 2199023259968,\n",
       "  'POSIX_MAX_BYTE_READ': 0,\n",
       "  'POSIX_MAX_BYTE_WRITTEN': 2199023261831,\n",
       "  'POSIX_CONSEC_READS': 0,\n",
       "  'POSIX_CONSEC_WRITES': 0,\n",
       "  'POSIX_SEQ_READS': 0,\n",
       "  'POSIX_SEQ_WRITES': 16384,\n",
       "  'POSIX_RW_SWITCHES': 0,\n",
       "  'POSIX_MEM_NOT_ALIGNED': 0,\n",
       "  'POSIX_MEM_ALIGNMENT': 8,\n",
       "  'POSIX_FILE_NOT_ALIGNED': 16401,\n",
       "  'POSIX_FILE_ALIGNMENT': 1048576,\n",
       "  'POSIX_MAX_READ_TIME_SIZE': 0,\n",
       "  'POSIX_MAX_WRITE_TIME_SIZE': 134217728,\n",
       "  'POSIX_SIZE_READ_0_100': 0,\n",
       "  'POSIX_SIZE_READ_100_1K': 0,\n",
       "  'POSIX_SIZE_READ_1K_10K': 0,\n",
       "  'POSIX_SIZE_READ_10K_100K': 0,\n",
       "  'POSIX_SIZE_READ_100K_1M': 0,\n",
       "  'POSIX_SIZE_READ_1M_4M': 0,\n",
       "  'POSIX_SIZE_READ_4M_10M': 0,\n",
       "  'POSIX_SIZE_READ_10M_100M': 0,\n",
       "  'POSIX_SIZE_READ_100M_1G': 0,\n",
       "  'POSIX_SIZE_READ_1G_PLUS': 0,\n",
       "  'POSIX_SIZE_WRITE_0_100': 4,\n",
       "  'POSIX_SIZE_WRITE_100_1K': 14,\n",
       "  'POSIX_SIZE_WRITE_1K_10K': 0,\n",
       "  'POSIX_SIZE_WRITE_10K_100K': 0,\n",
       "  'POSIX_SIZE_WRITE_100K_1M': 0,\n",
       "  'POSIX_SIZE_WRITE_1M_4M': 0,\n",
       "  'POSIX_SIZE_WRITE_4M_10M': 0,\n",
       "  'POSIX_SIZE_WRITE_10M_100M': 0,\n",
       "  'POSIX_SIZE_WRITE_100M_1G': 16384,\n",
       "  'POSIX_SIZE_WRITE_1G_PLUS': 0,\n",
       "  'POSIX_STRIDE1_STRIDE': 274743689216,\n",
       "  'POSIX_STRIDE2_STRIDE': 274743691264,\n",
       "  'POSIX_STRIDE3_STRIDE': 0,\n",
       "  'POSIX_STRIDE4_STRIDE': 0,\n",
       "  'POSIX_STRIDE1_COUNT': 10240,\n",
       "  'POSIX_STRIDE2_COUNT': 4096,\n",
       "  'POSIX_STRIDE3_COUNT': 0,\n",
       "  'POSIX_STRIDE4_COUNT': 0,\n",
       "  'POSIX_ACCESS1_ACCESS': 134217728,\n",
       "  'POSIX_ACCESS2_ACCESS': 272,\n",
       "  'POSIX_ACCESS3_ACCESS': 544,\n",
       "  'POSIX_ACCESS4_ACCESS': 328,\n",
       "  'POSIX_ACCESS1_COUNT': 16384,\n",
       "  'POSIX_ACCESS2_COUNT': 8,\n",
       "  'POSIX_ACCESS3_COUNT': 2},\n",
       " 'POSIX_simple': {'Read': 0,\n",
       "  'Write': 16402,\n",
       "  'Open': 2049,\n",
       "  'Stat': 0,\n",
       "  'Seek': 16404,\n",
       "  'Mmap': 0,\n",
       "  'Fsync': 0},\n",
       " 'STDIO': {'STDIO_OPENS': 129,\n",
       "  'STDIO_FDOPENS': 18446744073709551487,\n",
       "  'STDIO_READS': 0,\n",
       "  'STDIO_WRITES': 74,\n",
       "  'STDIO_SEEKS': 0,\n",
       "  'STDIO_FLUSHES': 0,\n",
       "  'STDIO_BYTES_WRITTEN': 3309,\n",
       "  'STDIO_BYTES_READ': 0,\n",
       "  'STDIO_MAX_BYTE_READ': 0,\n",
       "  'STDIO_MAX_BYTE_WRITTEN': 3307,\n",
       "  'STDIO_FASTEST_RANK': 0,\n",
       "  'STDIO_FASTEST_RANK_BYTES': 0,\n",
       "  'STDIO_SLOWEST_RANK': 0},\n",
       " 'STDIO_simple': {'Read': 0,\n",
       "  'Write': 74,\n",
       "  'Open': 129,\n",
       "  'Stat': 0,\n",
       "  'Seek': 0,\n",
       "  'Mmap': 0,\n",
       "  'Fsync': 0}}"
      ]
     },
     "execution_count": 20,
     "metadata": {},
     "output_type": "execute_result"
    }
   ],
   "source": [
    "report.agg_ioops()               # to create the combined operation type summary"
   ]
  },
  {
   "cell_type": "markdown",
   "metadata": {},
   "source": [
    "### Report Algebra\n",
    "\n",
    "Various operations are implemented to merge, combine and manipulate log records. This is useful for analysis task, but can also be used to construct performance projections or extrapolation.\n",
    "\n",
    "For convienience, we overload some of the operations provided by Python when they resemble intuitive equivalence to their mathematical counterparts. In particular, we enable the combination of different object types."
   ]
  },
  {
   "cell_type": "code",
   "execution_count": 21,
   "metadata": {
    "scrolled": false
   },
   "outputs": [
    {
     "ename": "NameError",
     "evalue": "name 'plot_opcounts' is not defined",
     "output_type": "error",
     "traceback": [
      "\u001b[0;31m---------------------------------------------------------------------------\u001b[0m",
      "\u001b[0;31mNameError\u001b[0m                                 Traceback (most recent call last)",
      "\u001b[0;32m<ipython-input-21-3342c776eac7>\u001b[0m in \u001b[0;36m<module>\u001b[0;34m\u001b[0m\n\u001b[1;32m      3\u001b[0m \u001b[0mr2\u001b[0m \u001b[0;34m=\u001b[0m \u001b[0mdarshan\u001b[0m\u001b[0;34m.\u001b[0m\u001b[0mDarshanReport\u001b[0m\u001b[0;34m(\u001b[0m\u001b[0;34m\"example2.darshan\"\u001b[0m\u001b[0;34m,\u001b[0m \u001b[0mread_all\u001b[0m\u001b[0;34m=\u001b[0m\u001b[0;32mTrue\u001b[0m\u001b[0;34m)\u001b[0m\u001b[0;34m\u001b[0m\u001b[0;34m\u001b[0m\u001b[0m\n\u001b[1;32m      4\u001b[0m \u001b[0mrx\u001b[0m \u001b[0;34m=\u001b[0m \u001b[0mr1\u001b[0m \u001b[0;34m+\u001b[0m \u001b[0mr2\u001b[0m\u001b[0;34m\u001b[0m\u001b[0;34m\u001b[0m\u001b[0m\n\u001b[0;32m----> 5\u001b[0;31m \u001b[0mplot_opcounts\u001b[0m\u001b[0;34m(\u001b[0m\u001b[0mrx\u001b[0m\u001b[0;34m)\u001b[0m\u001b[0;34m\u001b[0m\u001b[0;34m\u001b[0m\u001b[0m\n\u001b[0m",
      "\u001b[0;31mNameError\u001b[0m: name 'plot_opcounts' is not defined"
     ]
    }
   ],
   "source": [
    "# merging records\n",
    "r1 = darshan.DarshanReport(\"example.darshan\", read_all=True)\n",
    "r2 = darshan.DarshanReport(\"example2.darshan\", read_all=True)\n",
    "rx = r1 + r2\n",
    "plot_opcounts(rx)"
   ]
  },
  {
   "cell_type": "code",
   "execution_count": null,
   "metadata": {},
   "outputs": [],
   "source": [
    "# multiply records with a scalar (think, four times the I/O load)\n",
    "r1 = darshan.DarshanReport(\"example.darshan\", read_all=True)\n",
    "rx = r1 * 4\n",
    "plot_opcounts(rx)"
   ]
  },
  {
   "cell_type": "code",
   "execution_count": null,
   "metadata": {},
   "outputs": [],
   "source": [
    "# rebase via timedelta\n",
    "r1 = darshan.DarshanReport(\"example.darshan\", read_all=True)\n",
    "dt = datetime.timedelta()\n",
    "rx = r1 + dt\n"
   ]
  },
  {
   "cell_type": "markdown",
   "metadata": {},
   "source": [
    "## Plotting"
   ]
  },
  {
   "cell_type": "code",
   "execution_count": null,
   "metadata": {},
   "outputs": [],
   "source": [
    "import darshan\n",
    "darshan.enable_experimental(verbose=False)\n",
    "\n",
    "r3 = darshan.DarshanReport(\"example.darshan\")\n",
    "r3.mod_read_all_records('POSIX')\n",
    "\n",
    "from darshan.experimental.plots.matplotlib import plot_access_histogram\n",
    "plot_access_histogram(r3, mod='POSIX')"
   ]
  },
  {
   "cell_type": "code",
   "execution_count": null,
   "metadata": {},
   "outputs": [],
   "source": [
    "import darshan\n",
    "darshan.enable_experimental(verbose=False)\n",
    "\n",
    "r3 = darshan.DarshanReport(\"example.darshan\")\n",
    "r3.mod_read_all_records('MPI-IO')\n",
    "\n",
    "from darshan.experimental.plots.matplotlib import plot_access_histogram\n",
    "plot_access_histogram(r3, mod='MPI-IO')"
   ]
  },
  {
   "cell_type": "code",
   "execution_count": null,
   "metadata": {
    "scrolled": true
   },
   "outputs": [],
   "source": [
    "import darshan\n",
    "darshan.enable_experimental(verbose=False)\n",
    "\n",
    "r3 = darshan.DarshanReport(\"example.darshan\")\n",
    "r3.read_all()\n",
    "\n",
    "from darshan.experimental.plots.matplotlib import plot_opcounts\n",
    "plot_opcounts(r3)"
   ]
  },
  {
   "cell_type": "markdown",
   "metadata": {},
   "source": [
    "### DXT Records\n",
    "\n",
    "DXT records are also supported, and can be loaded individually on a per module basis as follows:\n"
   ]
  },
  {
   "cell_type": "code",
   "execution_count": null,
   "metadata": {},
   "outputs": [],
   "source": [
    "report2 = darshan.DarshanReport(\"example.darshan\")\n",
    "report2.mod_read_all_dxt_records(\"ABC\") "
   ]
  },
  {
   "cell_type": "code",
   "execution_count": null,
   "metadata": {},
   "outputs": [],
   "source": [
    "report2.data"
   ]
  },
  {
   "cell_type": "markdown",
   "metadata": {},
   "source": [
    "## Exporting Data for Use in Third-Party Analysis\n",
    "\n",
    "Darshan logs may be used in contexts beyond our imagination. To make this effortless export in JSON is easy."
   ]
  },
  {
   "cell_type": "code",
   "execution_count": null,
   "metadata": {},
   "outputs": [],
   "source": [
    "import darshan\n",
    "report = darshan.DarshanReport(\"example.darshan\", read_all=True)\n",
    "report.to_json()"
   ]
  },
  {
   "cell_type": "markdown",
   "metadata": {},
   "source": [
    "## Error Handling?\n",
    "\n",
    "Currently, playing with two modes, both have their pros and cons.\n",
    "\n",
    "Generally, should expose errors and let users handle them. At the same time, just skipping invalid load requests does little harm but greatly improves convienince.\n",
    "\n",
    "Could add a switch to enable disable these guard :/"
   ]
  },
  {
   "cell_type": "code",
   "execution_count": null,
   "metadata": {
    "scrolled": true
   },
   "outputs": [],
   "source": [
    "report = darshan.DarshanReport(\"example.darshan\")"
   ]
  },
  {
   "cell_type": "code",
   "execution_count": null,
   "metadata": {},
   "outputs": [],
   "source": [
    "report.mod_read_all_records(\"ABC\") # Expect KeyError"
   ]
  },
  {
   "cell_type": "code",
   "execution_count": null,
   "metadata": {},
   "outputs": [],
   "source": [
    "report.mod_read_all_dxt_records(\"ABC\") # Expect printed warning, but not exception"
   ]
  }
 ],
 "metadata": {
  "kernelspec": {
   "display_name": "Python 3",
   "language": "python",
   "name": "python3"
  },
  "language_info": {
   "codemirror_mode": {
    "name": "ipython",
    "version": 3
   },
   "file_extension": ".py",
   "mimetype": "text/x-python",
   "name": "python",
   "nbconvert_exporter": "python",
   "pygments_lexer": "ipython3",
   "version": "3.6.9"
  }
 },
 "nbformat": 4,
 "nbformat_minor": 2
}
