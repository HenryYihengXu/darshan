{
 "cells": [
  {
   "cell_type": "code",
   "execution_count": 4,
   "metadata": {},
   "outputs": [],
   "source": [
    "import darshan\n",
    "import pprint"
   ]
  },
  {
   "cell_type": "code",
   "execution_count": 5,
   "metadata": {},
   "outputs": [],
   "source": [
    "report = darshan.DarshanReport(\"example.darshan\")"
   ]
  },
  {
   "cell_type": "markdown",
   "metadata": {},
   "source": [
    "By default only metadata, available modules and the name records are loaded:"
   ]
  },
  {
   "cell_type": "code",
   "execution_count": 6,
   "metadata": {
    "scrolled": true
   },
   "outputs": [
    {
     "data": {
      "text/plain": [
       "{'version': 1,\n",
       " 'metadata': {'job': {'jobid': 4478544,\n",
       "   'uid': 69615,\n",
       "   'start_time': 1490000867,\n",
       "   'end_time': 1490000983,\n",
       "   'metadata': {'lib_ver': '3.1.3', 'h': 'romio_no_indep_rw=true;cb_nodes=4'}},\n",
       "  'exe': '/global/project/projectdirs/m888/glock/tokio-abc-results/bin.edison/vpicio_uni /scratch2/scratchdirs/glock/tokioabc-s.4478544/vpicio/vpicio.hdf5 32'},\n",
       " 'records': {},\n",
       " 'summary': {},\n",
       " 'mounts': [('/.shared/base/default/etc/dat.conf', 'dvs'),\n",
       "  ('/usr/lib64/libibverbs.so.1.0.0', 'dvs'),\n",
       "  ('/usr/lib64/libibumad.so.3.0.2', 'dvs'),\n",
       "  ('/usr/lib64/librdmacm.so.1.0.0', 'dvs'),\n",
       "  ('/usr/lib64/libibgni.so.1.0.0', 'dvs'),\n",
       "  ('/global/cscratch1', 'lustre'),\n",
       "  ('/global/projectb', 'dvs'),\n",
       "  ('/global/projecta', 'dvs'),\n",
       "  ('/usr/sbin/ibstat', 'dvs'),\n",
       "  ('/global/project', 'dvs'),\n",
       "  ('/global/common', 'dvs'),\n",
       "  ('/global/syscom', 'dvs'),\n",
       "  ('/global/dna', 'dvs'),\n",
       "  ('/opt/slurm', 'dvs'),\n",
       "  ('/global/u1', 'dvs'),\n",
       "  ('/global/u2', 'dvs'),\n",
       "  ('/scratch1', 'lustre'),\n",
       "  ('/scratch2', 'lustre'),\n",
       "  ('/scratch3', 'lustre'),\n",
       "  ('/etc', 'dvs'),\n",
       "  ('/', 'rootfs'),\n",
       "  ('/', 'dvs')],\n",
       " 'modules': {'POSIX': {'len': 186, 'ver': 3, 'idx': 1},\n",
       "  'MPI-IO': {'len': 154, 'ver': 2, 'idx': 2},\n",
       "  'LUSTRE': {'len': 87, 'ver': 1, 'idx': 6},\n",
       "  'STDIO': {'len': 3234, 'ver': 1, 'idx': 7}},\n",
       " 'name_records': {14734109647742566553: '<STDIN>',\n",
       "  15920181672442173319: '<STDOUT>',\n",
       "  7238257241479193519: '<STDERR>',\n",
       "  6301063301082038805: '/scratch2/scratchdirs/glock/tokioabc-s.4478544/vpicio/vpicio.hdf5'}}"
      ]
     },
     "execution_count": 6,
     "metadata": {},
     "output_type": "execute_result"
    }
   ],
   "source": [
    "report.data"
   ]
  },
  {
   "cell_type": "markdown",
   "metadata": {},
   "source": [
    "### Loading Additional Records\n",
    "\n",
    "Additional records can be loaded for example on a per module basis:"
   ]
  },
  {
   "cell_type": "code",
   "execution_count": 4,
   "metadata": {},
   "outputs": [
    {
     "ename": "KeyError",
     "evalue": "'POSIX'",
     "output_type": "error",
     "traceback": [
      "\u001b[0;31m---------------------------------------------------------------------------\u001b[0m",
      "\u001b[0;31mKeyError\u001b[0m                                  Traceback (most recent call last)",
      "\u001b[0;32m<ipython-input-4-1c44728d67db>\u001b[0m in \u001b[0;36m<module>\u001b[0;34m\u001b[0m\n\u001b[1;32m      1\u001b[0m \u001b[0;31m# expected to fail\u001b[0m\u001b[0;34m\u001b[0m\u001b[0;34m\u001b[0m\u001b[0;34m\u001b[0m\u001b[0m\n\u001b[0;32m----> 2\u001b[0;31m \u001b[0mreport\u001b[0m\u001b[0;34m.\u001b[0m\u001b[0mdata\u001b[0m\u001b[0;34m[\u001b[0m\u001b[0;34m'records'\u001b[0m\u001b[0;34m]\u001b[0m\u001b[0;34m[\u001b[0m\u001b[0;34m'POSIX'\u001b[0m\u001b[0;34m]\u001b[0m\u001b[0;34m\u001b[0m\u001b[0;34m\u001b[0m\u001b[0m\n\u001b[0m",
      "\u001b[0;31mKeyError\u001b[0m: 'POSIX'"
     ]
    }
   ],
   "source": [
    "# expected to fail\n",
    "report.data['records']['POSIX']"
   ]
  },
  {
   "cell_type": "code",
   "execution_count": 5,
   "metadata": {},
   "outputs": [],
   "source": [
    "report.mod_read_all_records(\"POSIX\") "
   ]
  },
  {
   "cell_type": "code",
   "execution_count": 6,
   "metadata": {
    "scrolled": false
   },
   "outputs": [
    {
     "data": {
      "text/plain": [
       "[{'id': 6301063301082038805,\n",
       "  'rank': -1,\n",
       "  'counters': array([                2049, 18446744073709551615, 18446744073709551615,\n",
       "                            0,                16402,                16404,\n",
       "                            0,                    0,                    0,\n",
       "                            0, 18446744073709551615, 18446744073709551615,\n",
       "                            0,                    0,                    0,\n",
       "                2199023259968,                    0,        2199023261831,\n",
       "                            0,                    0,                    0,\n",
       "                        16384,                    0,                    0,\n",
       "                            8,                16401,              1048576,\n",
       "                            0,            134217728,                    0,\n",
       "                            0,                    0,                    0,\n",
       "                            0,                    0,                    0,\n",
       "                            0,                    0,                    0,\n",
       "                            4,                   14,                    0,\n",
       "                            0,                    0,                    0,\n",
       "                            0,                    0,                16384,\n",
       "                            0,         274743689216,         274743691264,\n",
       "                            0,                    0,                10240,\n",
       "                         4096,                    0,                    0,\n",
       "                    134217728,                  272,                  544,\n",
       "                          328,                16384,                    8,\n",
       "                            2], dtype=uint64),\n",
       "  'fcounters': array([ 2.04900000e+03, -1.00000000e+00, -1.00000000e+00,  0.00000000e+00,\n",
       "          1.64020000e+04,  1.64040000e+04,  0.00000000e+00,  0.00000000e+00,\n",
       "          0.00000000e+00,  0.00000000e+00, -1.00000000e+00, -1.00000000e+00,\n",
       "          0.00000000e+00,  0.00000000e+00,  0.00000000e+00,  2.19902326e+12,\n",
       "          0.00000000e+00,  2.19902326e+12,  0.00000000e+00,  0.00000000e+00,\n",
       "          0.00000000e+00,  1.63840000e+04,  0.00000000e+00,  0.00000000e+00,\n",
       "          8.00000000e+00,  1.64010000e+04,  1.04857600e+06,  0.00000000e+00,\n",
       "          1.34217728e+08,  0.00000000e+00,  0.00000000e+00,  0.00000000e+00,\n",
       "          0.00000000e+00,  0.00000000e+00,  0.00000000e+00,  0.00000000e+00,\n",
       "          0.00000000e+00,  0.00000000e+00,  0.00000000e+00,  4.00000000e+00,\n",
       "          1.40000000e+01,  0.00000000e+00,  0.00000000e+00,  0.00000000e+00,\n",
       "          0.00000000e+00,  0.00000000e+00,  0.00000000e+00,  1.63840000e+04,\n",
       "          0.00000000e+00,  2.74743689e+11,  2.74743691e+11,  0.00000000e+00,\n",
       "          0.00000000e+00,  1.02400000e+04,  4.09600000e+03,  0.00000000e+00,\n",
       "          0.00000000e+00,  1.34217728e+08,  2.72000000e+02,  5.44000000e+02,\n",
       "          3.28000000e+02,  1.63840000e+04,  8.00000000e+00,  2.00000000e+00])}]"
      ]
     },
     "execution_count": 6,
     "metadata": {},
     "output_type": "execute_result"
    }
   ],
   "source": [
    "report.data['records']['POSIX']"
   ]
  },
  {
   "cell_type": "markdown",
   "metadata": {},
   "source": [
    "### Aggregation (Experimental)\n",
    "\n",
    "Darshan log data is routinely aggregated for quick overview. The report object offers a few methods to perform common aggregations:"
   ]
  },
  {
   "cell_type": "code",
   "execution_count": 7,
   "metadata": {},
   "outputs": [],
   "source": [
    "import darshan\n",
    "report = darshan.DarshanReport(\"example.darshan\")"
   ]
  },
  {
   "cell_type": "markdown",
   "metadata": {},
   "source": [
    "Report aggregations and summarization remains experimental for now, mostly to allow interfaces to stabilize. Experimental features can be switched on easily by invoking:"
   ]
  },
  {
   "cell_type": "code",
   "execution_count": 8,
   "metadata": {},
   "outputs": [
    {
     "name": "stdout",
     "output_type": "stream",
     "text": [
      "Added method create_time_summary to DarshanReport.\n",
      "Added method summarize to DarshanReport.\n",
      "Added method create_timeline to DarshanReport.\n",
      "Added method agg_ioops to DarshanReport.\n",
      "Added method create_sankey to DarshanReport.\n",
      "Added method mod_agg_iohist to DarshanReport.\n"
     ]
    }
   ],
   "source": [
    "darshan.enable_experimental()"
   ]
  },
  {
   "cell_type": "code",
   "execution_count": 9,
   "metadata": {
    "scrolled": true
   },
   "outputs": [
    {
     "ename": "KeyError",
     "evalue": "'agg_ioops'",
     "output_type": "error",
     "traceback": [
      "\u001b[0;31m---------------------------------------------------------------------------\u001b[0m",
      "\u001b[0;31mKeyError\u001b[0m                                  Traceback (most recent call last)",
      "\u001b[0;32m<ipython-input-9-dc5f73bddcf3>\u001b[0m in \u001b[0;36m<module>\u001b[0;34m\u001b[0m\n\u001b[1;32m      1\u001b[0m \u001b[0;31m# expected to fail\u001b[0m\u001b[0;34m\u001b[0m\u001b[0;34m\u001b[0m\u001b[0;34m\u001b[0m\u001b[0m\n\u001b[0;32m----> 2\u001b[0;31m \u001b[0mreport\u001b[0m\u001b[0;34m.\u001b[0m\u001b[0mdata\u001b[0m\u001b[0;34m[\u001b[0m\u001b[0;34m'agg_ioops'\u001b[0m\u001b[0;34m]\u001b[0m\u001b[0;34m\u001b[0m\u001b[0;34m\u001b[0m\u001b[0m\n\u001b[0m",
      "\u001b[0;31mKeyError\u001b[0m: 'agg_ioops'"
     ]
    }
   ],
   "source": [
    "# expected to fail\n",
    "report.data['agg_ioops']"
   ]
  },
  {
   "cell_type": "code",
   "execution_count": 10,
   "metadata": {},
   "outputs": [
    {
     "name": "stdout",
     "output_type": "stream",
     "text": [
      "Skipping. Currently unsupported: LUSTRE in mod_read_all_records().\n",
      "Skipping. Currently unsupported: POSIX\n",
      "Skipping. Currently unsupported: MPI-IO\n",
      "Skipping. Currently unsupported: LUSTRE\n",
      "Skipping. Currently unsupported: STDIO\n"
     ]
    }
   ],
   "source": [
    "report.read_all() \n",
    "report.summarize()"
   ]
  },
  {
   "cell_type": "code",
   "execution_count": 11,
   "metadata": {
    "scrolled": true
   },
   "outputs": [
    {
     "data": {
      "text/plain": [
       "{'MPI-IO': {'MPIIO_INDEP_OPENS': 0,\n",
       "  'MPIIO_COLL_OPENS': 2048,\n",
       "  'MPIIO_INDEP_READS': 0,\n",
       "  'MPIIO_INDEP_WRITES': 18,\n",
       "  'MPIIO_COLL_READS': 0,\n",
       "  'MPIIO_COLL_WRITES': 16384,\n",
       "  'MPIIO_SPLIT_READS': 0,\n",
       "  'MPIIO_SPLIT_WRITES': 0,\n",
       "  'MPIIO_NB_READS': 0,\n",
       "  'MPIIO_NB_WRITES': 0,\n",
       "  'MPIIO_SYNCS': 0,\n",
       "  'MPIIO_HINTS': 0,\n",
       "  'MPIIO_VIEWS': 32768,\n",
       "  'MPIIO_MODE': 9,\n",
       "  'MPIIO_BYTES_READ': 0,\n",
       "  'MPIIO_BYTES_WRITTEN': 2199023259968,\n",
       "  'MPIIO_RW_SWITCHES': 0,\n",
       "  'MPIIO_MAX_READ_TIME_SIZE': 0,\n",
       "  'MPIIO_MAX_WRITE_TIME_SIZE': 134217728,\n",
       "  'MPIIO_SIZE_READ_AGG_0_100': 0,\n",
       "  'MPIIO_SIZE_READ_AGG_100_1K': 0,\n",
       "  'MPIIO_SIZE_READ_AGG_1K_10K': 0,\n",
       "  'MPIIO_SIZE_READ_AGG_10K_100K': 0,\n",
       "  'MPIIO_SIZE_READ_AGG_100K_1M': 0,\n",
       "  'MPIIO_SIZE_READ_AGG_1M_4M': 0,\n",
       "  'MPIIO_SIZE_READ_AGG_4M_10M': 0,\n",
       "  'MPIIO_SIZE_READ_AGG_10M_100M': 0,\n",
       "  'MPIIO_SIZE_READ_AGG_100M_1G': 0,\n",
       "  'MPIIO_SIZE_READ_AGG_1G_PLUS': 0,\n",
       "  'MPIIO_SIZE_WRITE_AGG_0_100': 4,\n",
       "  'MPIIO_SIZE_WRITE_AGG_100_1K': 14,\n",
       "  'MPIIO_SIZE_WRITE_AGG_1K_10K': 0,\n",
       "  'MPIIO_SIZE_WRITE_AGG_10K_100K': 0,\n",
       "  'MPIIO_SIZE_WRITE_AGG_100K_1M': 0,\n",
       "  'MPIIO_SIZE_WRITE_AGG_1M_4M': 0,\n",
       "  'MPIIO_SIZE_WRITE_AGG_4M_10M': 0,\n",
       "  'MPIIO_SIZE_WRITE_AGG_10M_100M': 0,\n",
       "  'MPIIO_SIZE_WRITE_AGG_100M_1G': 16384,\n",
       "  'MPIIO_SIZE_WRITE_AGG_1G_PLUS': 0,\n",
       "  'MPIIO_ACCESS1_ACCESS': 134217728,\n",
       "  'MPIIO_ACCESS2_ACCESS': 272,\n",
       "  'MPIIO_ACCESS3_ACCESS': 544,\n",
       "  'MPIIO_ACCESS4_ACCESS': 328,\n",
       "  'MPIIO_ACCESS1_COUNT': 16384,\n",
       "  'MPIIO_ACCESS2_COUNT': 8,\n",
       "  'MPIIO_ACCESS3_COUNT': 2,\n",
       "  'MPIIO_ACCESS4_COUNT': 2,\n",
       "  'MPIIO_FASTEST_RANK': 597,\n",
       "  'MPIIO_FASTEST_RANK_BYTES': 1073741824,\n",
       "  'MPIIO_SLOWEST_RANK': 1312,\n",
       "  'MPIIO_SLOWEST_RANK_BYTES': 1073741824},\n",
       " 'MPI-IO_indep_simple': {'Read': 0,\n",
       "  'Write': 18,\n",
       "  'Open': 0,\n",
       "  'Stat': 0,\n",
       "  'Seek': 0,\n",
       "  'Mmap': 0,\n",
       "  'Fsync': 0},\n",
       " 'MPI-IO_coll_simple': {'Read': 0,\n",
       "  'Write': 16384,\n",
       "  'Open': 2048,\n",
       "  'Stat': 0,\n",
       "  'Seek': 0,\n",
       "  'Mmap': 0,\n",
       "  'Fsync': 0},\n",
       " 'POSIX': {'POSIX_OPENS': 2049,\n",
       "  'POSIX_FILENOS': 18446744073709551615,\n",
       "  'POSIX_DUPS': 18446744073709551615,\n",
       "  'POSIX_READS': 0,\n",
       "  'POSIX_WRITES': 16402,\n",
       "  'POSIX_SEEKS': 16404,\n",
       "  'POSIX_STATS': 0,\n",
       "  'POSIX_MMAPS': 0,\n",
       "  'POSIX_FSYNCS': 0,\n",
       "  'POSIX_FDSYNCS': 0,\n",
       "  'POSIX_RENAME_SOURCES': 18446744073709551615,\n",
       "  'POSIX_RENAME_TARGETS': 18446744073709551615,\n",
       "  'POSIX_RENAMED_FROM': 0,\n",
       "  'POSIX_MODE': 0,\n",
       "  'POSIX_BYTES_READ': 0,\n",
       "  'POSIX_BYTES_WRITTEN': 2199023259968,\n",
       "  'POSIX_MAX_BYTE_READ': 0,\n",
       "  'POSIX_MAX_BYTE_WRITTEN': 2199023261831,\n",
       "  'POSIX_CONSEC_READS': 0,\n",
       "  'POSIX_CONSEC_WRITES': 0,\n",
       "  'POSIX_SEQ_READS': 0,\n",
       "  'POSIX_SEQ_WRITES': 16384,\n",
       "  'POSIX_RW_SWITCHES': 0,\n",
       "  'POSIX_MEM_NOT_ALIGNED': 0,\n",
       "  'POSIX_MEM_ALIGNMENT': 8,\n",
       "  'POSIX_FILE_NOT_ALIGNED': 16401,\n",
       "  'POSIX_FILE_ALIGNMENT': 1048576,\n",
       "  'POSIX_MAX_READ_TIME_SIZE': 0,\n",
       "  'POSIX_MAX_WRITE_TIME_SIZE': 134217728,\n",
       "  'POSIX_SIZE_READ_0_100': 0,\n",
       "  'POSIX_SIZE_READ_100_1K': 0,\n",
       "  'POSIX_SIZE_READ_1K_10K': 0,\n",
       "  'POSIX_SIZE_READ_10K_100K': 0,\n",
       "  'POSIX_SIZE_READ_100K_1M': 0,\n",
       "  'POSIX_SIZE_READ_1M_4M': 0,\n",
       "  'POSIX_SIZE_READ_4M_10M': 0,\n",
       "  'POSIX_SIZE_READ_10M_100M': 0,\n",
       "  'POSIX_SIZE_READ_100M_1G': 0,\n",
       "  'POSIX_SIZE_READ_1G_PLUS': 0,\n",
       "  'POSIX_SIZE_WRITE_0_100': 4,\n",
       "  'POSIX_SIZE_WRITE_100_1K': 14,\n",
       "  'POSIX_SIZE_WRITE_1K_10K': 0,\n",
       "  'POSIX_SIZE_WRITE_10K_100K': 0,\n",
       "  'POSIX_SIZE_WRITE_100K_1M': 0,\n",
       "  'POSIX_SIZE_WRITE_1M_4M': 0,\n",
       "  'POSIX_SIZE_WRITE_4M_10M': 0,\n",
       "  'POSIX_SIZE_WRITE_10M_100M': 0,\n",
       "  'POSIX_SIZE_WRITE_100M_1G': 16384,\n",
       "  'POSIX_SIZE_WRITE_1G_PLUS': 0,\n",
       "  'POSIX_STRIDE1_STRIDE': 274743689216,\n",
       "  'POSIX_STRIDE2_STRIDE': 274743691264,\n",
       "  'POSIX_STRIDE3_STRIDE': 0,\n",
       "  'POSIX_STRIDE4_STRIDE': 0,\n",
       "  'POSIX_STRIDE1_COUNT': 10240,\n",
       "  'POSIX_STRIDE2_COUNT': 4096,\n",
       "  'POSIX_STRIDE3_COUNT': 0,\n",
       "  'POSIX_STRIDE4_COUNT': 0,\n",
       "  'POSIX_ACCESS1_ACCESS': 134217728,\n",
       "  'POSIX_ACCESS2_ACCESS': 272,\n",
       "  'POSIX_ACCESS3_ACCESS': 544,\n",
       "  'POSIX_ACCESS4_ACCESS': 328,\n",
       "  'POSIX_ACCESS1_COUNT': 16384,\n",
       "  'POSIX_ACCESS2_COUNT': 8,\n",
       "  'POSIX_ACCESS3_COUNT': 2},\n",
       " 'POSIX_simple': {'Read': 0,\n",
       "  'Write': 16402,\n",
       "  'Open': 2049,\n",
       "  'Stat': 0,\n",
       "  'Seek': 16404,\n",
       "  'Mmap': 0,\n",
       "  'Fsync': 0},\n",
       " 'STDIO': {'STDIO_OPENS': 129,\n",
       "  'STDIO_FDOPENS': 18446744073709551487,\n",
       "  'STDIO_READS': 0,\n",
       "  'STDIO_WRITES': 74,\n",
       "  'STDIO_SEEKS': 0,\n",
       "  'STDIO_FLUSHES': 0,\n",
       "  'STDIO_BYTES_WRITTEN': 3309,\n",
       "  'STDIO_BYTES_READ': 0,\n",
       "  'STDIO_MAX_BYTE_READ': 0,\n",
       "  'STDIO_MAX_BYTE_WRITTEN': 3307,\n",
       "  'STDIO_FASTEST_RANK': 0,\n",
       "  'STDIO_FASTEST_RANK_BYTES': 0,\n",
       "  'STDIO_SLOWEST_RANK': 0},\n",
       " 'STDIO_simple': {'Read': 0,\n",
       "  'Write': 74,\n",
       "  'Open': 129,\n",
       "  'Stat': 0,\n",
       "  'Seek': 0,\n",
       "  'Mmap': 0,\n",
       "  'Fsync': 0}}"
      ]
     },
     "execution_count": 11,
     "metadata": {},
     "output_type": "execute_result"
    }
   ],
   "source": [
    "# attaches among other summarizes the aggregated ioops\n",
    "report.data['agg_ioops']"
   ]
  },
  {
   "cell_type": "markdown",
   "metadata": {},
   "source": [
    "Or fine grained:"
   ]
  },
  {
   "cell_type": "code",
   "execution_count": 6,
   "metadata": {},
   "outputs": [],
   "source": [
    "report.mod_agg_iohist(\"MPI-IO\")  # to create the histograms"
   ]
  },
  {
   "cell_type": "code",
   "execution_count": 7,
   "metadata": {},
   "outputs": [],
   "source": [
    "report.agg_ioops()               # to create the combined operation type summary"
   ]
  },
  {
   "cell_type": "markdown",
   "metadata": {},
   "source": [
    "## Plotting"
   ]
  },
  {
   "cell_type": "code",
   "execution_count": 8,
   "metadata": {},
   "outputs": [
    {
     "name": "stdout",
     "output_type": "stream",
     "text": [
      "Summarizing... iohist POSIX\n"
     ]
    },
    {
     "data": {
      "image/png": "[encoded data removed]",
      "text/plain": [
       "<Figure size 432x288 with 1 Axes>"
      ]
     },
     "metadata": {
      "needs_background": "light"
     },
     "output_type": "display_data"
    }
   ],
   "source": [
    "import darshan\n",
    "darshan.enable_experimental(verbose=False)\n",
    "\n",
    "r3 = darshan.DarshanReport(\"example.darshan\")\n",
    "r3.mod_read_all_records('POSIX')\n",
    "\n",
    "from darshan.experimental.plots.matplotlib import plot_access_histogram\n",
    "plot_access_histogram(r3, mod='POSIX')"
   ]
  },
  {
   "cell_type": "code",
   "execution_count": 9,
   "metadata": {},
   "outputs": [
    {
     "name": "stdout",
     "output_type": "stream",
     "text": [
      "Summarizing... iohist MPI-IO\n"
     ]
    },
    {
     "data": {
      "image/png": "[encoded data removed]",
      "text/plain": [
       "<Figure size 432x288 with 1 Axes>"
      ]
     },
     "metadata": {
      "needs_background": "light"
     },
     "output_type": "display_data"
    }
   ],
   "source": [
    "import darshan\n",
    "darshan.enable_experimental(verbose=False)\n",
    "\n",
    "r3 = darshan.DarshanReport(\"example.darshan\")\n",
    "r3.mod_read_all_records('MPI-IO')\n",
    "\n",
    "from darshan.experimental.plots.matplotlib import plot_access_histogram\n",
    "plot_access_histogram(r3, mod='MPI-IO')"
   ]
  },
  {
   "cell_type": "code",
   "execution_count": 1,
   "metadata": {},
   "outputs": [
    {
     "name": "stdout",
     "output_type": "stream",
     "text": [
      "Skipping. Currently unsupported: LUSTRE in mod_read_all_records().\n",
      "Skipping. Currently unsupported: POSIX in mod_read_all_dxt_records().\n",
      "Skipping. Currently unsupported: MPI-IO in mod_read_all_dxt_records().\n",
      "Skipping. Currently unsupported: LUSTRE in mod_read_all_dxt_records().\n",
      "Skipping. Currently unsupported: STDIO in mod_read_all_dxt_records().\n",
      "Summarizing... agg_ioops\n"
     ]
    },
    {
     "data": {
      "image/png": "[encoded data removed]",
      "text/plain": [
       "<Figure size 432x288 with 1 Axes>"
      ]
     },
     "metadata": {
      "needs_background": "light"
     },
     "output_type": "display_data"
    }
   ],
   "source": [
    "import darshan\n",
    "darshan.enable_experimental(verbose=False)\n",
    "\n",
    "r3 = darshan.DarshanReport(\"example.darshan\")\n",
    "r3.read_all()\n",
    "\n",
    "from darshan.experimental.plots.matplotlib import plot_opcounts\n",
    "plot_opcounts(r3)"
   ]
  },
  {
   "cell_type": "markdown",
   "metadata": {},
   "source": [
    "### DXT Records\n",
    "\n",
    "DXT records are also supported, and can be loaded individually on a per module basis as follows:\n"
   ]
  },
  {
   "cell_type": "code",
   "execution_count": null,
   "metadata": {},
   "outputs": [],
   "source": [
    "report2 = darshan.DarshanReport(\"example.darshan\")\n",
    "report2.mod_read_all_dxt_records(\"ABC\") "
   ]
  },
  {
   "cell_type": "code",
   "execution_count": 11,
   "metadata": {},
   "outputs": [
    {
     "ename": "NameError",
     "evalue": "name 'report2' is not defined",
     "output_type": "error",
     "traceback": [
      "\u001b[0;31m---------------------------------------------------------------------------\u001b[0m",
      "\u001b[0;31mNameError\u001b[0m                                 Traceback (most recent call last)",
      "\u001b[0;32m<ipython-input-11-b6301753ed15>\u001b[0m in \u001b[0;36m<module>\u001b[0;34m\u001b[0m\n\u001b[0;32m----> 1\u001b[0;31m \u001b[0mreport2\u001b[0m\u001b[0;34m.\u001b[0m\u001b[0mdata\u001b[0m\u001b[0;34m\u001b[0m\u001b[0;34m\u001b[0m\u001b[0m\n\u001b[0m",
      "\u001b[0;31mNameError\u001b[0m: name 'report2' is not defined"
     ]
    }
   ],
   "source": [
    "report2.data"
   ]
  },
  {
   "cell_type": "markdown",
   "metadata": {},
   "source": [
    "### Report Algebra\n",
    "\n",
    "By overloading the addition operator, reports can be easily merge for a variety of counters.\n",
    "\n",
    "Some choices to make though"
   ]
  },
  {
   "cell_type": "code",
   "execution_count": 48,
   "metadata": {
    "scrolled": true
   },
   "outputs": [
    {
     "data": {
      "text/plain": [
       "<darshan.report.DarshanReport at 0x7faa94613e10>"
      ]
     },
     "execution_count": 48,
     "metadata": {},
     "output_type": "execute_result"
    }
   ],
   "source": [
    "r1 = darshan.DarshanReport(\"example.darshan\")\n",
    "r2 = darshan.DarshanReport(\"example2.darshan\")\n",
    "combined = r1 + r2\n",
    "combined"
   ]
  },
  {
   "cell_type": "markdown",
   "metadata": {},
   "source": [
    "### Error Handling?\n",
    "\n",
    "Currently, playing with two modes, both have their pros and cons.\n",
    "\n",
    "Generally, should expose errors and let users handle them. At the same time, just skipping invalid load requests does little harm but greatly improves convienince.\n",
    "\n",
    "Could add a switch to enable disable these guard :/"
   ]
  },
  {
   "cell_type": "code",
   "execution_count": 10,
   "metadata": {
    "scrolled": true
   },
   "outputs": [],
   "source": [
    "report = darshan.DarshanReport(\"example.darshan\")"
   ]
  },
  {
   "cell_type": "code",
   "execution_count": 12,
   "metadata": {},
   "outputs": [
    {
     "ename": "KeyError",
     "evalue": "'ABC'",
     "output_type": "error",
     "traceback": [
      "\u001b[0;31m---------------------------------------------------------------------------\u001b[0m",
      "\u001b[0;31mKeyError\u001b[0m                                  Traceback (most recent call last)",
      "\u001b[0;32m<ipython-input-12-ad9bffc53533>\u001b[0m in \u001b[0;36m<module>\u001b[0;34m\u001b[0m\n\u001b[0;32m----> 1\u001b[0;31m \u001b[0mreport\u001b[0m\u001b[0;34m.\u001b[0m\u001b[0mmod_read_all_records\u001b[0m\u001b[0;34m(\u001b[0m\u001b[0;34m\"ABC\"\u001b[0m\u001b[0;34m)\u001b[0m \u001b[0;31m# Expect KeyError\u001b[0m\u001b[0;34m\u001b[0m\u001b[0;34m\u001b[0m\u001b[0m\n\u001b[0m",
      "\u001b[0;32m~/ANL/darshan-decaf/darshan-workflow/python-packages/darshan/report.py\u001b[0m in \u001b[0;36mmod_read_all_records\u001b[0;34m(self, mod, mode)\u001b[0m\n\u001b[1;32m    194\u001b[0m \u001b[0;34m\u001b[0m\u001b[0m\n\u001b[1;32m    195\u001b[0m         structdefs = {\n\u001b[0;32m--> 196\u001b[0;31m             \u001b[0;34m\"BG/Q\"\u001b[0m\u001b[0;34m:\u001b[0m \u001b[0;34m\"struct darshan_bgq_record **\"\u001b[0m\u001b[0;34m,\u001b[0m\u001b[0;34m\u001b[0m\u001b[0;34m\u001b[0m\u001b[0m\n\u001b[0m\u001b[1;32m    197\u001b[0m             \u001b[0;34m\"HDF5\"\u001b[0m\u001b[0;34m:\u001b[0m \u001b[0;34m\"struct darshan_hdf5_file **\"\u001b[0m\u001b[0;34m,\u001b[0m\u001b[0;34m\u001b[0m\u001b[0;34m\u001b[0m\u001b[0m\n\u001b[1;32m    198\u001b[0m             \u001b[0;34m\"MPI-IO\"\u001b[0m\u001b[0;34m:\u001b[0m \u001b[0;34m\"struct darshan_mpiio_file **\"\u001b[0m\u001b[0;34m,\u001b[0m\u001b[0;34m\u001b[0m\u001b[0;34m\u001b[0m\u001b[0m\n",
      "\u001b[0;31mKeyError\u001b[0m: 'ABC'"
     ]
    }
   ],
   "source": [
    "report.mod_read_all_records(\"ABC\") # Expect KeyError"
   ]
  },
  {
   "cell_type": "code",
   "execution_count": 13,
   "metadata": {},
   "outputs": [
    {
     "name": "stdout",
     "output_type": "stream",
     "text": [
      "Skipping. Log does not contain data for mod: ABC\n"
     ]
    }
   ],
   "source": [
    "report.mod_read_all_dxt_records(\"ABC\") # Expect printed warning, but not exception"
   ]
  },
  {
   "cell_type": "code",
   "execution_count": null,
   "metadata": {},
   "outputs": [],
   "source": []
  },
  {
   "cell_type": "code",
   "execution_count": null,
   "metadata": {},
   "outputs": [],
   "source": []
  }
 ],
 "metadata": {
  "kernelspec": {
   "display_name": "Python 3",
   "language": "python",
   "name": "python3"
  },
  "language_info": {
   "codemirror_mode": {
    "name": "ipython",
    "version": 3
   },
   "file_extension": ".py",
   "mimetype": "text/x-python",
   "name": "python",
   "nbconvert_exporter": "python",
   "pygments_lexer": "ipython3",
   "version": "3.6.9"
  }
 },
 "nbformat": 4,
 "nbformat_minor": 2
}
