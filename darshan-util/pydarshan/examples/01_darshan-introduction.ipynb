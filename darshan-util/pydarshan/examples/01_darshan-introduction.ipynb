{
 "cells": [
  {
   "cell_type": "markdown",
   "metadata": {},
   "source": [
    "# DarshanUtils for Python\n",
    "\n",
    "This notebook gives an overwiew of features provided by the Python bindings for DarshanUtils."
   ]
  },
  {
   "cell_type": "markdown",
   "metadata": {},
   "source": [
    "By default all records, metadata, available modules and the name records are loaded:"
   ]
  },
  {
   "cell_type": "code",
   "execution_count": 39,
   "metadata": {},
   "outputs": [
    {
     "name": "stdout",
     "output_type": "stream",
     "text": [
      "POSIX\n",
      "POSIX\n",
      "MPI-IO\n",
      "POSIX\n",
      "MPI-IO\n",
      "STDIO\n",
      "Filename:       example-logs/example.darshan\n",
      "Times:          2017-03-20 10:07:47 to 2017-03-20 10:09:43 (Duration 0:01:56)\n",
      "Executeable:    /global/project/projectdirs/m888/glock/tokio-abc-results/bin.edison/vpicio_uni /scratch2/scratchdirs/glock/tokioabc-s.4478544/vpicio/vpicio.hdf5 32\n",
      "Processes:      2048\n",
      "JobID:          4478544\n",
      "UID:            69615\n",
      "Modules in Log: ['POSIX', 'MPI-IO', 'LUSTRE', 'STDIO']\n",
      "Loaded Records: {'POSIX': 1, 'MPI-IO': 1, 'STDIO': 129}\n",
      "Name Records:   3\n",
      "Darshan/Hints:  {'lib_ver': '3.1.3', 'h': 'romio_no_indep_rw=true;cb_nodes=4'}\n",
      "DarshanReport:  id(140531725932304) (tmp)\n"
     ]
    }
   ],
   "source": [
    "import darshan\n",
    "\n",
    "report = darshan.DarshanReport(\"example-logs/example.darshan\", read_all=True)  # Default behavior\n",
    "report.info()"
   ]
  },
  {
   "cell_type": "code",
   "execution_count": 40,
   "metadata": {},
   "outputs": [
    {
     "data": {
      "text/plain": [
       "{'POSIX': {'len': 186, 'ver': 3, 'idx': 1, 'num_records': 1},\n",
       " 'MPI-IO': {'len': 154, 'ver': 2, 'idx': 2, 'num_records': 1},\n",
       " 'LUSTRE': {'len': 87, 'ver': 1, 'idx': 7},\n",
       " 'STDIO': {'len': 3234, 'ver': 1, 'idx': 8, 'num_records': 129}}"
      ]
     },
     "execution_count": 40,
     "metadata": {},
     "output_type": "execute_result"
    }
   ],
   "source": [
    "report.modules"
   ]
  },
  {
   "cell_type": "markdown",
   "metadata": {},
   "source": [
    "A few of the internal data structures explained:"
   ]
  },
  {
   "cell_type": "code",
   "execution_count": 41,
   "metadata": {
    "scrolled": true
   },
   "outputs": [],
   "source": [
    "# report.metadata         # dictionary with raw metadata from darshan log\n",
    "# report.modules          # dictionary with raw module info from darshan log (need: technical, module idx)\n",
    "# report.name_records     # dictionary for resovling name records: id -> path/name\n",
    "# report.records          # per module \"dataframes\"/dictionaries holding loaded records"
   ]
  },
  {
   "cell_type": "markdown",
   "metadata": {},
   "source": [
    "The darshan report holds a variety of namespaces for report related data. All of them are also referenced in `report.data` at the moment, but reliance on this internal organization of the report object is discouraged once the API stabilized. Currently, `report.data` references the following information:"
   ]
  },
  {
   "cell_type": "code",
   "execution_count": 42,
   "metadata": {
    "scrolled": true
   },
   "outputs": [
    {
     "data": {
      "text/plain": [
       "dict_keys(['version', 'metadata', 'records', 'summary', 'modules', 'counters', 'name_records', 'mounts'])"
      ]
     },
     "execution_count": 42,
     "metadata": {},
     "output_type": "execute_result"
    }
   ],
   "source": [
    "report.data.keys()"
   ]
  },
  {
   "cell_type": "code",
   "execution_count": 43,
   "metadata": {},
   "outputs": [
    {
     "name": "stdout",
     "output_type": "stream",
     "text": [
      "POSIX\n",
      "MPI-IO\n",
      "STDIO\n"
     ]
    }
   ],
   "source": [
    "report.mod_read_all_records('POSIX')"
   ]
  },
  {
   "cell_type": "code",
   "execution_count": 44,
   "metadata": {},
   "outputs": [
    {
     "name": "stdout",
     "output_type": "stream",
     "text": [
      "POSIX\n",
      "MPI-IO\n",
      "STDIO\n"
     ]
    }
   ],
   "source": [
    "report.mod_read_all_records('STDIO')"
   ]
  },
  {
   "cell_type": "code",
   "execution_count": 45,
   "metadata": {},
   "outputs": [
    {
     "name": "stdout",
     "output_type": "stream",
     "text": [
      "POSIX\n",
      "MPI-IO\n",
      "STDIO\n",
      "Filename:       example-logs/example.darshan\n",
      "Times:          2017-03-20 10:07:47 to 2017-03-20 10:09:43 (Duration 0:01:56)\n",
      "Executeable:    /global/project/projectdirs/m888/glock/tokio-abc-results/bin.edison/vpicio_uni /scratch2/scratchdirs/glock/tokioabc-s.4478544/vpicio/vpicio.hdf5 32\n",
      "Processes:      2048\n",
      "JobID:          4478544\n",
      "UID:            69615\n",
      "Modules in Log: ['POSIX', 'MPI-IO', 'LUSTRE', 'STDIO']\n",
      "Loaded Records: {'POSIX': 1, 'MPI-IO': 1, 'STDIO': 129}\n",
      "Name Records:   3\n",
      "Darshan/Hints:  {'lib_ver': '3.1.3', 'h': 'romio_no_indep_rw=true;cb_nodes=4'}\n",
      "DarshanReport:  id(140531725932304) (tmp)\n"
     ]
    }
   ],
   "source": [
    "report.update_name_records()\n",
    "report.info()"
   ]
  },
  {
   "cell_type": "code",
   "execution_count": 46,
   "metadata": {},
   "outputs": [],
   "source": [
    "# visualization helper used by different examples in the remainder of this notebook\n",
    "from IPython.display import display, HTML\n",
    "# usage: display(obj)"
   ]
  },
  {
   "cell_type": "markdown",
   "metadata": {},
   "source": [
    "### Record Formats and Selectively Loading Records\n",
    "\n",
    "For memory efficiant analysis, it is possible to supress records from being loaded automatically. This is useful, for example, when analysis considers only records of a particular layer/module."
   ]
  },
  {
   "cell_type": "code",
   "execution_count": 47,
   "metadata": {},
   "outputs": [],
   "source": [
    "import darshan\n",
    "report = darshan.DarshanReport(\"example-logs/example.darshan\", read_all=False, lookup_name_records=True) # Loads no records!"
   ]
  },
  {
   "cell_type": "code",
   "execution_count": 48,
   "metadata": {},
   "outputs": [
    {
     "name": "stdout",
     "output_type": "stream",
     "text": [
      "No STDIO records loaded for this report yet.\n"
     ]
    }
   ],
   "source": [
    "# expected to fail, as no records were loaded\n",
    "try:\n",
    "    print(len(report.records['STDIO']), \"records loaded for STDIO.\")\n",
    "except:\n",
    "    print(\"No STDIO records loaded for this report yet.\")"
   ]
  },
  {
   "cell_type": "markdown",
   "metadata": {},
   "source": [
    "Additional records then can be loaded selectively, for example, on a per module basis:"
   ]
  },
  {
   "cell_type": "markdown",
   "metadata": {},
   "source": [
    "#### dtype: pandas"
   ]
  },
  {
   "cell_type": "code",
   "execution_count": 49,
   "metadata": {},
   "outputs": [
    {
     "name": "stdout",
     "output_type": "stream",
     "text": [
      "STDIO\n"
     ]
    }
   ],
   "source": [
    "report.mod_read_all_records(\"STDIO\", dtype=\"pandas\")"
   ]
  },
  {
   "cell_type": "code",
   "execution_count": 50,
   "metadata": {},
   "outputs": [
    {
     "name": "stdout",
     "output_type": "stream",
     "text": [
      "id -1\n",
      "rank -1\n"
     ]
    },
    {
     "data": {
      "text/html": [
       "<div>\n",
       "<style scoped>\n",
       "    .dataframe tbody tr th:only-of-type {\n",
       "        vertical-align: middle;\n",
       "    }\n",
       "\n",
       "    .dataframe tbody tr th {\n",
       "        vertical-align: top;\n",
       "    }\n",
       "\n",
       "    .dataframe thead th {\n",
       "        text-align: right;\n",
       "    }\n",
       "</style>\n",
       "<table border=\"1\" class=\"dataframe\">\n",
       "  <thead>\n",
       "    <tr style=\"text-align: right;\">\n",
       "      <th></th>\n",
       "      <th>rank</th>\n",
       "      <th>id</th>\n",
       "      <th>STDIO_OPENS</th>\n",
       "      <th>STDIO_FDOPENS</th>\n",
       "      <th>STDIO_READS</th>\n",
       "      <th>STDIO_WRITES</th>\n",
       "      <th>STDIO_SEEKS</th>\n",
       "      <th>STDIO_FLUSHES</th>\n",
       "      <th>STDIO_BYTES_WRITTEN</th>\n",
       "      <th>STDIO_BYTES_READ</th>\n",
       "      <th>STDIO_MAX_BYTE_READ</th>\n",
       "      <th>STDIO_MAX_BYTE_WRITTEN</th>\n",
       "      <th>STDIO_FASTEST_RANK</th>\n",
       "      <th>STDIO_FASTEST_RANK_BYTES</th>\n",
       "      <th>STDIO_SLOWEST_RANK</th>\n",
       "      <th>STDIO_SLOWEST_RANK_BYTES</th>\n",
       "    </tr>\n",
       "  </thead>\n",
       "  <tbody>\n",
       "    <tr>\n",
       "      <th>0</th>\n",
       "      <td>0</td>\n",
       "      <td>-2526562401267378297</td>\n",
       "      <td>1</td>\n",
       "      <td>-1</td>\n",
       "      <td>0</td>\n",
       "      <td>6</td>\n",
       "      <td>0</td>\n",
       "      <td>0</td>\n",
       "      <td>280</td>\n",
       "      <td>0</td>\n",
       "      <td>0</td>\n",
       "      <td>279</td>\n",
       "      <td>0</td>\n",
       "      <td>0</td>\n",
       "      <td>0</td>\n",
       "      <td>0</td>\n",
       "    </tr>\n",
       "    <tr>\n",
       "      <th>0</th>\n",
       "      <td>0</td>\n",
       "      <td>-2526562401267378297</td>\n",
       "      <td>1</td>\n",
       "      <td>-1</td>\n",
       "      <td>0</td>\n",
       "      <td>6</td>\n",
       "      <td>0</td>\n",
       "      <td>0</td>\n",
       "      <td>280</td>\n",
       "      <td>0</td>\n",
       "      <td>0</td>\n",
       "      <td>279</td>\n",
       "      <td>0</td>\n",
       "      <td>0</td>\n",
       "      <td>0</td>\n",
       "      <td>0</td>\n",
       "    </tr>\n",
       "    <tr>\n",
       "      <th>0</th>\n",
       "      <td>0</td>\n",
       "      <td>7238257241479193519</td>\n",
       "      <td>1</td>\n",
       "      <td>-1</td>\n",
       "      <td>0</td>\n",
       "      <td>68</td>\n",
       "      <td>0</td>\n",
       "      <td>0</td>\n",
       "      <td>3029</td>\n",
       "      <td>0</td>\n",
       "      <td>0</td>\n",
       "      <td>3028</td>\n",
       "      <td>0</td>\n",
       "      <td>0</td>\n",
       "      <td>0</td>\n",
       "      <td>0</td>\n",
       "    </tr>\n",
       "    <tr>\n",
       "      <th>0</th>\n",
       "      <td>0</td>\n",
       "      <td>7238257241479193519</td>\n",
       "      <td>1</td>\n",
       "      <td>-1</td>\n",
       "      <td>0</td>\n",
       "      <td>68</td>\n",
       "      <td>0</td>\n",
       "      <td>0</td>\n",
       "      <td>3029</td>\n",
       "      <td>0</td>\n",
       "      <td>0</td>\n",
       "      <td>3028</td>\n",
       "      <td>0</td>\n",
       "      <td>0</td>\n",
       "      <td>0</td>\n",
       "      <td>0</td>\n",
       "    </tr>\n",
       "    <tr>\n",
       "      <th>0</th>\n",
       "      <td>16</td>\n",
       "      <td>7238257241479193519</td>\n",
       "      <td>1</td>\n",
       "      <td>-1</td>\n",
       "      <td>0</td>\n",
       "      <td>0</td>\n",
       "      <td>0</td>\n",
       "      <td>0</td>\n",
       "      <td>0</td>\n",
       "      <td>0</td>\n",
       "      <td>0</td>\n",
       "      <td>0</td>\n",
       "      <td>0</td>\n",
       "      <td>0</td>\n",
       "      <td>0</td>\n",
       "      <td>0</td>\n",
       "    </tr>\n",
       "    <tr>\n",
       "      <th>...</th>\n",
       "      <td>...</td>\n",
       "      <td>...</td>\n",
       "      <td>...</td>\n",
       "      <td>...</td>\n",
       "      <td>...</td>\n",
       "      <td>...</td>\n",
       "      <td>...</td>\n",
       "      <td>...</td>\n",
       "      <td>...</td>\n",
       "      <td>...</td>\n",
       "      <td>...</td>\n",
       "      <td>...</td>\n",
       "      <td>...</td>\n",
       "      <td>...</td>\n",
       "      <td>...</td>\n",
       "      <td>...</td>\n",
       "    </tr>\n",
       "    <tr>\n",
       "      <th>0</th>\n",
       "      <td>2000</td>\n",
       "      <td>7238257241479193519</td>\n",
       "      <td>1</td>\n",
       "      <td>-1</td>\n",
       "      <td>0</td>\n",
       "      <td>0</td>\n",
       "      <td>0</td>\n",
       "      <td>0</td>\n",
       "      <td>0</td>\n",
       "      <td>0</td>\n",
       "      <td>0</td>\n",
       "      <td>0</td>\n",
       "      <td>0</td>\n",
       "      <td>0</td>\n",
       "      <td>0</td>\n",
       "      <td>0</td>\n",
       "    </tr>\n",
       "    <tr>\n",
       "      <th>0</th>\n",
       "      <td>2016</td>\n",
       "      <td>7238257241479193519</td>\n",
       "      <td>1</td>\n",
       "      <td>-1</td>\n",
       "      <td>0</td>\n",
       "      <td>0</td>\n",
       "      <td>0</td>\n",
       "      <td>0</td>\n",
       "      <td>0</td>\n",
       "      <td>0</td>\n",
       "      <td>0</td>\n",
       "      <td>0</td>\n",
       "      <td>0</td>\n",
       "      <td>0</td>\n",
       "      <td>0</td>\n",
       "      <td>0</td>\n",
       "    </tr>\n",
       "    <tr>\n",
       "      <th>0</th>\n",
       "      <td>2016</td>\n",
       "      <td>7238257241479193519</td>\n",
       "      <td>1</td>\n",
       "      <td>-1</td>\n",
       "      <td>0</td>\n",
       "      <td>0</td>\n",
       "      <td>0</td>\n",
       "      <td>0</td>\n",
       "      <td>0</td>\n",
       "      <td>0</td>\n",
       "      <td>0</td>\n",
       "      <td>0</td>\n",
       "      <td>0</td>\n",
       "      <td>0</td>\n",
       "      <td>0</td>\n",
       "      <td>0</td>\n",
       "    </tr>\n",
       "    <tr>\n",
       "      <th>0</th>\n",
       "      <td>2032</td>\n",
       "      <td>7238257241479193519</td>\n",
       "      <td>1</td>\n",
       "      <td>-1</td>\n",
       "      <td>0</td>\n",
       "      <td>0</td>\n",
       "      <td>0</td>\n",
       "      <td>0</td>\n",
       "      <td>0</td>\n",
       "      <td>0</td>\n",
       "      <td>0</td>\n",
       "      <td>0</td>\n",
       "      <td>0</td>\n",
       "      <td>0</td>\n",
       "      <td>0</td>\n",
       "      <td>0</td>\n",
       "    </tr>\n",
       "    <tr>\n",
       "      <th>0</th>\n",
       "      <td>2032</td>\n",
       "      <td>7238257241479193519</td>\n",
       "      <td>1</td>\n",
       "      <td>-1</td>\n",
       "      <td>0</td>\n",
       "      <td>0</td>\n",
       "      <td>0</td>\n",
       "      <td>0</td>\n",
       "      <td>0</td>\n",
       "      <td>0</td>\n",
       "      <td>0</td>\n",
       "      <td>0</td>\n",
       "      <td>0</td>\n",
       "      <td>0</td>\n",
       "      <td>0</td>\n",
       "      <td>0</td>\n",
       "    </tr>\n",
       "  </tbody>\n",
       "</table>\n",
       "<p>258 rows × 16 columns</p>\n",
       "</div>"
      ],
      "text/plain": [
       "    rank                   id  STDIO_OPENS  STDIO_FDOPENS  STDIO_READS  \\\n",
       "0      0 -2526562401267378297            1             -1            0   \n",
       "0      0 -2526562401267378297            1             -1            0   \n",
       "0      0  7238257241479193519            1             -1            0   \n",
       "0      0  7238257241479193519            1             -1            0   \n",
       "0     16  7238257241479193519            1             -1            0   \n",
       "..   ...                  ...          ...            ...          ...   \n",
       "0   2000  7238257241479193519            1             -1            0   \n",
       "0   2016  7238257241479193519            1             -1            0   \n",
       "0   2016  7238257241479193519            1             -1            0   \n",
       "0   2032  7238257241479193519            1             -1            0   \n",
       "0   2032  7238257241479193519            1             -1            0   \n",
       "\n",
       "    STDIO_WRITES  STDIO_SEEKS  STDIO_FLUSHES  STDIO_BYTES_WRITTEN  \\\n",
       "0              6            0              0                  280   \n",
       "0              6            0              0                  280   \n",
       "0             68            0              0                 3029   \n",
       "0             68            0              0                 3029   \n",
       "0              0            0              0                    0   \n",
       "..           ...          ...            ...                  ...   \n",
       "0              0            0              0                    0   \n",
       "0              0            0              0                    0   \n",
       "0              0            0              0                    0   \n",
       "0              0            0              0                    0   \n",
       "0              0            0              0                    0   \n",
       "\n",
       "    STDIO_BYTES_READ  STDIO_MAX_BYTE_READ  STDIO_MAX_BYTE_WRITTEN  \\\n",
       "0                  0                    0                     279   \n",
       "0                  0                    0                     279   \n",
       "0                  0                    0                    3028   \n",
       "0                  0                    0                    3028   \n",
       "0                  0                    0                       0   \n",
       "..               ...                  ...                     ...   \n",
       "0                  0                    0                       0   \n",
       "0                  0                    0                       0   \n",
       "0                  0                    0                       0   \n",
       "0                  0                    0                       0   \n",
       "0                  0                    0                       0   \n",
       "\n",
       "    STDIO_FASTEST_RANK  STDIO_FASTEST_RANK_BYTES  STDIO_SLOWEST_RANK  \\\n",
       "0                    0                         0                   0   \n",
       "0                    0                         0                   0   \n",
       "0                    0                         0                   0   \n",
       "0                    0                         0                   0   \n",
       "0                    0                         0                   0   \n",
       "..                 ...                       ...                 ...   \n",
       "0                    0                         0                   0   \n",
       "0                    0                         0                   0   \n",
       "0                    0                         0                   0   \n",
       "0                    0                         0                   0   \n",
       "0                    0                         0                   0   \n",
       "\n",
       "    STDIO_SLOWEST_RANK_BYTES  \n",
       "0                          0  \n",
       "0                          0  \n",
       "0                          0  \n",
       "0                          0  \n",
       "0                          0  \n",
       "..                       ...  \n",
       "0                          0  \n",
       "0                          0  \n",
       "0                          0  \n",
       "0                          0  \n",
       "0                          0  \n",
       "\n",
       "[258 rows x 16 columns]"
      ]
     },
     "metadata": {},
     "output_type": "display_data"
    },
    {
     "data": {
      "text/html": [
       "<div>\n",
       "<style scoped>\n",
       "    .dataframe tbody tr th:only-of-type {\n",
       "        vertical-align: middle;\n",
       "    }\n",
       "\n",
       "    .dataframe tbody tr th {\n",
       "        vertical-align: top;\n",
       "    }\n",
       "\n",
       "    .dataframe thead th {\n",
       "        text-align: right;\n",
       "    }\n",
       "</style>\n",
       "<table border=\"1\" class=\"dataframe\">\n",
       "  <thead>\n",
       "    <tr style=\"text-align: right;\">\n",
       "      <th></th>\n",
       "      <th>rank</th>\n",
       "      <th>id</th>\n",
       "      <th>STDIO_F_META_TIME</th>\n",
       "      <th>STDIO_F_WRITE_TIME</th>\n",
       "      <th>STDIO_F_READ_TIME</th>\n",
       "      <th>STDIO_F_OPEN_START_TIMESTAMP</th>\n",
       "      <th>STDIO_F_CLOSE_START_TIMESTAMP</th>\n",
       "      <th>STDIO_F_WRITE_START_TIMESTAMP</th>\n",
       "      <th>STDIO_F_READ_START_TIMESTAMP</th>\n",
       "      <th>STDIO_F_OPEN_END_TIMESTAMP</th>\n",
       "      <th>STDIO_F_CLOSE_END_TIMESTAMP</th>\n",
       "      <th>STDIO_F_WRITE_END_TIMESTAMP</th>\n",
       "      <th>STDIO_F_READ_END_TIMESTAMP</th>\n",
       "      <th>STDIO_F_FASTEST_RANK_TIME</th>\n",
       "      <th>STDIO_F_SLOWEST_RANK_TIME</th>\n",
       "      <th>STDIO_F_VARIANCE_RANK_TIME</th>\n",
       "      <th>STDIO_F_VARIANCE_RANK_BYTES</th>\n",
       "    </tr>\n",
       "  </thead>\n",
       "  <tbody>\n",
       "    <tr>\n",
       "      <th>0</th>\n",
       "      <td>0</td>\n",
       "      <td>-2526562401267378297</td>\n",
       "      <td>0.0</td>\n",
       "      <td>0.000068</td>\n",
       "      <td>0.0</td>\n",
       "      <td>0.0</td>\n",
       "      <td>0.0</td>\n",
       "      <td>0.077528</td>\n",
       "      <td>0.0</td>\n",
       "      <td>0.0</td>\n",
       "      <td>0.0</td>\n",
       "      <td>116.283583</td>\n",
       "      <td>0.0</td>\n",
       "      <td>0.0</td>\n",
       "      <td>0.0</td>\n",
       "      <td>0.0</td>\n",
       "      <td>0.0</td>\n",
       "    </tr>\n",
       "    <tr>\n",
       "      <th>0</th>\n",
       "      <td>0</td>\n",
       "      <td>-2526562401267378297</td>\n",
       "      <td>0.0</td>\n",
       "      <td>0.000068</td>\n",
       "      <td>0.0</td>\n",
       "      <td>0.0</td>\n",
       "      <td>0.0</td>\n",
       "      <td>0.077528</td>\n",
       "      <td>0.0</td>\n",
       "      <td>0.0</td>\n",
       "      <td>0.0</td>\n",
       "      <td>116.283583</td>\n",
       "      <td>0.0</td>\n",
       "      <td>0.0</td>\n",
       "      <td>0.0</td>\n",
       "      <td>0.0</td>\n",
       "      <td>0.0</td>\n",
       "    </tr>\n",
       "    <tr>\n",
       "      <th>0</th>\n",
       "      <td>0</td>\n",
       "      <td>7238257241479193519</td>\n",
       "      <td>0.0</td>\n",
       "      <td>-2662.746634</td>\n",
       "      <td>0.0</td>\n",
       "      <td>0.0</td>\n",
       "      <td>0.0</td>\n",
       "      <td>0.000000</td>\n",
       "      <td>0.0</td>\n",
       "      <td>0.0</td>\n",
       "      <td>0.0</td>\n",
       "      <td>0.000000</td>\n",
       "      <td>0.0</td>\n",
       "      <td>0.0</td>\n",
       "      <td>0.0</td>\n",
       "      <td>0.0</td>\n",
       "      <td>0.0</td>\n",
       "    </tr>\n",
       "    <tr>\n",
       "      <th>0</th>\n",
       "      <td>0</td>\n",
       "      <td>7238257241479193519</td>\n",
       "      <td>0.0</td>\n",
       "      <td>-2662.746634</td>\n",
       "      <td>0.0</td>\n",
       "      <td>0.0</td>\n",
       "      <td>0.0</td>\n",
       "      <td>0.000000</td>\n",
       "      <td>0.0</td>\n",
       "      <td>0.0</td>\n",
       "      <td>0.0</td>\n",
       "      <td>0.000000</td>\n",
       "      <td>0.0</td>\n",
       "      <td>0.0</td>\n",
       "      <td>0.0</td>\n",
       "      <td>0.0</td>\n",
       "      <td>0.0</td>\n",
       "    </tr>\n",
       "    <tr>\n",
       "      <th>0</th>\n",
       "      <td>16</td>\n",
       "      <td>7238257241479193519</td>\n",
       "      <td>0.0</td>\n",
       "      <td>0.000000</td>\n",
       "      <td>0.0</td>\n",
       "      <td>0.0</td>\n",
       "      <td>0.0</td>\n",
       "      <td>0.000000</td>\n",
       "      <td>0.0</td>\n",
       "      <td>0.0</td>\n",
       "      <td>0.0</td>\n",
       "      <td>0.000000</td>\n",
       "      <td>0.0</td>\n",
       "      <td>0.0</td>\n",
       "      <td>0.0</td>\n",
       "      <td>0.0</td>\n",
       "      <td>0.0</td>\n",
       "    </tr>\n",
       "    <tr>\n",
       "      <th>...</th>\n",
       "      <td>...</td>\n",
       "      <td>...</td>\n",
       "      <td>...</td>\n",
       "      <td>...</td>\n",
       "      <td>...</td>\n",
       "      <td>...</td>\n",
       "      <td>...</td>\n",
       "      <td>...</td>\n",
       "      <td>...</td>\n",
       "      <td>...</td>\n",
       "      <td>...</td>\n",
       "      <td>...</td>\n",
       "      <td>...</td>\n",
       "      <td>...</td>\n",
       "      <td>...</td>\n",
       "      <td>...</td>\n",
       "      <td>...</td>\n",
       "    </tr>\n",
       "    <tr>\n",
       "      <th>0</th>\n",
       "      <td>2000</td>\n",
       "      <td>7238257241479193519</td>\n",
       "      <td>0.0</td>\n",
       "      <td>0.000000</td>\n",
       "      <td>0.0</td>\n",
       "      <td>0.0</td>\n",
       "      <td>0.0</td>\n",
       "      <td>0.000000</td>\n",
       "      <td>0.0</td>\n",
       "      <td>0.0</td>\n",
       "      <td>0.0</td>\n",
       "      <td>0.000000</td>\n",
       "      <td>0.0</td>\n",
       "      <td>0.0</td>\n",
       "      <td>0.0</td>\n",
       "      <td>0.0</td>\n",
       "      <td>0.0</td>\n",
       "    </tr>\n",
       "    <tr>\n",
       "      <th>0</th>\n",
       "      <td>2016</td>\n",
       "      <td>7238257241479193519</td>\n",
       "      <td>0.0</td>\n",
       "      <td>0.000000</td>\n",
       "      <td>0.0</td>\n",
       "      <td>0.0</td>\n",
       "      <td>0.0</td>\n",
       "      <td>0.000000</td>\n",
       "      <td>0.0</td>\n",
       "      <td>0.0</td>\n",
       "      <td>0.0</td>\n",
       "      <td>0.000000</td>\n",
       "      <td>0.0</td>\n",
       "      <td>0.0</td>\n",
       "      <td>0.0</td>\n",
       "      <td>0.0</td>\n",
       "      <td>0.0</td>\n",
       "    </tr>\n",
       "    <tr>\n",
       "      <th>0</th>\n",
       "      <td>2016</td>\n",
       "      <td>7238257241479193519</td>\n",
       "      <td>0.0</td>\n",
       "      <td>0.000000</td>\n",
       "      <td>0.0</td>\n",
       "      <td>0.0</td>\n",
       "      <td>0.0</td>\n",
       "      <td>0.000000</td>\n",
       "      <td>0.0</td>\n",
       "      <td>0.0</td>\n",
       "      <td>0.0</td>\n",
       "      <td>0.000000</td>\n",
       "      <td>0.0</td>\n",
       "      <td>0.0</td>\n",
       "      <td>0.0</td>\n",
       "      <td>0.0</td>\n",
       "      <td>0.0</td>\n",
       "    </tr>\n",
       "    <tr>\n",
       "      <th>0</th>\n",
       "      <td>2032</td>\n",
       "      <td>7238257241479193519</td>\n",
       "      <td>0.0</td>\n",
       "      <td>0.000000</td>\n",
       "      <td>0.0</td>\n",
       "      <td>0.0</td>\n",
       "      <td>0.0</td>\n",
       "      <td>0.000000</td>\n",
       "      <td>0.0</td>\n",
       "      <td>0.0</td>\n",
       "      <td>0.0</td>\n",
       "      <td>0.000000</td>\n",
       "      <td>0.0</td>\n",
       "      <td>0.0</td>\n",
       "      <td>0.0</td>\n",
       "      <td>0.0</td>\n",
       "      <td>0.0</td>\n",
       "    </tr>\n",
       "    <tr>\n",
       "      <th>0</th>\n",
       "      <td>2032</td>\n",
       "      <td>7238257241479193519</td>\n",
       "      <td>0.0</td>\n",
       "      <td>0.000000</td>\n",
       "      <td>0.0</td>\n",
       "      <td>0.0</td>\n",
       "      <td>0.0</td>\n",
       "      <td>0.000000</td>\n",
       "      <td>0.0</td>\n",
       "      <td>0.0</td>\n",
       "      <td>0.0</td>\n",
       "      <td>0.000000</td>\n",
       "      <td>0.0</td>\n",
       "      <td>0.0</td>\n",
       "      <td>0.0</td>\n",
       "      <td>0.0</td>\n",
       "      <td>0.0</td>\n",
       "    </tr>\n",
       "  </tbody>\n",
       "</table>\n",
       "<p>258 rows × 17 columns</p>\n",
       "</div>"
      ],
      "text/plain": [
       "    rank                   id  STDIO_F_META_TIME  STDIO_F_WRITE_TIME  \\\n",
       "0      0 -2526562401267378297                0.0            0.000068   \n",
       "0      0 -2526562401267378297                0.0            0.000068   \n",
       "0      0  7238257241479193519                0.0        -2662.746634   \n",
       "0      0  7238257241479193519                0.0        -2662.746634   \n",
       "0     16  7238257241479193519                0.0            0.000000   \n",
       "..   ...                  ...                ...                 ...   \n",
       "0   2000  7238257241479193519                0.0            0.000000   \n",
       "0   2016  7238257241479193519                0.0            0.000000   \n",
       "0   2016  7238257241479193519                0.0            0.000000   \n",
       "0   2032  7238257241479193519                0.0            0.000000   \n",
       "0   2032  7238257241479193519                0.0            0.000000   \n",
       "\n",
       "    STDIO_F_READ_TIME  STDIO_F_OPEN_START_TIMESTAMP  \\\n",
       "0                 0.0                           0.0   \n",
       "0                 0.0                           0.0   \n",
       "0                 0.0                           0.0   \n",
       "0                 0.0                           0.0   \n",
       "0                 0.0                           0.0   \n",
       "..                ...                           ...   \n",
       "0                 0.0                           0.0   \n",
       "0                 0.0                           0.0   \n",
       "0                 0.0                           0.0   \n",
       "0                 0.0                           0.0   \n",
       "0                 0.0                           0.0   \n",
       "\n",
       "    STDIO_F_CLOSE_START_TIMESTAMP  STDIO_F_WRITE_START_TIMESTAMP  \\\n",
       "0                             0.0                       0.077528   \n",
       "0                             0.0                       0.077528   \n",
       "0                             0.0                       0.000000   \n",
       "0                             0.0                       0.000000   \n",
       "0                             0.0                       0.000000   \n",
       "..                            ...                            ...   \n",
       "0                             0.0                       0.000000   \n",
       "0                             0.0                       0.000000   \n",
       "0                             0.0                       0.000000   \n",
       "0                             0.0                       0.000000   \n",
       "0                             0.0                       0.000000   \n",
       "\n",
       "    STDIO_F_READ_START_TIMESTAMP  STDIO_F_OPEN_END_TIMESTAMP  \\\n",
       "0                            0.0                         0.0   \n",
       "0                            0.0                         0.0   \n",
       "0                            0.0                         0.0   \n",
       "0                            0.0                         0.0   \n",
       "0                            0.0                         0.0   \n",
       "..                           ...                         ...   \n",
       "0                            0.0                         0.0   \n",
       "0                            0.0                         0.0   \n",
       "0                            0.0                         0.0   \n",
       "0                            0.0                         0.0   \n",
       "0                            0.0                         0.0   \n",
       "\n",
       "    STDIO_F_CLOSE_END_TIMESTAMP  STDIO_F_WRITE_END_TIMESTAMP  \\\n",
       "0                           0.0                   116.283583   \n",
       "0                           0.0                   116.283583   \n",
       "0                           0.0                     0.000000   \n",
       "0                           0.0                     0.000000   \n",
       "0                           0.0                     0.000000   \n",
       "..                          ...                          ...   \n",
       "0                           0.0                     0.000000   \n",
       "0                           0.0                     0.000000   \n",
       "0                           0.0                     0.000000   \n",
       "0                           0.0                     0.000000   \n",
       "0                           0.0                     0.000000   \n",
       "\n",
       "    STDIO_F_READ_END_TIMESTAMP  STDIO_F_FASTEST_RANK_TIME  \\\n",
       "0                          0.0                        0.0   \n",
       "0                          0.0                        0.0   \n",
       "0                          0.0                        0.0   \n",
       "0                          0.0                        0.0   \n",
       "0                          0.0                        0.0   \n",
       "..                         ...                        ...   \n",
       "0                          0.0                        0.0   \n",
       "0                          0.0                        0.0   \n",
       "0                          0.0                        0.0   \n",
       "0                          0.0                        0.0   \n",
       "0                          0.0                        0.0   \n",
       "\n",
       "    STDIO_F_SLOWEST_RANK_TIME  STDIO_F_VARIANCE_RANK_TIME  \\\n",
       "0                         0.0                         0.0   \n",
       "0                         0.0                         0.0   \n",
       "0                         0.0                         0.0   \n",
       "0                         0.0                         0.0   \n",
       "0                         0.0                         0.0   \n",
       "..                        ...                         ...   \n",
       "0                         0.0                         0.0   \n",
       "0                         0.0                         0.0   \n",
       "0                         0.0                         0.0   \n",
       "0                         0.0                         0.0   \n",
       "0                         0.0                         0.0   \n",
       "\n",
       "    STDIO_F_VARIANCE_RANK_BYTES  \n",
       "0                           0.0  \n",
       "0                           0.0  \n",
       "0                           0.0  \n",
       "0                           0.0  \n",
       "0                           0.0  \n",
       "..                          ...  \n",
       "0                           0.0  \n",
       "0                           0.0  \n",
       "0                           0.0  \n",
       "0                           0.0  \n",
       "0                           0.0  \n",
       "\n",
       "[258 rows x 17 columns]"
      ]
     },
     "metadata": {},
     "output_type": "display_data"
    }
   ],
   "source": [
    "print('id', report.records['STDIO'][0]['id'])\n",
    "print('rank', report.records['STDIO'][0]['rank'])\n",
    "display(report.records['STDIO'][0]['counters'])\n",
    "display(report.records['STDIO'][0]['fcounters'])"
   ]
  },
  {
   "cell_type": "markdown",
   "metadata": {},
   "source": [
    "#### dtype: dict"
   ]
  },
  {
   "cell_type": "code",
   "execution_count": 51,
   "metadata": {},
   "outputs": [
    {
     "name": "stdout",
     "output_type": "stream",
     "text": [
      "STDIO\n"
     ]
    },
    {
     "data": {
      "text/plain": [
       "{'id': 15920181672442173319,\n",
       " 'rank': 0,\n",
       " 'counters': {'STDIO_OPENS': 1,\n",
       "  'STDIO_FDOPENS': -1,\n",
       "  'STDIO_READS': 0,\n",
       "  'STDIO_WRITES': 6,\n",
       "  'STDIO_SEEKS': 0,\n",
       "  'STDIO_FLUSHES': 0,\n",
       "  'STDIO_BYTES_WRITTEN': 280,\n",
       "  'STDIO_BYTES_READ': 0,\n",
       "  'STDIO_MAX_BYTE_READ': 0,\n",
       "  'STDIO_MAX_BYTE_WRITTEN': 279,\n",
       "  'STDIO_FASTEST_RANK': 0,\n",
       "  'STDIO_FASTEST_RANK_BYTES': 0,\n",
       "  'STDIO_SLOWEST_RANK': 0,\n",
       "  'STDIO_SLOWEST_RANK_BYTES': 0},\n",
       " 'fcounters': {'STDIO_F_META_TIME': 0.0,\n",
       "  'STDIO_F_WRITE_TIME': 6.794929504394531e-05,\n",
       "  'STDIO_F_READ_TIME': 0.0,\n",
       "  'STDIO_F_OPEN_START_TIMESTAMP': 0.0,\n",
       "  'STDIO_F_CLOSE_START_TIMESTAMP': 0.0,\n",
       "  'STDIO_F_WRITE_START_TIMESTAMP': 0.07752799987792969,\n",
       "  'STDIO_F_READ_START_TIMESTAMP': 0.0,\n",
       "  'STDIO_F_OPEN_END_TIMESTAMP': 0.0,\n",
       "  'STDIO_F_CLOSE_END_TIMESTAMP': 0.0,\n",
       "  'STDIO_F_WRITE_END_TIMESTAMP': 116.28358292579651,\n",
       "  'STDIO_F_READ_END_TIMESTAMP': 0.0,\n",
       "  'STDIO_F_FASTEST_RANK_TIME': 0.0,\n",
       "  'STDIO_F_SLOWEST_RANK_TIME': 0.0,\n",
       "  'STDIO_F_VARIANCE_RANK_TIME': 0.0,\n",
       "  'STDIO_F_VARIANCE_RANK_BYTES': 0.0}}"
      ]
     },
     "execution_count": 51,
     "metadata": {},
     "output_type": "execute_result"
    }
   ],
   "source": [
    "report.mod_read_all_records(\"STDIO\", dtype='dict')\n",
    "report.records['STDIO'][0]"
   ]
  },
  {
   "cell_type": "code",
   "execution_count": null,
   "metadata": {},
   "outputs": [],
   "source": []
  },
  {
   "cell_type": "markdown",
   "metadata": {},
   "source": [
    "#### dtype: numpy"
   ]
  },
  {
   "cell_type": "code",
   "execution_count": 52,
   "metadata": {},
   "outputs": [
    {
     "name": "stdout",
     "output_type": "stream",
     "text": [
      "STDIO\n"
     ]
    },
    {
     "data": {
      "text/plain": [
       "{'id': 15920181672442173319,\n",
       " 'rank': 0,\n",
       " 'counters': array([  1,  -1,   0,   6,   0,   0, 280,   0,   0, 279,   0,   0,   0,\n",
       "          0]),\n",
       " 'fcounters': array([0.00000000e+00, 6.79492950e-05, 0.00000000e+00, 0.00000000e+00,\n",
       "        0.00000000e+00, 7.75279999e-02, 0.00000000e+00, 0.00000000e+00,\n",
       "        0.00000000e+00, 1.16283583e+02, 0.00000000e+00, 0.00000000e+00,\n",
       "        0.00000000e+00, 0.00000000e+00, 0.00000000e+00])}"
      ]
     },
     "execution_count": 52,
     "metadata": {},
     "output_type": "execute_result"
    }
   ],
   "source": [
    "report.mod_read_all_records(\"STDIO\")\n",
    "report.records['STDIO'][0]"
   ]
  },
  {
   "cell_type": "markdown",
   "metadata": {},
   "source": [
    "#### The Log in Memory\n",
    "\n",
    "Let's have a look at how calling `report.mod_read_all_records(\"STDIO\")` changed the state of the log in memory."
   ]
  },
  {
   "cell_type": "code",
   "execution_count": 53,
   "metadata": {},
   "outputs": [
    {
     "name": "stdout",
     "output_type": "stream",
     "text": [
      "Filename:       example-logs/example.darshan\n",
      "Times:          2017-03-20 10:07:47 to 2017-03-20 10:09:43 (Duration 0:01:56)\n",
      "Executeable:    /global/project/projectdirs/m888/glock/tokio-abc-results/bin.edison/vpicio_uni /scratch2/scratchdirs/glock/tokioabc-s.4478544/vpicio/vpicio.hdf5 32\n",
      "Processes:      2048\n",
      "JobID:          4478544\n",
      "UID:            69615\n",
      "Modules in Log: ['POSIX', 'MPI-IO', 'LUSTRE', 'STDIO']\n",
      "Loaded Records: {'STDIO': 129}\n",
      "Name Records:   2\n",
      "Darshan/Hints:  {'lib_ver': '3.1.3', 'h': 'romio_no_indep_rw=true;cb_nodes=4'}\n",
      "DarshanReport:  id(140531723872240) (tmp)\n"
     ]
    }
   ],
   "source": [
    "# Compare to info line: \"Loaded Records: {...}\"\n",
    "report.info()"
   ]
  },
  {
   "cell_type": "markdown",
   "metadata": {},
   "source": [
    "When interacting on individual log data for example in a for loop you would most likely care about the following instead:"
   ]
  },
  {
   "cell_type": "code",
   "execution_count": 25,
   "metadata": {},
   "outputs": [
    {
     "name": "stdout",
     "output_type": "stream",
     "text": [
      "Num records: 129\n",
      "{'id': 15920181672442173319, 'rank': 0, 'counters': array([  1,  -1,   0,   6,   0,   0, 280,   0,   0, 279,   0,   0,   0,\n",
      "         0]), 'fcounters': array([0.00000000e+00, 6.79492950e-05, 0.00000000e+00, 0.00000000e+00,\n",
      "       0.00000000e+00, 7.75279999e-02, 0.00000000e+00, 0.00000000e+00,\n",
      "       0.00000000e+00, 1.16283583e+02, 0.00000000e+00, 0.00000000e+00,\n",
      "       0.00000000e+00, 0.00000000e+00, 0.00000000e+00])}\n",
      "{'id': 7238257241479193519, 'rank': 0, 'counters': array([   1,   -1,    0,   68,    0,    0, 3029,    0,    0, 3028,    0,\n",
      "          0,    0,    0]), 'fcounters': array([    0.        , -2662.74663377,     0.        ,     0.        ,\n",
      "           0.        ,     0.        ,     0.        ,     0.        ,\n",
      "           0.        ,     0.        ,     0.        ,     0.        ,\n",
      "           0.        ,     0.        ,     0.        ])}\n",
      "{'id': 7238257241479193519, 'rank': 16, 'counters': array([ 1, -1,  0,  0,  0,  0,  0,  0,  0,  0,  0,  0,  0,  0]), 'fcounters': array([0., 0., 0., 0., 0., 0., 0., 0., 0., 0., 0., 0., 0., 0., 0.])}\n",
      "{'id': 7238257241479193519, 'rank': 32, 'counters': array([ 1, -1,  0,  0,  0,  0,  0,  0,  0,  0,  0,  0,  0,  0]), 'fcounters': array([0., 0., 0., 0., 0., 0., 0., 0., 0., 0., 0., 0., 0., 0., 0.])}\n",
      "{'id': 7238257241479193519, 'rank': 48, 'counters': array([ 1, -1,  0,  0,  0,  0,  0,  0,  0,  0,  0,  0,  0,  0]), 'fcounters': array([0., 0., 0., 0., 0., 0., 0., 0., 0., 0., 0., 0., 0., 0., 0.])}\n",
      "{'id': 7238257241479193519, 'rank': 64, 'counters': array([ 1, -1,  0,  0,  0,  0,  0,  0,  0,  0,  0,  0,  0,  0]), 'fcounters': array([0., 0., 0., 0., 0., 0., 0., 0., 0., 0., 0., 0., 0., 0., 0.])}\n",
      "{'id': 7238257241479193519, 'rank': 80, 'counters': array([ 1, -1,  0,  0,  0,  0,  0,  0,  0,  0,  0,  0,  0,  0]), 'fcounters': array([0., 0., 0., 0., 0., 0., 0., 0., 0., 0., 0., 0., 0., 0., 0.])}\n",
      "{'id': 7238257241479193519, 'rank': 96, 'counters': array([ 1, -1,  0,  0,  0,  0,  0,  0,  0,  0,  0,  0,  0,  0]), 'fcounters': array([0., 0., 0., 0., 0., 0., 0., 0., 0., 0., 0., 0., 0., 0., 0.])}\n",
      "{'id': 7238257241479193519, 'rank': 112, 'counters': array([ 1, -1,  0,  0,  0,  0,  0,  0,  0,  0,  0,  0,  0,  0]), 'fcounters': array([0., 0., 0., 0., 0., 0., 0., 0., 0., 0., 0., 0., 0., 0., 0.])}\n",
      "{'id': 7238257241479193519, 'rank': 128, 'counters': array([ 1, -1,  0,  0,  0,  0,  0,  0,  0,  0,  0,  0,  0,  0]), 'fcounters': array([0., 0., 0., 0., 0., 0., 0., 0., 0., 0., 0., 0., 0., 0., 0.])}\n"
     ]
    }
   ],
   "source": [
    "print(\"Num records:\", len(report.records['STDIO']))\n",
    "\n",
    "# show first 10 records\n",
    "for rec in report.records['STDIO'][0:10]:\n",
    "    print(rec)"
   ]
  },
  {
   "cell_type": "markdown",
   "metadata": {},
   "source": [
    "### Aggregation and Filtering (Experimental)\n",
    "\n",
    "Darshan log data is routinely aggregated for quick overview. The report object offers a few methods to perform common aggregations:"
   ]
  },
  {
   "cell_type": "markdown",
   "metadata": {},
   "source": [
    "Report aggregations and summarization remains **experimental** for now, mostly to allow interfaces to stabilize. But experimental features can be switched on easily by invoking `darshan.enable_experimental()`:"
   ]
  },
  {
   "cell_type": "code",
   "execution_count": 26,
   "metadata": {},
   "outputs": [
    {
     "name": "stdout",
     "output_type": "stream",
     "text": [
      "Added method create_time_summary to DarshanReport.\n",
      "Added method print_module_records to DarshanReport.\n",
      "Added method summarize to DarshanReport.\n",
      "Added method merge to DarshanReport.\n",
      "Added method create_timeline to DarshanReport.\n",
      "Added method records_as_dict to DarshanReport.\n",
      "Added method reduce to DarshanReport.\n",
      "Added method agg_ioops to DarshanReport.\n",
      "Added method create_sankey to DarshanReport.\n",
      "Added method filter to DarshanReport.\n",
      "Added method mod_agg_iohist to DarshanReport.\n",
      "Added method name_records_summary to DarshanReport.\n"
     ]
    }
   ],
   "source": [
    "import darshan\n",
    "darshan.enable_experimental(verbose=True) # Enable verbosity, listing new functionality"
   ]
  },
  {
   "cell_type": "code",
   "execution_count": 27,
   "metadata": {},
   "outputs": [
    {
     "data": {
      "text/plain": [
       "{15920181672442173319: {'name': '<STDOUT>', 'counts': {'STDIO': 1}},\n",
       " 7238257241479193519: {'name': '<STDERR>', 'counts': {'STDIO': 128}}}"
      ]
     },
     "execution_count": 27,
     "metadata": {},
     "output_type": "execute_result"
    }
   ],
   "source": [
    "# Example report, which counts records in log across modules \n",
    "report.name_records_summary()"
   ]
  },
  {
   "cell_type": "markdown",
   "metadata": {},
   "source": [
    "### Chain operations like filtering and reductions\n",
    "The filter and reduce operations return DarshanReports themsleves, thus allow to convieniently chain operations."
   ]
  },
  {
   "cell_type": "code",
   "execution_count": 28,
   "metadata": {
    "scrolled": true
   },
   "outputs": [
    {
     "data": {
      "text/plain": [
       "{14734109647742566553: '<STDIN>',\n",
       " 15920181672442173319: '<STDOUT>',\n",
       " 7238257241479193519: '<STDERR>',\n",
       " 6301063301082038805: '/scratch2/scratchdirs/glock/tokioabc-s.4478544/vpicio/vpicio.hdf5'}"
      ]
     },
     "execution_count": 28,
     "metadata": {},
     "output_type": "execute_result"
    }
   ],
   "source": [
    "import pprint\n",
    "\n",
    "import darshan\n",
    "darshan.enable_experimental()\n",
    "\n",
    "report = darshan.DarshanReport(\"example-logs/example.darshan\", read_all=True)\n",
    "report.name_records"
   ]
  },
  {
   "cell_type": "code",
   "execution_count": 29,
   "metadata": {
    "scrolled": true
   },
   "outputs": [
    {
     "data": {
      "text/plain": [
       "{'POSIX': [{'id': 6301063301082038805,\n",
       "   'rank': -1,\n",
       "   'counters': array([         2049,            -1,            -1,             0,\n",
       "                  16402,         16404,             0,             0,\n",
       "                      0,             0,            -1,            -1,\n",
       "                      0,             0,             0, 2199023259968,\n",
       "                      0, 2199023261831,             0,             0,\n",
       "                      0,         16384,             0,             0,\n",
       "                      8,         16401,       1048576,             0,\n",
       "              134217728,             0,             0,             0,\n",
       "                      0,             0,             0,             0,\n",
       "                      0,             0,             0,             4,\n",
       "                     14,             0,             0,             0,\n",
       "                      0,             0,             0,         16384,\n",
       "                      0,  274743689216,  274743691264,             0,\n",
       "                      0,         10240,          4096,             0,\n",
       "                      0,     134217728,           272,           544,\n",
       "                    328,         16384,             8,             2,\n",
       "                      2,           597,    1073741824,          1312,\n",
       "             1073741824]),\n",
       "   'fcounters': array([3.91914105e+00, 0.00000000e+00, 3.94006395e+00, 3.92709398e+00,\n",
       "          3.93657994e+00, 0.00000000e+00, 1.15078166e+02, 1.15770358e+02,\n",
       "          0.00000000e+00, 1.00397600e+05, 1.13008418e+01, 0.00000000e+00,\n",
       "          1.79409459e+01, 2.04360995e+01, 8.54749503e+01, 0.00000000e+00,\n",
       "          0.00000000e+00])}],\n",
       " 'MPI-IO': [{'id': 6301063301082038805,\n",
       "   'rank': -1,\n",
       "   'counters': array([            0,          2048,             0,            18,\n",
       "                      0,         16384,             0,             0,\n",
       "                      0,             0,             0,             0,\n",
       "                  32768,             9,             0, 2199023259968,\n",
       "                      0,             0,     134217728,             0,\n",
       "                      0,             0,             0,             0,\n",
       "                      0,             0,             0,             0,\n",
       "                      0,             4,            14,             0,\n",
       "                      0,             0,             0,             0,\n",
       "                      0,         16384,             0,     134217728,\n",
       "                    272,           544,           328,         16384,\n",
       "                      8,             2,             2,           597,\n",
       "             1073741824,          1312,    1073741824]),\n",
       "   'fcounters': array([ 3.91278315e+00,  0.00000000e+00,  3.94003701e+00, -1.00000000e+00,\n",
       "          -1.00000000e+00,  0.00000000e+00,  1.15078169e+02,  1.15773214e+02,\n",
       "           0.00000000e+00,  1.00397897e+05,  4.90211463e+01,  0.00000000e+00,\n",
       "           1.79409699e+01,  2.04544911e+01,  8.54922221e+01,  9.54322809e+01,\n",
       "           7.01663086e+02])}],\n",
       " 'STDIO': [{'id': 15920181672442173319,\n",
       "   'rank': 0,\n",
       "   'counters': array([  1,  -1,   0,   6,   0,   0, 280,   0,   0, 279,   0,   0,   0,\n",
       "            0]),\n",
       "   'fcounters': array([0.00000000e+00, 6.79492950e-05, 0.00000000e+00, 0.00000000e+00,\n",
       "          0.00000000e+00, 7.75279999e-02, 0.00000000e+00, 0.00000000e+00,\n",
       "          0.00000000e+00, 1.16283583e+02, 0.00000000e+00, 0.00000000e+00,\n",
       "          0.00000000e+00, 0.00000000e+00, 0.00000000e+00])}]}"
      ]
     },
     "execution_count": 29,
     "metadata": {},
     "output_type": "execute_result"
    }
   ],
   "source": [
    "report.filter(name_records=[6301063301082038805, 15920181672442173319]).records"
   ]
  },
  {
   "cell_type": "code",
   "execution_count": 30,
   "metadata": {
    "scrolled": true
   },
   "outputs": [
    {
     "data": {
      "text/plain": [
       "{'POSIX': [{'id': '*',\n",
       "   'rank': -1,\n",
       "   'counters': array([         2049,            -1,            -1,             0,\n",
       "                  16402,         16404,             0,             0,\n",
       "                      0,             0,            -1,            -1,\n",
       "                      0,             0,             0, 2199023259968,\n",
       "                      0, 2199023261831,             0,             0,\n",
       "                      0,         16384,             0,             0,\n",
       "                      8,         16401,       1048576,             0,\n",
       "              134217728,             0,             0,             0,\n",
       "                      0,             0,             0,             0,\n",
       "                      0,             0,             0,             4,\n",
       "                     14,             0,             0,             0,\n",
       "                      0,             0,             0,         16384,\n",
       "                      0,  274743689216,  274743691264,             0,\n",
       "                      0,         10240,          4096,             0,\n",
       "                      0,     134217728,           272,           544,\n",
       "                    328,         16384,             8,             2,\n",
       "                      2,           597,    1073741824,          1312,\n",
       "             1073741824]),\n",
       "   'fcounters': array([3.91914105e+00, 0.00000000e+00, 3.94006395e+00, 3.92709398e+00,\n",
       "          3.93657994e+00, 0.00000000e+00, 1.15078166e+02, 1.15770358e+02,\n",
       "          0.00000000e+00, 1.00397600e+05, 1.13008418e+01, 0.00000000e+00,\n",
       "          1.79409459e+01, 2.04360995e+01, 8.54749503e+01, 0.00000000e+00,\n",
       "          0.00000000e+00])}],\n",
       " 'MPI-IO': [{'id': '*',\n",
       "   'rank': -1,\n",
       "   'counters': array([            0,          2048,             0,            18,\n",
       "                      0,         16384,             0,             0,\n",
       "                      0,             0,             0,             0,\n",
       "                  32768,             9,             0, 2199023259968,\n",
       "                      0,             0,     134217728,             0,\n",
       "                      0,             0,             0,             0,\n",
       "                      0,             0,             0,             0,\n",
       "                      0,             4,            14,             0,\n",
       "                      0,             0,             0,             0,\n",
       "                      0,         16384,             0,     134217728,\n",
       "                    272,           544,           328,         16384,\n",
       "                      8,             2,             2,           597,\n",
       "             1073741824,          1312,    1073741824]),\n",
       "   'fcounters': array([ 3.91278315e+00,  0.00000000e+00,  3.94003701e+00, -1.00000000e+00,\n",
       "          -1.00000000e+00,  0.00000000e+00,  1.15078169e+02,  1.15773214e+02,\n",
       "           0.00000000e+00,  1.00397897e+05,  4.90211463e+01,  0.00000000e+00,\n",
       "           1.79409699e+01,  2.04544911e+01,  8.54922221e+01,  9.54322809e+01,\n",
       "           7.01663086e+02])}]}"
      ]
     },
     "execution_count": 30,
     "metadata": {},
     "output_type": "execute_result"
    }
   ],
   "source": [
    "# reduce all after filtering\n",
    "report.filter(pattern=\"*.hdf5\").reduce().records"
   ]
  },
  {
   "cell_type": "code",
   "execution_count": 31,
   "metadata": {
    "scrolled": true
   },
   "outputs": [
    {
     "data": {
      "text/plain": [
       "{'POSIX': [{'id': '*',\n",
       "   'rank': -1,\n",
       "   'counters': array([         2049,            -1,            -1,             0,\n",
       "                  16402,         16404,             0,             0,\n",
       "                      0,             0,            -1,            -1,\n",
       "                      0,             0,             0, 2199023259968,\n",
       "                      0, 2199023261831,             0,             0,\n",
       "                      0,         16384,             0,             0,\n",
       "                      8,         16401,       1048576,             0,\n",
       "              134217728,             0,             0,             0,\n",
       "                      0,             0,             0,             0,\n",
       "                      0,             0,             0,             4,\n",
       "                     14,             0,             0,             0,\n",
       "                      0,             0,             0,         16384,\n",
       "                      0,  274743689216,  274743691264,             0,\n",
       "                      0,         10240,          4096,             0,\n",
       "                      0,     134217728,           272,           544,\n",
       "                    328,         16384,             8,             2,\n",
       "                      2,           597,    1073741824,          1312,\n",
       "             1073741824]),\n",
       "   'fcounters': array([3.91914105e+00, 0.00000000e+00, 3.94006395e+00, 3.92709398e+00,\n",
       "          3.93657994e+00, 0.00000000e+00, 1.15078166e+02, 1.15770358e+02,\n",
       "          0.00000000e+00, 1.00397600e+05, 1.13008418e+01, 0.00000000e+00,\n",
       "          1.79409459e+01, 2.04360995e+01, 8.54749503e+01, 0.00000000e+00,\n",
       "          0.00000000e+00])}]}"
      ]
     },
     "execution_count": 31,
     "metadata": {},
     "output_type": "execute_result"
    }
   ],
   "source": [
    "# only preserve some\n",
    "report.filter(name_records=[6301063301082038805]).reduce(mods=['POSIX', 'STDIO']).records"
   ]
  },
  {
   "cell_type": "code",
   "execution_count": null,
   "metadata": {},
   "outputs": [],
   "source": []
  },
  {
   "cell_type": "code",
   "execution_count": null,
   "metadata": {
    "scrolled": true
   },
   "outputs": [],
   "source": [
    "# expected to fail\n",
    "try:\n",
    "    pprint.pprint(report.summary['agg_ioops'])\n",
    "except:\n",
    "    print(\"IOOPS have not been aggregated for this report.\")"
   ]
  },
  {
   "cell_type": "code",
   "execution_count": null,
   "metadata": {},
   "outputs": [],
   "source": [
    "report.read_all() \n",
    "report.summarize()"
   ]
  },
  {
   "cell_type": "code",
   "execution_count": null,
   "metadata": {
    "scrolled": true
   },
   "outputs": [],
   "source": [
    "report.summary['agg_ioops']"
   ]
  },
  {
   "cell_type": "markdown",
   "metadata": {},
   "source": [
    "Or fine grained:"
   ]
  },
  {
   "cell_type": "code",
   "execution_count": null,
   "metadata": {},
   "outputs": [],
   "source": [
    "report.mod_agg_iohist(\"MPI-IO\")  # to create the histograms"
   ]
  },
  {
   "cell_type": "code",
   "execution_count": null,
   "metadata": {},
   "outputs": [],
   "source": [
    "report.agg_ioops()               # to create the combined operation type summary"
   ]
  },
  {
   "cell_type": "markdown",
   "metadata": {},
   "source": [
    "### Report Algebra (Experimental)\n",
    "\n",
    "Various operations are implemented to merge, combine and manipulate log records. This is useful for analysis task, but can also be used to construct performance projections or extrapolation.\n",
    "\n",
    "For convienience, we overload some of the operations provided by Python when they resemble intuitive equivalence to their mathematical counterparts. In particular, we enable the combination of different object types."
   ]
  },
  {
   "cell_type": "code",
   "execution_count": 14,
   "metadata": {},
   "outputs": [],
   "source": [
    "import darshan\n",
    "darshan.enable_experimental()"
   ]
  },
  {
   "cell_type": "code",
   "execution_count": 15,
   "metadata": {
    "scrolled": true
   },
   "outputs": [
    {
     "name": "stdout",
     "output_type": "stream",
     "text": [
      "Summarizing... agg_ioops\n",
      "Read,Write,Open,Stat,Seek,Mmap,Fsync,Layer\n",
      "0,16402,2049,0,16404,0,0,POSIX\n",
      "0,18,0,0,0,0,0,MPIIND\n",
      "0,16384,2048,0,0,0,0,MPICOL\n",
      "0,74,129,0,0,0,0,STDIO\n",
      "\n"
     ]
    },
    {
     "data": {
      "image/png": "[encoded data removed]",
      "text/plain": [
       "<Figure size 432x288 with 1 Axes>"
      ]
     },
     "metadata": {
      "needs_background": "light"
     },
     "output_type": "display_data"
    },
    {
     "name": "stdout",
     "output_type": "stream",
     "text": [
      "Summarizing... agg_ioops\n",
      "Read,Write,Open,Stat,Seek,Mmap,Fsync,Layer\n",
      "0,16402,2049,0,16404,0,0,POSIX\n",
      "0,18,0,0,0,0,0,MPIIND\n",
      "0,16384,2048,0,0,0,0,MPICOL\n",
      "0,74,129,0,0,0,0,STDIO\n",
      "\n"
     ]
    },
    {
     "data": {
      "image/png": "[encoded data removed]",
      "text/plain": [
       "<Figure size 432x288 with 1 Axes>"
      ]
     },
     "metadata": {
      "needs_background": "light"
     },
     "output_type": "display_data"
    },
    {
     "name": "stdout",
     "output_type": "stream",
     "text": [
      "Summarizing... agg_ioops\n",
      "Read,Write,Open,Stat,Seek,Mmap,Fsync,Layer\n",
      "0,32804,4098,0,32808,0,0,POSIX\n",
      "0,36,0,0,0,0,0,MPIIND\n",
      "0,32768,4096,0,0,0,0,MPICOL\n",
      "0,148,258,0,0,0,0,STDIO\n",
      "\n"
     ]
    },
    {
     "data": {
      "image/png": "[encoded data removed]",
      "text/plain": [
       "<Figure size 432x288 with 1 Axes>"
      ]
     },
     "metadata": {
      "needs_background": "light"
     },
     "output_type": "display_data"
    }
   ],
   "source": [
    "# merging records\n",
    "from darshan.experimental.plots.matplotlib import plot_access_histogram\n",
    "from darshan.experimental.plots.matplotlib import plot_opcounts\n",
    "\n",
    "r1 = darshan.DarshanReport(\"example-logs/example.darshan\", read_all=True)\n",
    "r2 = darshan.DarshanReport(\"example-logs/example2.darshan\", read_all=True)\n",
    "rx = r1 + r2\n",
    "\n",
    "for r in [r1, r2, rx]:\n",
    "    plt = plot_opcounts(r)\n",
    "    plt.show()"
   ]
  },
  {
   "cell_type": "code",
   "execution_count": null,
   "metadata": {},
   "outputs": [],
   "source": []
  },
  {
   "cell_type": "code",
   "execution_count": null,
   "metadata": {},
   "outputs": [],
   "source": []
  },
  {
   "cell_type": "code",
   "execution_count": 16,
   "metadata": {},
   "outputs": [],
   "source": [
    "# multiply records with a scalar (think, four times the I/O load)\n",
    "#r1 = darshan.DarshanReport(\"example.darshan\", read_all=True)\n",
    "#rx = r1 * 4\n",
    "#plot_opcounts(rx)"
   ]
  },
  {
   "cell_type": "code",
   "execution_count": 17,
   "metadata": {},
   "outputs": [],
   "source": [
    "# rebase via timedelta\n",
    "#r1 = darshan.DarshanReport(\"example.darshan\", read_all=True)\n",
    "#dt = datetime.timedelta()\n",
    "#rx = r1 + dt"
   ]
  },
  {
   "cell_type": "markdown",
   "metadata": {},
   "source": [
    "## Plotting"
   ]
  },
  {
   "cell_type": "code",
   "execution_count": 7,
   "metadata": {},
   "outputs": [
    {
     "name": "stdout",
     "output_type": "stream",
     "text": [
      "Summarizing... iohist POSIX\n"
     ]
    },
    {
     "data": {
      "text/plain": [
       "<module 'matplotlib.pyplot' from '/home/pq/ANL/darshan-decaf/testbed/conda/lib/python3.6/site-packages/matplotlib/pyplot.py'>"
      ]
     },
     "execution_count": 7,
     "metadata": {},
     "output_type": "execute_result"
    },
    {
     "data": {
      "image/png": "[encoded data removed]",
      "text/plain": [
       "<Figure size 432x288 with 1 Axes>"
      ]
     },
     "metadata": {
      "needs_background": "light"
     },
     "output_type": "display_data"
    }
   ],
   "source": [
    "import darshan\n",
    "darshan.enable_experimental(verbose=False)\n",
    "\n",
    "r3 = darshan.DarshanReport(\"example-logs/example.darshan\")\n",
    "r3.mod_read_all_records('POSIX')\n",
    "\n",
    "from darshan.experimental.plots.matplotlib import plot_access_histogram\n",
    "plot_access_histogram(r3, mod='POSIX')"
   ]
  },
  {
   "cell_type": "code",
   "execution_count": 19,
   "metadata": {},
   "outputs": [
    {
     "name": "stdout",
     "output_type": "stream",
     "text": [
      "Summarizing... iohist MPI-IO\n"
     ]
    },
    {
     "data": {
      "text/plain": [
       "<module 'matplotlib.pyplot' from '/home/pq/ANL/darshan-decaf/testbed/conda/lib/python3.6/site-packages/matplotlib/pyplot.py'>"
      ]
     },
     "execution_count": 19,
     "metadata": {},
     "output_type": "execute_result"
    },
    {
     "data": {
      "image/png": "[encoded data removed]",
      "text/plain": [
       "<Figure size 432x288 with 1 Axes>"
      ]
     },
     "metadata": {
      "needs_background": "light"
     },
     "output_type": "display_data"
    }
   ],
   "source": [
    "import darshan\n",
    "darshan.enable_experimental(verbose=False)\n",
    "\n",
    "r3 = darshan.DarshanReport(\"example-logs/example.darshan\")\n",
    "r3.mod_read_all_records('MPI-IO')\n",
    "\n",
    "from darshan.experimental.plots.matplotlib import plot_access_histogram\n",
    "plot_access_histogram(r3, mod='MPI-IO')"
   ]
  },
  {
   "cell_type": "code",
   "execution_count": 6,
   "metadata": {
    "scrolled": true
   },
   "outputs": [
    {
     "name": "stdout",
     "output_type": "stream",
     "text": [
      "Summarizing... agg_ioops\n",
      "Read,Write,Open,Stat,Seek,Mmap,Fsync,Layer\n",
      "0,16402,2049,0,16404,0,0,POSIX\n",
      "0,18,0,0,0,0,0,MPIIND\n",
      "0,16384,2048,0,0,0,0,MPICOL\n",
      "0,74,129,0,0,0,0,STDIO\n",
      "\n"
     ]
    },
    {
     "data": {
      "text/plain": [
       "<module 'matplotlib.pyplot' from '/home/pq/ANL/darshan-decaf/testbed/conda/lib/python3.6/site-packages/matplotlib/pyplot.py'>"
      ]
     },
     "execution_count": 6,
     "metadata": {},
     "output_type": "execute_result"
    },
    {
     "data": {
      "image/png": "[encoded data removed]",
      "text/plain": [
       "<Figure size 432x288 with 1 Axes>"
      ]
     },
     "metadata": {
      "needs_background": "light"
     },
     "output_type": "display_data"
    }
   ],
   "source": [
    "import darshan\n",
    "darshan.enable_experimental(verbose=False)\n",
    "\n",
    "r3 = darshan.DarshanReport(\"example-logs/example.darshan\")\n",
    "r3.read_all()\n",
    "\n",
    "from darshan.experimental.plots.matplotlib import plot_opcounts\n",
    "plot_opcounts(r3)"
   ]
  },
  {
   "cell_type": "markdown",
   "metadata": {},
   "source": [
    "### DXT Records\n",
    "\n",
    "DXT records are also supported, and can be loaded individually on a per module basis as follows:\n"
   ]
  },
  {
   "cell_type": "code",
   "execution_count": null,
   "metadata": {},
   "outputs": [],
   "source": []
  },
  {
   "cell_type": "code",
   "execution_count": 54,
   "metadata": {},
   "outputs": [
    {
     "name": "stdout",
     "output_type": "stream",
     "text": [
      "POSIX\n",
      "POSIX\n",
      "STDIO\n",
      "Filename:       example-logs/dxt.darshan\n",
      "Times:          2020-04-21 09:45:33 to 2020-04-21 10:10:01 (Duration 0:24:28)\n",
      "Executeable:    \n",
      "Processes:      1\n",
      "JobID:          1537455\n",
      "UID:            8699\n",
      "Modules in Log: ['POSIX', 'STDIO', 'DXT_POSIX']\n",
      "Loaded Records: {'POSIX': 214, 'STDIO': 1, 'DXT_POSIX': 169}\n",
      "Name Records:   215\n",
      "Darshan/Hints:  {'lib_ver': '3.2.0-pre1', 'h': 'romio_no_indep_rw=true;cb_nodes=4'}\n",
      "DarshanReport:  id(140531706868288) (tmp)\n"
     ]
    }
   ],
   "source": [
    "import darshan\n",
    "\n",
    "report2 = darshan.DarshanReport(\"example-logs/dxt.darshan\")\n",
    "report2.info()"
   ]
  },
  {
   "cell_type": "code",
   "execution_count": 2,
   "metadata": {},
   "outputs": [
    {
     "data": {
      "text/plain": [
       "dict_keys(['id', 'rank', 'hostname', 'write_count', 'read_count', 'write_segments', 'read_segments'])"
      ]
     },
     "execution_count": 2,
     "metadata": {},
     "output_type": "execute_result"
    }
   ],
   "source": [
    "report2.records['DXT_POSIX'][0].keys()"
   ]
  },
  {
   "cell_type": "markdown",
   "metadata": {},
   "source": [
    "Sometimes it is easier to visualize or transform data to get an overview:"
   ]
  },
  {
   "cell_type": "code",
   "execution_count": 3,
   "metadata": {},
   "outputs": [],
   "source": []
  },
  {
   "cell_type": "code",
   "execution_count": 33,
   "metadata": {},
   "outputs": [],
   "source": [
    "# load prepared transformations\n",
    "# might require: pip install pillow\n",
    "from darshan.experimental.transforms.dxt2png import segment, wallclock\n",
    "\n",
    "report2.mod_read_all_dxt_records(\"DXT_POSIX\", dtype=\"dict\")  # need dict format for now\n",
    "rec = report2.records['DXT_POSIX'][2]"
   ]
  },
  {
   "cell_type": "code",
   "execution_count": 34,
   "metadata": {},
   "outputs": [
    {
     "name": "stdout",
     "output_type": "stream",
     "text": [
      "len(trace): 163 minsize: 65472 duration: 0.14281702041625977\n"
     ]
    },
    {
     "data": {
      "image/png": "[encoded data removed]",
      "text/plain": [
       "<PIL.Image.Image image mode=RGBA size=102x122 at 0x7FD0179A9AC8>"
      ]
     },
     "execution_count": 34,
     "metadata": {},
     "output_type": "execute_result"
    }
   ],
   "source": [
    "segment(rec)"
   ]
  },
  {
   "cell_type": "code",
   "execution_count": 35,
   "metadata": {},
   "outputs": [
    {
     "data": {
      "image/png": "[encoded data removed]",
      "text/plain": [
       "<PIL.Image.Image image mode=RGBA size=102x122 at 0x7FD0179A99B0>"
      ]
     },
     "execution_count": 35,
     "metadata": {},
     "output_type": "execute_result"
    }
   ],
   "source": [
    "wallclock(rec)"
   ]
  },
  {
   "cell_type": "code",
   "execution_count": 57,
   "metadata": {},
   "outputs": [
    {
     "name": "stdout",
     "output_type": "stream",
     "text": [
      "Write Segments:\n"
     ]
    },
    {
     "data": {
      "text/html": [
       "<div>\n",
       "<style scoped>\n",
       "    .dataframe tbody tr th:only-of-type {\n",
       "        vertical-align: middle;\n",
       "    }\n",
       "\n",
       "    .dataframe tbody tr th {\n",
       "        vertical-align: top;\n",
       "    }\n",
       "\n",
       "    .dataframe thead th {\n",
       "        text-align: right;\n",
       "    }\n",
       "</style>\n",
       "<table border=\"1\" class=\"dataframe\">\n",
       "  <thead>\n",
       "    <tr style=\"text-align: right;\">\n",
       "      <th></th>\n",
       "    </tr>\n",
       "  </thead>\n",
       "  <tbody>\n",
       "  </tbody>\n",
       "</table>\n",
       "</div>"
      ],
      "text/plain": [
       "Empty DataFrame\n",
       "Columns: []\n",
       "Index: []"
      ]
     },
     "metadata": {},
     "output_type": "display_data"
    },
    {
     "name": "stdout",
     "output_type": "stream",
     "text": [
      "Read Segments:\n"
     ]
    },
    {
     "data": {
      "text/html": [
       "<div>\n",
       "<style scoped>\n",
       "    .dataframe tbody tr th:only-of-type {\n",
       "        vertical-align: middle;\n",
       "    }\n",
       "\n",
       "    .dataframe tbody tr th {\n",
       "        vertical-align: top;\n",
       "    }\n",
       "\n",
       "    .dataframe thead th {\n",
       "        text-align: right;\n",
       "    }\n",
       "</style>\n",
       "<table border=\"1\" class=\"dataframe\">\n",
       "  <thead>\n",
       "    <tr style=\"text-align: right;\">\n",
       "      <th></th>\n",
       "      <th>offset</th>\n",
       "      <th>length</th>\n",
       "      <th>start_time</th>\n",
       "      <th>end_time</th>\n",
       "    </tr>\n",
       "  </thead>\n",
       "  <tbody>\n",
       "    <tr>\n",
       "      <th>0</th>\n",
       "      <td>0</td>\n",
       "      <td>1023</td>\n",
       "      <td>0.010193</td>\n",
       "      <td>0.027233</td>\n",
       "    </tr>\n",
       "    <tr>\n",
       "      <th>1</th>\n",
       "      <td>1023</td>\n",
       "      <td>1023</td>\n",
       "      <td>0.027261</td>\n",
       "      <td>0.027269</td>\n",
       "    </tr>\n",
       "    <tr>\n",
       "      <th>2</th>\n",
       "      <td>2046</td>\n",
       "      <td>1023</td>\n",
       "      <td>0.027275</td>\n",
       "      <td>0.027279</td>\n",
       "    </tr>\n",
       "    <tr>\n",
       "      <th>3</th>\n",
       "      <td>3069</td>\n",
       "      <td>1023</td>\n",
       "      <td>0.027285</td>\n",
       "      <td>0.027288</td>\n",
       "    </tr>\n",
       "    <tr>\n",
       "      <th>4</th>\n",
       "      <td>4092</td>\n",
       "      <td>1023</td>\n",
       "      <td>0.027294</td>\n",
       "      <td>0.027297</td>\n",
       "    </tr>\n",
       "    <tr>\n",
       "      <th>...</th>\n",
       "      <td>...</td>\n",
       "      <td>...</td>\n",
       "      <td>...</td>\n",
       "      <td>...</td>\n",
       "    </tr>\n",
       "    <tr>\n",
       "      <th>158</th>\n",
       "      <td>41943</td>\n",
       "      <td>1023</td>\n",
       "      <td>0.152966</td>\n",
       "      <td>0.152968</td>\n",
       "    </tr>\n",
       "    <tr>\n",
       "      <th>159</th>\n",
       "      <td>42966</td>\n",
       "      <td>1023</td>\n",
       "      <td>0.152974</td>\n",
       "      <td>0.152977</td>\n",
       "    </tr>\n",
       "    <tr>\n",
       "      <th>160</th>\n",
       "      <td>43989</td>\n",
       "      <td>1023</td>\n",
       "      <td>0.152989</td>\n",
       "      <td>0.152993</td>\n",
       "    </tr>\n",
       "    <tr>\n",
       "      <th>161</th>\n",
       "      <td>45012</td>\n",
       "      <td>1023</td>\n",
       "      <td>0.152998</td>\n",
       "      <td>0.153002</td>\n",
       "    </tr>\n",
       "    <tr>\n",
       "      <th>162</th>\n",
       "      <td>46035</td>\n",
       "      <td>1023</td>\n",
       "      <td>0.153007</td>\n",
       "      <td>0.153010</td>\n",
       "    </tr>\n",
       "  </tbody>\n",
       "</table>\n",
       "<p>163 rows × 4 columns</p>\n",
       "</div>"
      ],
      "text/plain": [
       "     offset  length  start_time  end_time\n",
       "0         0    1023    0.010193  0.027233\n",
       "1      1023    1023    0.027261  0.027269\n",
       "2      2046    1023    0.027275  0.027279\n",
       "3      3069    1023    0.027285  0.027288\n",
       "4      4092    1023    0.027294  0.027297\n",
       "..      ...     ...         ...       ...\n",
       "158   41943    1023    0.152966  0.152968\n",
       "159   42966    1023    0.152974  0.152977\n",
       "160   43989    1023    0.152989  0.152993\n",
       "161   45012    1023    0.152998  0.153002\n",
       "162   46035    1023    0.153007  0.153010\n",
       "\n",
       "[163 rows x 4 columns]"
      ]
     },
     "metadata": {},
     "output_type": "display_data"
    }
   ],
   "source": [
    "from IPython.display import display, HTML\n",
    "\n",
    "report2.mod_read_all_dxt_records(\"DXT_POSIX\", dtype=\"pandas\") \n",
    "\n",
    "print(\"Write Segments:\")\n",
    "display(report2.records['DXT_POSIX'][2]['write_segments'])\n",
    "print(\"Read Segments:\")\n",
    "display(report2.records['DXT_POSIX'][2]['read_segments'])"
   ]
  },
  {
   "cell_type": "markdown",
   "metadata": {},
   "source": [
    "Exercise left for the reader ;P \n",
    "Implement a custom aggregator/summary function and commit it as a contribution to pydarshan:"
   ]
  },
  {
   "cell_type": "code",
   "execution_count": null,
   "metadata": {},
   "outputs": [],
   "source": [
    "# Create file: <darshan-repo>/darshan-util/pydarshan/darshan/experimental/aggregators/dxt_summary.py\n",
    "from darshan.report import *\n",
    "\n",
    "def dxt_summary(self):\n",
    "    \"\"\"\n",
    "    Count records for every name record.\n",
    "\n",
    "    Args:\n",
    "        mod_name (str): \n",
    "\n",
    "    Return:\n",
    "        None\n",
    "    \"\"\"\n",
    "\n",
    "    counts = {}\n",
    "\n",
    "    for mod, records in self.records.items():\n",
    "        for rec in records:\n",
    "            if rec['id'] not in counts:\n",
    "                counts[rec['id']] = {'name': self.name_records[rec['id']], 'counts': {}}\n",
    "\n",
    "            if mod not in counts[rec['id']]['counts']:\n",
    "                counts[rec['id']]['counts'][mod] = 1\n",
    "            else:\n",
    "                counts[rec['id']]['counts'][mod] += 1\n",
    "\n",
    "    return counts\n"
   ]
  },
  {
   "cell_type": "markdown",
   "metadata": {},
   "source": [
    "## Exporting Data for Use in Third-Party Analysis\n",
    "\n",
    "Darshan logs may be used in contexts beyond our imagination. To make this effortless export in JSON is easy."
   ]
  },
  {
   "cell_type": "code",
   "execution_count": null,
   "metadata": {},
   "outputs": [],
   "source": [
    "import darshan\n",
    "report = darshan.DarshanReport(\"example-logs/example.darshan\", read_all=True)\n",
    "report.to_json()"
   ]
  },
  {
   "cell_type": "markdown",
   "metadata": {},
   "source": [
    "## Error Handling?\n",
    "\n",
    "Currently, playing with two modes, both have their pros and cons.\n",
    "\n",
    "Generally, should expose errors and let users handle them. At the same time, just skipping invalid load requests does little harm but greatly improves convienince.\n",
    "\n",
    "Could add a switch to enable disable these guards :/"
   ]
  },
  {
   "cell_type": "code",
   "execution_count": 1,
   "metadata": {
    "scrolled": true
   },
   "outputs": [
    {
     "ename": "NameError",
     "evalue": "name 'darshan' is not defined",
     "output_type": "error",
     "traceback": [
      "\u001b[0;31m---------------------------------------------------------------------------\u001b[0m",
      "\u001b[0;31mNameError\u001b[0m                                 Traceback (most recent call last)",
      "\u001b[0;32m<ipython-input-1-0be0e3f32711>\u001b[0m in \u001b[0;36m<module>\u001b[0;34m\u001b[0m\n\u001b[0;32m----> 1\u001b[0;31m \u001b[0mreport\u001b[0m \u001b[0;34m=\u001b[0m \u001b[0mdarshan\u001b[0m\u001b[0;34m.\u001b[0m\u001b[0mDarshanReport\u001b[0m\u001b[0;34m(\u001b[0m\u001b[0;34m\"example-logs/example.darshan\"\u001b[0m\u001b[0;34m)\u001b[0m\u001b[0;34m\u001b[0m\u001b[0;34m\u001b[0m\u001b[0m\n\u001b[0m",
      "\u001b[0;31mNameError\u001b[0m: name 'darshan' is not defined"
     ]
    }
   ],
   "source": [
    "report = darshan.DarshanReport(\"example-logs/example.darshan\")"
   ]
  },
  {
   "cell_type": "code",
   "execution_count": 2,
   "metadata": {},
   "outputs": [
    {
     "ename": "NameError",
     "evalue": "name 'report' is not defined",
     "output_type": "error",
     "traceback": [
      "\u001b[0;31m---------------------------------------------------------------------------\u001b[0m",
      "\u001b[0;31mNameError\u001b[0m                                 Traceback (most recent call last)",
      "\u001b[0;32m<ipython-input-2-ad9bffc53533>\u001b[0m in \u001b[0;36m<module>\u001b[0;34m\u001b[0m\n\u001b[0;32m----> 1\u001b[0;31m \u001b[0mreport\u001b[0m\u001b[0;34m.\u001b[0m\u001b[0mmod_read_all_records\u001b[0m\u001b[0;34m(\u001b[0m\u001b[0;34m\"ABC\"\u001b[0m\u001b[0;34m)\u001b[0m \u001b[0;31m# Expect KeyError\u001b[0m\u001b[0;34m\u001b[0m\u001b[0;34m\u001b[0m\u001b[0m\n\u001b[0m",
      "\u001b[0;31mNameError\u001b[0m: name 'report' is not defined"
     ]
    }
   ],
   "source": [
    "report.mod_read_all_records(\"ABC\") # Expect KeyError"
   ]
  },
  {
   "cell_type": "code",
   "execution_count": 26,
   "metadata": {},
   "outputs": [
    {
     "name": "stderr",
     "output_type": "stream",
     "text": [
      "Skipping. Log does not contain data for mod: ABC\n"
     ]
    }
   ],
   "source": [
    "report.mod_read_all_dxt_records(\"ABC\") # Expect printed warning, but not exception"
   ]
  }
 ],
 "metadata": {
  "kernelspec": {
   "display_name": "Python 3",
   "language": "python",
   "name": "python3"
  },
  "language_info": {
   "codemirror_mode": {
    "name": "ipython",
    "version": 3
   },
   "file_extension": ".py",
   "mimetype": "text/x-python",
   "name": "python",
   "nbconvert_exporter": "python",
   "pygments_lexer": "ipython3",
   "version": "3.6.10"
  }
 },
 "nbformat": 4,
 "nbformat_minor": 4
}
