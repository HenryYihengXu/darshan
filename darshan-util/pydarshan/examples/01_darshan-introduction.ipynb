{
 "cells": [
  {
   "cell_type": "markdown",
   "metadata": {},
   "source": [
    "# DarshanUtils for Python\n",
    "\n",
    "This notebook gives an overwiew of features provided by the Python bindings for DarshanUtils."
   ]
  },
  {
   "cell_type": "markdown",
   "metadata": {},
   "source": [
    "By default all records, metadata, available modules and the name records are loaded:"
   ]
  },
  {
   "cell_type": "code",
   "execution_count": 1,
   "metadata": {
    "scrolled": false
   },
   "outputs": [
    {
     "name": "stdout",
     "output_type": "stream",
     "text": [
      "dlopen ok\n",
      "Filename:       example.darshan\n",
      "Times:          2017-03-20 10:07:47 to 2017-03-20 10:09:43 (Duration 0:01:56)\n",
      "Executeable:    /global/project/projectdirs/m888/glock/tokio-abc-results/bin.edison/vpicio_uni /scratch2/scratchdirs/glock/tokioabc-s.4478544/vpicio/vpicio.hdf5 32\n",
      "Processes:      2048\n",
      "JobID:          4478544\n",
      "UID:            69615\n",
      "Modules in Log: ['POSIX', 'MPI-IO', 'LUSTRE', 'STDIO']\n",
      "Loaded Records: {'POSIX': 1, 'MPI-IO': 1, 'STDIO': 129}\n",
      "Name Records:   4\n",
      "Darshan/Hints:  {'lib_ver': '3.1.3', 'h': 'romio_no_indep_rw=true;cb_nodes=4'}\n",
      "DarshanReport:  id(140160358490464) (tmp)\n"
     ]
    }
   ],
   "source": [
    "import darshan\n",
    "\n",
    "report = darshan.DarshanReport(\"example.darshan\", read_all=True)  # Default behavior\n",
    "report.info()"
   ]
  },
  {
   "cell_type": "code",
   "execution_count": 2,
   "metadata": {},
   "outputs": [
    {
     "data": {
      "text/plain": [
       "{'POSIX': {'len': 186, 'ver': 3, 'idx': 1, 'num_records': 1},\n",
       " 'MPI-IO': {'len': 154, 'ver': 2, 'idx': 2, 'num_records': 1},\n",
       " 'LUSTRE': {'len': 87, 'ver': 1, 'idx': 7},\n",
       " 'STDIO': {'len': 3234, 'ver': 1, 'idx': 8, 'num_records': 129}}"
      ]
     },
     "execution_count": 2,
     "metadata": {},
     "output_type": "execute_result"
    }
   ],
   "source": [
    "report.modules"
   ]
  },
  {
   "cell_type": "markdown",
   "metadata": {},
   "source": [
    "A few of the internal data structures explained:"
   ]
  },
  {
   "cell_type": "code",
   "execution_count": 3,
   "metadata": {
    "scrolled": true
   },
   "outputs": [],
   "source": [
    "# report.metadata         # dictionary with raw metadata from darshan log\n",
    "# report.modules          # dictionary with raw module info from darshan log (need: technical, module idx)\n",
    "# report.name_records     # dictionary for resovling name records: id -> path/name\n",
    "# report.records          # per module \"dataframes\"/dictionaries holding loaded records"
   ]
  },
  {
   "cell_type": "markdown",
   "metadata": {},
   "source": [
    "The darshan report holds a variety of namespaces for report related data. All of them are also referenced in `report.data` at the moment, but reliance on this internal organization of the report object is discouraged once the API stabilized. Currently, `report.data` references the following information:"
   ]
  },
  {
   "cell_type": "code",
   "execution_count": 1,
   "metadata": {
    "scrolled": true
   },
   "outputs": [
    {
     "ename": "NameError",
     "evalue": "name 'report' is not defined",
     "output_type": "error",
     "traceback": [
      "\u001b[0;31m---------------------------------------------------------------------------\u001b[0m",
      "\u001b[0;31mNameError\u001b[0m                                 Traceback (most recent call last)",
      "\u001b[0;32m<ipython-input-1-c292969ca382>\u001b[0m in \u001b[0;36m<module>\u001b[0;34m\u001b[0m\n\u001b[0;32m----> 1\u001b[0;31m \u001b[0mreport\u001b[0m\u001b[0;34m.\u001b[0m\u001b[0mdata\u001b[0m\u001b[0;34m.\u001b[0m\u001b[0mkeys\u001b[0m\u001b[0;34m(\u001b[0m\u001b[0;34m)\u001b[0m\u001b[0;34m\u001b[0m\u001b[0;34m\u001b[0m\u001b[0m\n\u001b[0m",
      "\u001b[0;31mNameError\u001b[0m: name 'report' is not defined"
     ]
    }
   ],
   "source": [
    "report.data.keys()"
   ]
  },
  {
   "cell_type": "code",
   "execution_count": 13,
   "metadata": {},
   "outputs": [],
   "source": [
    "report.mod_read_all_records('POSIX')"
   ]
  },
  {
   "cell_type": "code",
   "execution_count": 16,
   "metadata": {},
   "outputs": [],
   "source": [
    "report.mod_read_all_records('STDIO')"
   ]
  },
  {
   "cell_type": "code",
   "execution_count": 4,
   "metadata": {},
   "outputs": [
    {
     "name": "stdout",
     "output_type": "stream",
     "text": [
      "MPI-IO\n",
      "Filename:       _2k_248.darshan\n",
      "Times:          2020-06-21 21:34:17 to 2020-06-21 21:42:18 (Duration 0:08:01)\n",
      "Executeable:    ./nfiles 2048 \n",
      "Processes:      248\n",
      "JobID:          30805\n",
      "UID:            1000\n",
      "Modules in Log: ['POSIX', 'MPI-IO', 'STDIO']\n",
      "Loaded Records: {'MPI-IO': 253952}\n",
      "Name Records:   253952\n",
      "Darshan/Hints:  {'lib_ver': '3.2.0', 'h': 'romio_no_indep_rw=true;cb_nodes=4'}\n",
      "DarshanReport:  id(140543143182576) (tmp)\n"
     ]
    }
   ],
   "source": [
    "report.update_name_records()\n",
    "report.info()"
   ]
  },
  {
   "cell_type": "code",
   "execution_count": 1,
   "metadata": {},
   "outputs": [],
   "source": [
    "from IPython.display import display, HTML\n",
    "# use: display(obj)"
   ]
  },
  {
   "cell_type": "code",
   "execution_count": 3,
   "metadata": {},
   "outputs": [
    {
     "ename": "NameError",
     "evalue": "name 'recs' is not defined",
     "output_type": "error",
     "traceback": [
      "\u001b[0;31m---------------------------------------------------------------------------\u001b[0m",
      "\u001b[0;31mNameError\u001b[0m                                 Traceback (most recent call last)",
      "\u001b[0;32m<ipython-input-3-2409a0ab6c83>\u001b[0m in \u001b[0;36m<module>\u001b[0;34m\u001b[0m\n\u001b[0;32m----> 1\u001b[0;31m \u001b[0mrecs\u001b[0m\u001b[0;34m\u001b[0m\u001b[0;34m\u001b[0m\u001b[0m\n\u001b[0m",
      "\u001b[0;31mNameError\u001b[0m: name 'recs' is not defined"
     ]
    }
   ],
   "source": [
    "recs"
   ]
  },
  {
   "cell_type": "code",
   "execution_count": null,
   "metadata": {},
   "outputs": [],
   "source": []
  },
  {
   "cell_type": "markdown",
   "metadata": {},
   "source": [
    "### Selectively Loading Records\n",
    "\n",
    "For memory efficiant analysis, it is possible to supress records from being loaded automatically. This is useful, for example, when analysis only considers a particular layer."
   ]
  },
  {
   "cell_type": "code",
   "execution_count": 5,
   "metadata": {},
   "outputs": [],
   "source": [
    "report = darshan.DarshanReport(\"example.darshan\", read_all=False) # Loads no records!"
   ]
  },
  {
   "cell_type": "code",
   "execution_count": 6,
   "metadata": {},
   "outputs": [
    {
     "name": "stdout",
     "output_type": "stream",
     "text": [
      "No STDIO records loaded for this report yet.\n"
     ]
    }
   ],
   "source": [
    "# expected to fail, as no records were loaded\n",
    "try:\n",
    "    print(len(report.records['STDIO']), \"records loaded for STDIO.\")\n",
    "except:\n",
    "    print(\"No STDIO records loaded for this report yet.\")"
   ]
  },
  {
   "cell_type": "markdown",
   "metadata": {},
   "source": [
    "Additional records then can be loaded selectively, for example, on a per module basis:"
   ]
  },
  {
   "cell_type": "code",
   "execution_count": 7,
   "metadata": {},
   "outputs": [],
   "source": [
    "report.mod_read_all_records(\"STDIO\") "
   ]
  },
  {
   "cell_type": "code",
   "execution_count": 8,
   "metadata": {
    "scrolled": false
   },
   "outputs": [
    {
     "data": {
      "text/plain": [
       "129"
      ]
     },
     "execution_count": 8,
     "metadata": {},
     "output_type": "execute_result"
    }
   ],
   "source": [
    "len(report.records['STDIO'])"
   ]
  },
  {
   "cell_type": "code",
   "execution_count": 10,
   "metadata": {},
   "outputs": [
    {
     "name": "stdout",
     "output_type": "stream",
     "text": [
      "Filename:       example.darshan\n",
      "Times:          2017-03-20 10:07:47 to 2017-03-20 10:09:43 (Duration 0:01:56)\n",
      "Executeable:    /global/project/projectdirs/m888/glock/tokio-abc-results/bin.edison/vpicio_uni /scratch2/scratchdirs/glock/tokioabc-s.4478544/vpicio/vpicio.hdf5 32\n",
      "Processes:      2048\n",
      "JobID:          4478544\n",
      "UID:            69615\n",
      "Modules in Log: ['POSIX', 'MPI-IO', 'LUSTRE', 'STDIO']\n",
      "Loaded Records: {'STDIO': 129}\n",
      "Name Records:   4\n",
      "Darshan/Hints:  {'lib_ver': '3.1.3', 'h': 'romio_no_indep_rw=true;cb_nodes=4'}\n",
      "DarshanReport:  id(139750934822192) (tmp)\n"
     ]
    }
   ],
   "source": [
    "report.info()"
   ]
  },
  {
   "cell_type": "code",
   "execution_count": 13,
   "metadata": {},
   "outputs": [
    {
     "data": {
      "text/plain": [
       "{'id': 15920181672442173319,\n",
       " 'rank': 0,\n",
       " 'counters': array([                   1, 18446744073709551615,                    0,\n",
       "                           6,                    0,                    0,\n",
       "                         280,                    0,                    0,\n",
       "                         279,                    0,                    0,\n",
       "                           0], dtype=uint64),\n",
       " 'fcounters': array([  1.,  -1.,   0.,   6.,   0.,   0., 280.,   0.,   0., 279.,   0.,\n",
       "          0.,   0.])}"
      ]
     },
     "execution_count": 13,
     "metadata": {},
     "output_type": "execute_result"
    }
   ],
   "source": [
    "report.records['STDIO'][0]"
   ]
  },
  {
   "cell_type": "markdown",
   "metadata": {},
   "source": [
    "### Aggregation and Filtering (Experimental)\n",
    "\n",
    "Darshan log data is routinely aggregated for quick overview. The report object offers a few methods to perform common aggregations:"
   ]
  },
  {
   "cell_type": "markdown",
   "metadata": {},
   "source": [
    "Report aggregations and summarization remains **experimental** for now, mostly to allow interfaces to stabilize. But experimental features can be switched on easily by invoking `darshan.enable_experimental()`:"
   ]
  },
  {
   "cell_type": "code",
   "execution_count": 22,
   "metadata": {},
   "outputs": [
    {
     "name": "stdout",
     "output_type": "stream",
     "text": [
      "Added method create_time_summary to DarshanReport.\n",
      "Added method print_module_records to DarshanReport.\n",
      "Added method summarize to DarshanReport.\n",
      "Added method merge to DarshanReport.\n",
      "Added method create_timeline to DarshanReport.\n",
      "Added method records_as_dict to DarshanReport.\n",
      "Added method reduce to DarshanReport.\n",
      "Added method agg_ioops to DarshanReport.\n",
      "Added method create_sankey to DarshanReport.\n",
      "Added method filter to DarshanReport.\n",
      "Added method mod_agg_iohist to DarshanReport.\n",
      "Added method name_records_summary to DarshanReport.\n"
     ]
    }
   ],
   "source": [
    "import darshan\n",
    "darshan.enable_experimental(verbose=True) # Enable verbosity, listing new functionality"
   ]
  },
  {
   "cell_type": "code",
   "execution_count": 25,
   "metadata": {},
   "outputs": [
    {
     "data": {
      "text/plain": [
       "{6301063301082038805: {'name': '/scratch2/scratchdirs/glock/tokioabc-s.4478544/vpicio/vpicio.hdf5',\n",
       "  'counts': {'POSIX': 1, 'MPI-IO': 1}},\n",
       " 15920181672442173319: {'name': '<STDOUT>', 'counts': {'STDIO': 1}},\n",
       " 7238257241479193519: {'name': '<STDERR>', 'counts': {'STDIO': 128}}}"
      ]
     },
     "execution_count": 25,
     "metadata": {},
     "output_type": "execute_result"
    }
   ],
   "source": [
    "# Example report, which counts records in log across modules \n",
    "report.name_records_summary()"
   ]
  },
  {
   "cell_type": "markdown",
   "metadata": {},
   "source": [
    "### Chain operations like filtering and reductions\n",
    "The filter and reduce operations return DarshanReports themsleves, thus allow to convieniently chain operations."
   ]
  },
  {
   "cell_type": "code",
   "execution_count": 26,
   "metadata": {
    "scrolled": true
   },
   "outputs": [
    {
     "data": {
      "text/plain": [
       "{14734109647742566553: '<STDIN>',\n",
       " 15920181672442173319: '<STDOUT>',\n",
       " 7238257241479193519: '<STDERR>',\n",
       " 6301063301082038805: '/scratch2/scratchdirs/glock/tokioabc-s.4478544/vpicio/vpicio.hdf5'}"
      ]
     },
     "execution_count": 26,
     "metadata": {},
     "output_type": "execute_result"
    }
   ],
   "source": [
    "import pprint\n",
    "\n",
    "import darshan\n",
    "darshan.enable_experimental()\n",
    "\n",
    "report = darshan.DarshanReport(\"example.darshan\", read_all=True)\n",
    "report.name_records"
   ]
  },
  {
   "cell_type": "code",
   "execution_count": 29,
   "metadata": {
    "scrolled": true
   },
   "outputs": [
    {
     "data": {
      "text/plain": [
       "{'POSIX': [{'id': 6301063301082038805,\n",
       "   'rank': -1,\n",
       "   'counters': array([                2049, 18446744073709551615, 18446744073709551615,\n",
       "                             0,                16402,                16404,\n",
       "                             0,                    0,                    0,\n",
       "                             0, 18446744073709551615, 18446744073709551615,\n",
       "                             0,                    0,                    0,\n",
       "                 2199023259968,                    0,        2199023261831,\n",
       "                             0,                    0,                    0,\n",
       "                         16384,                    0,                    0,\n",
       "                             8,                16401,              1048576,\n",
       "                             0,            134217728,                    0,\n",
       "                             0,                    0,                    0,\n",
       "                             0,                    0,                    0,\n",
       "                             0,                    0,                    0,\n",
       "                             4,                   14,                    0,\n",
       "                             0,                    0,                    0,\n",
       "                             0,                    0,                16384,\n",
       "                             0,         274743689216,         274743691264,\n",
       "                             0,                    0,                10240,\n",
       "                          4096,                    0,                    0,\n",
       "                     134217728,                  272,                  544,\n",
       "                           328,                16384,                    8,\n",
       "                             2], dtype=uint64),\n",
       "   'fcounters': array([ 2.04900000e+03, -1.00000000e+00, -1.00000000e+00,  0.00000000e+00,\n",
       "           1.64020000e+04,  1.64040000e+04,  0.00000000e+00,  0.00000000e+00,\n",
       "           0.00000000e+00,  0.00000000e+00, -1.00000000e+00, -1.00000000e+00,\n",
       "           0.00000000e+00,  0.00000000e+00,  0.00000000e+00,  2.19902326e+12,\n",
       "           0.00000000e+00,  2.19902326e+12,  0.00000000e+00,  0.00000000e+00,\n",
       "           0.00000000e+00,  1.63840000e+04,  0.00000000e+00,  0.00000000e+00,\n",
       "           8.00000000e+00,  1.64010000e+04,  1.04857600e+06,  0.00000000e+00,\n",
       "           1.34217728e+08,  0.00000000e+00,  0.00000000e+00,  0.00000000e+00,\n",
       "           0.00000000e+00,  0.00000000e+00,  0.00000000e+00,  0.00000000e+00,\n",
       "           0.00000000e+00,  0.00000000e+00,  0.00000000e+00,  4.00000000e+00,\n",
       "           1.40000000e+01,  0.00000000e+00,  0.00000000e+00,  0.00000000e+00,\n",
       "           0.00000000e+00,  0.00000000e+00,  0.00000000e+00,  1.63840000e+04,\n",
       "           0.00000000e+00,  2.74743689e+11,  2.74743691e+11,  0.00000000e+00,\n",
       "           0.00000000e+00,  1.02400000e+04,  4.09600000e+03,  0.00000000e+00,\n",
       "           0.00000000e+00,  1.34217728e+08,  2.72000000e+02,  5.44000000e+02,\n",
       "           3.28000000e+02,  1.63840000e+04,  8.00000000e+00,  2.00000000e+00])}],\n",
       " 'MPI-IO': [{'id': 6301063301082038805,\n",
       "   'rank': -1,\n",
       "   'counters': array([            0,          2048,             0,            18,\n",
       "                      0,         16384,             0,             0,\n",
       "                      0,             0,             0,             0,\n",
       "                  32768,             9,             0, 2199023259968,\n",
       "                      0,             0,     134217728,             0,\n",
       "                      0,             0,             0,             0,\n",
       "                      0,             0,             0,             0,\n",
       "                      0,             4,            14,             0,\n",
       "                      0,             0,             0,             0,\n",
       "                      0,         16384,             0,     134217728,\n",
       "                    272,           544,           328,         16384,\n",
       "                      8,             2,             2,           597,\n",
       "             1073741824,          1312,    1073741824], dtype=uint64),\n",
       "   'fcounters': array([0.00000000e+00, 2.04800000e+03, 0.00000000e+00, 1.80000000e+01,\n",
       "          0.00000000e+00, 1.63840000e+04, 0.00000000e+00, 0.00000000e+00,\n",
       "          0.00000000e+00, 0.00000000e+00, 0.00000000e+00, 0.00000000e+00,\n",
       "          3.27680000e+04, 9.00000000e+00, 0.00000000e+00, 2.19902326e+12,\n",
       "          0.00000000e+00, 0.00000000e+00, 1.34217728e+08, 0.00000000e+00,\n",
       "          0.00000000e+00, 0.00000000e+00, 0.00000000e+00, 0.00000000e+00,\n",
       "          0.00000000e+00, 0.00000000e+00, 0.00000000e+00, 0.00000000e+00,\n",
       "          0.00000000e+00, 4.00000000e+00, 1.40000000e+01, 0.00000000e+00,\n",
       "          0.00000000e+00, 0.00000000e+00, 0.00000000e+00, 0.00000000e+00,\n",
       "          0.00000000e+00, 1.63840000e+04, 0.00000000e+00, 1.34217728e+08,\n",
       "          2.72000000e+02, 5.44000000e+02, 3.28000000e+02, 1.63840000e+04,\n",
       "          8.00000000e+00, 2.00000000e+00, 2.00000000e+00, 5.97000000e+02,\n",
       "          1.07374182e+09, 1.31200000e+03, 1.07374182e+09])}],\n",
       " 'STDIO': [{'id': 15920181672442173319,\n",
       "   'rank': 0,\n",
       "   'counters': array([                   1, 18446744073709551615,                    0,\n",
       "                             6,                    0,                    0,\n",
       "                           280,                    0,                    0,\n",
       "                           279,                    0,                    0,\n",
       "                             0], dtype=uint64),\n",
       "   'fcounters': array([  1.,  -1.,   0.,   6.,   0.,   0., 280.,   0.,   0., 279.,   0.,\n",
       "            0.,   0.])}]}"
      ]
     },
     "execution_count": 29,
     "metadata": {},
     "output_type": "execute_result"
    }
   ],
   "source": [
    "report.filter(name_records=[6301063301082038805, 15920181672442173319]).records"
   ]
  },
  {
   "cell_type": "code",
   "execution_count": 30,
   "metadata": {
    "scrolled": true
   },
   "outputs": [
    {
     "data": {
      "text/plain": [
       "{'POSIX': [{'id': '*',\n",
       "   'rank': -1,\n",
       "   'counters': array([                2049, 18446744073709551615, 18446744073709551615,\n",
       "                             0,                16402,                16404,\n",
       "                             0,                    0,                    0,\n",
       "                             0, 18446744073709551615, 18446744073709551615,\n",
       "                             0,                    0,                    0,\n",
       "                 2199023259968,                    0,        2199023261831,\n",
       "                             0,                    0,                    0,\n",
       "                         16384,                    0,                    0,\n",
       "                             8,                16401,              1048576,\n",
       "                             0,            134217728,                    0,\n",
       "                             0,                    0,                    0,\n",
       "                             0,                    0,                    0,\n",
       "                             0,                    0,                    0,\n",
       "                             4,                   14,                    0,\n",
       "                             0,                    0,                    0,\n",
       "                             0,                    0,                16384,\n",
       "                             0,         274743689216,         274743691264,\n",
       "                             0,                    0,                10240,\n",
       "                          4096,                    0,                    0,\n",
       "                     134217728,                  272,                  544,\n",
       "                           328,                16384,                    8,\n",
       "                             2], dtype=uint64),\n",
       "   'fcounters': array([ 2.04900000e+03, -1.00000000e+00, -1.00000000e+00,  0.00000000e+00,\n",
       "           1.64020000e+04,  1.64040000e+04,  0.00000000e+00,  0.00000000e+00,\n",
       "           0.00000000e+00,  0.00000000e+00, -1.00000000e+00, -1.00000000e+00,\n",
       "           0.00000000e+00,  0.00000000e+00,  0.00000000e+00,  2.19902326e+12,\n",
       "           0.00000000e+00,  2.19902326e+12,  0.00000000e+00,  0.00000000e+00,\n",
       "           0.00000000e+00,  1.63840000e+04,  0.00000000e+00,  0.00000000e+00,\n",
       "           8.00000000e+00,  1.64010000e+04,  1.04857600e+06,  0.00000000e+00,\n",
       "           1.34217728e+08,  0.00000000e+00,  0.00000000e+00,  0.00000000e+00,\n",
       "           0.00000000e+00,  0.00000000e+00,  0.00000000e+00,  0.00000000e+00,\n",
       "           0.00000000e+00,  0.00000000e+00,  0.00000000e+00,  4.00000000e+00,\n",
       "           1.40000000e+01,  0.00000000e+00,  0.00000000e+00,  0.00000000e+00,\n",
       "           0.00000000e+00,  0.00000000e+00,  0.00000000e+00,  1.63840000e+04,\n",
       "           0.00000000e+00,  2.74743689e+11,  2.74743691e+11,  0.00000000e+00,\n",
       "           0.00000000e+00,  1.02400000e+04,  4.09600000e+03,  0.00000000e+00,\n",
       "           0.00000000e+00,  1.34217728e+08,  2.72000000e+02,  5.44000000e+02,\n",
       "           3.28000000e+02,  1.63840000e+04,  8.00000000e+00,  2.00000000e+00])}],\n",
       " 'MPI-IO': [{'id': '*',\n",
       "   'rank': -1,\n",
       "   'counters': array([            0,          2048,             0,            18,\n",
       "                      0,         16384,             0,             0,\n",
       "                      0,             0,             0,             0,\n",
       "                  32768,             9,             0, 2199023259968,\n",
       "                      0,             0,     134217728,             0,\n",
       "                      0,             0,             0,             0,\n",
       "                      0,             0,             0,             0,\n",
       "                      0,             4,            14,             0,\n",
       "                      0,             0,             0,             0,\n",
       "                      0,         16384,             0,     134217728,\n",
       "                    272,           544,           328,         16384,\n",
       "                      8,             2,             2,           597,\n",
       "             1073741824,          1312,    1073741824], dtype=uint64),\n",
       "   'fcounters': array([0.00000000e+00, 2.04800000e+03, 0.00000000e+00, 1.80000000e+01,\n",
       "          0.00000000e+00, 1.63840000e+04, 0.00000000e+00, 0.00000000e+00,\n",
       "          0.00000000e+00, 0.00000000e+00, 0.00000000e+00, 0.00000000e+00,\n",
       "          3.27680000e+04, 9.00000000e+00, 0.00000000e+00, 2.19902326e+12,\n",
       "          0.00000000e+00, 0.00000000e+00, 1.34217728e+08, 0.00000000e+00,\n",
       "          0.00000000e+00, 0.00000000e+00, 0.00000000e+00, 0.00000000e+00,\n",
       "          0.00000000e+00, 0.00000000e+00, 0.00000000e+00, 0.00000000e+00,\n",
       "          0.00000000e+00, 4.00000000e+00, 1.40000000e+01, 0.00000000e+00,\n",
       "          0.00000000e+00, 0.00000000e+00, 0.00000000e+00, 0.00000000e+00,\n",
       "          0.00000000e+00, 1.63840000e+04, 0.00000000e+00, 1.34217728e+08,\n",
       "          2.72000000e+02, 5.44000000e+02, 3.28000000e+02, 1.63840000e+04,\n",
       "          8.00000000e+00, 2.00000000e+00, 2.00000000e+00, 5.97000000e+02,\n",
       "          1.07374182e+09, 1.31200000e+03, 1.07374182e+09])}]}"
      ]
     },
     "execution_count": 30,
     "metadata": {},
     "output_type": "execute_result"
    }
   ],
   "source": [
    "# reduce all after filtering\n",
    "report.filter(pattern=\"*.hdf5\").reduce().records"
   ]
  },
  {
   "cell_type": "code",
   "execution_count": 31,
   "metadata": {
    "scrolled": true
   },
   "outputs": [
    {
     "data": {
      "text/plain": [
       "{'POSIX': [{'id': '*',\n",
       "   'rank': -1,\n",
       "   'counters': array([                2049, 18446744073709551615, 18446744073709551615,\n",
       "                             0,                16402,                16404,\n",
       "                             0,                    0,                    0,\n",
       "                             0, 18446744073709551615, 18446744073709551615,\n",
       "                             0,                    0,                    0,\n",
       "                 2199023259968,                    0,        2199023261831,\n",
       "                             0,                    0,                    0,\n",
       "                         16384,                    0,                    0,\n",
       "                             8,                16401,              1048576,\n",
       "                             0,            134217728,                    0,\n",
       "                             0,                    0,                    0,\n",
       "                             0,                    0,                    0,\n",
       "                             0,                    0,                    0,\n",
       "                             4,                   14,                    0,\n",
       "                             0,                    0,                    0,\n",
       "                             0,                    0,                16384,\n",
       "                             0,         274743689216,         274743691264,\n",
       "                             0,                    0,                10240,\n",
       "                          4096,                    0,                    0,\n",
       "                     134217728,                  272,                  544,\n",
       "                           328,                16384,                    8,\n",
       "                             2], dtype=uint64),\n",
       "   'fcounters': array([ 2.04900000e+03, -1.00000000e+00, -1.00000000e+00,  0.00000000e+00,\n",
       "           1.64020000e+04,  1.64040000e+04,  0.00000000e+00,  0.00000000e+00,\n",
       "           0.00000000e+00,  0.00000000e+00, -1.00000000e+00, -1.00000000e+00,\n",
       "           0.00000000e+00,  0.00000000e+00,  0.00000000e+00,  2.19902326e+12,\n",
       "           0.00000000e+00,  2.19902326e+12,  0.00000000e+00,  0.00000000e+00,\n",
       "           0.00000000e+00,  1.63840000e+04,  0.00000000e+00,  0.00000000e+00,\n",
       "           8.00000000e+00,  1.64010000e+04,  1.04857600e+06,  0.00000000e+00,\n",
       "           1.34217728e+08,  0.00000000e+00,  0.00000000e+00,  0.00000000e+00,\n",
       "           0.00000000e+00,  0.00000000e+00,  0.00000000e+00,  0.00000000e+00,\n",
       "           0.00000000e+00,  0.00000000e+00,  0.00000000e+00,  4.00000000e+00,\n",
       "           1.40000000e+01,  0.00000000e+00,  0.00000000e+00,  0.00000000e+00,\n",
       "           0.00000000e+00,  0.00000000e+00,  0.00000000e+00,  1.63840000e+04,\n",
       "           0.00000000e+00,  2.74743689e+11,  2.74743691e+11,  0.00000000e+00,\n",
       "           0.00000000e+00,  1.02400000e+04,  4.09600000e+03,  0.00000000e+00,\n",
       "           0.00000000e+00,  1.34217728e+08,  2.72000000e+02,  5.44000000e+02,\n",
       "           3.28000000e+02,  1.63840000e+04,  8.00000000e+00,  2.00000000e+00])}]}"
      ]
     },
     "execution_count": 31,
     "metadata": {},
     "output_type": "execute_result"
    }
   ],
   "source": [
    "# only preserve some\n",
    "report.filter(name_records=[6301063301082038805]).reduce(mods=['POSIX', 'STDIO']).records"
   ]
  },
  {
   "cell_type": "code",
   "execution_count": null,
   "metadata": {},
   "outputs": [],
   "source": []
  },
  {
   "cell_type": "code",
   "execution_count": null,
   "metadata": {
    "scrolled": true
   },
   "outputs": [],
   "source": [
    "# expected to fail\n",
    "try:\n",
    "    pprint.pprint(report.summary['agg_ioops'])\n",
    "except:\n",
    "    print(\"IOOPS have not been aggregated for this report.\")"
   ]
  },
  {
   "cell_type": "code",
   "execution_count": null,
   "metadata": {},
   "outputs": [],
   "source": [
    "report.read_all() \n",
    "report.summarize()"
   ]
  },
  {
   "cell_type": "code",
   "execution_count": null,
   "metadata": {
    "scrolled": true
   },
   "outputs": [],
   "source": [
    "report.summary['agg_ioops']"
   ]
  },
  {
   "cell_type": "markdown",
   "metadata": {},
   "source": [
    "Or fine grained:"
   ]
  },
  {
   "cell_type": "code",
   "execution_count": null,
   "metadata": {},
   "outputs": [],
   "source": [
    "report.mod_agg_iohist(\"MPI-IO\")  # to create the histograms"
   ]
  },
  {
   "cell_type": "code",
   "execution_count": null,
   "metadata": {},
   "outputs": [],
   "source": [
    "report.agg_ioops()               # to create the combined operation type summary"
   ]
  },
  {
   "cell_type": "markdown",
   "metadata": {},
   "source": [
    "### Report Algebra (Experimental)\n",
    "\n",
    "Various operations are implemented to merge, combine and manipulate log records. This is useful for analysis task, but can also be used to construct performance projections or extrapolation.\n",
    "\n",
    "For convienience, we overload some of the operations provided by Python when they resemble intuitive equivalence to their mathematical counterparts. In particular, we enable the combination of different object types."
   ]
  },
  {
   "cell_type": "code",
   "execution_count": 33,
   "metadata": {
    "scrolled": true
   },
   "outputs": [
    {
     "name": "stdout",
     "output_type": "stream",
     "text": [
      "Summarizing... agg_ioops\n",
      "Read,Write,Open,Stat,Seek,Mmap,Fsync,Layer\n",
      "0,16402,2049,0,16404,0,0,POSIX\n",
      "0,18,0,0,0,0,0,MPIIND\n",
      "0,16384,2048,0,0,0,0,MPICOL\n",
      "0,74,129,0,0,0,0,STDIO\n",
      "\n"
     ]
    },
    {
     "data": {
      "image/png": "[encoded data removed]",
      "text/plain": [
       "<Figure size 432x288 with 1 Axes>"
      ]
     },
     "metadata": {
      "needs_background": "light"
     },
     "output_type": "display_data"
    },
    {
     "name": "stdout",
     "output_type": "stream",
     "text": [
      "Summarizing... agg_ioops\n",
      "Read,Write,Open,Stat,Seek,Mmap,Fsync,Layer\n",
      "0,16402,2049,0,16404,0,0,POSIX\n",
      "0,18,0,0,0,0,0,MPIIND\n",
      "0,16384,2048,0,0,0,0,MPICOL\n",
      "0,74,129,0,0,0,0,STDIO\n",
      "\n"
     ]
    },
    {
     "data": {
      "image/png": "[encoded data removed]",
      "text/plain": [
       "<Figure size 432x288 with 1 Axes>"
      ]
     },
     "metadata": {
      "needs_background": "light"
     },
     "output_type": "display_data"
    },
    {
     "name": "stdout",
     "output_type": "stream",
     "text": [
      "Summarizing... agg_ioops\n",
      "Read,Write,Open,Stat,Seek,Mmap,Fsync,Layer\n",
      "0,32804,4098,0,32808,0,0,POSIX\n",
      "0,36,0,0,0,0,0,MPIIND\n",
      "0,32768,4096,0,0,0,0,MPICOL\n",
      "0,148,258,0,0,0,0,STDIO\n",
      "\n"
     ]
    },
    {
     "data": {
      "image/png": "[encoded data removed]",
      "text/plain": [
       "<Figure size 432x288 with 1 Axes>"
      ]
     },
     "metadata": {
      "needs_background": "light"
     },
     "output_type": "display_data"
    }
   ],
   "source": [
    "# merging records\n",
    "from darshan.experimental.plots.matplotlib import plot_access_histogram\n",
    "from darshan.experimental.plots.matplotlib import plot_opcounts\n",
    "\n",
    "r1 = darshan.DarshanReport(\"example.darshan\", read_all=True)\n",
    "r2 = darshan.DarshanReport(\"example2.darshan\", read_all=True)\n",
    "rx = r1 + r2\n",
    "\n",
    "for r in [r1, r2, rx]:\n",
    "    plt = plot_opcounts(r)\n",
    "    plt.show()"
   ]
  },
  {
   "cell_type": "code",
   "execution_count": null,
   "metadata": {},
   "outputs": [],
   "source": []
  },
  {
   "cell_type": "code",
   "execution_count": null,
   "metadata": {},
   "outputs": [],
   "source": [
    "# multiply records with a scalar (think, four times the I/O load)\n",
    "#r1 = darshan.DarshanReport(\"example.darshan\", read_all=True)\n",
    "#rx = r1 * 4\n",
    "#plot_opcounts(rx)"
   ]
  },
  {
   "cell_type": "code",
   "execution_count": null,
   "metadata": {},
   "outputs": [],
   "source": [
    "# rebase via timedelta\n",
    "#r1 = darshan.DarshanReport(\"example.darshan\", read_all=True)\n",
    "#dt = datetime.timedelta()\n",
    "#rx = r1 + dt"
   ]
  },
  {
   "cell_type": "markdown",
   "metadata": {},
   "source": [
    "## Plotting"
   ]
  },
  {
   "cell_type": "code",
   "execution_count": 32,
   "metadata": {},
   "outputs": [
    {
     "name": "stdout",
     "output_type": "stream",
     "text": [
      "Summarizing... iohist POSIX\n"
     ]
    },
    {
     "data": {
      "text/plain": [
       "<module 'matplotlib.pyplot' from '/home/pq/ANL/darshan-decaf/testbed/conda/lib/python3.6/site-packages/matplotlib/pyplot.py'>"
      ]
     },
     "execution_count": 32,
     "metadata": {},
     "output_type": "execute_result"
    },
    {
     "data": {
      "image/png": "[encoded data removed]",
      "text/plain": [
       "<Figure size 432x288 with 1 Axes>"
      ]
     },
     "metadata": {
      "needs_background": "light"
     },
     "output_type": "display_data"
    }
   ],
   "source": [
    "import darshan\n",
    "darshan.enable_experimental(verbose=False)\n",
    "\n",
    "r3 = darshan.DarshanReport(\"example.darshan\")\n",
    "r3.mod_read_all_records('POSIX')\n",
    "\n",
    "from darshan.experimental.plots.matplotlib import plot_access_histogram\n",
    "plot_access_histogram(r3, mod='POSIX')"
   ]
  },
  {
   "cell_type": "code",
   "execution_count": null,
   "metadata": {},
   "outputs": [],
   "source": [
    "import darshan\n",
    "darshan.enable_experimental(verbose=False)\n",
    "\n",
    "r3 = darshan.DarshanReport(\"example.darshan\")\n",
    "r3.mod_read_all_records('MPI-IO')\n",
    "\n",
    "from darshan.experimental.plots.matplotlib import plot_access_histogram\n",
    "plot_access_histogram(r3, mod='MPI-IO')"
   ]
  },
  {
   "cell_type": "code",
   "execution_count": null,
   "metadata": {
    "scrolled": true
   },
   "outputs": [],
   "source": [
    "import darshan\n",
    "darshan.enable_experimental(verbose=False)\n",
    "\n",
    "r3 = darshan.DarshanReport(\"example.darshan\")\n",
    "r3.read_all()\n",
    "\n",
    "from darshan.experimental.plots.matplotlib import plot_opcounts\n",
    "plot_opcounts(r3)"
   ]
  },
  {
   "cell_type": "markdown",
   "metadata": {},
   "source": [
    "### DXT Records\n",
    "\n",
    "DXT records are also supported, and can be loaded individually on a per module basis as follows:\n"
   ]
  },
  {
   "cell_type": "code",
   "execution_count": null,
   "metadata": {},
   "outputs": [],
   "source": [
    "report2 = darshan.DarshanReport(\"example.darshan\")\n",
    "report2.mod_read_all_dxt_records(\"ABC\") "
   ]
  },
  {
   "cell_type": "code",
   "execution_count": null,
   "metadata": {},
   "outputs": [],
   "source": [
    "report2.data"
   ]
  },
  {
   "cell_type": "markdown",
   "metadata": {},
   "source": [
    "## Exporting Data for Use in Third-Party Analysis\n",
    "\n",
    "Darshan logs may be used in contexts beyond our imagination. To make this effortless export in JSON is easy."
   ]
  },
  {
   "cell_type": "code",
   "execution_count": null,
   "metadata": {},
   "outputs": [],
   "source": [
    "import darshan\n",
    "report = darshan.DarshanReport(\"example.darshan\", read_all=True)\n",
    "report.to_json()"
   ]
  },
  {
   "cell_type": "markdown",
   "metadata": {},
   "source": [
    "## Error Handling?\n",
    "\n",
    "Currently, playing with two modes, both have their pros and cons.\n",
    "\n",
    "Generally, should expose errors and let users handle them. At the same time, just skipping invalid load requests does little harm but greatly improves convienince.\n",
    "\n",
    "Could add a switch to enable disable these guard :/"
   ]
  },
  {
   "cell_type": "code",
   "execution_count": null,
   "metadata": {
    "scrolled": true
   },
   "outputs": [],
   "source": [
    "report = darshan.DarshanReport(\"example.darshan\")"
   ]
  },
  {
   "cell_type": "code",
   "execution_count": null,
   "metadata": {},
   "outputs": [],
   "source": [
    "report.mod_read_all_records(\"ABC\") # Expect KeyError"
   ]
  },
  {
   "cell_type": "code",
   "execution_count": null,
   "metadata": {},
   "outputs": [],
   "source": [
    "report.mod_read_all_dxt_records(\"ABC\") # Expect printed warning, but not exception"
   ]
  }
 ],
 "metadata": {
  "kernelspec": {
   "display_name": "Python 3",
   "language": "python",
   "name": "python3"
  },
  "language_info": {
   "codemirror_mode": {
    "name": "ipython",
    "version": 3
   },
   "file_extension": ".py",
   "mimetype": "text/x-python",
   "name": "python",
   "nbconvert_exporter": "python",
   "pygments_lexer": "ipython3",
   "version": "3.6.10"
  }
 },
 "nbformat": 4,
 "nbformat_minor": 2
}
