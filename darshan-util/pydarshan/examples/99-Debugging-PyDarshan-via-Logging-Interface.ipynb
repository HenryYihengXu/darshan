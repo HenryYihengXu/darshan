{
 "cells": [
  {
   "cell_type": "markdown",
   "metadata": {},
   "source": [
    "# Debugging and Logging\n",
    "\n",
    "PyDarshan internally uses Pythons `logging` interfaces for troubleshooting and debugging purposes with most outputs supressed by default.\n",
    "\n",
    "Applications that are using PyDarshan can access and redirect logging streams of various PyDarshan components as documented by the logging module:\n",
    "\n",
    " * https://docs.python.org/3/library/logging.html\n",
    "\n",
    "This notebook demonstrates how logging can be activated, as well as more advanced configuration to redirect streams to files or other destinations. To display PyDarshan logging information in this notebook, one way is to set the log_level to DEBUG for the entire application as follows:"
   ]
  },
  {
   "cell_type": "code",
   "execution_count": 12,
   "metadata": {},
   "outputs": [
    {
     "name": "stderr",
     "output_type": "stream",
     "text": [
      "ERROR:root:The 'log_level' trait of an IPKernelApp instance must be any of (0, 10, 20, 30, 40, 50, 'DEBUG', 'INFO', 'WARN', 'ERROR', 'CRITICAL'), but a value of 'this-workaround-ensures-stderr-is-in-handlers' <class 'str'> was specified.\n"
     ]
    }
   ],
   "source": [
    "# Enable logging (workaround necessary to ensure logging.getLogger().handlers includes stderr stream)\n",
    "# https://stackoverflow.com/questions/35326814/change-level-logged-to-ipython-jupyter-notebook\n",
    "%config Application.log_level=\"this-workaround-ensures-stderr-is-in-handlers\"\n",
    "import logging\n",
    "logging.getLogger().setLevel(logging.DEBUG)"
   ]
  },
  {
   "cell_type": "code",
   "execution_count": null,
   "metadata": {},
   "outputs": [],
   "source": []
  },
  {
   "cell_type": "code",
   "execution_count": 13,
   "metadata": {},
   "outputs": [
    {
     "name": "stderr",
     "output_type": "stream",
     "text": [
      "DEBUG:darshan.report: Refreshing name_records for mod=POSIX\n",
      "DEBUG:darshan.report: Refreshing name_records for mod=POSIX\n",
      "DEBUG:darshan.report: Refreshing name_records for mod=MPI-IO\n",
      "DEBUG:darshan.report: Refreshing name_records for mod=POSIX\n",
      "DEBUG:darshan.report: Refreshing name_records for mod=MPI-IO\n",
      "DEBUG:darshan.report: Refreshing name_records for mod=STDIO\n"
     ]
    },
    {
     "data": {
      "text/plain": [
       "[{'id': 6301063301082038805,\n",
       "  'rank': -1,\n",
       "  'counters': array([     24,       1,       0, 1048576,      24]),\n",
       "  'ost_ids': array([ 7,  9, 23, 21,  1, 19, 20,  8, 18, 12,  6,  2, 10, 16,  4,  0, 22,\n",
       "         14, 13, 17,  5, 15, 11,  3])}]"
      ]
     },
     "execution_count": 13,
     "metadata": {},
     "output_type": "execute_result"
    }
   ],
   "source": [
    "import darshan\n",
    "report = darshan.DarshanReport(\"example-logs/example.darshan\", read_all=True)  # Default behavior\n",
    "\n",
    "report.records['LUSTRE']"
   ]
  },
  {
   "cell_type": "code",
   "execution_count": 14,
   "metadata": {},
   "outputs": [],
   "source": [
    "# Some commands will always display warnings when used with incompatible requests arguments:"
   ]
  },
  {
   "cell_type": "code",
   "execution_count": 15,
   "metadata": {},
   "outputs": [
    {
     "name": "stderr",
     "output_type": "stream",
     "text": [
      "WARNING:darshan.report: Skipping. Currently unsupported: DXT_POSIX in mod_read_all_records().\n"
     ]
    }
   ],
   "source": [
    "import darshan\n",
    "report.mod_read_all_records(mod='DXT_POSIX')"
   ]
  },
  {
   "cell_type": "code",
   "execution_count": 16,
   "metadata": {},
   "outputs": [
    {
     "name": "stderr",
     "output_type": "stream",
     "text": [
      "WARNING:darshan.report:Skipping. Log does not contain data for mod: DXT_POSIX\n"
     ]
    }
   ],
   "source": [
    "import darshan\n",
    "\n",
    "report.mod_read_all_dxt_records(mod='DXT_POSIX')"
   ]
  },
  {
   "cell_type": "code",
   "execution_count": 17,
   "metadata": {},
   "outputs": [
    {
     "name": "stderr",
     "output_type": "stream",
     "text": [
      "WARNING:darshan.report: Skipping. Unsupported module: POSIX in in mod_read_all_dxt_records(). Supported: ['DXT_POSIX', 'DXT_MPIIO']\n"
     ]
    }
   ],
   "source": [
    "import darshan\n",
    "report.mod_read_all_dxt_records(mod='POSIX')"
   ]
  },
  {
   "cell_type": "code",
   "execution_count": 18,
   "metadata": {},
   "outputs": [],
   "source": [
    "# Some commands such as export to_json offer debug information only if log_level is set to DEBUG"
   ]
  },
  {
   "cell_type": "code",
   "execution_count": null,
   "metadata": {
    "scrolled": true
   },
   "outputs": [],
   "source": [
    "import darshan\n",
    "report = darshan.DarshanReport(\"example-logs/example.darshan\", read_all=True)\n",
    "report.to_json()"
   ]
  }
 ],
 "metadata": {
  "kernelspec": {
   "display_name": "Python 3",
   "language": "python",
   "name": "python3"
  },
  "language_info": {
   "codemirror_mode": {
    "name": "ipython",
    "version": 3
   },
   "file_extension": ".py",
   "mimetype": "text/x-python",
   "name": "python",
   "nbconvert_exporter": "python",
   "pygments_lexer": "ipython3",
   "version": "3.6.10"
  }
 },
 "nbformat": 4,
 "nbformat_minor": 4
}
