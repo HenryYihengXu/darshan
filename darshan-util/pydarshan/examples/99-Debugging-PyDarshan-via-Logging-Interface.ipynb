{
 "cells": [
  {
   "cell_type": "markdown",
   "metadata": {},
   "source": [
    "# Debugging and Logging\n",
    "\n",
    "PyDarshan internally uses Pythons `logging` interfaces for troubleshooting and debugging purposes with most outputs supressed by default.\n",
    "\n",
    "Applications that are using PyDarshan can access and redirect logging streams of various PyDarshan components as documented by the logging module:\n",
    "\n",
    " * https://docs.python.org/3/library/logging.html\n",
    "\n",
    "This notebook demonstrates how logging can be activated, as well as more advanced configuration to redirect streams to files or other destinations. To display PyDarshan logging information in this notebook, one way is to set the log_level to DEBUG for the entire application as follows:"
   ]
  },
  {
   "cell_type": "code",
   "execution_count": 1,
   "metadata": {},
   "outputs": [
    {
     "name": "stderr",
     "output_type": "stream",
     "text": [
      "ERROR:root:The 'log_level' trait of an IPKernelApp instance must be any of (0, 10, 20, 30, 40, 50, 'DEBUG', 'INFO', 'WARN', 'ERROR', 'CRITICAL'), but a value of 'this-workaround-ensures-stderr-is-in-handlers' <class 'str'> was specified.\n"
     ]
    }
   ],
   "source": [
    "# Enable logging (workaround necessary to ensure logging.getLogger().handlers includes stderr stream)\n",
    "# https://stackoverflow.com/questions/35326814/change-level-logged-to-ipython-jupyter-notebook\n",
    "%config Application.log_level=\"this-workaround-ensures-stderr-is-in-handlers\"\n",
    "import logging\n",
    "logging.getLogger().setLevel(logging.DEBUG)"
   ]
  },
  {
   "cell_type": "code",
   "execution_count": null,
   "metadata": {},
   "outputs": [],
   "source": []
  },
  {
   "cell_type": "code",
   "execution_count": 2,
   "metadata": {},
   "outputs": [
    {
     "name": "stderr",
     "output_type": "stream",
     "text": [
      "DEBUG:darshan.discover_darshan: Found lib_version=3.2.1 via ffi.\n",
      "DEBUG:darshan.report: Refreshing name_records for mod=POSIX\n",
      "DEBUG:darshan.report: Refreshing name_records for mod=POSIX\n",
      "DEBUG:darshan.report: Refreshing name_records for mod=MPI-IO\n",
      "DEBUG:darshan.report: Refreshing name_records for mod=POSIX\n",
      "DEBUG:darshan.report: Refreshing name_records for mod=MPI-IO\n",
      "DEBUG:darshan.report: Refreshing name_records for mod=STDIO\n",
      "DEBUG:darshan.report: Refreshing name_records for mod=POSIX\n",
      "DEBUG:darshan.report: Refreshing name_records for mod=MPI-IO\n",
      "DEBUG:darshan.report: Refreshing name_records for mod=STDIO\n",
      "DEBUG:darshan.report: Refreshing name_records for mod=LUSTRE\n"
     ]
    },
    {
     "data": {
      "text/plain": [
       "[{'rank': -1,\n",
       "  'id': -1,\n",
       "  'counters':    rank                   id  LUSTRE_OSTS  LUSTRE_MDTS  LUSTRE_STRIPE_OFFSET  \\\n",
       "  0    -1  6301063301082038805           24            1                     0   \n",
       "  \n",
       "     LUSTRE_STRIPE_SIZE  LUSTRE_STRIPE_WIDTH  \n",
       "  0             1048576                   24  }]"
      ]
     },
     "execution_count": 2,
     "metadata": {},
     "output_type": "execute_result"
    }
   ],
   "source": [
    "import darshan\n",
    "report = darshan.DarshanReport(\"example-logs/example.darshan\", read_all=True)  # Default behavior\n",
    "\n",
    "report.records['LUSTRE']"
   ]
  },
  {
   "cell_type": "code",
   "execution_count": 3,
   "metadata": {},
   "outputs": [],
   "source": [
    "# Some commands will always display warnings when used with incompatible requests arguments:"
   ]
  },
  {
   "cell_type": "code",
   "execution_count": 4,
   "metadata": {},
   "outputs": [
    {
     "name": "stderr",
     "output_type": "stream",
     "text": [
      "WARNING:darshan.report: Skipping. Currently unsupported: DXT_POSIX in mod_read_all_records().\n"
     ]
    }
   ],
   "source": [
    "import darshan\n",
    "report.mod_read_all_records(mod='DXT_POSIX')"
   ]
  },
  {
   "cell_type": "code",
   "execution_count": 5,
   "metadata": {},
   "outputs": [
    {
     "name": "stderr",
     "output_type": "stream",
     "text": [
      "WARNING:darshan.report:Skipping. Log does not contain data for mod: DXT_POSIX\n"
     ]
    }
   ],
   "source": [
    "import darshan\n",
    "\n",
    "report.mod_read_all_dxt_records(mod='DXT_POSIX')"
   ]
  },
  {
   "cell_type": "code",
   "execution_count": 6,
   "metadata": {},
   "outputs": [
    {
     "name": "stderr",
     "output_type": "stream",
     "text": [
      "WARNING:darshan.report: Skipping. Unsupported module: POSIX in in mod_read_all_dxt_records(). Supported: ['DXT_POSIX', 'DXT_MPIIO']\n"
     ]
    }
   ],
   "source": [
    "import darshan\n",
    "report.mod_read_all_dxt_records(mod='POSIX')"
   ]
  },
  {
   "cell_type": "code",
   "execution_count": 7,
   "metadata": {},
   "outputs": [],
   "source": [
    "# Some commands such as export to_json offer debug information only if log_level is set to DEBUG"
   ]
  },
  {
   "cell_type": "code",
   "execution_count": 9,
   "metadata": {
    "scrolled": true
   },
   "outputs": [
    {
     "name": "stderr",
     "output_type": "stream",
     "text": [
      "DEBUG:darshan.report: Refreshing name_records for mod=POSIX\n",
      "DEBUG:darshan.report: Refreshing name_records for mod=POSIX\n",
      "DEBUG:darshan.report: Refreshing name_records for mod=MPI-IO\n",
      "DEBUG:darshan.report: Refreshing name_records for mod=POSIX\n",
      "DEBUG:darshan.report: Refreshing name_records for mod=MPI-IO\n",
      "DEBUG:darshan.report: Refreshing name_records for mod=STDIO\n",
      "DEBUG:darshan.report: Refreshing name_records for mod=POSIX\n",
      "DEBUG:darshan.report: Refreshing name_records for mod=MPI-IO\n",
      "DEBUG:darshan.report: Refreshing name_records for mod=STDIO\n",
      "DEBUG:darshan.report: Refreshing name_records for mod=LUSTRE\n",
      "DEBUG:darshan.report: to_json: mod=LUSTRE does not include fcounters\n"
     ]
    },
    {
     "data": {
      "text/plain": [
       "'{\"version\": 1, \"metadata\": {\"job\": {\"uid\": 69615, \"start_time\": 1490000867, \"end_time\": 1490000983, \"nprocs\": 2048, \"jobid\": 4478544, \"metadata\": {\"lib_ver\": \"3.1.3\", \"h\": \"romio_no_indep_rw=true;cb_nodes=4\"}}, \"exe\": \"/global/project/projectdirs/m888/glock/tokio-abc-results/bin.edison/vpicio_uni /scratch2/scratchdirs/glock/tokioabc-s.4478544/vpicio/vpicio.hdf5 32\"}, \"records\": {\"POSIX\": [{\"id\": 6301063301082038805, \"rank\": -1, \"counters\": [2049, -1, -1, 0, 16402, 16404, 0, 0, 0, 0, -1, -1, 0, 0, 0, 2199023259968, 0, 2199023261831, 0, 0, 0, 16384, 0, 0, 8, 16401, 1048576, 0, 134217728, 0, 0, 0, 0, 0, 0, 0, 0, 0, 0, 4, 14, 0, 0, 0, 0, 0, 0, 16384, 0, 274743689216, 274743691264, 0, 0, 10240, 4096, 0, 0, 134217728, 272, 544, 328, 16384, 8, 2, 2, 597, 1073741824, 1312, 1073741824], \"fcounters\": [3.9191410541534424, 0.0, 3.940063953399658, 3.927093982696533, 3.936579942703247, 0.0, 115.0781660079956, 115.77035808563232, 0.0, 100397.60042190552, 11.300841808319092, 0.0, 17.940945863723755, 20.436099529266357, 85.47495031356812, 0.0, 0.0]}], \"MPI-IO\": [{\"id\": 6301063301082038805, \"rank\": -1, \"counters\": [0, 2048, 0, 18, 0, 16384, 0, 0, 0, 0, 0, 0, 32768, 9, 0, 2199023259968, 0, 0, 134217728, 0, 0, 0, 0, 0, 0, 0, 0, 0, 0, 4, 14, 0, 0, 0, 0, 0, 0, 16384, 0, 134217728, 272, 544, 328, 16384, 8, 2, 2, 597, 1073741824, 1312, 1073741824], \"fcounters\": [3.912783145904541, 0.0, 3.9400370121002197, -1.0, -1.0, 0.0, 115.07816886901855, 115.7732138633728, 0.0, 100397.89705848694, 49.021146297454834, 0.0, 17.940969944000244, 20.454491138458252, 85.49222207069397, 95.43228094835244, 701.6630859375]}], \"STDIO\": [{\"id\": 15920181672442173319, \"rank\": 0, \"counters\": [1, -1, 0, 6, 0, 0, 280, 0, 0, 279, 0, 0, 0, 0], \"fcounters\": [0.0, 6.794929504394531e-05, 0.0, 0.0, 0.0, 0.07752799987792969, 0.0, 0.0, 0.0, 116.28358292579651, 0.0, 0.0, 0.0, 0.0, 0.0]}, {\"id\": 7238257241479193519, \"rank\": 0, \"counters\": [1, -1, 0, 68, 0, 0, 3029, 0, 0, 3028, 0, 0, 0, 0], \"fcounters\": [0.0, -2662.7466337680817, 0.0, 0.0, 0.0, 0.0, 0.0, 0.0, 0.0, 0.0, 0.0, 0.0, 0.0, 0.0, 0.0]}, {\"id\": 7238257241479193519, \"rank\": 16, \"counters\": [1, -1, 0, 0, 0, 0, 0, 0, 0, 0, 0, 0, 0, 0], \"fcounters\": [0.0, 0.0, 0.0, 0.0, 0.0, 0.0, 0.0, 0.0, 0.0, 0.0, 0.0, 0.0, 0.0, 0.0, 0.0]}, {\"id\": 7238257241479193519, \"rank\": 32, \"counters\": [1, -1, 0, 0, 0, 0, 0, 0, 0, 0, 0, 0, 0, 0], \"fcounters\": [0.0, 0.0, 0.0, 0.0, 0.0, 0.0, 0.0, 0.0, 0.0, 0.0, 0.0, 0.0, 0.0, 0.0, 0.0]}, {\"id\": 7238257241479193519, \"rank\": 48, \"counters\": [1, -1, 0, 0, 0, 0, 0, 0, 0, 0, 0, 0, 0, 0], \"fcounters\": [0.0, 0.0, 0.0, 0.0, 0.0, 0.0, 0.0, 0.0, 0.0, 0.0, 0.0, 0.0, 0.0, 0.0, 0.0]}, {\"id\": 7238257241479193519, \"rank\": 64, \"counters\": [1, -1, 0, 0, 0, 0, 0, 0, 0, 0, 0, 0, 0, 0], \"fcounters\": [0.0, 0.0, 0.0, 0.0, 0.0, 0.0, 0.0, 0.0, 0.0, 0.0, 0.0, 0.0, 0.0, 0.0, 0.0]}, {\"id\": 7238257241479193519, \"rank\": 80, \"counters\": [1, -1, 0, 0, 0, 0, 0, 0, 0, 0, 0, 0, 0, 0], \"fcounters\": [0.0, 0.0, 0.0, 0.0, 0.0, 0.0, 0.0, 0.0, 0.0, 0.0, 0.0, 0.0, 0.0, 0.0, 0.0]}, {\"id\": 7238257241479193519, \"rank\": 96, \"counters\": [1, -1, 0, 0, 0, 0, 0, 0, 0, 0, 0, 0, 0, 0], \"fcounters\": [0.0, 0.0, 0.0, 0.0, 0.0, 0.0, 0.0, 0.0, 0.0, 0.0, 0.0, 0.0, 0.0, 0.0, 0.0]}, {\"id\": 7238257241479193519, \"rank\": 112, \"counters\": [1, -1, 0, 0, 0, 0, 0, 0, 0, 0, 0, 0, 0, 0], \"fcounters\": [0.0, 0.0, 0.0, 0.0, 0.0, 0.0, 0.0, 0.0, 0.0, 0.0, 0.0, 0.0, 0.0, 0.0, 0.0]}, {\"id\": 7238257241479193519, \"rank\": 128, \"counters\": [1, -1, 0, 0, 0, 0, 0, 0, 0, 0, 0, 0, 0, 0], \"fcounters\": [0.0, 0.0, 0.0, 0.0, 0.0, 0.0, 0.0, 0.0, 0.0, 0.0, 0.0, 0.0, 0.0, 0.0, 0.0]}, {\"id\": 7238257241479193519, \"rank\": 144, \"counters\": [1, -1, 0, 0, 0, 0, 0, 0, 0, 0, 0, 0, 0, 0], \"fcounters\": [0.0, 0.0, 0.0, 0.0, 0.0, 0.0, 0.0, 0.0, 0.0, 0.0, 0.0, 0.0, 0.0, 0.0, 0.0]}, {\"id\": 7238257241479193519, \"rank\": 160, \"counters\": [1, -1, 0, 0, 0, 0, 0, 0, 0, 0, 0, 0, 0, 0], \"fcounters\": [0.0, 0.0, 0.0, 0.0, 0.0, 0.0, 0.0, 0.0, 0.0, 0.0, 0.0, 0.0, 0.0, 0.0, 0.0]}, {\"id\": 7238257241479193519, \"rank\": 176, \"counters\": [1, -1, 0, 0, 0, 0, 0, 0, 0, 0, 0, 0, 0, 0], \"fcounters\": [0.0, 0.0, 0.0, 0.0, 0.0, 0.0, 0.0, 0.0, 0.0, 0.0, 0.0, 0.0, 0.0, 0.0, 0.0]}, {\"id\": 7238257241479193519, \"rank\": 192, \"counters\": [1, -1, 0, 0, 0, 0, 0, 0, 0, 0, 0, 0, 0, 0], \"fcounters\": [0.0, 0.0, 0.0, 0.0, 0.0, 0.0, 0.0, 0.0, 0.0, 0.0, 0.0, 0.0, 0.0, 0.0, 0.0]}, {\"id\": 7238257241479193519, \"rank\": 208, \"counters\": [1, -1, 0, 0, 0, 0, 0, 0, 0, 0, 0, 0, 0, 0], \"fcounters\": [0.0, 0.0, 0.0, 0.0, 0.0, 0.0, 0.0, 0.0, 0.0, 0.0, 0.0, 0.0, 0.0, 0.0, 0.0]}, {\"id\": 7238257241479193519, \"rank\": 224, \"counters\": [1, -1, 0, 0, 0, 0, 0, 0, 0, 0, 0, 0, 0, 0], \"fcounters\": [0.0, 0.0, 0.0, 0.0, 0.0, 0.0, 0.0, 0.0, 0.0, 0.0, 0.0, 0.0, 0.0, 0.0, 0.0]}, {\"id\": 7238257241479193519, \"rank\": 240, \"counters\": [1, -1, 0, 0, 0, 0, 0, 0, 0, 0, 0, 0, 0, 0], \"fcounters\": [0.0, 0.0, 0.0, 0.0, 0.0, 0.0, 0.0, 0.0, 0.0, 0.0, 0.0, 0.0, 0.0, 0.0, 0.0]}, {\"id\": 7238257241479193519, \"rank\": 256, \"counters\": [1, -1, 0, 0, 0, 0, 0, 0, 0, 0, 0, 0, 0, 0], \"fcounters\": [0.0, 0.0, 0.0, 0.0, 0.0, 0.0, 0.0, 0.0, 0.0, 0.0, 0.0, 0.0, 0.0, 0.0, 0.0]}, {\"id\": 7238257241479193519, \"rank\": 272, \"counters\": [1, -1, 0, 0, 0, 0, 0, 0, 0, 0, 0, 0, 0, 0], \"fcounters\": [0.0, 0.0, 0.0, 0.0, 0.0, 0.0, 0.0, 0.0, 0.0, 0.0, 0.0, 0.0, 0.0, 0.0, 0.0]}, {\"id\": 7238257241479193519, \"rank\": 288, \"counters\": [1, -1, 0, 0, 0, 0, 0, 0, 0, 0, 0, 0, 0, 0], \"fcounters\": [0.0, 0.0, 0.0, 0.0, 0.0, 0.0, 0.0, 0.0, 0.0, 0.0, 0.0, 0.0, 0.0, 0.0, 0.0]}, {\"id\": 7238257241479193519, \"rank\": 304, \"counters\": [1, -1, 0, 0, 0, 0, 0, 0, 0, 0, 0, 0, 0, 0], \"fcounters\": [0.0, 0.0, 0.0, 0.0, 0.0, 0.0, 0.0, 0.0, 0.0, 0.0, 0.0, 0.0, 0.0, 0.0, 0.0]}, {\"id\": 7238257241479193519, \"rank\": 320, \"counters\": [1, -1, 0, 0, 0, 0, 0, 0, 0, 0, 0, 0, 0, 0], \"fcounters\": [0.0, 0.0, 0.0, 0.0, 0.0, 0.0, 0.0, 0.0, 0.0, 0.0, 0.0, 0.0, 0.0, 0.0, 0.0]}, {\"id\": 7238257241479193519, \"rank\": 336, \"counters\": [1, -1, 0, 0, 0, 0, 0, 0, 0, 0, 0, 0, 0, 0], \"fcounters\": [0.0, 0.0, 0.0, 0.0, 0.0, 0.0, 0.0, 0.0, 0.0, 0.0, 0.0, 0.0, 0.0, 0.0, 0.0]}, {\"id\": 7238257241479193519, \"rank\": 352, \"counters\": [1, -1, 0, 0, 0, 0, 0, 0, 0, 0, 0, 0, 0, 0], \"fcounters\": [0.0, 0.0, 0.0, 0.0, 0.0, 0.0, 0.0, 0.0, 0.0, 0.0, 0.0, 0.0, 0.0, 0.0, 0.0]}, {\"id\": 7238257241479193519, \"rank\": 368, \"counters\": [1, -1, 0, 0, 0, 0, 0, 0, 0, 0, 0, 0, 0, 0], \"fcounters\": [0.0, 0.0, 0.0, 0.0, 0.0, 0.0, 0.0, 0.0, 0.0, 0.0, 0.0, 0.0, 0.0, 0.0, 0.0]}, {\"id\": 7238257241479193519, \"rank\": 384, \"counters\": [1, -1, 0, 0, 0, 0, 0, 0, 0, 0, 0, 0, 0, 0], \"fcounters\": [0.0, 0.0, 0.0, 0.0, 0.0, 0.0, 0.0, 0.0, 0.0, 0.0, 0.0, 0.0, 0.0, 0.0, 0.0]}, {\"id\": 7238257241479193519, \"rank\": 400, \"counters\": [1, -1, 0, 0, 0, 0, 0, 0, 0, 0, 0, 0, 0, 0], \"fcounters\": [0.0, 0.0, 0.0, 0.0, 0.0, 0.0, 0.0, 0.0, 0.0, 0.0, 0.0, 0.0, 0.0, 0.0, 0.0]}, {\"id\": 7238257241479193519, \"rank\": 416, \"counters\": [1, -1, 0, 0, 0, 0, 0, 0, 0, 0, 0, 0, 0, 0], \"fcounters\": [0.0, 0.0, 0.0, 0.0, 0.0, 0.0, 0.0, 0.0, 0.0, 0.0, 0.0, 0.0, 0.0, 0.0, 0.0]}, {\"id\": 7238257241479193519, \"rank\": 432, \"counters\": [1, -1, 0, 0, 0, 0, 0, 0, 0, 0, 0, 0, 0, 0], \"fcounters\": [0.0, 0.0, 0.0, 0.0, 0.0, 0.0, 0.0, 0.0, 0.0, 0.0, 0.0, 0.0, 0.0, 0.0, 0.0]}, {\"id\": 7238257241479193519, \"rank\": 448, \"counters\": [1, -1, 0, 0, 0, 0, 0, 0, 0, 0, 0, 0, 0, 0], \"fcounters\": [0.0, 0.0, 0.0, 0.0, 0.0, 0.0, 0.0, 0.0, 0.0, 0.0, 0.0, 0.0, 0.0, 0.0, 0.0]}, {\"id\": 7238257241479193519, \"rank\": 464, \"counters\": [1, -1, 0, 0, 0, 0, 0, 0, 0, 0, 0, 0, 0, 0], \"fcounters\": [0.0, 0.0, 0.0, 0.0, 0.0, 0.0, 0.0, 0.0, 0.0, 0.0, 0.0, 0.0, 0.0, 0.0, 0.0]}, {\"id\": 7238257241479193519, \"rank\": 480, \"counters\": [1, -1, 0, 0, 0, 0, 0, 0, 0, 0, 0, 0, 0, 0], \"fcounters\": [0.0, 0.0, 0.0, 0.0, 0.0, 0.0, 0.0, 0.0, 0.0, 0.0, 0.0, 0.0, 0.0, 0.0, 0.0]}, {\"id\": 7238257241479193519, \"rank\": 496, \"counters\": [1, -1, 0, 0, 0, 0, 0, 0, 0, 0, 0, 0, 0, 0], \"fcounters\": [0.0, 0.0, 0.0, 0.0, 0.0, 0.0, 0.0, 0.0, 0.0, 0.0, 0.0, 0.0, 0.0, 0.0, 0.0]}, {\"id\": 7238257241479193519, \"rank\": 512, \"counters\": [1, -1, 0, 0, 0, 0, 0, 0, 0, 0, 0, 0, 0, 0], \"fcounters\": [0.0, 0.0, 0.0, 0.0, 0.0, 0.0, 0.0, 0.0, 0.0, 0.0, 0.0, 0.0, 0.0, 0.0, 0.0]}, {\"id\": 7238257241479193519, \"rank\": 528, \"counters\": [1, -1, 0, 0, 0, 0, 0, 0, 0, 0, 0, 0, 0, 0], \"fcounters\": [0.0, 0.0, 0.0, 0.0, 0.0, 0.0, 0.0, 0.0, 0.0, 0.0, 0.0, 0.0, 0.0, 0.0, 0.0]}, {\"id\": 7238257241479193519, \"rank\": 544, \"counters\": [1, -1, 0, 0, 0, 0, 0, 0, 0, 0, 0, 0, 0, 0], \"fcounters\": [0.0, 0.0, 0.0, 0.0, 0.0, 0.0, 0.0, 0.0, 0.0, 0.0, 0.0, 0.0, 0.0, 0.0, 0.0]}, {\"id\": 7238257241479193519, \"rank\": 560, \"counters\": [1, -1, 0, 0, 0, 0, 0, 0, 0, 0, 0, 0, 0, 0], \"fcounters\": [0.0, 0.0, 0.0, 0.0, 0.0, 0.0, 0.0, 0.0, 0.0, 0.0, 0.0, 0.0, 0.0, 0.0, 0.0]}, {\"id\": 7238257241479193519, \"rank\": 576, \"counters\": [1, -1, 0, 0, 0, 0, 0, 0, 0, 0, 0, 0, 0, 0], \"fcounters\": [0.0, 0.0, 0.0, 0.0, 0.0, 0.0, 0.0, 0.0, 0.0, 0.0, 0.0, 0.0, 0.0, 0.0, 0.0]}, {\"id\": 7238257241479193519, \"rank\": 592, \"counters\": [1, -1, 0, 0, 0, 0, 0, 0, 0, 0, 0, 0, 0, 0], \"fcounters\": [0.0, 0.0, 0.0, 0.0, 0.0, 0.0, 0.0, 0.0, 0.0, 0.0, 0.0, 0.0, 0.0, 0.0, 0.0]}, {\"id\": 7238257241479193519, \"rank\": 608, \"counters\": [1, -1, 0, 0, 0, 0, 0, 0, 0, 0, 0, 0, 0, 0], \"fcounters\": [0.0, 0.0, 0.0, 0.0, 0.0, 0.0, 0.0, 0.0, 0.0, 0.0, 0.0, 0.0, 0.0, 0.0, 0.0]}, {\"id\": 7238257241479193519, \"rank\": 624, \"counters\": [1, -1, 0, 0, 0, 0, 0, 0, 0, 0, 0, 0, 0, 0], \"fcounters\": [0.0, 0.0, 0.0, 0.0, 0.0, 0.0, 0.0, 0.0, 0.0, 0.0, 0.0, 0.0, 0.0, 0.0, 0.0]}, {\"id\": 7238257241479193519, \"rank\": 640, \"counters\": [1, -1, 0, 0, 0, 0, 0, 0, 0, 0, 0, 0, 0, 0], \"fcounters\": [0.0, 0.0, 0.0, 0.0, 0.0, 0.0, 0.0, 0.0, 0.0, 0.0, 0.0, 0.0, 0.0, 0.0, 0.0]}, {\"id\": 7238257241479193519, \"rank\": 656, \"counters\": [1, -1, 0, 0, 0, 0, 0, 0, 0, 0, 0, 0, 0, 0], \"fcounters\": [0.0, 0.0, 0.0, 0.0, 0.0, 0.0, 0.0, 0.0, 0.0, 0.0, 0.0, 0.0, 0.0, 0.0, 0.0]}, {\"id\": 7238257241479193519, \"rank\": 672, \"counters\": [1, -1, 0, 0, 0, 0, 0, 0, 0, 0, 0, 0, 0, 0], \"fcounters\": [0.0, 0.0, 0.0, 0.0, 0.0, 0.0, 0.0, 0.0, 0.0, 0.0, 0.0, 0.0, 0.0, 0.0, 0.0]}, {\"id\": 7238257241479193519, \"rank\": 688, \"counters\": [1, -1, 0, 0, 0, 0, 0, 0, 0, 0, 0, 0, 0, 0], \"fcounters\": [0.0, 0.0, 0.0, 0.0, 0.0, 0.0, 0.0, 0.0, 0.0, 0.0, 0.0, 0.0, 0.0, 0.0, 0.0]}, {\"id\": 7238257241479193519, \"rank\": 704, \"counters\": [1, -1, 0, 0, 0, 0, 0, 0, 0, 0, 0, 0, 0, 0], \"fcounters\": [0.0, 0.0, 0.0, 0.0, 0.0, 0.0, 0.0, 0.0, 0.0, 0.0, 0.0, 0.0, 0.0, 0.0, 0.0]}, {\"id\": 7238257241479193519, \"rank\": 720, \"counters\": [1, -1, 0, 0, 0, 0, 0, 0, 0, 0, 0, 0, 0, 0], \"fcounters\": [0.0, 0.0, 0.0, 0.0, 0.0, 0.0, 0.0, 0.0, 0.0, 0.0, 0.0, 0.0, 0.0, 0.0, 0.0]}, {\"id\": 7238257241479193519, \"rank\": 736, \"counters\": [1, -1, 0, 0, 0, 0, 0, 0, 0, 0, 0, 0, 0, 0], \"fcounters\": [0.0, 0.0, 0.0, 0.0, 0.0, 0.0, 0.0, 0.0, 0.0, 0.0, 0.0, 0.0, 0.0, 0.0, 0.0]}, {\"id\": 7238257241479193519, \"rank\": 752, \"counters\": [1, -1, 0, 0, 0, 0, 0, 0, 0, 0, 0, 0, 0, 0], \"fcounters\": [0.0, 0.0, 0.0, 0.0, 0.0, 0.0, 0.0, 0.0, 0.0, 0.0, 0.0, 0.0, 0.0, 0.0, 0.0]}, {\"id\": 7238257241479193519, \"rank\": 768, \"counters\": [1, -1, 0, 0, 0, 0, 0, 0, 0, 0, 0, 0, 0, 0], \"fcounters\": [0.0, 0.0, 0.0, 0.0, 0.0, 0.0, 0.0, 0.0, 0.0, 0.0, 0.0, 0.0, 0.0, 0.0, 0.0]}, {\"id\": 7238257241479193519, \"rank\": 784, \"counters\": [1, -1, 0, 0, 0, 0, 0, 0, 0, 0, 0, 0, 0, 0], \"fcounters\": [0.0, 0.0, 0.0, 0.0, 0.0, 0.0, 0.0, 0.0, 0.0, 0.0, 0.0, 0.0, 0.0, 0.0, 0.0]}, {\"id\": 7238257241479193519, \"rank\": 800, \"counters\": [1, -1, 0, 0, 0, 0, 0, 0, 0, 0, 0, 0, 0, 0], \"fcounters\": [0.0, 0.0, 0.0, 0.0, 0.0, 0.0, 0.0, 0.0, 0.0, 0.0, 0.0, 0.0, 0.0, 0.0, 0.0]}, {\"id\": 7238257241479193519, \"rank\": 816, \"counters\": [1, -1, 0, 0, 0, 0, 0, 0, 0, 0, 0, 0, 0, 0], \"fcounters\": [0.0, 0.0, 0.0, 0.0, 0.0, 0.0, 0.0, 0.0, 0.0, 0.0, 0.0, 0.0, 0.0, 0.0, 0.0]}, {\"id\": 7238257241479193519, \"rank\": 832, \"counters\": [1, -1, 0, 0, 0, 0, 0, 0, 0, 0, 0, 0, 0, 0], \"fcounters\": [0.0, 0.0, 0.0, 0.0, 0.0, 0.0, 0.0, 0.0, 0.0, 0.0, 0.0, 0.0, 0.0, 0.0, 0.0]}, {\"id\": 7238257241479193519, \"rank\": 848, \"counters\": [1, -1, 0, 0, 0, 0, 0, 0, 0, 0, 0, 0, 0, 0], \"fcounters\": [0.0, 0.0, 0.0, 0.0, 0.0, 0.0, 0.0, 0.0, 0.0, 0.0, 0.0, 0.0, 0.0, 0.0, 0.0]}, {\"id\": 7238257241479193519, \"rank\": 864, \"counters\": [1, -1, 0, 0, 0, 0, 0, 0, 0, 0, 0, 0, 0, 0], \"fcounters\": [0.0, 0.0, 0.0, 0.0, 0.0, 0.0, 0.0, 0.0, 0.0, 0.0, 0.0, 0.0, 0.0, 0.0, 0.0]}, {\"id\": 7238257241479193519, \"rank\": 880, \"counters\": [1, -1, 0, 0, 0, 0, 0, 0, 0, 0, 0, 0, 0, 0], \"fcounters\": [0.0, 0.0, 0.0, 0.0, 0.0, 0.0, 0.0, 0.0, 0.0, 0.0, 0.0, 0.0, 0.0, 0.0, 0.0]}, {\"id\": 7238257241479193519, \"rank\": 896, \"counters\": [1, -1, 0, 0, 0, 0, 0, 0, 0, 0, 0, 0, 0, 0], \"fcounters\": [0.0, 0.0, 0.0, 0.0, 0.0, 0.0, 0.0, 0.0, 0.0, 0.0, 0.0, 0.0, 0.0, 0.0, 0.0]}, {\"id\": 7238257241479193519, \"rank\": 912, \"counters\": [1, -1, 0, 0, 0, 0, 0, 0, 0, 0, 0, 0, 0, 0], \"fcounters\": [0.0, 0.0, 0.0, 0.0, 0.0, 0.0, 0.0, 0.0, 0.0, 0.0, 0.0, 0.0, 0.0, 0.0, 0.0]}, {\"id\": 7238257241479193519, \"rank\": 928, \"counters\": [1, -1, 0, 0, 0, 0, 0, 0, 0, 0, 0, 0, 0, 0], \"fcounters\": [0.0, 0.0, 0.0, 0.0, 0.0, 0.0, 0.0, 0.0, 0.0, 0.0, 0.0, 0.0, 0.0, 0.0, 0.0]}, {\"id\": 7238257241479193519, \"rank\": 944, \"counters\": [1, -1, 0, 0, 0, 0, 0, 0, 0, 0, 0, 0, 0, 0], \"fcounters\": [0.0, 0.0, 0.0, 0.0, 0.0, 0.0, 0.0, 0.0, 0.0, 0.0, 0.0, 0.0, 0.0, 0.0, 0.0]}, {\"id\": 7238257241479193519, \"rank\": 960, \"counters\": [1, -1, 0, 0, 0, 0, 0, 0, 0, 0, 0, 0, 0, 0], \"fcounters\": [0.0, 0.0, 0.0, 0.0, 0.0, 0.0, 0.0, 0.0, 0.0, 0.0, 0.0, 0.0, 0.0, 0.0, 0.0]}, {\"id\": 7238257241479193519, \"rank\": 976, \"counters\": [1, -1, 0, 0, 0, 0, 0, 0, 0, 0, 0, 0, 0, 0], \"fcounters\": [0.0, 0.0, 0.0, 0.0, 0.0, 0.0, 0.0, 0.0, 0.0, 0.0, 0.0, 0.0, 0.0, 0.0, 0.0]}, {\"id\": 7238257241479193519, \"rank\": 992, \"counters\": [1, -1, 0, 0, 0, 0, 0, 0, 0, 0, 0, 0, 0, 0], \"fcounters\": [0.0, 0.0, 0.0, 0.0, 0.0, 0.0, 0.0, 0.0, 0.0, 0.0, 0.0, 0.0, 0.0, 0.0, 0.0]}, {\"id\": 7238257241479193519, \"rank\": 1008, \"counters\": [1, -1, 0, 0, 0, 0, 0, 0, 0, 0, 0, 0, 0, 0], \"fcounters\": [0.0, 0.0, 0.0, 0.0, 0.0, 0.0, 0.0, 0.0, 0.0, 0.0, 0.0, 0.0, 0.0, 0.0, 0.0]}, {\"id\": 7238257241479193519, \"rank\": 1024, \"counters\": [1, -1, 0, 0, 0, 0, 0, 0, 0, 0, 0, 0, 0, 0], \"fcounters\": [0.0, 0.0, 0.0, 0.0, 0.0, 0.0, 0.0, 0.0, 0.0, 0.0, 0.0, 0.0, 0.0, 0.0, 0.0]}, {\"id\": 7238257241479193519, \"rank\": 1040, \"counters\": [1, -1, 0, 0, 0, 0, 0, 0, 0, 0, 0, 0, 0, 0], \"fcounters\": [0.0, 0.0, 0.0, 0.0, 0.0, 0.0, 0.0, 0.0, 0.0, 0.0, 0.0, 0.0, 0.0, 0.0, 0.0]}, {\"id\": 7238257241479193519, \"rank\": 1056, \"counters\": [1, -1, 0, 0, 0, 0, 0, 0, 0, 0, 0, 0, 0, 0], \"fcounters\": [0.0, 0.0, 0.0, 0.0, 0.0, 0.0, 0.0, 0.0, 0.0, 0.0, 0.0, 0.0, 0.0, 0.0, 0.0]}, {\"id\": 7238257241479193519, \"rank\": 1072, \"counters\": [1, -1, 0, 0, 0, 0, 0, 0, 0, 0, 0, 0, 0, 0], \"fcounters\": [0.0, 0.0, 0.0, 0.0, 0.0, 0.0, 0.0, 0.0, 0.0, 0.0, 0.0, 0.0, 0.0, 0.0, 0.0]}, {\"id\": 7238257241479193519, \"rank\": 1088, \"counters\": [1, -1, 0, 0, 0, 0, 0, 0, 0, 0, 0, 0, 0, 0], \"fcounters\": [0.0, 0.0, 0.0, 0.0, 0.0, 0.0, 0.0, 0.0, 0.0, 0.0, 0.0, 0.0, 0.0, 0.0, 0.0]}, {\"id\": 7238257241479193519, \"rank\": 1104, \"counters\": [1, -1, 0, 0, 0, 0, 0, 0, 0, 0, 0, 0, 0, 0], \"fcounters\": [0.0, 0.0, 0.0, 0.0, 0.0, 0.0, 0.0, 0.0, 0.0, 0.0, 0.0, 0.0, 0.0, 0.0, 0.0]}, {\"id\": 7238257241479193519, \"rank\": 1120, \"counters\": [1, -1, 0, 0, 0, 0, 0, 0, 0, 0, 0, 0, 0, 0], \"fcounters\": [0.0, 0.0, 0.0, 0.0, 0.0, 0.0, 0.0, 0.0, 0.0, 0.0, 0.0, 0.0, 0.0, 0.0, 0.0]}, {\"id\": 7238257241479193519, \"rank\": 1136, \"counters\": [1, -1, 0, 0, 0, 0, 0, 0, 0, 0, 0, 0, 0, 0], \"fcounters\": [0.0, 0.0, 0.0, 0.0, 0.0, 0.0, 0.0, 0.0, 0.0, 0.0, 0.0, 0.0, 0.0, 0.0, 0.0]}, {\"id\": 7238257241479193519, \"rank\": 1152, \"counters\": [1, -1, 0, 0, 0, 0, 0, 0, 0, 0, 0, 0, 0, 0], \"fcounters\": [0.0, 0.0, 0.0, 0.0, 0.0, 0.0, 0.0, 0.0, 0.0, 0.0, 0.0, 0.0, 0.0, 0.0, 0.0]}, {\"id\": 7238257241479193519, \"rank\": 1168, \"counters\": [1, -1, 0, 0, 0, 0, 0, 0, 0, 0, 0, 0, 0, 0], \"fcounters\": [0.0, 0.0, 0.0, 0.0, 0.0, 0.0, 0.0, 0.0, 0.0, 0.0, 0.0, 0.0, 0.0, 0.0, 0.0]}, {\"id\": 7238257241479193519, \"rank\": 1184, \"counters\": [1, -1, 0, 0, 0, 0, 0, 0, 0, 0, 0, 0, 0, 0], \"fcounters\": [0.0, 0.0, 0.0, 0.0, 0.0, 0.0, 0.0, 0.0, 0.0, 0.0, 0.0, 0.0, 0.0, 0.0, 0.0]}, {\"id\": 7238257241479193519, \"rank\": 1200, \"counters\": [1, -1, 0, 0, 0, 0, 0, 0, 0, 0, 0, 0, 0, 0], \"fcounters\": [0.0, 0.0, 0.0, 0.0, 0.0, 0.0, 0.0, 0.0, 0.0, 0.0, 0.0, 0.0, 0.0, 0.0, 0.0]}, {\"id\": 7238257241479193519, \"rank\": 1216, \"counters\": [1, -1, 0, 0, 0, 0, 0, 0, 0, 0, 0, 0, 0, 0], \"fcounters\": [0.0, 0.0, 0.0, 0.0, 0.0, 0.0, 0.0, 0.0, 0.0, 0.0, 0.0, 0.0, 0.0, 0.0, 0.0]}, {\"id\": 7238257241479193519, \"rank\": 1232, \"counters\": [1, -1, 0, 0, 0, 0, 0, 0, 0, 0, 0, 0, 0, 0], \"fcounters\": [0.0, 0.0, 0.0, 0.0, 0.0, 0.0, 0.0, 0.0, 0.0, 0.0, 0.0, 0.0, 0.0, 0.0, 0.0]}, {\"id\": 7238257241479193519, \"rank\": 1248, \"counters\": [1, -1, 0, 0, 0, 0, 0, 0, 0, 0, 0, 0, 0, 0], \"fcounters\": [0.0, 0.0, 0.0, 0.0, 0.0, 0.0, 0.0, 0.0, 0.0, 0.0, 0.0, 0.0, 0.0, 0.0, 0.0]}, {\"id\": 7238257241479193519, \"rank\": 1264, \"counters\": [1, -1, 0, 0, 0, 0, 0, 0, 0, 0, 0, 0, 0, 0], \"fcounters\": [0.0, 0.0, 0.0, 0.0, 0.0, 0.0, 0.0, 0.0, 0.0, 0.0, 0.0, 0.0, 0.0, 0.0, 0.0]}, {\"id\": 7238257241479193519, \"rank\": 1280, \"counters\": [1, -1, 0, 0, 0, 0, 0, 0, 0, 0, 0, 0, 0, 0], \"fcounters\": [0.0, 0.0, 0.0, 0.0, 0.0, 0.0, 0.0, 0.0, 0.0, 0.0, 0.0, 0.0, 0.0, 0.0, 0.0]}, {\"id\": 7238257241479193519, \"rank\": 1296, \"counters\": [1, -1, 0, 0, 0, 0, 0, 0, 0, 0, 0, 0, 0, 0], \"fcounters\": [0.0, 0.0, 0.0, 0.0, 0.0, 0.0, 0.0, 0.0, 0.0, 0.0, 0.0, 0.0, 0.0, 0.0, 0.0]}, {\"id\": 7238257241479193519, \"rank\": 1312, \"counters\": [1, -1, 0, 0, 0, 0, 0, 0, 0, 0, 0, 0, 0, 0], \"fcounters\": [0.0, 0.0, 0.0, 0.0, 0.0, 0.0, 0.0, 0.0, 0.0, 0.0, 0.0, 0.0, 0.0, 0.0, 0.0]}, {\"id\": 7238257241479193519, \"rank\": 1328, \"counters\": [1, -1, 0, 0, 0, 0, 0, 0, 0, 0, 0, 0, 0, 0], \"fcounters\": [0.0, 0.0, 0.0, 0.0, 0.0, 0.0, 0.0, 0.0, 0.0, 0.0, 0.0, 0.0, 0.0, 0.0, 0.0]}, {\"id\": 7238257241479193519, \"rank\": 1344, \"counters\": [1, -1, 0, 0, 0, 0, 0, 0, 0, 0, 0, 0, 0, 0], \"fcounters\": [0.0, 0.0, 0.0, 0.0, 0.0, 0.0, 0.0, 0.0, 0.0, 0.0, 0.0, 0.0, 0.0, 0.0, 0.0]}, {\"id\": 7238257241479193519, \"rank\": 1360, \"counters\": [1, -1, 0, 0, 0, 0, 0, 0, 0, 0, 0, 0, 0, 0], \"fcounters\": [0.0, 0.0, 0.0, 0.0, 0.0, 0.0, 0.0, 0.0, 0.0, 0.0, 0.0, 0.0, 0.0, 0.0, 0.0]}, {\"id\": 7238257241479193519, \"rank\": 1376, \"counters\": [1, -1, 0, 0, 0, 0, 0, 0, 0, 0, 0, 0, 0, 0], \"fcounters\": [0.0, 0.0, 0.0, 0.0, 0.0, 0.0, 0.0, 0.0, 0.0, 0.0, 0.0, 0.0, 0.0, 0.0, 0.0]}, {\"id\": 7238257241479193519, \"rank\": 1392, \"counters\": [1, -1, 0, 0, 0, 0, 0, 0, 0, 0, 0, 0, 0, 0], \"fcounters\": [0.0, 0.0, 0.0, 0.0, 0.0, 0.0, 0.0, 0.0, 0.0, 0.0, 0.0, 0.0, 0.0, 0.0, 0.0]}, {\"id\": 7238257241479193519, \"rank\": 1408, \"counters\": [1, -1, 0, 0, 0, 0, 0, 0, 0, 0, 0, 0, 0, 0], \"fcounters\": [0.0, 0.0, 0.0, 0.0, 0.0, 0.0, 0.0, 0.0, 0.0, 0.0, 0.0, 0.0, 0.0, 0.0, 0.0]}, {\"id\": 7238257241479193519, \"rank\": 1424, \"counters\": [1, -1, 0, 0, 0, 0, 0, 0, 0, 0, 0, 0, 0, 0], \"fcounters\": [0.0, 0.0, 0.0, 0.0, 0.0, 0.0, 0.0, 0.0, 0.0, 0.0, 0.0, 0.0, 0.0, 0.0, 0.0]}, {\"id\": 7238257241479193519, \"rank\": 1440, \"counters\": [1, -1, 0, 0, 0, 0, 0, 0, 0, 0, 0, 0, 0, 0], \"fcounters\": [0.0, 0.0, 0.0, 0.0, 0.0, 0.0, 0.0, 0.0, 0.0, 0.0, 0.0, 0.0, 0.0, 0.0, 0.0]}, {\"id\": 7238257241479193519, \"rank\": 1456, \"counters\": [1, -1, 0, 0, 0, 0, 0, 0, 0, 0, 0, 0, 0, 0], \"fcounters\": [0.0, 0.0, 0.0, 0.0, 0.0, 0.0, 0.0, 0.0, 0.0, 0.0, 0.0, 0.0, 0.0, 0.0, 0.0]}, {\"id\": 7238257241479193519, \"rank\": 1472, \"counters\": [1, -1, 0, 0, 0, 0, 0, 0, 0, 0, 0, 0, 0, 0], \"fcounters\": [0.0, 0.0, 0.0, 0.0, 0.0, 0.0, 0.0, 0.0, 0.0, 0.0, 0.0, 0.0, 0.0, 0.0, 0.0]}, {\"id\": 7238257241479193519, \"rank\": 1488, \"counters\": [1, -1, 0, 0, 0, 0, 0, 0, 0, 0, 0, 0, 0, 0], \"fcounters\": [0.0, 0.0, 0.0, 0.0, 0.0, 0.0, 0.0, 0.0, 0.0, 0.0, 0.0, 0.0, 0.0, 0.0, 0.0]}, {\"id\": 7238257241479193519, \"rank\": 1504, \"counters\": [1, -1, 0, 0, 0, 0, 0, 0, 0, 0, 0, 0, 0, 0], \"fcounters\": [0.0, 0.0, 0.0, 0.0, 0.0, 0.0, 0.0, 0.0, 0.0, 0.0, 0.0, 0.0, 0.0, 0.0, 0.0]}, {\"id\": 7238257241479193519, \"rank\": 1520, \"counters\": [1, -1, 0, 0, 0, 0, 0, 0, 0, 0, 0, 0, 0, 0], \"fcounters\": [0.0, 0.0, 0.0, 0.0, 0.0, 0.0, 0.0, 0.0, 0.0, 0.0, 0.0, 0.0, 0.0, 0.0, 0.0]}, {\"id\": 7238257241479193519, \"rank\": 1536, \"counters\": [1, -1, 0, 0, 0, 0, 0, 0, 0, 0, 0, 0, 0, 0], \"fcounters\": [0.0, 0.0, 0.0, 0.0, 0.0, 0.0, 0.0, 0.0, 0.0, 0.0, 0.0, 0.0, 0.0, 0.0, 0.0]}, {\"id\": 7238257241479193519, \"rank\": 1552, \"counters\": [1, -1, 0, 0, 0, 0, 0, 0, 0, 0, 0, 0, 0, 0], \"fcounters\": [0.0, 0.0, 0.0, 0.0, 0.0, 0.0, 0.0, 0.0, 0.0, 0.0, 0.0, 0.0, 0.0, 0.0, 0.0]}, {\"id\": 7238257241479193519, \"rank\": 1568, \"counters\": [1, -1, 0, 0, 0, 0, 0, 0, 0, 0, 0, 0, 0, 0], \"fcounters\": [0.0, 0.0, 0.0, 0.0, 0.0, 0.0, 0.0, 0.0, 0.0, 0.0, 0.0, 0.0, 0.0, 0.0, 0.0]}, {\"id\": 7238257241479193519, \"rank\": 1584, \"counters\": [1, -1, 0, 0, 0, 0, 0, 0, 0, 0, 0, 0, 0, 0], \"fcounters\": [0.0, 0.0, 0.0, 0.0, 0.0, 0.0, 0.0, 0.0, 0.0, 0.0, 0.0, 0.0, 0.0, 0.0, 0.0]}, {\"id\": 7238257241479193519, \"rank\": 1600, \"counters\": [1, -1, 0, 0, 0, 0, 0, 0, 0, 0, 0, 0, 0, 0], \"fcounters\": [0.0, 0.0, 0.0, 0.0, 0.0, 0.0, 0.0, 0.0, 0.0, 0.0, 0.0, 0.0, 0.0, 0.0, 0.0]}, {\"id\": 7238257241479193519, \"rank\": 1616, \"counters\": [1, -1, 0, 0, 0, 0, 0, 0, 0, 0, 0, 0, 0, 0], \"fcounters\": [0.0, 0.0, 0.0, 0.0, 0.0, 0.0, 0.0, 0.0, 0.0, 0.0, 0.0, 0.0, 0.0, 0.0, 0.0]}, {\"id\": 7238257241479193519, \"rank\": 1632, \"counters\": [1, -1, 0, 0, 0, 0, 0, 0, 0, 0, 0, 0, 0, 0], \"fcounters\": [0.0, 0.0, 0.0, 0.0, 0.0, 0.0, 0.0, 0.0, 0.0, 0.0, 0.0, 0.0, 0.0, 0.0, 0.0]}, {\"id\": 7238257241479193519, \"rank\": 1648, \"counters\": [1, -1, 0, 0, 0, 0, 0, 0, 0, 0, 0, 0, 0, 0], \"fcounters\": [0.0, 0.0, 0.0, 0.0, 0.0, 0.0, 0.0, 0.0, 0.0, 0.0, 0.0, 0.0, 0.0, 0.0, 0.0]}, {\"id\": 7238257241479193519, \"rank\": 1664, \"counters\": [1, -1, 0, 0, 0, 0, 0, 0, 0, 0, 0, 0, 0, 0], \"fcounters\": [0.0, 0.0, 0.0, 0.0, 0.0, 0.0, 0.0, 0.0, 0.0, 0.0, 0.0, 0.0, 0.0, 0.0, 0.0]}, {\"id\": 7238257241479193519, \"rank\": 1680, \"counters\": [1, -1, 0, 0, 0, 0, 0, 0, 0, 0, 0, 0, 0, 0], \"fcounters\": [0.0, 0.0, 0.0, 0.0, 0.0, 0.0, 0.0, 0.0, 0.0, 0.0, 0.0, 0.0, 0.0, 0.0, 0.0]}, {\"id\": 7238257241479193519, \"rank\": 1696, \"counters\": [1, -1, 0, 0, 0, 0, 0, 0, 0, 0, 0, 0, 0, 0], \"fcounters\": [0.0, 0.0, 0.0, 0.0, 0.0, 0.0, 0.0, 0.0, 0.0, 0.0, 0.0, 0.0, 0.0, 0.0, 0.0]}, {\"id\": 7238257241479193519, \"rank\": 1712, \"counters\": [1, -1, 0, 0, 0, 0, 0, 0, 0, 0, 0, 0, 0, 0], \"fcounters\": [0.0, 0.0, 0.0, 0.0, 0.0, 0.0, 0.0, 0.0, 0.0, 0.0, 0.0, 0.0, 0.0, 0.0, 0.0]}, {\"id\": 7238257241479193519, \"rank\": 1728, \"counters\": [1, -1, 0, 0, 0, 0, 0, 0, 0, 0, 0, 0, 0, 0], \"fcounters\": [0.0, 0.0, 0.0, 0.0, 0.0, 0.0, 0.0, 0.0, 0.0, 0.0, 0.0, 0.0, 0.0, 0.0, 0.0]}, {\"id\": 7238257241479193519, \"rank\": 1744, \"counters\": [1, -1, 0, 0, 0, 0, 0, 0, 0, 0, 0, 0, 0, 0], \"fcounters\": [0.0, 0.0, 0.0, 0.0, 0.0, 0.0, 0.0, 0.0, 0.0, 0.0, 0.0, 0.0, 0.0, 0.0, 0.0]}, {\"id\": 7238257241479193519, \"rank\": 1760, \"counters\": [1, -1, 0, 0, 0, 0, 0, 0, 0, 0, 0, 0, 0, 0], \"fcounters\": [0.0, 0.0, 0.0, 0.0, 0.0, 0.0, 0.0, 0.0, 0.0, 0.0, 0.0, 0.0, 0.0, 0.0, 0.0]}, {\"id\": 7238257241479193519, \"rank\": 1776, \"counters\": [1, -1, 0, 0, 0, 0, 0, 0, 0, 0, 0, 0, 0, 0], \"fcounters\": [0.0, 0.0, 0.0, 0.0, 0.0, 0.0, 0.0, 0.0, 0.0, 0.0, 0.0, 0.0, 0.0, 0.0, 0.0]}, {\"id\": 7238257241479193519, \"rank\": 1792, \"counters\": [1, -1, 0, 0, 0, 0, 0, 0, 0, 0, 0, 0, 0, 0], \"fcounters\": [0.0, 0.0, 0.0, 0.0, 0.0, 0.0, 0.0, 0.0, 0.0, 0.0, 0.0, 0.0, 0.0, 0.0, 0.0]}, {\"id\": 7238257241479193519, \"rank\": 1808, \"counters\": [1, -1, 0, 0, 0, 0, 0, 0, 0, 0, 0, 0, 0, 0], \"fcounters\": [0.0, 0.0, 0.0, 0.0, 0.0, 0.0, 0.0, 0.0, 0.0, 0.0, 0.0, 0.0, 0.0, 0.0, 0.0]}, {\"id\": 7238257241479193519, \"rank\": 1824, \"counters\": [1, -1, 0, 0, 0, 0, 0, 0, 0, 0, 0, 0, 0, 0], \"fcounters\": [0.0, 0.0, 0.0, 0.0, 0.0, 0.0, 0.0, 0.0, 0.0, 0.0, 0.0, 0.0, 0.0, 0.0, 0.0]}, {\"id\": 7238257241479193519, \"rank\": 1840, \"counters\": [1, -1, 0, 0, 0, 0, 0, 0, 0, 0, 0, 0, 0, 0], \"fcounters\": [0.0, 0.0, 0.0, 0.0, 0.0, 0.0, 0.0, 0.0, 0.0, 0.0, 0.0, 0.0, 0.0, 0.0, 0.0]}, {\"id\": 7238257241479193519, \"rank\": 1856, \"counters\": [1, -1, 0, 0, 0, 0, 0, 0, 0, 0, 0, 0, 0, 0], \"fcounters\": [0.0, 0.0, 0.0, 0.0, 0.0, 0.0, 0.0, 0.0, 0.0, 0.0, 0.0, 0.0, 0.0, 0.0, 0.0]}, {\"id\": 7238257241479193519, \"rank\": 1872, \"counters\": [1, -1, 0, 0, 0, 0, 0, 0, 0, 0, 0, 0, 0, 0], \"fcounters\": [0.0, 0.0, 0.0, 0.0, 0.0, 0.0, 0.0, 0.0, 0.0, 0.0, 0.0, 0.0, 0.0, 0.0, 0.0]}, {\"id\": 7238257241479193519, \"rank\": 1888, \"counters\": [1, -1, 0, 0, 0, 0, 0, 0, 0, 0, 0, 0, 0, 0], \"fcounters\": [0.0, 0.0, 0.0, 0.0, 0.0, 0.0, 0.0, 0.0, 0.0, 0.0, 0.0, 0.0, 0.0, 0.0, 0.0]}, {\"id\": 7238257241479193519, \"rank\": 1904, \"counters\": [1, -1, 0, 0, 0, 0, 0, 0, 0, 0, 0, 0, 0, 0], \"fcounters\": [0.0, 0.0, 0.0, 0.0, 0.0, 0.0, 0.0, 0.0, 0.0, 0.0, 0.0, 0.0, 0.0, 0.0, 0.0]}, {\"id\": 7238257241479193519, \"rank\": 1920, \"counters\": [1, -1, 0, 0, 0, 0, 0, 0, 0, 0, 0, 0, 0, 0], \"fcounters\": [0.0, 0.0, 0.0, 0.0, 0.0, 0.0, 0.0, 0.0, 0.0, 0.0, 0.0, 0.0, 0.0, 0.0, 0.0]}, {\"id\": 7238257241479193519, \"rank\": 1936, \"counters\": [1, -1, 0, 0, 0, 0, 0, 0, 0, 0, 0, 0, 0, 0], \"fcounters\": [0.0, 0.0, 0.0, 0.0, 0.0, 0.0, 0.0, 0.0, 0.0, 0.0, 0.0, 0.0, 0.0, 0.0, 0.0]}, {\"id\": 7238257241479193519, \"rank\": 1952, \"counters\": [1, -1, 0, 0, 0, 0, 0, 0, 0, 0, 0, 0, 0, 0], \"fcounters\": [0.0, 0.0, 0.0, 0.0, 0.0, 0.0, 0.0, 0.0, 0.0, 0.0, 0.0, 0.0, 0.0, 0.0, 0.0]}, {\"id\": 7238257241479193519, \"rank\": 1968, \"counters\": [1, -1, 0, 0, 0, 0, 0, 0, 0, 0, 0, 0, 0, 0], \"fcounters\": [0.0, 0.0, 0.0, 0.0, 0.0, 0.0, 0.0, 0.0, 0.0, 0.0, 0.0, 0.0, 0.0, 0.0, 0.0]}, {\"id\": 7238257241479193519, \"rank\": 1984, \"counters\": [1, -1, 0, 0, 0, 0, 0, 0, 0, 0, 0, 0, 0, 0], \"fcounters\": [0.0, 0.0, 0.0, 0.0, 0.0, 0.0, 0.0, 0.0, 0.0, 0.0, 0.0, 0.0, 0.0, 0.0, 0.0]}, {\"id\": 7238257241479193519, \"rank\": 2000, \"counters\": [1, -1, 0, 0, 0, 0, 0, 0, 0, 0, 0, 0, 0, 0], \"fcounters\": [0.0, 0.0, 0.0, 0.0, 0.0, 0.0, 0.0, 0.0, 0.0, 0.0, 0.0, 0.0, 0.0, 0.0, 0.0]}, {\"id\": 7238257241479193519, \"rank\": 2016, \"counters\": [1, -1, 0, 0, 0, 0, 0, 0, 0, 0, 0, 0, 0, 0], \"fcounters\": [0.0, 0.0, 0.0, 0.0, 0.0, 0.0, 0.0, 0.0, 0.0, 0.0, 0.0, 0.0, 0.0, 0.0, 0.0]}, {\"id\": 7238257241479193519, \"rank\": 2032, \"counters\": [1, -1, 0, 0, 0, 0, 0, 0, 0, 0, 0, 0, 0, 0], \"fcounters\": [0.0, 0.0, 0.0, 0.0, 0.0, 0.0, 0.0, 0.0, 0.0, 0.0, 0.0, 0.0, 0.0, 0.0, 0.0]}], \"LUSTRE\": [{\"id\": 6301063301082038805, \"rank\": -1, \"counters\": [24, 1, 0, 1048576, 24], \"ost_ids\": [7, 9, 23, 21, 1, 19, 20, 8, 18, 12, 6, 2, 10, 16, 4, 0, 22, 14, 13, 17, 5, 15, 11, 3]}]}, \"summary\": {}, \"modules\": {\"POSIX\": {\"len\": 186, \"ver\": 3, \"idx\": 1, \"num_records\": 1}, \"MPI-IO\": {\"len\": 154, \"ver\": 2, \"idx\": 2, \"num_records\": 1}, \"LUSTRE\": {\"len\": 87, \"ver\": 1, \"idx\": 7, \"num_records\": 1}, \"STDIO\": {\"len\": 3234, \"ver\": 1, \"idx\": 8, \"num_records\": 129}}, \"counters\": {\"POSIX\": {\"counters\": [\"POSIX_OPENS\", \"POSIX_FILENOS\", \"POSIX_DUPS\", \"POSIX_READS\", \"POSIX_WRITES\", \"POSIX_SEEKS\", \"POSIX_STATS\", \"POSIX_MMAPS\", \"POSIX_FSYNCS\", \"POSIX_FDSYNCS\", \"POSIX_RENAME_SOURCES\", \"POSIX_RENAME_TARGETS\", \"POSIX_RENAMED_FROM\", \"POSIX_MODE\", \"POSIX_BYTES_READ\", \"POSIX_BYTES_WRITTEN\", \"POSIX_MAX_BYTE_READ\", \"POSIX_MAX_BYTE_WRITTEN\", \"POSIX_CONSEC_READS\", \"POSIX_CONSEC_WRITES\", \"POSIX_SEQ_READS\", \"POSIX_SEQ_WRITES\", \"POSIX_RW_SWITCHES\", \"POSIX_MEM_NOT_ALIGNED\", \"POSIX_MEM_ALIGNMENT\", \"POSIX_FILE_NOT_ALIGNED\", \"POSIX_FILE_ALIGNMENT\", \"POSIX_MAX_READ_TIME_SIZE\", \"POSIX_MAX_WRITE_TIME_SIZE\", \"POSIX_SIZE_READ_0_100\", \"POSIX_SIZE_READ_100_1K\", \"POSIX_SIZE_READ_1K_10K\", \"POSIX_SIZE_READ_10K_100K\", \"POSIX_SIZE_READ_100K_1M\", \"POSIX_SIZE_READ_1M_4M\", \"POSIX_SIZE_READ_4M_10M\", \"POSIX_SIZE_READ_10M_100M\", \"POSIX_SIZE_READ_100M_1G\", \"POSIX_SIZE_READ_1G_PLUS\", \"POSIX_SIZE_WRITE_0_100\", \"POSIX_SIZE_WRITE_100_1K\", \"POSIX_SIZE_WRITE_1K_10K\", \"POSIX_SIZE_WRITE_10K_100K\", \"POSIX_SIZE_WRITE_100K_1M\", \"POSIX_SIZE_WRITE_1M_4M\", \"POSIX_SIZE_WRITE_4M_10M\", \"POSIX_SIZE_WRITE_10M_100M\", \"POSIX_SIZE_WRITE_100M_1G\", \"POSIX_SIZE_WRITE_1G_PLUS\", \"POSIX_STRIDE1_STRIDE\", \"POSIX_STRIDE2_STRIDE\", \"POSIX_STRIDE3_STRIDE\", \"POSIX_STRIDE4_STRIDE\", \"POSIX_STRIDE1_COUNT\", \"POSIX_STRIDE2_COUNT\", \"POSIX_STRIDE3_COUNT\", \"POSIX_STRIDE4_COUNT\", \"POSIX_ACCESS1_ACCESS\", \"POSIX_ACCESS2_ACCESS\", \"POSIX_ACCESS3_ACCESS\", \"POSIX_ACCESS4_ACCESS\", \"POSIX_ACCESS1_COUNT\", \"POSIX_ACCESS2_COUNT\", \"POSIX_ACCESS3_COUNT\", \"POSIX_ACCESS4_COUNT\", \"POSIX_FASTEST_RANK\", \"POSIX_FASTEST_RANK_BYTES\", \"POSIX_SLOWEST_RANK\", \"POSIX_SLOWEST_RANK_BYTES\"], \"fcounters\": [\"POSIX_F_OPEN_START_TIMESTAMP\", \"POSIX_F_READ_START_TIMESTAMP\", \"POSIX_F_WRITE_START_TIMESTAMP\", \"POSIX_F_CLOSE_START_TIMESTAMP\", \"POSIX_F_OPEN_END_TIMESTAMP\", \"POSIX_F_READ_END_TIMESTAMP\", \"POSIX_F_WRITE_END_TIMESTAMP\", \"POSIX_F_CLOSE_END_TIMESTAMP\", \"POSIX_F_READ_TIME\", \"POSIX_F_WRITE_TIME\", \"POSIX_F_META_TIME\", \"POSIX_F_MAX_READ_TIME\", \"POSIX_F_MAX_WRITE_TIME\", \"POSIX_F_FASTEST_RANK_TIME\", \"POSIX_F_SLOWEST_RANK_TIME\", \"POSIX_F_VARIANCE_RANK_TIME\", \"POSIX_F_VARIANCE_RANK_BYTES\"]}, \"MPI-IO\": {\"counters\": [\"MPIIO_INDEP_OPENS\", \"MPIIO_COLL_OPENS\", \"MPIIO_INDEP_READS\", \"MPIIO_INDEP_WRITES\", \"MPIIO_COLL_READS\", \"MPIIO_COLL_WRITES\", \"MPIIO_SPLIT_READS\", \"MPIIO_SPLIT_WRITES\", \"MPIIO_NB_READS\", \"MPIIO_NB_WRITES\", \"MPIIO_SYNCS\", \"MPIIO_HINTS\", \"MPIIO_VIEWS\", \"MPIIO_MODE\", \"MPIIO_BYTES_READ\", \"MPIIO_BYTES_WRITTEN\", \"MPIIO_RW_SWITCHES\", \"MPIIO_MAX_READ_TIME_SIZE\", \"MPIIO_MAX_WRITE_TIME_SIZE\", \"MPIIO_SIZE_READ_AGG_0_100\", \"MPIIO_SIZE_READ_AGG_100_1K\", \"MPIIO_SIZE_READ_AGG_1K_10K\", \"MPIIO_SIZE_READ_AGG_10K_100K\", \"MPIIO_SIZE_READ_AGG_100K_1M\", \"MPIIO_SIZE_READ_AGG_1M_4M\", \"MPIIO_SIZE_READ_AGG_4M_10M\", \"MPIIO_SIZE_READ_AGG_10M_100M\", \"MPIIO_SIZE_READ_AGG_100M_1G\", \"MPIIO_SIZE_READ_AGG_1G_PLUS\", \"MPIIO_SIZE_WRITE_AGG_0_100\", \"MPIIO_SIZE_WRITE_AGG_100_1K\", \"MPIIO_SIZE_WRITE_AGG_1K_10K\", \"MPIIO_SIZE_WRITE_AGG_10K_100K\", \"MPIIO_SIZE_WRITE_AGG_100K_1M\", \"MPIIO_SIZE_WRITE_AGG_1M_4M\", \"MPIIO_SIZE_WRITE_AGG_4M_10M\", \"MPIIO_SIZE_WRITE_AGG_10M_100M\", \"MPIIO_SIZE_WRITE_AGG_100M_1G\", \"MPIIO_SIZE_WRITE_AGG_1G_PLUS\", \"MPIIO_ACCESS1_ACCESS\", \"MPIIO_ACCESS2_ACCESS\", \"MPIIO_ACCESS3_ACCESS\", \"MPIIO_ACCESS4_ACCESS\", \"MPIIO_ACCESS1_COUNT\", \"MPIIO_ACCESS2_COUNT\", \"MPIIO_ACCESS3_COUNT\", \"MPIIO_ACCESS4_COUNT\", \"MPIIO_FASTEST_RANK\", \"MPIIO_FASTEST_RANK_BYTES\", \"MPIIO_SLOWEST_RANK\", \"MPIIO_SLOWEST_RANK_BYTES\"], \"fcounters\": [\"MPIIO_F_OPEN_START_TIMESTAMP\", \"MPIIO_F_READ_START_TIMESTAMP\", \"MPIIO_F_WRITE_START_TIMESTAMP\", \"MPIIO_F_CLOSE_START_TIMESTAMP\", \"MPIIO_F_OPEN_END_TIMESTAMP\", \"MPIIO_F_READ_END_TIMESTAMP\", \"MPIIO_F_WRITE_END_TIMESTAMP\", \"MPIIO_F_CLOSE_END_TIMESTAMP\", \"MPIIO_F_READ_TIME\", \"MPIIO_F_WRITE_TIME\", \"MPIIO_F_META_TIME\", \"MPIIO_F_MAX_READ_TIME\", \"MPIIO_F_MAX_WRITE_TIME\", \"MPIIO_F_FASTEST_RANK_TIME\", \"MPIIO_F_SLOWEST_RANK_TIME\", \"MPIIO_F_VARIANCE_RANK_TIME\", \"MPIIO_F_VARIANCE_RANK_BYTES\"]}, \"STDIO\": {\"counters\": [\"STDIO_OPENS\", \"STDIO_FDOPENS\", \"STDIO_READS\", \"STDIO_WRITES\", \"STDIO_SEEKS\", \"STDIO_FLUSHES\", \"STDIO_BYTES_WRITTEN\", \"STDIO_BYTES_READ\", \"STDIO_MAX_BYTE_READ\", \"STDIO_MAX_BYTE_WRITTEN\", \"STDIO_FASTEST_RANK\", \"STDIO_FASTEST_RANK_BYTES\", \"STDIO_SLOWEST_RANK\", \"STDIO_SLOWEST_RANK_BYTES\"], \"fcounters\": [\"STDIO_F_META_TIME\", \"STDIO_F_WRITE_TIME\", \"STDIO_F_READ_TIME\", \"STDIO_F_OPEN_START_TIMESTAMP\", \"STDIO_F_CLOSE_START_TIMESTAMP\", \"STDIO_F_WRITE_START_TIMESTAMP\", \"STDIO_F_READ_START_TIMESTAMP\", \"STDIO_F_OPEN_END_TIMESTAMP\", \"STDIO_F_CLOSE_END_TIMESTAMP\", \"STDIO_F_WRITE_END_TIMESTAMP\", \"STDIO_F_READ_END_TIMESTAMP\", \"STDIO_F_FASTEST_RANK_TIME\", \"STDIO_F_SLOWEST_RANK_TIME\", \"STDIO_F_VARIANCE_RANK_TIME\", \"STDIO_F_VARIANCE_RANK_BYTES\"]}, \"LUSTRE\": {\"counters\": [\"LUSTRE_OSTS\", \"LUSTRE_MDTS\", \"LUSTRE_STRIPE_OFFSET\", \"LUSTRE_STRIPE_SIZE\", \"LUSTRE_STRIPE_WIDTH\"]}}, \"name_records\": {\"14734109647742566553\": \"<STDIN>\", \"15920181672442173319\": \"<STDOUT>\", \"7238257241479193519\": \"<STDERR>\", \"6301063301082038805\": \"/scratch2/scratchdirs/glock/tokioabc-s.4478544/vpicio/vpicio.hdf5\"}, \"mounts\": [[\"/.shared/base/default/etc/dat.conf\", \"dvs\"], [\"/usr/lib64/libibverbs.so.1.0.0\", \"dvs\"], [\"/usr/lib64/libibumad.so.3.0.2\", \"dvs\"], [\"/usr/lib64/librdmacm.so.1.0.0\", \"dvs\"], [\"/usr/lib64/libibgni.so.1.0.0\", \"dvs\"], [\"/global/cscratch1\", \"lustre\"], [\"/global/projectb\", \"dvs\"], [\"/global/projecta\", \"dvs\"], [\"/usr/sbin/ibstat\", \"dvs\"], [\"/global/project\", \"dvs\"], [\"/global/common\", \"dvs\"], [\"/global/syscom\", \"dvs\"], [\"/global/dna\", \"dvs\"], [\"/opt/slurm\", \"dvs\"], [\"/global/u1\", \"dvs\"], [\"/global/u2\", \"dvs\"], [\"/scratch1\", \"lustre\"], [\"/scratch2\", \"lustre\"], [\"/scratch3\", \"lustre\"], [\"/etc\", \"dvs\"], [\"/\", \"rootfs\"], [\"/\", \"dvs\"]]}'"
      ]
     },
     "execution_count": 9,
     "metadata": {},
     "output_type": "execute_result"
    }
   ],
   "source": [
    "import darshan\n",
    "report = darshan.DarshanReport(\"example-logs/example.darshan\", read_all=True, dtype='numpy')\n",
    "report.to_json()"
   ]
  },
  {
   "cell_type": "code",
   "execution_count": null,
   "metadata": {},
   "outputs": [],
   "source": []
  }
 ],
 "metadata": {
  "kernelspec": {
   "display_name": "Python 3",
   "language": "python",
   "name": "python3"
  },
  "language_info": {
   "codemirror_mode": {
    "name": "ipython",
    "version": 3
   },
   "file_extension": ".py",
   "mimetype": "text/x-python",
   "name": "python",
   "nbconvert_exporter": "python",
   "pygments_lexer": "ipython3",
   "version": "3.8.5"
  }
 },
 "nbformat": 4,
 "nbformat_minor": 4
}
